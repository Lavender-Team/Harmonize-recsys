{
 "cells": [
  {
   "cell_type": "markdown",
   "source": [
    "* original code from https://lsjsj92.tistory.com/568"
   ],
   "metadata": {
    "collapsed": false
   },
   "id": "202d09d1ddf12961"
  },
  {
   "cell_type": "code",
   "execution_count": 1,
   "id": "initial_id",
   "metadata": {
    "collapsed": true,
    "ExecuteTime": {
     "end_time": "2024-10-15T17:24:49.466267Z",
     "start_time": "2024-10-15T17:24:48.986654Z"
    }
   },
   "outputs": [],
   "source": [
    "import numpy as np\n",
    "import pandas as pd\n",
    "\n",
    "from database import fetch_data_music_and_groups, fetch_artist, fetch_theme, close_mysql_connection"
   ]
  },
  {
   "cell_type": "code",
   "outputs": [
    {
     "name": "stdout",
     "output_type": "stream",
     "text": [
      "2024-10-16 02:24:49.471276: [SQL] SELECT m.music_id, m.title, m.genre, m.lyrics, m.release_date, m.likes, m.`view`, ma.highest_pitch, ma.lowest_pitch, ma.high_pitch_ratio, ma.low_pitch_ratio, g.group_id, g.group_name, g.group_type FROM (music m NATURAL JOIN music_analysis ma) NATURAL JOIN groups g\n"
     ]
    },
    {
     "data": {
      "text/plain": "    music_id                              title    genre  \\\n0        169                                야생화  BALLADE   \n1        170                       너에게 난, 나에게 넌     FOLK   \n2        171                               너였다면      OST   \n3        172                                 시작      OST   \n4        173                   어땠을까 (Feat. 박정현)      RAP   \n5        174           흔들리는 꽃들 속에서 네 샴푸향이 느껴진거야      OST   \n6        175                          Don't Cry  BALLADE   \n7        176                             잠시만 안녕  BALLADE   \n8        177                              인형의 꿈      OST   \n9        178                               외톨이야     ROCK   \n10       179                              나는 나비     ROCK   \n11       180                               취중진담  BALLADE   \n12       181                              사랑했지만     FOLK   \n13       182                            가지마 가지마  BALLADE   \n14       183                          결혼까지 생각했어      RNB   \n15       184                             잘못된 만남    DANCE   \n16       185                              벌써 일년      RNB   \n17       186                                응급실  BALLADE   \n18       187                              Aloha    INDIE   \n19       188                       NIGHT DANCER     JPOP   \n20       189                              Lemon     JPOP   \n21       190                           다시 만난 세계    DANCE   \n22       191                     퀸카 (Queencard)    DANCE   \n23       192                              Spicy    DANCE   \n24       193                               I AM    DANCE   \n25       194    UNFORGIVEN (feat. Nile Rodgers)    DANCE   \n26       195                                  꽃    DANCE   \n27       196                                손오공    DANCE   \n28       197                      저곳으로(인어공주OST)      OST   \n29       198  See You Again (분노의 질주 : 더 세븐 OST)      OST   \n30       199                          사랑은 늘 도망가      OST   \n31       200                        모든 날, 모든 순간      OST   \n32       201                            부동의 첫사랑    INDIE   \n33       202                     FRIEND THE END    INDIE   \n34       203                       주저하는 연인들을 위해    INDIE   \n35       204        친구 얘긴데 (feat. Skinny Brown)    INDIE   \n36       205                                첫사랑    INDIE   \n37       206                        오늘도 빛나는 너에게    INDIE   \n\n                                               lyrics release_date  likes  \\\n0   하얗게 피어난 얼음 꽃 하나가\\n달가운 바람에 얼굴을 내밀어\\n아무 말 못했던 이름...   2014-03-28      2   \n1   너에게 난 해질녘 노을처럼\\n한 편의 아름다운 추억이 되고\\n소중했던 우리 푸르던 ...   2024-02-01      0   \n2   왜 너에겐 그렇게 어려운지\\n애를 쓰는 나를\\n제대로 봐주는 게\\n너 하나에 이토록...   2024-05-31      0   \n3   새로운 시작은 늘 설레게 하지\\n모든 걸 이겨낼 것처럼\\n시간을 뒤쫓는 시계바늘처럼...   2020-02-01      0   \n4   내가 그때 널 잡았더라면\\n너와 나 지금보다 행복했을까\\n마지막에 널\\n안아줬다면 ...   2012-07-15      1   \n5   흔들리는 꽃들 속에서\\n네 샴푸향이 느껴진거야\\n스쳐지나간건가 뒤돌아보지만\\n그냥 ...   2019-08-23      0   \n6   그대의 눈물이 마를 때까지\\n우리의 사랑을 볼 수 없을테니\\n울지 말아요 이제야\\n...   2003-08-01      0   \n7   행복을 줄 수 없었어\\n그런데 사랑을 했어\\n니곁에 감히 머무른\\n내 욕심을 용서치...   2007-05-10      0   \n8   그대 먼 곳만 보네요\\n내가 바로 여기 있는데\\n조금만 고개를 돌려도\\n날 볼 수 ...   2003-09-09      0   \n9   외톨이야 외톨이야\\n\\n외톨이야 외톨이야\\n\\n\\n\\n봐봐 나를 봐봐 똑바로 내 두...   2010-01-14      0   \n10  내 모습이 보이지 않아\\n앞길도 보이지 않아\\n나는 아주 작은 애벌레\\n\\n살이 터...   2006-08-10      0   \n11  그래 난 취했는지도 몰라\\n실수인지도 몰라\\n아침이면 까마득히 생각이 안나\\n불안해...   2007-03-15      0   \n12  어제는 하루 종일 비가 내렸어\\n자욱하게 내려 앉은 먼지 사이로\\n귓가에 은은하게 ...   1991-02-20      0   \n13  우리 함께했던 날들\\n그 기억들만 남아\\n너를 지워야만 내가 살 수 있을까\\n우리 ...   2008-06-19      0   \n14  To all My people hellow hellow\\nhellow hellow\\...   2010-08-26      0   \n15  난 너를 믿었던 만큼\\n난 내 친구도 믿었기에\\n난 아무런 부담없이 널\\n내 친구에...   1995-01-24      0   \n16  처음이라 그래 며칠뒤엔\\n괜찮아져\\n그 생각만으로 벌써 일년이\\n너와 만든 기념일마...   2007-06-12      0   \n17  후회 하고 있어요\\n우리 다투던 그 날\\n괜한 자존심 때문에\\n끝내자고 말을 해버린...   2005-01-20      0   \n18  처음 듣는 노래\\n처음 걷는 길\\n처음 보는 바다\\n처음 보는 별\\n\\n네가 없는 ...   2012-04-10      0   \n19  どうでもいいような 夜だけど\\n響めき 煌めきと君も\\nまだ止まった 刻む針も\\n入り浸った...   2022-08-19      0   \n20  夢ならばどれほどよかったでしょう\\n未だにあなたのことを夢にみる\\n忘れた物を取りに帰るよう...   2018-03-16      0   \n21  전해 주고 싶어 슬픈 시간이\\n다 흩어진 후에야 들리지만\\n눈을 감고 느껴 봐 움직...   2007-11-01      0   \n22  Hey you\\n뭘 보니? 내가 좀 Sexy Sexy 반했니\\nYe you\\n뭐 하...   2023-05-15      0   \n23  Uh Uh Too Spicy\\nYou want my A to the Z\\nBut y...   2023-05-08      0   \n24  다른 문을 열어 따라 갈 필요는 없어\\n넌 너의 길로 난 나의 길로 음\\n하루하루마...   2023-04-10      0   \n25  Unforgiven I’m a villain I’m a\\nUnforgiven 난 그...   2023-05-01      0   \n26  ABC 도레미만큼 착했던 나\\n그 눈빛이 싹 변했지\\n어쩌면 이 또한 나니까\\n난 ...   2023-03-31      0   \n27  땅을 보고 계속 올랐지 정상까지\\n많은 시련은 보란 듯이 I Always Win\\n...   2023-04-24      0   \n28  이것 좀 봐 신기하지\\n내가 모은 것들 대단하지\\n내가 세상 모든 걸 다 가진 것 ...   2023-05-17      0   \n29  It's been a long day\\nwithout you my friend\\nA...   2015-03-17      0   \n30  눈물이 난다 이 길을 걸으면\\n그 사람 손길이 자꾸 생각이 난다\\n붙잡지 못하고 가...   2021-10-11      0   \n31  네가 없이 웃을 수 있을까\\n생각만 해도 눈물이나\\n힘든 시간 날 지켜준 사람\\n이...   2018-03-20      0   \n32  주인공은 아니었지\\n누구의 시점에서도\\n그냥 스쳐 지나가거나\\n친구3이라거나\\n이름...   2023-05-14      0   \n33  요즘엔 썸이라는 단어를 난 쓰지 않아\\n친구란 완벽한 단어로 숨길 수가 있지\\n사랑...   2023-04-16      0   \n34  나는 읽기 쉬운 마음이야\\n당신도 스윽 훑고 가셔요\\n달랠 길 없는 외로운 마음 있...   2019-03-13      0   \n35  저기 말야\\n나 말고 아는 친구 얘긴데\\n별 뜻은 아냐\\n그저 네 생각이 좀 궁금해...   2023-06-01      0   \n36  알아 내 맘에 조용히\\n문을 두드리면\\n눈에 뿌옇게 고여버린\\n널 흘려보내야 해\\n...   2018-10-11      0   \n37  별빛이 내린 밤\\n그 풍경 속 너와 나\\n날 새롭게 하는\\n따뜻하게 만드는\\n니 눈...   2019-06-09      1   \n\n    view  highest_pitch  lowest_pitch  high_pitch_ratio  low_pitch_ratio  \\\n0     36     926.378401    125.573964          0.100877         0.000000   \n1     28     944.986819    140.076631          0.303609         0.000000   \n2     17     794.405940    145.657815          0.099138         0.000000   \n3      0     744.287827    149.105775          0.064583         0.000000   \n4      5     620.806132    123.754295          0.290698         0.000000   \n5      3     500.865280    104.255744          0.009747         0.005848   \n6      0     796.514962    124.552403          0.228346         0.000000   \n7      3     885.293572    166.179307          0.303150         0.000000   \n8      0     588.248207    232.075376          0.000000         0.120504   \n9      0     557.989885    150.122581          0.268987         0.000000   \n10    10     840.293833    132.162513          0.143198         0.000000   \n11     1     810.409495     92.717461          0.062087         0.002642   \n12     1     889.166344    121.303076          0.167300         0.000000   \n13     1     834.280803    152.085571          0.228491         0.000000   \n14     0     902.750069    124.968452          0.256654         0.000000   \n15     2     850.065165    199.168516          0.298677         0.000000   \n16     0     833.013293    123.631166          0.217993         0.000000   \n17     0     571.456098     98.209465          0.041600         0.001600   \n18     0     360.737434    121.419028          0.000000         0.000000   \n19     0     586.909798    131.658609          0.086601         0.000000   \n20     0     492.779072    121.414461          0.032338         0.000000   \n21     0     696.975553    233.820538          0.002571         0.000000   \n22     0     575.688579    186.402709          0.000000         0.124444   \n23     0     880.857538    193.677050          0.028892         0.012841   \n24     0     805.328717    183.901798          0.074219         0.039062   \n25     0     558.651408    175.889445          0.000000         0.050000   \n26     0     661.198665    169.262994          0.002481         0.096774   \n27     0     554.940132    132.934857          0.041905         0.000000   \n28     0     589.494552    240.798246          0.000000         0.000000   \n29     0     940.949070    164.744786          0.293814         0.000000   \n30     0     535.343402     93.023069          0.016296         0.008889   \n31     0     414.951102    169.953506          0.002247         0.000000   \n32     0     456.717386    145.977052          0.071713         0.000000   \n33     0     668.437651    159.646833          0.001818         0.014545   \n34     0     465.799037    131.582028          0.058520         0.000000   \n35     0     411.220547     93.726779          0.011164         0.007974   \n36     0     525.258280    202.686124          0.000000         0.026694   \n37    16     940.418904    147.626466          0.490427         0.000000   \n\n    group_id                  group_name group_type  \n0         11                         박효신       SOLO  \n1         13                    자전거 탄 풍경      GROUP  \n2         12                마크툽 (MAKTUB)       SOLO  \n3         14                   가호 (Gaho)       SOLO  \n4         15                    싸이 (PSY)       SOLO  \n5         16                         장범준       SOLO  \n6         17                       더 크로스      GROUP  \n7         18         엠씨더맥스 (M.C the MAX)       SOLO  \n8         19                        러브홀릭       SOLO  \n9         20               CNBLUE (씨엔블루)      GROUP  \n10        21                 YB (윤도현 밴드)       SOLO  \n11        22                         김동률       SOLO  \n12        23                         김광석       SOLO  \n13        24                     브라운 아이즈      GROUP  \n14        25               휘성 (Realslow)       SOLO  \n15        35                         김건모       SOLO  \n16        24                     브라운 아이즈      GROUP  \n17        36                         izi      GROUP  \n18        37                      스탠딩 에그      GROUP  \n19        38                       imase       SOLO  \n20        39               Yonezu Kenshi       SOLO  \n21        41    소녀시대 (GIRLS' GENERATION)      GROUP  \n22        42                     (여자)아이들      GROUP  \n23        43                       aespa      GROUP  \n24        44                   IVE (아이브)      GROUP  \n25        45          LE SSERAFIM (르세라핌)      GROUP  \n26        46                  지수 (JISOO)       SOLO  \n27        47             세븐틴 (SEVENTEEN)      GROUP  \n28        48               다니엘(DANIELLE)       SOLO  \n29        49  Charlie Puth , Wiz Khalifa      GROUP  \n30        50                         임영웅       SOLO  \n31        51                          폴킴       SOLO  \n32        52                        10CM       SOLO  \n33        53                      볼빨간사춘기       SOLO  \n34        54                         잔나비      GROUP  \n35        55              그리즐리 (Grizzly)       SOLO  \n36        56                          백아       SOLO  \n37        12                마크툽 (MAKTUB)       SOLO  ",
      "text/html": "<div>\n<style scoped>\n    .dataframe tbody tr th:only-of-type {\n        vertical-align: middle;\n    }\n\n    .dataframe tbody tr th {\n        vertical-align: top;\n    }\n\n    .dataframe thead th {\n        text-align: right;\n    }\n</style>\n<table border=\"1\" class=\"dataframe\">\n  <thead>\n    <tr style=\"text-align: right;\">\n      <th></th>\n      <th>music_id</th>\n      <th>title</th>\n      <th>genre</th>\n      <th>lyrics</th>\n      <th>release_date</th>\n      <th>likes</th>\n      <th>view</th>\n      <th>highest_pitch</th>\n      <th>lowest_pitch</th>\n      <th>high_pitch_ratio</th>\n      <th>low_pitch_ratio</th>\n      <th>group_id</th>\n      <th>group_name</th>\n      <th>group_type</th>\n    </tr>\n  </thead>\n  <tbody>\n    <tr>\n      <th>0</th>\n      <td>169</td>\n      <td>야생화</td>\n      <td>BALLADE</td>\n      <td>하얗게 피어난 얼음 꽃 하나가\\n달가운 바람에 얼굴을 내밀어\\n아무 말 못했던 이름...</td>\n      <td>2014-03-28</td>\n      <td>2</td>\n      <td>36</td>\n      <td>926.378401</td>\n      <td>125.573964</td>\n      <td>0.100877</td>\n      <td>0.000000</td>\n      <td>11</td>\n      <td>박효신</td>\n      <td>SOLO</td>\n    </tr>\n    <tr>\n      <th>1</th>\n      <td>170</td>\n      <td>너에게 난, 나에게 넌</td>\n      <td>FOLK</td>\n      <td>너에게 난 해질녘 노을처럼\\n한 편의 아름다운 추억이 되고\\n소중했던 우리 푸르던 ...</td>\n      <td>2024-02-01</td>\n      <td>0</td>\n      <td>28</td>\n      <td>944.986819</td>\n      <td>140.076631</td>\n      <td>0.303609</td>\n      <td>0.000000</td>\n      <td>13</td>\n      <td>자전거 탄 풍경</td>\n      <td>GROUP</td>\n    </tr>\n    <tr>\n      <th>2</th>\n      <td>171</td>\n      <td>너였다면</td>\n      <td>OST</td>\n      <td>왜 너에겐 그렇게 어려운지\\n애를 쓰는 나를\\n제대로 봐주는 게\\n너 하나에 이토록...</td>\n      <td>2024-05-31</td>\n      <td>0</td>\n      <td>17</td>\n      <td>794.405940</td>\n      <td>145.657815</td>\n      <td>0.099138</td>\n      <td>0.000000</td>\n      <td>12</td>\n      <td>마크툽 (MAKTUB)</td>\n      <td>SOLO</td>\n    </tr>\n    <tr>\n      <th>3</th>\n      <td>172</td>\n      <td>시작</td>\n      <td>OST</td>\n      <td>새로운 시작은 늘 설레게 하지\\n모든 걸 이겨낼 것처럼\\n시간을 뒤쫓는 시계바늘처럼...</td>\n      <td>2020-02-01</td>\n      <td>0</td>\n      <td>0</td>\n      <td>744.287827</td>\n      <td>149.105775</td>\n      <td>0.064583</td>\n      <td>0.000000</td>\n      <td>14</td>\n      <td>가호 (Gaho)</td>\n      <td>SOLO</td>\n    </tr>\n    <tr>\n      <th>4</th>\n      <td>173</td>\n      <td>어땠을까 (Feat. 박정현)</td>\n      <td>RAP</td>\n      <td>내가 그때 널 잡았더라면\\n너와 나 지금보다 행복했을까\\n마지막에 널\\n안아줬다면 ...</td>\n      <td>2012-07-15</td>\n      <td>1</td>\n      <td>5</td>\n      <td>620.806132</td>\n      <td>123.754295</td>\n      <td>0.290698</td>\n      <td>0.000000</td>\n      <td>15</td>\n      <td>싸이 (PSY)</td>\n      <td>SOLO</td>\n    </tr>\n    <tr>\n      <th>5</th>\n      <td>174</td>\n      <td>흔들리는 꽃들 속에서 네 샴푸향이 느껴진거야</td>\n      <td>OST</td>\n      <td>흔들리는 꽃들 속에서\\n네 샴푸향이 느껴진거야\\n스쳐지나간건가 뒤돌아보지만\\n그냥 ...</td>\n      <td>2019-08-23</td>\n      <td>0</td>\n      <td>3</td>\n      <td>500.865280</td>\n      <td>104.255744</td>\n      <td>0.009747</td>\n      <td>0.005848</td>\n      <td>16</td>\n      <td>장범준</td>\n      <td>SOLO</td>\n    </tr>\n    <tr>\n      <th>6</th>\n      <td>175</td>\n      <td>Don't Cry</td>\n      <td>BALLADE</td>\n      <td>그대의 눈물이 마를 때까지\\n우리의 사랑을 볼 수 없을테니\\n울지 말아요 이제야\\n...</td>\n      <td>2003-08-01</td>\n      <td>0</td>\n      <td>0</td>\n      <td>796.514962</td>\n      <td>124.552403</td>\n      <td>0.228346</td>\n      <td>0.000000</td>\n      <td>17</td>\n      <td>더 크로스</td>\n      <td>GROUP</td>\n    </tr>\n    <tr>\n      <th>7</th>\n      <td>176</td>\n      <td>잠시만 안녕</td>\n      <td>BALLADE</td>\n      <td>행복을 줄 수 없었어\\n그런데 사랑을 했어\\n니곁에 감히 머무른\\n내 욕심을 용서치...</td>\n      <td>2007-05-10</td>\n      <td>0</td>\n      <td>3</td>\n      <td>885.293572</td>\n      <td>166.179307</td>\n      <td>0.303150</td>\n      <td>0.000000</td>\n      <td>18</td>\n      <td>엠씨더맥스 (M.C the MAX)</td>\n      <td>SOLO</td>\n    </tr>\n    <tr>\n      <th>8</th>\n      <td>177</td>\n      <td>인형의 꿈</td>\n      <td>OST</td>\n      <td>그대 먼 곳만 보네요\\n내가 바로 여기 있는데\\n조금만 고개를 돌려도\\n날 볼 수 ...</td>\n      <td>2003-09-09</td>\n      <td>0</td>\n      <td>0</td>\n      <td>588.248207</td>\n      <td>232.075376</td>\n      <td>0.000000</td>\n      <td>0.120504</td>\n      <td>19</td>\n      <td>러브홀릭</td>\n      <td>SOLO</td>\n    </tr>\n    <tr>\n      <th>9</th>\n      <td>178</td>\n      <td>외톨이야</td>\n      <td>ROCK</td>\n      <td>외톨이야 외톨이야\\n\\n외톨이야 외톨이야\\n\\n\\n\\n봐봐 나를 봐봐 똑바로 내 두...</td>\n      <td>2010-01-14</td>\n      <td>0</td>\n      <td>0</td>\n      <td>557.989885</td>\n      <td>150.122581</td>\n      <td>0.268987</td>\n      <td>0.000000</td>\n      <td>20</td>\n      <td>CNBLUE (씨엔블루)</td>\n      <td>GROUP</td>\n    </tr>\n    <tr>\n      <th>10</th>\n      <td>179</td>\n      <td>나는 나비</td>\n      <td>ROCK</td>\n      <td>내 모습이 보이지 않아\\n앞길도 보이지 않아\\n나는 아주 작은 애벌레\\n\\n살이 터...</td>\n      <td>2006-08-10</td>\n      <td>0</td>\n      <td>10</td>\n      <td>840.293833</td>\n      <td>132.162513</td>\n      <td>0.143198</td>\n      <td>0.000000</td>\n      <td>21</td>\n      <td>YB (윤도현 밴드)</td>\n      <td>SOLO</td>\n    </tr>\n    <tr>\n      <th>11</th>\n      <td>180</td>\n      <td>취중진담</td>\n      <td>BALLADE</td>\n      <td>그래 난 취했는지도 몰라\\n실수인지도 몰라\\n아침이면 까마득히 생각이 안나\\n불안해...</td>\n      <td>2007-03-15</td>\n      <td>0</td>\n      <td>1</td>\n      <td>810.409495</td>\n      <td>92.717461</td>\n      <td>0.062087</td>\n      <td>0.002642</td>\n      <td>22</td>\n      <td>김동률</td>\n      <td>SOLO</td>\n    </tr>\n    <tr>\n      <th>12</th>\n      <td>181</td>\n      <td>사랑했지만</td>\n      <td>FOLK</td>\n      <td>어제는 하루 종일 비가 내렸어\\n자욱하게 내려 앉은 먼지 사이로\\n귓가에 은은하게 ...</td>\n      <td>1991-02-20</td>\n      <td>0</td>\n      <td>1</td>\n      <td>889.166344</td>\n      <td>121.303076</td>\n      <td>0.167300</td>\n      <td>0.000000</td>\n      <td>23</td>\n      <td>김광석</td>\n      <td>SOLO</td>\n    </tr>\n    <tr>\n      <th>13</th>\n      <td>182</td>\n      <td>가지마 가지마</td>\n      <td>BALLADE</td>\n      <td>우리 함께했던 날들\\n그 기억들만 남아\\n너를 지워야만 내가 살 수 있을까\\n우리 ...</td>\n      <td>2008-06-19</td>\n      <td>0</td>\n      <td>1</td>\n      <td>834.280803</td>\n      <td>152.085571</td>\n      <td>0.228491</td>\n      <td>0.000000</td>\n      <td>24</td>\n      <td>브라운 아이즈</td>\n      <td>GROUP</td>\n    </tr>\n    <tr>\n      <th>14</th>\n      <td>183</td>\n      <td>결혼까지 생각했어</td>\n      <td>RNB</td>\n      <td>To all My people hellow hellow\\nhellow hellow\\...</td>\n      <td>2010-08-26</td>\n      <td>0</td>\n      <td>0</td>\n      <td>902.750069</td>\n      <td>124.968452</td>\n      <td>0.256654</td>\n      <td>0.000000</td>\n      <td>25</td>\n      <td>휘성 (Realslow)</td>\n      <td>SOLO</td>\n    </tr>\n    <tr>\n      <th>15</th>\n      <td>184</td>\n      <td>잘못된 만남</td>\n      <td>DANCE</td>\n      <td>난 너를 믿었던 만큼\\n난 내 친구도 믿었기에\\n난 아무런 부담없이 널\\n내 친구에...</td>\n      <td>1995-01-24</td>\n      <td>0</td>\n      <td>2</td>\n      <td>850.065165</td>\n      <td>199.168516</td>\n      <td>0.298677</td>\n      <td>0.000000</td>\n      <td>35</td>\n      <td>김건모</td>\n      <td>SOLO</td>\n    </tr>\n    <tr>\n      <th>16</th>\n      <td>185</td>\n      <td>벌써 일년</td>\n      <td>RNB</td>\n      <td>처음이라 그래 며칠뒤엔\\n괜찮아져\\n그 생각만으로 벌써 일년이\\n너와 만든 기념일마...</td>\n      <td>2007-06-12</td>\n      <td>0</td>\n      <td>0</td>\n      <td>833.013293</td>\n      <td>123.631166</td>\n      <td>0.217993</td>\n      <td>0.000000</td>\n      <td>24</td>\n      <td>브라운 아이즈</td>\n      <td>GROUP</td>\n    </tr>\n    <tr>\n      <th>17</th>\n      <td>186</td>\n      <td>응급실</td>\n      <td>BALLADE</td>\n      <td>후회 하고 있어요\\n우리 다투던 그 날\\n괜한 자존심 때문에\\n끝내자고 말을 해버린...</td>\n      <td>2005-01-20</td>\n      <td>0</td>\n      <td>0</td>\n      <td>571.456098</td>\n      <td>98.209465</td>\n      <td>0.041600</td>\n      <td>0.001600</td>\n      <td>36</td>\n      <td>izi</td>\n      <td>GROUP</td>\n    </tr>\n    <tr>\n      <th>18</th>\n      <td>187</td>\n      <td>Aloha</td>\n      <td>INDIE</td>\n      <td>처음 듣는 노래\\n처음 걷는 길\\n처음 보는 바다\\n처음 보는 별\\n\\n네가 없는 ...</td>\n      <td>2012-04-10</td>\n      <td>0</td>\n      <td>0</td>\n      <td>360.737434</td>\n      <td>121.419028</td>\n      <td>0.000000</td>\n      <td>0.000000</td>\n      <td>37</td>\n      <td>스탠딩 에그</td>\n      <td>GROUP</td>\n    </tr>\n    <tr>\n      <th>19</th>\n      <td>188</td>\n      <td>NIGHT DANCER</td>\n      <td>JPOP</td>\n      <td>どうでもいいような 夜だけど\\n響めき 煌めきと君も\\nまだ止まった 刻む針も\\n入り浸った...</td>\n      <td>2022-08-19</td>\n      <td>0</td>\n      <td>0</td>\n      <td>586.909798</td>\n      <td>131.658609</td>\n      <td>0.086601</td>\n      <td>0.000000</td>\n      <td>38</td>\n      <td>imase</td>\n      <td>SOLO</td>\n    </tr>\n    <tr>\n      <th>20</th>\n      <td>189</td>\n      <td>Lemon</td>\n      <td>JPOP</td>\n      <td>夢ならばどれほどよかったでしょう\\n未だにあなたのことを夢にみる\\n忘れた物を取りに帰るよう...</td>\n      <td>2018-03-16</td>\n      <td>0</td>\n      <td>0</td>\n      <td>492.779072</td>\n      <td>121.414461</td>\n      <td>0.032338</td>\n      <td>0.000000</td>\n      <td>39</td>\n      <td>Yonezu Kenshi</td>\n      <td>SOLO</td>\n    </tr>\n    <tr>\n      <th>21</th>\n      <td>190</td>\n      <td>다시 만난 세계</td>\n      <td>DANCE</td>\n      <td>전해 주고 싶어 슬픈 시간이\\n다 흩어진 후에야 들리지만\\n눈을 감고 느껴 봐 움직...</td>\n      <td>2007-11-01</td>\n      <td>0</td>\n      <td>0</td>\n      <td>696.975553</td>\n      <td>233.820538</td>\n      <td>0.002571</td>\n      <td>0.000000</td>\n      <td>41</td>\n      <td>소녀시대 (GIRLS' GENERATION)</td>\n      <td>GROUP</td>\n    </tr>\n    <tr>\n      <th>22</th>\n      <td>191</td>\n      <td>퀸카 (Queencard)</td>\n      <td>DANCE</td>\n      <td>Hey you\\n뭘 보니? 내가 좀 Sexy Sexy 반했니\\nYe you\\n뭐 하...</td>\n      <td>2023-05-15</td>\n      <td>0</td>\n      <td>0</td>\n      <td>575.688579</td>\n      <td>186.402709</td>\n      <td>0.000000</td>\n      <td>0.124444</td>\n      <td>42</td>\n      <td>(여자)아이들</td>\n      <td>GROUP</td>\n    </tr>\n    <tr>\n      <th>23</th>\n      <td>192</td>\n      <td>Spicy</td>\n      <td>DANCE</td>\n      <td>Uh Uh Too Spicy\\nYou want my A to the Z\\nBut y...</td>\n      <td>2023-05-08</td>\n      <td>0</td>\n      <td>0</td>\n      <td>880.857538</td>\n      <td>193.677050</td>\n      <td>0.028892</td>\n      <td>0.012841</td>\n      <td>43</td>\n      <td>aespa</td>\n      <td>GROUP</td>\n    </tr>\n    <tr>\n      <th>24</th>\n      <td>193</td>\n      <td>I AM</td>\n      <td>DANCE</td>\n      <td>다른 문을 열어 따라 갈 필요는 없어\\n넌 너의 길로 난 나의 길로 음\\n하루하루마...</td>\n      <td>2023-04-10</td>\n      <td>0</td>\n      <td>0</td>\n      <td>805.328717</td>\n      <td>183.901798</td>\n      <td>0.074219</td>\n      <td>0.039062</td>\n      <td>44</td>\n      <td>IVE (아이브)</td>\n      <td>GROUP</td>\n    </tr>\n    <tr>\n      <th>25</th>\n      <td>194</td>\n      <td>UNFORGIVEN (feat. Nile Rodgers)</td>\n      <td>DANCE</td>\n      <td>Unforgiven I’m a villain I’m a\\nUnforgiven 난 그...</td>\n      <td>2023-05-01</td>\n      <td>0</td>\n      <td>0</td>\n      <td>558.651408</td>\n      <td>175.889445</td>\n      <td>0.000000</td>\n      <td>0.050000</td>\n      <td>45</td>\n      <td>LE SSERAFIM (르세라핌)</td>\n      <td>GROUP</td>\n    </tr>\n    <tr>\n      <th>26</th>\n      <td>195</td>\n      <td>꽃</td>\n      <td>DANCE</td>\n      <td>ABC 도레미만큼 착했던 나\\n그 눈빛이 싹 변했지\\n어쩌면 이 또한 나니까\\n난 ...</td>\n      <td>2023-03-31</td>\n      <td>0</td>\n      <td>0</td>\n      <td>661.198665</td>\n      <td>169.262994</td>\n      <td>0.002481</td>\n      <td>0.096774</td>\n      <td>46</td>\n      <td>지수 (JISOO)</td>\n      <td>SOLO</td>\n    </tr>\n    <tr>\n      <th>27</th>\n      <td>196</td>\n      <td>손오공</td>\n      <td>DANCE</td>\n      <td>땅을 보고 계속 올랐지 정상까지\\n많은 시련은 보란 듯이 I Always Win\\n...</td>\n      <td>2023-04-24</td>\n      <td>0</td>\n      <td>0</td>\n      <td>554.940132</td>\n      <td>132.934857</td>\n      <td>0.041905</td>\n      <td>0.000000</td>\n      <td>47</td>\n      <td>세븐틴 (SEVENTEEN)</td>\n      <td>GROUP</td>\n    </tr>\n    <tr>\n      <th>28</th>\n      <td>197</td>\n      <td>저곳으로(인어공주OST)</td>\n      <td>OST</td>\n      <td>이것 좀 봐 신기하지\\n내가 모은 것들 대단하지\\n내가 세상 모든 걸 다 가진 것 ...</td>\n      <td>2023-05-17</td>\n      <td>0</td>\n      <td>0</td>\n      <td>589.494552</td>\n      <td>240.798246</td>\n      <td>0.000000</td>\n      <td>0.000000</td>\n      <td>48</td>\n      <td>다니엘(DANIELLE)</td>\n      <td>SOLO</td>\n    </tr>\n    <tr>\n      <th>29</th>\n      <td>198</td>\n      <td>See You Again (분노의 질주 : 더 세븐 OST)</td>\n      <td>OST</td>\n      <td>It's been a long day\\nwithout you my friend\\nA...</td>\n      <td>2015-03-17</td>\n      <td>0</td>\n      <td>0</td>\n      <td>940.949070</td>\n      <td>164.744786</td>\n      <td>0.293814</td>\n      <td>0.000000</td>\n      <td>49</td>\n      <td>Charlie Puth , Wiz Khalifa</td>\n      <td>GROUP</td>\n    </tr>\n    <tr>\n      <th>30</th>\n      <td>199</td>\n      <td>사랑은 늘 도망가</td>\n      <td>OST</td>\n      <td>눈물이 난다 이 길을 걸으면\\n그 사람 손길이 자꾸 생각이 난다\\n붙잡지 못하고 가...</td>\n      <td>2021-10-11</td>\n      <td>0</td>\n      <td>0</td>\n      <td>535.343402</td>\n      <td>93.023069</td>\n      <td>0.016296</td>\n      <td>0.008889</td>\n      <td>50</td>\n      <td>임영웅</td>\n      <td>SOLO</td>\n    </tr>\n    <tr>\n      <th>31</th>\n      <td>200</td>\n      <td>모든 날, 모든 순간</td>\n      <td>OST</td>\n      <td>네가 없이 웃을 수 있을까\\n생각만 해도 눈물이나\\n힘든 시간 날 지켜준 사람\\n이...</td>\n      <td>2018-03-20</td>\n      <td>0</td>\n      <td>0</td>\n      <td>414.951102</td>\n      <td>169.953506</td>\n      <td>0.002247</td>\n      <td>0.000000</td>\n      <td>51</td>\n      <td>폴킴</td>\n      <td>SOLO</td>\n    </tr>\n    <tr>\n      <th>32</th>\n      <td>201</td>\n      <td>부동의 첫사랑</td>\n      <td>INDIE</td>\n      <td>주인공은 아니었지\\n누구의 시점에서도\\n그냥 스쳐 지나가거나\\n친구3이라거나\\n이름...</td>\n      <td>2023-05-14</td>\n      <td>0</td>\n      <td>0</td>\n      <td>456.717386</td>\n      <td>145.977052</td>\n      <td>0.071713</td>\n      <td>0.000000</td>\n      <td>52</td>\n      <td>10CM</td>\n      <td>SOLO</td>\n    </tr>\n    <tr>\n      <th>33</th>\n      <td>202</td>\n      <td>FRIEND THE END</td>\n      <td>INDIE</td>\n      <td>요즘엔 썸이라는 단어를 난 쓰지 않아\\n친구란 완벽한 단어로 숨길 수가 있지\\n사랑...</td>\n      <td>2023-04-16</td>\n      <td>0</td>\n      <td>0</td>\n      <td>668.437651</td>\n      <td>159.646833</td>\n      <td>0.001818</td>\n      <td>0.014545</td>\n      <td>53</td>\n      <td>볼빨간사춘기</td>\n      <td>SOLO</td>\n    </tr>\n    <tr>\n      <th>34</th>\n      <td>203</td>\n      <td>주저하는 연인들을 위해</td>\n      <td>INDIE</td>\n      <td>나는 읽기 쉬운 마음이야\\n당신도 스윽 훑고 가셔요\\n달랠 길 없는 외로운 마음 있...</td>\n      <td>2019-03-13</td>\n      <td>0</td>\n      <td>0</td>\n      <td>465.799037</td>\n      <td>131.582028</td>\n      <td>0.058520</td>\n      <td>0.000000</td>\n      <td>54</td>\n      <td>잔나비</td>\n      <td>GROUP</td>\n    </tr>\n    <tr>\n      <th>35</th>\n      <td>204</td>\n      <td>친구 얘긴데 (feat. Skinny Brown)</td>\n      <td>INDIE</td>\n      <td>저기 말야\\n나 말고 아는 친구 얘긴데\\n별 뜻은 아냐\\n그저 네 생각이 좀 궁금해...</td>\n      <td>2023-06-01</td>\n      <td>0</td>\n      <td>0</td>\n      <td>411.220547</td>\n      <td>93.726779</td>\n      <td>0.011164</td>\n      <td>0.007974</td>\n      <td>55</td>\n      <td>그리즐리 (Grizzly)</td>\n      <td>SOLO</td>\n    </tr>\n    <tr>\n      <th>36</th>\n      <td>205</td>\n      <td>첫사랑</td>\n      <td>INDIE</td>\n      <td>알아 내 맘에 조용히\\n문을 두드리면\\n눈에 뿌옇게 고여버린\\n널 흘려보내야 해\\n...</td>\n      <td>2018-10-11</td>\n      <td>0</td>\n      <td>0</td>\n      <td>525.258280</td>\n      <td>202.686124</td>\n      <td>0.000000</td>\n      <td>0.026694</td>\n      <td>56</td>\n      <td>백아</td>\n      <td>SOLO</td>\n    </tr>\n    <tr>\n      <th>37</th>\n      <td>206</td>\n      <td>오늘도 빛나는 너에게</td>\n      <td>INDIE</td>\n      <td>별빛이 내린 밤\\n그 풍경 속 너와 나\\n날 새롭게 하는\\n따뜻하게 만드는\\n니 눈...</td>\n      <td>2019-06-09</td>\n      <td>1</td>\n      <td>16</td>\n      <td>940.418904</td>\n      <td>147.626466</td>\n      <td>0.490427</td>\n      <td>0.000000</td>\n      <td>12</td>\n      <td>마크툽 (MAKTUB)</td>\n      <td>SOLO</td>\n    </tr>\n  </tbody>\n</table>\n</div>"
     },
     "execution_count": 2,
     "metadata": {},
     "output_type": "execute_result"
    }
   ],
   "source": [
    "musics = fetch_data_music_and_groups()\n",
    "column_names = ['music_id', 'title', 'genre', 'lyrics', 'release_date', 'likes', 'view',\n",
    "                'highest_pitch', 'lowest_pitch', 'high_pitch_ratio', 'low_pitch_ratio',\n",
    "                'group_id', 'group_name', 'group_type']\n",
    "\n",
    "musics.columns = column_names\n",
    "\n",
    "musics"
   ],
   "metadata": {
    "collapsed": false,
    "ExecuteTime": {
     "end_time": "2024-10-15T17:24:49.511723Z",
     "start_time": "2024-10-15T17:24:49.467277Z"
    }
   },
   "id": "ab298e74bf119cfb",
   "execution_count": 2
  },
  {
   "cell_type": "code",
   "outputs": [
    {
     "name": "stdout",
     "output_type": "stream",
     "text": [
      "2024-10-16 02:24:49.514726: [SQL] SELECT gai.group_id, a.artist_id, a.artist_name, a.gender, a.nation FROM (SELECT g.group_id, gm.artist_id FROM groups g NATURAL JOIN group_member gm) gai    INNER JOIN artist a ON gai.artist_id = a.artist_id\n"
     ]
    },
    {
     "data": {
      "text/plain": "    group_id  artist_id     artist_name  gender nation\n0          7          2             이영지  FEMALE   대한민국\n1         11         11             박효신    MALE   대한민국\n2         13         13             강인봉    MALE   대한민국\n3         13         14             김형섭    MALE   대한민국\n4         13         15             송봉주    MALE   대한민국\n..       ...        ...             ...     ...    ...\n80        54        116             최정훈    MALE   대한민국\n81        54        117             김도형    MALE   대한민국\n82        55        118  그리즐리 (Grizzly)    MALE   대한민국\n83        56        119              백아  FEMALE   대한민국\n84        12         12    마크툽 (MAKTUB)    MALE   대한민국\n\n[85 rows x 5 columns]",
      "text/html": "<div>\n<style scoped>\n    .dataframe tbody tr th:only-of-type {\n        vertical-align: middle;\n    }\n\n    .dataframe tbody tr th {\n        vertical-align: top;\n    }\n\n    .dataframe thead th {\n        text-align: right;\n    }\n</style>\n<table border=\"1\" class=\"dataframe\">\n  <thead>\n    <tr style=\"text-align: right;\">\n      <th></th>\n      <th>group_id</th>\n      <th>artist_id</th>\n      <th>artist_name</th>\n      <th>gender</th>\n      <th>nation</th>\n    </tr>\n  </thead>\n  <tbody>\n    <tr>\n      <th>0</th>\n      <td>7</td>\n      <td>2</td>\n      <td>이영지</td>\n      <td>FEMALE</td>\n      <td>대한민국</td>\n    </tr>\n    <tr>\n      <th>1</th>\n      <td>11</td>\n      <td>11</td>\n      <td>박효신</td>\n      <td>MALE</td>\n      <td>대한민국</td>\n    </tr>\n    <tr>\n      <th>2</th>\n      <td>13</td>\n      <td>13</td>\n      <td>강인봉</td>\n      <td>MALE</td>\n      <td>대한민국</td>\n    </tr>\n    <tr>\n      <th>3</th>\n      <td>13</td>\n      <td>14</td>\n      <td>김형섭</td>\n      <td>MALE</td>\n      <td>대한민국</td>\n    </tr>\n    <tr>\n      <th>4</th>\n      <td>13</td>\n      <td>15</td>\n      <td>송봉주</td>\n      <td>MALE</td>\n      <td>대한민국</td>\n    </tr>\n    <tr>\n      <th>...</th>\n      <td>...</td>\n      <td>...</td>\n      <td>...</td>\n      <td>...</td>\n      <td>...</td>\n    </tr>\n    <tr>\n      <th>80</th>\n      <td>54</td>\n      <td>116</td>\n      <td>최정훈</td>\n      <td>MALE</td>\n      <td>대한민국</td>\n    </tr>\n    <tr>\n      <th>81</th>\n      <td>54</td>\n      <td>117</td>\n      <td>김도형</td>\n      <td>MALE</td>\n      <td>대한민국</td>\n    </tr>\n    <tr>\n      <th>82</th>\n      <td>55</td>\n      <td>118</td>\n      <td>그리즐리 (Grizzly)</td>\n      <td>MALE</td>\n      <td>대한민국</td>\n    </tr>\n    <tr>\n      <th>83</th>\n      <td>56</td>\n      <td>119</td>\n      <td>백아</td>\n      <td>FEMALE</td>\n      <td>대한민국</td>\n    </tr>\n    <tr>\n      <th>84</th>\n      <td>12</td>\n      <td>12</td>\n      <td>마크툽 (MAKTUB)</td>\n      <td>MALE</td>\n      <td>대한민국</td>\n    </tr>\n  </tbody>\n</table>\n<p>85 rows × 5 columns</p>\n</div>"
     },
     "execution_count": 3,
     "metadata": {},
     "output_type": "execute_result"
    }
   ],
   "source": [
    "artists = fetch_artist()\n",
    "column_names = ['group_id', 'artist_id', 'artist_name', 'gender', 'nation']\n",
    "artists.columns = column_names\n",
    "\n",
    "artists"
   ],
   "metadata": {
    "collapsed": false,
    "ExecuteTime": {
     "end_time": "2024-10-15T17:24:49.526727Z",
     "start_time": "2024-10-15T17:24:49.512726Z"
    }
   },
   "id": "eb4d2f215f1003b5",
   "execution_count": 3
  },
  {
   "cell_type": "code",
   "outputs": [],
   "source": [
    "artist_dict = {}\n",
    "\n",
    "for at in artists.itertuples():\n",
    "    if at.group_id in artist_dict:\n",
    "        artist_dict[at.group_id].append(at)\n",
    "    else:\n",
    "        artist_dict[at.group_id] = [at]"
   ],
   "metadata": {
    "collapsed": false,
    "ExecuteTime": {
     "end_time": "2024-10-15T17:24:49.541722Z",
     "start_time": "2024-10-15T17:24:49.527726Z"
    }
   },
   "id": "3ce71b6242be2966",
   "execution_count": 4
  },
  {
   "cell_type": "code",
   "outputs": [
    {
     "data": {
      "text/plain": "[Pandas(Index=38, group_id=42, artist_id=75, artist_name='소연 ((여자)아이들)', gender='FEMALE', nation='대한민국'),\n Pandas(Index=39, group_id=42, artist_id=76, artist_name='미연 ((여자)아이들)', gender='FEMALE', nation='대한민국'),\n Pandas(Index=40, group_id=42, artist_id=77, artist_name='우기 ((여자)아이들)', gender='FEMALE', nation='중국'),\n Pandas(Index=41, group_id=42, artist_id=78, artist_name='슈화 ((여자)아이들)', gender='FEMALE', nation='타이완'),\n Pandas(Index=42, group_id=42, artist_id=79, artist_name='민니 ((여자)아이들)', gender='FEMALE', nation='태국')]"
     },
     "execution_count": 5,
     "metadata": {},
     "output_type": "execute_result"
    }
   ],
   "source": [
    "artist_dict[42]"
   ],
   "metadata": {
    "collapsed": false,
    "ExecuteTime": {
     "end_time": "2024-10-15T17:24:49.557142Z",
     "start_time": "2024-10-15T17:24:49.542734Z"
    }
   },
   "id": "f7ffbcc9bf41aff",
   "execution_count": 5
  },
  {
   "cell_type": "code",
   "outputs": [],
   "source": [
    "# 가수 관련 열 추가"
   ],
   "metadata": {
    "collapsed": false,
    "ExecuteTime": {
     "end_time": "2024-10-15T17:24:49.572153Z",
     "start_time": "2024-10-15T17:24:49.558142Z"
    }
   },
   "id": "7b076464bad6cf2d",
   "execution_count": 6
  },
  {
   "cell_type": "code",
   "outputs": [],
   "source": [
    "def classify_gender(gender_list):\n",
    "    # 'OTHER'이 하나라도 있으면 '기타'\n",
    "    if 'OTHER' in gender_list:\n",
    "        return '기타'\n",
    "    \n",
    "    # 'FEMALE'과 'MALE'이 섞여 있으면 '혼성'\n",
    "    if 'FEMALE' in gender_list and 'MALE' in gender_list:\n",
    "        return '혼성'\n",
    "    \n",
    "    # 'FEMALE'만 있으면 '여성'\n",
    "    if all(g == 'FEMALE' for g in gender_list):\n",
    "        return '여성'\n",
    "    \n",
    "    # 'MALE'만 있으면 '남성'\n",
    "    if all(g == 'MALE' for g in gender_list):\n",
    "        return '남성'\n",
    "    \n",
    "    # 예외 처리를 위해 기본 반환값 (조건에 맞지 않는 경우)\n",
    "    return '기타'\n",
    "\n",
    "def classify_nation(nation_list):\n",
    "    # '대한민국' 또는 '한국'이 하나라도 있으면 '대한민국' 반환\n",
    "    if '대한민국' in nation_list or '한국' in nation_list:\n",
    "        return '대한민국'\n",
    "    \n",
    "    # 중복 제거한 국가 목록\n",
    "    unique_nations = set(nation_list)\n",
    "    \n",
    "    # 하나의 국가만 있으면 그 국가를 반환\n",
    "    if len(unique_nations) == 1:\n",
    "        return unique_nations.pop()\n",
    "    \n",
    "    # 여러 국가가 섞여 있으면 '다국가' 반환\n",
    "    return '다국가'"
   ],
   "metadata": {
    "collapsed": false,
    "ExecuteTime": {
     "end_time": "2024-10-15T17:24:49.588079Z",
     "start_time": "2024-10-15T17:24:49.573152Z"
    }
   },
   "id": "e76ac9e81f07d9b4",
   "execution_count": 7
  },
  {
   "cell_type": "code",
   "outputs": [
    {
     "data": {
      "text/plain": "'소연 ((여자)아이들) 미연 ((여자)아이들) 우기 ((여자)아이들) 슈화 ((여자)아이들) 민니 ((여자)아이들)'"
     },
     "execution_count": 8,
     "metadata": {},
     "output_type": "execute_result"
    }
   ],
   "source": [
    "' '.join(at.artist_name for at in artist_dict[42])"
   ],
   "metadata": {
    "collapsed": false,
    "ExecuteTime": {
     "end_time": "2024-10-15T17:24:49.603316Z",
     "start_time": "2024-10-15T17:24:49.589070Z"
    }
   },
   "id": "48986c670dc0d80b",
   "execution_count": 8
  },
  {
   "cell_type": "code",
   "outputs": [
    {
     "data": {
      "text/plain": "['FEMALE', 'FEMALE', 'FEMALE', 'FEMALE', 'FEMALE']"
     },
     "execution_count": 9,
     "metadata": {},
     "output_type": "execute_result"
    }
   ],
   "source": [
    "[at.gender for at in artist_dict[42]]"
   ],
   "metadata": {
    "collapsed": false,
    "ExecuteTime": {
     "end_time": "2024-10-15T17:24:49.618776Z",
     "start_time": "2024-10-15T17:24:49.604322Z"
    }
   },
   "id": "52573139acd15c1a",
   "execution_count": 9
  },
  {
   "cell_type": "code",
   "outputs": [],
   "source": [
    "# 가수 이름 열 추가\n",
    "musics['artist_names'] = musics.apply(lambda row: '|'.join(at.artist_name for at in artist_dict[row.group_id]), axis=1)\n",
    "\n",
    "# 노래 성별(남자, 여자, 혼성, 그외) 구분 추가\n",
    "musics['gender'] = musics.apply(lambda row: classify_gender([at.gender for at in artist_dict[row.group_id]]), axis=1)\n",
    "\n",
    "# 국가 열 추가\n",
    "musics['nation'] = musics.apply(lambda row: classify_nation([at.nation for at in artist_dict[row.group_id]]), axis=1)"
   ],
   "metadata": {
    "collapsed": false,
    "ExecuteTime": {
     "end_time": "2024-10-15T17:24:49.633773Z",
     "start_time": "2024-10-15T17:24:49.620775Z"
    }
   },
   "id": "8262d90fb40846fa",
   "execution_count": 10
  },
  {
   "cell_type": "code",
   "outputs": [
    {
     "name": "stdout",
     "output_type": "stream",
     "text": [
      "2024-10-16 02:24:49.636773: [SQL] SELECT m.music_id, t.theme_name FROM music m INNER JOIN theme t ON m.music_id = t.music_id\n"
     ]
    },
    {
     "data": {
      "text/plain": "   music_id theme_name\n0       169         고음\n1       169         저음\n2       205         고음",
      "text/html": "<div>\n<style scoped>\n    .dataframe tbody tr th:only-of-type {\n        vertical-align: middle;\n    }\n\n    .dataframe tbody tr th {\n        vertical-align: top;\n    }\n\n    .dataframe thead th {\n        text-align: right;\n    }\n</style>\n<table border=\"1\" class=\"dataframe\">\n  <thead>\n    <tr style=\"text-align: right;\">\n      <th></th>\n      <th>music_id</th>\n      <th>theme_name</th>\n    </tr>\n  </thead>\n  <tbody>\n    <tr>\n      <th>0</th>\n      <td>169</td>\n      <td>고음</td>\n    </tr>\n    <tr>\n      <th>1</th>\n      <td>169</td>\n      <td>저음</td>\n    </tr>\n    <tr>\n      <th>2</th>\n      <td>205</td>\n      <td>고음</td>\n    </tr>\n  </tbody>\n</table>\n</div>"
     },
     "execution_count": 11,
     "metadata": {},
     "output_type": "execute_result"
    }
   ],
   "source": [
    "# 테마\n",
    "themes = fetch_theme()\n",
    "column_names = ['music_id', 'theme_name']\n",
    "themes.columns = column_names\n",
    "\n",
    "themes"
   ],
   "metadata": {
    "collapsed": false,
    "ExecuteTime": {
     "end_time": "2024-10-15T17:24:49.649137Z",
     "start_time": "2024-10-15T17:24:49.634772Z"
    }
   },
   "id": "73e02059344e13d",
   "execution_count": 11
  },
  {
   "cell_type": "code",
   "outputs": [],
   "source": [
    "theme_dict = {}\n",
    "\n",
    "for tm in themes.itertuples():\n",
    "    if tm.music_id in theme_dict:\n",
    "        theme_dict[tm.music_id] = theme_dict[tm.music_id]+'|'+tm.theme_name\n",
    "    else:\n",
    "        theme_dict[tm.music_id] = tm.theme_name"
   ],
   "metadata": {
    "collapsed": false,
    "ExecuteTime": {
     "end_time": "2024-10-15T17:24:49.664137Z",
     "start_time": "2024-10-15T17:24:49.650137Z"
    }
   },
   "id": "2e8a7b13c3eec242",
   "execution_count": 12
  },
  {
   "cell_type": "code",
   "outputs": [
    {
     "data": {
      "text/plain": "'고음|저음'"
     },
     "execution_count": 13,
     "metadata": {},
     "output_type": "execute_result"
    }
   ],
   "source": [
    "theme_dict[169]"
   ],
   "metadata": {
    "collapsed": false,
    "ExecuteTime": {
     "end_time": "2024-10-15T17:24:49.679140Z",
     "start_time": "2024-10-15T17:24:49.666140Z"
    }
   },
   "id": "a77f96349a23096b",
   "execution_count": 13
  },
  {
   "cell_type": "code",
   "outputs": [],
   "source": [
    "# 테마 열 추가\n",
    "musics['themes'] = musics.apply(lambda row: theme_dict.get(row.music_id, ''), axis=1)"
   ],
   "metadata": {
    "collapsed": false,
    "ExecuteTime": {
     "end_time": "2024-10-15T17:24:49.694527Z",
     "start_time": "2024-10-15T17:24:49.680142Z"
    }
   },
   "id": "95d35c9a329ebc13",
   "execution_count": 14
  },
  {
   "cell_type": "code",
   "outputs": [
    {
     "data": {
      "text/plain": "    music_id                              title    genre  \\\n0        169                                야생화  BALLADE   \n1        170                       너에게 난, 나에게 넌     FOLK   \n2        171                               너였다면      OST   \n3        172                                 시작      OST   \n4        173                   어땠을까 (Feat. 박정현)      RAP   \n5        174           흔들리는 꽃들 속에서 네 샴푸향이 느껴진거야      OST   \n6        175                          Don't Cry  BALLADE   \n7        176                             잠시만 안녕  BALLADE   \n8        177                              인형의 꿈      OST   \n9        178                               외톨이야     ROCK   \n10       179                              나는 나비     ROCK   \n11       180                               취중진담  BALLADE   \n12       181                              사랑했지만     FOLK   \n13       182                            가지마 가지마  BALLADE   \n14       183                          결혼까지 생각했어      RNB   \n15       184                             잘못된 만남    DANCE   \n16       185                              벌써 일년      RNB   \n17       186                                응급실  BALLADE   \n18       187                              Aloha    INDIE   \n19       188                       NIGHT DANCER     JPOP   \n20       189                              Lemon     JPOP   \n21       190                           다시 만난 세계    DANCE   \n22       191                     퀸카 (Queencard)    DANCE   \n23       192                              Spicy    DANCE   \n24       193                               I AM    DANCE   \n25       194    UNFORGIVEN (feat. Nile Rodgers)    DANCE   \n26       195                                  꽃    DANCE   \n27       196                                손오공    DANCE   \n28       197                      저곳으로(인어공주OST)      OST   \n29       198  See You Again (분노의 질주 : 더 세븐 OST)      OST   \n30       199                          사랑은 늘 도망가      OST   \n31       200                        모든 날, 모든 순간      OST   \n32       201                            부동의 첫사랑    INDIE   \n33       202                     FRIEND THE END    INDIE   \n34       203                       주저하는 연인들을 위해    INDIE   \n35       204        친구 얘긴데 (feat. Skinny Brown)    INDIE   \n36       205                                첫사랑    INDIE   \n37       206                        오늘도 빛나는 너에게    INDIE   \n\n                                               lyrics release_date  likes  \\\n0   하얗게 피어난 얼음 꽃 하나가\\n달가운 바람에 얼굴을 내밀어\\n아무 말 못했던 이름...   2014-03-28      2   \n1   너에게 난 해질녘 노을처럼\\n한 편의 아름다운 추억이 되고\\n소중했던 우리 푸르던 ...   2024-02-01      0   \n2   왜 너에겐 그렇게 어려운지\\n애를 쓰는 나를\\n제대로 봐주는 게\\n너 하나에 이토록...   2024-05-31      0   \n3   새로운 시작은 늘 설레게 하지\\n모든 걸 이겨낼 것처럼\\n시간을 뒤쫓는 시계바늘처럼...   2020-02-01      0   \n4   내가 그때 널 잡았더라면\\n너와 나 지금보다 행복했을까\\n마지막에 널\\n안아줬다면 ...   2012-07-15      1   \n5   흔들리는 꽃들 속에서\\n네 샴푸향이 느껴진거야\\n스쳐지나간건가 뒤돌아보지만\\n그냥 ...   2019-08-23      0   \n6   그대의 눈물이 마를 때까지\\n우리의 사랑을 볼 수 없을테니\\n울지 말아요 이제야\\n...   2003-08-01      0   \n7   행복을 줄 수 없었어\\n그런데 사랑을 했어\\n니곁에 감히 머무른\\n내 욕심을 용서치...   2007-05-10      0   \n8   그대 먼 곳만 보네요\\n내가 바로 여기 있는데\\n조금만 고개를 돌려도\\n날 볼 수 ...   2003-09-09      0   \n9   외톨이야 외톨이야\\n\\n외톨이야 외톨이야\\n\\n\\n\\n봐봐 나를 봐봐 똑바로 내 두...   2010-01-14      0   \n10  내 모습이 보이지 않아\\n앞길도 보이지 않아\\n나는 아주 작은 애벌레\\n\\n살이 터...   2006-08-10      0   \n11  그래 난 취했는지도 몰라\\n실수인지도 몰라\\n아침이면 까마득히 생각이 안나\\n불안해...   2007-03-15      0   \n12  어제는 하루 종일 비가 내렸어\\n자욱하게 내려 앉은 먼지 사이로\\n귓가에 은은하게 ...   1991-02-20      0   \n13  우리 함께했던 날들\\n그 기억들만 남아\\n너를 지워야만 내가 살 수 있을까\\n우리 ...   2008-06-19      0   \n14  To all My people hellow hellow\\nhellow hellow\\...   2010-08-26      0   \n15  난 너를 믿었던 만큼\\n난 내 친구도 믿었기에\\n난 아무런 부담없이 널\\n내 친구에...   1995-01-24      0   \n16  처음이라 그래 며칠뒤엔\\n괜찮아져\\n그 생각만으로 벌써 일년이\\n너와 만든 기념일마...   2007-06-12      0   \n17  후회 하고 있어요\\n우리 다투던 그 날\\n괜한 자존심 때문에\\n끝내자고 말을 해버린...   2005-01-20      0   \n18  처음 듣는 노래\\n처음 걷는 길\\n처음 보는 바다\\n처음 보는 별\\n\\n네가 없는 ...   2012-04-10      0   \n19  どうでもいいような 夜だけど\\n響めき 煌めきと君も\\nまだ止まった 刻む針も\\n入り浸った...   2022-08-19      0   \n20  夢ならばどれほどよかったでしょう\\n未だにあなたのことを夢にみる\\n忘れた物を取りに帰るよう...   2018-03-16      0   \n21  전해 주고 싶어 슬픈 시간이\\n다 흩어진 후에야 들리지만\\n눈을 감고 느껴 봐 움직...   2007-11-01      0   \n22  Hey you\\n뭘 보니? 내가 좀 Sexy Sexy 반했니\\nYe you\\n뭐 하...   2023-05-15      0   \n23  Uh Uh Too Spicy\\nYou want my A to the Z\\nBut y...   2023-05-08      0   \n24  다른 문을 열어 따라 갈 필요는 없어\\n넌 너의 길로 난 나의 길로 음\\n하루하루마...   2023-04-10      0   \n25  Unforgiven I’m a villain I’m a\\nUnforgiven 난 그...   2023-05-01      0   \n26  ABC 도레미만큼 착했던 나\\n그 눈빛이 싹 변했지\\n어쩌면 이 또한 나니까\\n난 ...   2023-03-31      0   \n27  땅을 보고 계속 올랐지 정상까지\\n많은 시련은 보란 듯이 I Always Win\\n...   2023-04-24      0   \n28  이것 좀 봐 신기하지\\n내가 모은 것들 대단하지\\n내가 세상 모든 걸 다 가진 것 ...   2023-05-17      0   \n29  It's been a long day\\nwithout you my friend\\nA...   2015-03-17      0   \n30  눈물이 난다 이 길을 걸으면\\n그 사람 손길이 자꾸 생각이 난다\\n붙잡지 못하고 가...   2021-10-11      0   \n31  네가 없이 웃을 수 있을까\\n생각만 해도 눈물이나\\n힘든 시간 날 지켜준 사람\\n이...   2018-03-20      0   \n32  주인공은 아니었지\\n누구의 시점에서도\\n그냥 스쳐 지나가거나\\n친구3이라거나\\n이름...   2023-05-14      0   \n33  요즘엔 썸이라는 단어를 난 쓰지 않아\\n친구란 완벽한 단어로 숨길 수가 있지\\n사랑...   2023-04-16      0   \n34  나는 읽기 쉬운 마음이야\\n당신도 스윽 훑고 가셔요\\n달랠 길 없는 외로운 마음 있...   2019-03-13      0   \n35  저기 말야\\n나 말고 아는 친구 얘긴데\\n별 뜻은 아냐\\n그저 네 생각이 좀 궁금해...   2023-06-01      0   \n36  알아 내 맘에 조용히\\n문을 두드리면\\n눈에 뿌옇게 고여버린\\n널 흘려보내야 해\\n...   2018-10-11      0   \n37  별빛이 내린 밤\\n그 풍경 속 너와 나\\n날 새롭게 하는\\n따뜻하게 만드는\\n니 눈...   2019-06-09      1   \n\n    view  highest_pitch  lowest_pitch  high_pitch_ratio  low_pitch_ratio  \\\n0     36     926.378401    125.573964          0.100877         0.000000   \n1     28     944.986819    140.076631          0.303609         0.000000   \n2     17     794.405940    145.657815          0.099138         0.000000   \n3      0     744.287827    149.105775          0.064583         0.000000   \n4      5     620.806132    123.754295          0.290698         0.000000   \n5      3     500.865280    104.255744          0.009747         0.005848   \n6      0     796.514962    124.552403          0.228346         0.000000   \n7      3     885.293572    166.179307          0.303150         0.000000   \n8      0     588.248207    232.075376          0.000000         0.120504   \n9      0     557.989885    150.122581          0.268987         0.000000   \n10    10     840.293833    132.162513          0.143198         0.000000   \n11     1     810.409495     92.717461          0.062087         0.002642   \n12     1     889.166344    121.303076          0.167300         0.000000   \n13     1     834.280803    152.085571          0.228491         0.000000   \n14     0     902.750069    124.968452          0.256654         0.000000   \n15     2     850.065165    199.168516          0.298677         0.000000   \n16     0     833.013293    123.631166          0.217993         0.000000   \n17     0     571.456098     98.209465          0.041600         0.001600   \n18     0     360.737434    121.419028          0.000000         0.000000   \n19     0     586.909798    131.658609          0.086601         0.000000   \n20     0     492.779072    121.414461          0.032338         0.000000   \n21     0     696.975553    233.820538          0.002571         0.000000   \n22     0     575.688579    186.402709          0.000000         0.124444   \n23     0     880.857538    193.677050          0.028892         0.012841   \n24     0     805.328717    183.901798          0.074219         0.039062   \n25     0     558.651408    175.889445          0.000000         0.050000   \n26     0     661.198665    169.262994          0.002481         0.096774   \n27     0     554.940132    132.934857          0.041905         0.000000   \n28     0     589.494552    240.798246          0.000000         0.000000   \n29     0     940.949070    164.744786          0.293814         0.000000   \n30     0     535.343402     93.023069          0.016296         0.008889   \n31     0     414.951102    169.953506          0.002247         0.000000   \n32     0     456.717386    145.977052          0.071713         0.000000   \n33     0     668.437651    159.646833          0.001818         0.014545   \n34     0     465.799037    131.582028          0.058520         0.000000   \n35     0     411.220547     93.726779          0.011164         0.007974   \n36     0     525.258280    202.686124          0.000000         0.026694   \n37    16     940.418904    147.626466          0.490427         0.000000   \n\n    group_id                  group_name group_type  \\\n0         11                         박효신       SOLO   \n1         13                    자전거 탄 풍경      GROUP   \n2         12                마크툽 (MAKTUB)       SOLO   \n3         14                   가호 (Gaho)       SOLO   \n4         15                    싸이 (PSY)       SOLO   \n5         16                         장범준       SOLO   \n6         17                       더 크로스      GROUP   \n7         18         엠씨더맥스 (M.C the MAX)       SOLO   \n8         19                        러브홀릭       SOLO   \n9         20               CNBLUE (씨엔블루)      GROUP   \n10        21                 YB (윤도현 밴드)       SOLO   \n11        22                         김동률       SOLO   \n12        23                         김광석       SOLO   \n13        24                     브라운 아이즈      GROUP   \n14        25               휘성 (Realslow)       SOLO   \n15        35                         김건모       SOLO   \n16        24                     브라운 아이즈      GROUP   \n17        36                         izi      GROUP   \n18        37                      스탠딩 에그      GROUP   \n19        38                       imase       SOLO   \n20        39               Yonezu Kenshi       SOLO   \n21        41    소녀시대 (GIRLS' GENERATION)      GROUP   \n22        42                     (여자)아이들      GROUP   \n23        43                       aespa      GROUP   \n24        44                   IVE (아이브)      GROUP   \n25        45          LE SSERAFIM (르세라핌)      GROUP   \n26        46                  지수 (JISOO)       SOLO   \n27        47             세븐틴 (SEVENTEEN)      GROUP   \n28        48               다니엘(DANIELLE)       SOLO   \n29        49  Charlie Puth , Wiz Khalifa      GROUP   \n30        50                         임영웅       SOLO   \n31        51                          폴킴       SOLO   \n32        52                        10CM       SOLO   \n33        53                      볼빨간사춘기       SOLO   \n34        54                         잔나비      GROUP   \n35        55              그리즐리 (Grizzly)       SOLO   \n36        56                          백아       SOLO   \n37        12                마크툽 (MAKTUB)       SOLO   \n\n                                         artist_names gender nation themes  \n0                                                 박효신     남성   대한민국  고음|저음  \n1                                         강인봉|김형섭|송봉주     남성   대한민국         \n2                                        마크툽 (MAKTUB)     남성   대한민국         \n3                                           가호 (Gaho)     남성   대한민국         \n4                                            싸이 (PSY)     남성   대한민국         \n5                                                 장범준     남성   대한민국         \n6                           SiHa (이시하)|김혁건(The Cross)     남성   대한민국         \n7                                          이수 (엠씨더맥스)     남성   대한민국         \n8                                      지선 (Loveholic)     여성   대한민국         \n9                       이정신 (CNBLUE)|강민혁 (CNBLUE)|정용화     남성   대한민국         \n10                                                윤도현     남성   대한민국         \n11                                                김동률     남성   대한민국         \n12                                                김광석     남성   대한민국         \n13                                              윤건|나얼     남성   대한민국         \n14                                      휘성 (Realslow)     남성   대한민국         \n15                                                김건모     남성   대한민국         \n16                                              윤건|나얼     남성   대한민국         \n17                                      izi (오진성)|신승익     남성   대한민국         \n18                                     Egg1|Egg2|Egg3     기타   대한민국         \n19                                              imase     남성     일본         \n20                                      Yonezu Kenshi     남성     일본         \n21  태연 (TAEYEON)|써니 (SUNNY)|유리 (YURI)|수영 (SOOYOUNG...     여성   대한민국         \n22  소연 ((여자)아이들)|미연 ((여자)아이들)|우기 ((여자)아이들)|슈화 ((여자...     여성   대한민국         \n23  민니 ((여자)아이들)|카리나 (KARINA)|지젤 (GISELLE)|윈터 (WIN...     여성   대한민국         \n24  안유진 (IVE)|가을 (IVE)|레이 (IVE)|장원영 (IVE)|리즈 (IVE)...     여성   대한민국         \n25                               김채원|사쿠라|허윤진| 카즈하|홍은채     여성   대한민국         \n26                                         지수 (JISOO)     여성   대한민국         \n27  S.COUPS (SEVENTEEN)|정한 (SEVENTEEN)| 조슈아 (SEVEN...     남성   대한민국         \n28                                      다니엘(DANIELLE)     여성   대한민국         \n29                           Charlie Puth|Wiz Khalifa     남성     미국         \n30                                                임영웅     남성   대한민국         \n31                                                 폴킴     남성   대한민국         \n32                                                권정열     남성   대한민국         \n33                                                안지영     여성   대한민국         \n34                                            최정훈|김도형     남성   대한민국         \n35                                     그리즐리 (Grizzly)     남성   대한민국         \n36                                                 백아     여성   대한민국     고음  \n37                                       마크툽 (MAKTUB)     남성   대한민국         ",
      "text/html": "<div>\n<style scoped>\n    .dataframe tbody tr th:only-of-type {\n        vertical-align: middle;\n    }\n\n    .dataframe tbody tr th {\n        vertical-align: top;\n    }\n\n    .dataframe thead th {\n        text-align: right;\n    }\n</style>\n<table border=\"1\" class=\"dataframe\">\n  <thead>\n    <tr style=\"text-align: right;\">\n      <th></th>\n      <th>music_id</th>\n      <th>title</th>\n      <th>genre</th>\n      <th>lyrics</th>\n      <th>release_date</th>\n      <th>likes</th>\n      <th>view</th>\n      <th>highest_pitch</th>\n      <th>lowest_pitch</th>\n      <th>high_pitch_ratio</th>\n      <th>low_pitch_ratio</th>\n      <th>group_id</th>\n      <th>group_name</th>\n      <th>group_type</th>\n      <th>artist_names</th>\n      <th>gender</th>\n      <th>nation</th>\n      <th>themes</th>\n    </tr>\n  </thead>\n  <tbody>\n    <tr>\n      <th>0</th>\n      <td>169</td>\n      <td>야생화</td>\n      <td>BALLADE</td>\n      <td>하얗게 피어난 얼음 꽃 하나가\\n달가운 바람에 얼굴을 내밀어\\n아무 말 못했던 이름...</td>\n      <td>2014-03-28</td>\n      <td>2</td>\n      <td>36</td>\n      <td>926.378401</td>\n      <td>125.573964</td>\n      <td>0.100877</td>\n      <td>0.000000</td>\n      <td>11</td>\n      <td>박효신</td>\n      <td>SOLO</td>\n      <td>박효신</td>\n      <td>남성</td>\n      <td>대한민국</td>\n      <td>고음|저음</td>\n    </tr>\n    <tr>\n      <th>1</th>\n      <td>170</td>\n      <td>너에게 난, 나에게 넌</td>\n      <td>FOLK</td>\n      <td>너에게 난 해질녘 노을처럼\\n한 편의 아름다운 추억이 되고\\n소중했던 우리 푸르던 ...</td>\n      <td>2024-02-01</td>\n      <td>0</td>\n      <td>28</td>\n      <td>944.986819</td>\n      <td>140.076631</td>\n      <td>0.303609</td>\n      <td>0.000000</td>\n      <td>13</td>\n      <td>자전거 탄 풍경</td>\n      <td>GROUP</td>\n      <td>강인봉|김형섭|송봉주</td>\n      <td>남성</td>\n      <td>대한민국</td>\n      <td></td>\n    </tr>\n    <tr>\n      <th>2</th>\n      <td>171</td>\n      <td>너였다면</td>\n      <td>OST</td>\n      <td>왜 너에겐 그렇게 어려운지\\n애를 쓰는 나를\\n제대로 봐주는 게\\n너 하나에 이토록...</td>\n      <td>2024-05-31</td>\n      <td>0</td>\n      <td>17</td>\n      <td>794.405940</td>\n      <td>145.657815</td>\n      <td>0.099138</td>\n      <td>0.000000</td>\n      <td>12</td>\n      <td>마크툽 (MAKTUB)</td>\n      <td>SOLO</td>\n      <td>마크툽 (MAKTUB)</td>\n      <td>남성</td>\n      <td>대한민국</td>\n      <td></td>\n    </tr>\n    <tr>\n      <th>3</th>\n      <td>172</td>\n      <td>시작</td>\n      <td>OST</td>\n      <td>새로운 시작은 늘 설레게 하지\\n모든 걸 이겨낼 것처럼\\n시간을 뒤쫓는 시계바늘처럼...</td>\n      <td>2020-02-01</td>\n      <td>0</td>\n      <td>0</td>\n      <td>744.287827</td>\n      <td>149.105775</td>\n      <td>0.064583</td>\n      <td>0.000000</td>\n      <td>14</td>\n      <td>가호 (Gaho)</td>\n      <td>SOLO</td>\n      <td>가호 (Gaho)</td>\n      <td>남성</td>\n      <td>대한민국</td>\n      <td></td>\n    </tr>\n    <tr>\n      <th>4</th>\n      <td>173</td>\n      <td>어땠을까 (Feat. 박정현)</td>\n      <td>RAP</td>\n      <td>내가 그때 널 잡았더라면\\n너와 나 지금보다 행복했을까\\n마지막에 널\\n안아줬다면 ...</td>\n      <td>2012-07-15</td>\n      <td>1</td>\n      <td>5</td>\n      <td>620.806132</td>\n      <td>123.754295</td>\n      <td>0.290698</td>\n      <td>0.000000</td>\n      <td>15</td>\n      <td>싸이 (PSY)</td>\n      <td>SOLO</td>\n      <td>싸이 (PSY)</td>\n      <td>남성</td>\n      <td>대한민국</td>\n      <td></td>\n    </tr>\n    <tr>\n      <th>5</th>\n      <td>174</td>\n      <td>흔들리는 꽃들 속에서 네 샴푸향이 느껴진거야</td>\n      <td>OST</td>\n      <td>흔들리는 꽃들 속에서\\n네 샴푸향이 느껴진거야\\n스쳐지나간건가 뒤돌아보지만\\n그냥 ...</td>\n      <td>2019-08-23</td>\n      <td>0</td>\n      <td>3</td>\n      <td>500.865280</td>\n      <td>104.255744</td>\n      <td>0.009747</td>\n      <td>0.005848</td>\n      <td>16</td>\n      <td>장범준</td>\n      <td>SOLO</td>\n      <td>장범준</td>\n      <td>남성</td>\n      <td>대한민국</td>\n      <td></td>\n    </tr>\n    <tr>\n      <th>6</th>\n      <td>175</td>\n      <td>Don't Cry</td>\n      <td>BALLADE</td>\n      <td>그대의 눈물이 마를 때까지\\n우리의 사랑을 볼 수 없을테니\\n울지 말아요 이제야\\n...</td>\n      <td>2003-08-01</td>\n      <td>0</td>\n      <td>0</td>\n      <td>796.514962</td>\n      <td>124.552403</td>\n      <td>0.228346</td>\n      <td>0.000000</td>\n      <td>17</td>\n      <td>더 크로스</td>\n      <td>GROUP</td>\n      <td>SiHa (이시하)|김혁건(The Cross)</td>\n      <td>남성</td>\n      <td>대한민국</td>\n      <td></td>\n    </tr>\n    <tr>\n      <th>7</th>\n      <td>176</td>\n      <td>잠시만 안녕</td>\n      <td>BALLADE</td>\n      <td>행복을 줄 수 없었어\\n그런데 사랑을 했어\\n니곁에 감히 머무른\\n내 욕심을 용서치...</td>\n      <td>2007-05-10</td>\n      <td>0</td>\n      <td>3</td>\n      <td>885.293572</td>\n      <td>166.179307</td>\n      <td>0.303150</td>\n      <td>0.000000</td>\n      <td>18</td>\n      <td>엠씨더맥스 (M.C the MAX)</td>\n      <td>SOLO</td>\n      <td>이수 (엠씨더맥스)</td>\n      <td>남성</td>\n      <td>대한민국</td>\n      <td></td>\n    </tr>\n    <tr>\n      <th>8</th>\n      <td>177</td>\n      <td>인형의 꿈</td>\n      <td>OST</td>\n      <td>그대 먼 곳만 보네요\\n내가 바로 여기 있는데\\n조금만 고개를 돌려도\\n날 볼 수 ...</td>\n      <td>2003-09-09</td>\n      <td>0</td>\n      <td>0</td>\n      <td>588.248207</td>\n      <td>232.075376</td>\n      <td>0.000000</td>\n      <td>0.120504</td>\n      <td>19</td>\n      <td>러브홀릭</td>\n      <td>SOLO</td>\n      <td>지선 (Loveholic)</td>\n      <td>여성</td>\n      <td>대한민국</td>\n      <td></td>\n    </tr>\n    <tr>\n      <th>9</th>\n      <td>178</td>\n      <td>외톨이야</td>\n      <td>ROCK</td>\n      <td>외톨이야 외톨이야\\n\\n외톨이야 외톨이야\\n\\n\\n\\n봐봐 나를 봐봐 똑바로 내 두...</td>\n      <td>2010-01-14</td>\n      <td>0</td>\n      <td>0</td>\n      <td>557.989885</td>\n      <td>150.122581</td>\n      <td>0.268987</td>\n      <td>0.000000</td>\n      <td>20</td>\n      <td>CNBLUE (씨엔블루)</td>\n      <td>GROUP</td>\n      <td>이정신 (CNBLUE)|강민혁 (CNBLUE)|정용화</td>\n      <td>남성</td>\n      <td>대한민국</td>\n      <td></td>\n    </tr>\n    <tr>\n      <th>10</th>\n      <td>179</td>\n      <td>나는 나비</td>\n      <td>ROCK</td>\n      <td>내 모습이 보이지 않아\\n앞길도 보이지 않아\\n나는 아주 작은 애벌레\\n\\n살이 터...</td>\n      <td>2006-08-10</td>\n      <td>0</td>\n      <td>10</td>\n      <td>840.293833</td>\n      <td>132.162513</td>\n      <td>0.143198</td>\n      <td>0.000000</td>\n      <td>21</td>\n      <td>YB (윤도현 밴드)</td>\n      <td>SOLO</td>\n      <td>윤도현</td>\n      <td>남성</td>\n      <td>대한민국</td>\n      <td></td>\n    </tr>\n    <tr>\n      <th>11</th>\n      <td>180</td>\n      <td>취중진담</td>\n      <td>BALLADE</td>\n      <td>그래 난 취했는지도 몰라\\n실수인지도 몰라\\n아침이면 까마득히 생각이 안나\\n불안해...</td>\n      <td>2007-03-15</td>\n      <td>0</td>\n      <td>1</td>\n      <td>810.409495</td>\n      <td>92.717461</td>\n      <td>0.062087</td>\n      <td>0.002642</td>\n      <td>22</td>\n      <td>김동률</td>\n      <td>SOLO</td>\n      <td>김동률</td>\n      <td>남성</td>\n      <td>대한민국</td>\n      <td></td>\n    </tr>\n    <tr>\n      <th>12</th>\n      <td>181</td>\n      <td>사랑했지만</td>\n      <td>FOLK</td>\n      <td>어제는 하루 종일 비가 내렸어\\n자욱하게 내려 앉은 먼지 사이로\\n귓가에 은은하게 ...</td>\n      <td>1991-02-20</td>\n      <td>0</td>\n      <td>1</td>\n      <td>889.166344</td>\n      <td>121.303076</td>\n      <td>0.167300</td>\n      <td>0.000000</td>\n      <td>23</td>\n      <td>김광석</td>\n      <td>SOLO</td>\n      <td>김광석</td>\n      <td>남성</td>\n      <td>대한민국</td>\n      <td></td>\n    </tr>\n    <tr>\n      <th>13</th>\n      <td>182</td>\n      <td>가지마 가지마</td>\n      <td>BALLADE</td>\n      <td>우리 함께했던 날들\\n그 기억들만 남아\\n너를 지워야만 내가 살 수 있을까\\n우리 ...</td>\n      <td>2008-06-19</td>\n      <td>0</td>\n      <td>1</td>\n      <td>834.280803</td>\n      <td>152.085571</td>\n      <td>0.228491</td>\n      <td>0.000000</td>\n      <td>24</td>\n      <td>브라운 아이즈</td>\n      <td>GROUP</td>\n      <td>윤건|나얼</td>\n      <td>남성</td>\n      <td>대한민국</td>\n      <td></td>\n    </tr>\n    <tr>\n      <th>14</th>\n      <td>183</td>\n      <td>결혼까지 생각했어</td>\n      <td>RNB</td>\n      <td>To all My people hellow hellow\\nhellow hellow\\...</td>\n      <td>2010-08-26</td>\n      <td>0</td>\n      <td>0</td>\n      <td>902.750069</td>\n      <td>124.968452</td>\n      <td>0.256654</td>\n      <td>0.000000</td>\n      <td>25</td>\n      <td>휘성 (Realslow)</td>\n      <td>SOLO</td>\n      <td>휘성 (Realslow)</td>\n      <td>남성</td>\n      <td>대한민국</td>\n      <td></td>\n    </tr>\n    <tr>\n      <th>15</th>\n      <td>184</td>\n      <td>잘못된 만남</td>\n      <td>DANCE</td>\n      <td>난 너를 믿었던 만큼\\n난 내 친구도 믿었기에\\n난 아무런 부담없이 널\\n내 친구에...</td>\n      <td>1995-01-24</td>\n      <td>0</td>\n      <td>2</td>\n      <td>850.065165</td>\n      <td>199.168516</td>\n      <td>0.298677</td>\n      <td>0.000000</td>\n      <td>35</td>\n      <td>김건모</td>\n      <td>SOLO</td>\n      <td>김건모</td>\n      <td>남성</td>\n      <td>대한민국</td>\n      <td></td>\n    </tr>\n    <tr>\n      <th>16</th>\n      <td>185</td>\n      <td>벌써 일년</td>\n      <td>RNB</td>\n      <td>처음이라 그래 며칠뒤엔\\n괜찮아져\\n그 생각만으로 벌써 일년이\\n너와 만든 기념일마...</td>\n      <td>2007-06-12</td>\n      <td>0</td>\n      <td>0</td>\n      <td>833.013293</td>\n      <td>123.631166</td>\n      <td>0.217993</td>\n      <td>0.000000</td>\n      <td>24</td>\n      <td>브라운 아이즈</td>\n      <td>GROUP</td>\n      <td>윤건|나얼</td>\n      <td>남성</td>\n      <td>대한민국</td>\n      <td></td>\n    </tr>\n    <tr>\n      <th>17</th>\n      <td>186</td>\n      <td>응급실</td>\n      <td>BALLADE</td>\n      <td>후회 하고 있어요\\n우리 다투던 그 날\\n괜한 자존심 때문에\\n끝내자고 말을 해버린...</td>\n      <td>2005-01-20</td>\n      <td>0</td>\n      <td>0</td>\n      <td>571.456098</td>\n      <td>98.209465</td>\n      <td>0.041600</td>\n      <td>0.001600</td>\n      <td>36</td>\n      <td>izi</td>\n      <td>GROUP</td>\n      <td>izi (오진성)|신승익</td>\n      <td>남성</td>\n      <td>대한민국</td>\n      <td></td>\n    </tr>\n    <tr>\n      <th>18</th>\n      <td>187</td>\n      <td>Aloha</td>\n      <td>INDIE</td>\n      <td>처음 듣는 노래\\n처음 걷는 길\\n처음 보는 바다\\n처음 보는 별\\n\\n네가 없는 ...</td>\n      <td>2012-04-10</td>\n      <td>0</td>\n      <td>0</td>\n      <td>360.737434</td>\n      <td>121.419028</td>\n      <td>0.000000</td>\n      <td>0.000000</td>\n      <td>37</td>\n      <td>스탠딩 에그</td>\n      <td>GROUP</td>\n      <td>Egg1|Egg2|Egg3</td>\n      <td>기타</td>\n      <td>대한민국</td>\n      <td></td>\n    </tr>\n    <tr>\n      <th>19</th>\n      <td>188</td>\n      <td>NIGHT DANCER</td>\n      <td>JPOP</td>\n      <td>どうでもいいような 夜だけど\\n響めき 煌めきと君も\\nまだ止まった 刻む針も\\n入り浸った...</td>\n      <td>2022-08-19</td>\n      <td>0</td>\n      <td>0</td>\n      <td>586.909798</td>\n      <td>131.658609</td>\n      <td>0.086601</td>\n      <td>0.000000</td>\n      <td>38</td>\n      <td>imase</td>\n      <td>SOLO</td>\n      <td>imase</td>\n      <td>남성</td>\n      <td>일본</td>\n      <td></td>\n    </tr>\n    <tr>\n      <th>20</th>\n      <td>189</td>\n      <td>Lemon</td>\n      <td>JPOP</td>\n      <td>夢ならばどれほどよかったでしょう\\n未だにあなたのことを夢にみる\\n忘れた物を取りに帰るよう...</td>\n      <td>2018-03-16</td>\n      <td>0</td>\n      <td>0</td>\n      <td>492.779072</td>\n      <td>121.414461</td>\n      <td>0.032338</td>\n      <td>0.000000</td>\n      <td>39</td>\n      <td>Yonezu Kenshi</td>\n      <td>SOLO</td>\n      <td>Yonezu Kenshi</td>\n      <td>남성</td>\n      <td>일본</td>\n      <td></td>\n    </tr>\n    <tr>\n      <th>21</th>\n      <td>190</td>\n      <td>다시 만난 세계</td>\n      <td>DANCE</td>\n      <td>전해 주고 싶어 슬픈 시간이\\n다 흩어진 후에야 들리지만\\n눈을 감고 느껴 봐 움직...</td>\n      <td>2007-11-01</td>\n      <td>0</td>\n      <td>0</td>\n      <td>696.975553</td>\n      <td>233.820538</td>\n      <td>0.002571</td>\n      <td>0.000000</td>\n      <td>41</td>\n      <td>소녀시대 (GIRLS' GENERATION)</td>\n      <td>GROUP</td>\n      <td>태연 (TAEYEON)|써니 (SUNNY)|유리 (YURI)|수영 (SOOYOUNG...</td>\n      <td>여성</td>\n      <td>대한민국</td>\n      <td></td>\n    </tr>\n    <tr>\n      <th>22</th>\n      <td>191</td>\n      <td>퀸카 (Queencard)</td>\n      <td>DANCE</td>\n      <td>Hey you\\n뭘 보니? 내가 좀 Sexy Sexy 반했니\\nYe you\\n뭐 하...</td>\n      <td>2023-05-15</td>\n      <td>0</td>\n      <td>0</td>\n      <td>575.688579</td>\n      <td>186.402709</td>\n      <td>0.000000</td>\n      <td>0.124444</td>\n      <td>42</td>\n      <td>(여자)아이들</td>\n      <td>GROUP</td>\n      <td>소연 ((여자)아이들)|미연 ((여자)아이들)|우기 ((여자)아이들)|슈화 ((여자...</td>\n      <td>여성</td>\n      <td>대한민국</td>\n      <td></td>\n    </tr>\n    <tr>\n      <th>23</th>\n      <td>192</td>\n      <td>Spicy</td>\n      <td>DANCE</td>\n      <td>Uh Uh Too Spicy\\nYou want my A to the Z\\nBut y...</td>\n      <td>2023-05-08</td>\n      <td>0</td>\n      <td>0</td>\n      <td>880.857538</td>\n      <td>193.677050</td>\n      <td>0.028892</td>\n      <td>0.012841</td>\n      <td>43</td>\n      <td>aespa</td>\n      <td>GROUP</td>\n      <td>민니 ((여자)아이들)|카리나 (KARINA)|지젤 (GISELLE)|윈터 (WIN...</td>\n      <td>여성</td>\n      <td>대한민국</td>\n      <td></td>\n    </tr>\n    <tr>\n      <th>24</th>\n      <td>193</td>\n      <td>I AM</td>\n      <td>DANCE</td>\n      <td>다른 문을 열어 따라 갈 필요는 없어\\n넌 너의 길로 난 나의 길로 음\\n하루하루마...</td>\n      <td>2023-04-10</td>\n      <td>0</td>\n      <td>0</td>\n      <td>805.328717</td>\n      <td>183.901798</td>\n      <td>0.074219</td>\n      <td>0.039062</td>\n      <td>44</td>\n      <td>IVE (아이브)</td>\n      <td>GROUP</td>\n      <td>안유진 (IVE)|가을 (IVE)|레이 (IVE)|장원영 (IVE)|리즈 (IVE)...</td>\n      <td>여성</td>\n      <td>대한민국</td>\n      <td></td>\n    </tr>\n    <tr>\n      <th>25</th>\n      <td>194</td>\n      <td>UNFORGIVEN (feat. Nile Rodgers)</td>\n      <td>DANCE</td>\n      <td>Unforgiven I’m a villain I’m a\\nUnforgiven 난 그...</td>\n      <td>2023-05-01</td>\n      <td>0</td>\n      <td>0</td>\n      <td>558.651408</td>\n      <td>175.889445</td>\n      <td>0.000000</td>\n      <td>0.050000</td>\n      <td>45</td>\n      <td>LE SSERAFIM (르세라핌)</td>\n      <td>GROUP</td>\n      <td>김채원|사쿠라|허윤진| 카즈하|홍은채</td>\n      <td>여성</td>\n      <td>대한민국</td>\n      <td></td>\n    </tr>\n    <tr>\n      <th>26</th>\n      <td>195</td>\n      <td>꽃</td>\n      <td>DANCE</td>\n      <td>ABC 도레미만큼 착했던 나\\n그 눈빛이 싹 변했지\\n어쩌면 이 또한 나니까\\n난 ...</td>\n      <td>2023-03-31</td>\n      <td>0</td>\n      <td>0</td>\n      <td>661.198665</td>\n      <td>169.262994</td>\n      <td>0.002481</td>\n      <td>0.096774</td>\n      <td>46</td>\n      <td>지수 (JISOO)</td>\n      <td>SOLO</td>\n      <td>지수 (JISOO)</td>\n      <td>여성</td>\n      <td>대한민국</td>\n      <td></td>\n    </tr>\n    <tr>\n      <th>27</th>\n      <td>196</td>\n      <td>손오공</td>\n      <td>DANCE</td>\n      <td>땅을 보고 계속 올랐지 정상까지\\n많은 시련은 보란 듯이 I Always Win\\n...</td>\n      <td>2023-04-24</td>\n      <td>0</td>\n      <td>0</td>\n      <td>554.940132</td>\n      <td>132.934857</td>\n      <td>0.041905</td>\n      <td>0.000000</td>\n      <td>47</td>\n      <td>세븐틴 (SEVENTEEN)</td>\n      <td>GROUP</td>\n      <td>S.COUPS (SEVENTEEN)|정한 (SEVENTEEN)| 조슈아 (SEVEN...</td>\n      <td>남성</td>\n      <td>대한민국</td>\n      <td></td>\n    </tr>\n    <tr>\n      <th>28</th>\n      <td>197</td>\n      <td>저곳으로(인어공주OST)</td>\n      <td>OST</td>\n      <td>이것 좀 봐 신기하지\\n내가 모은 것들 대단하지\\n내가 세상 모든 걸 다 가진 것 ...</td>\n      <td>2023-05-17</td>\n      <td>0</td>\n      <td>0</td>\n      <td>589.494552</td>\n      <td>240.798246</td>\n      <td>0.000000</td>\n      <td>0.000000</td>\n      <td>48</td>\n      <td>다니엘(DANIELLE)</td>\n      <td>SOLO</td>\n      <td>다니엘(DANIELLE)</td>\n      <td>여성</td>\n      <td>대한민국</td>\n      <td></td>\n    </tr>\n    <tr>\n      <th>29</th>\n      <td>198</td>\n      <td>See You Again (분노의 질주 : 더 세븐 OST)</td>\n      <td>OST</td>\n      <td>It's been a long day\\nwithout you my friend\\nA...</td>\n      <td>2015-03-17</td>\n      <td>0</td>\n      <td>0</td>\n      <td>940.949070</td>\n      <td>164.744786</td>\n      <td>0.293814</td>\n      <td>0.000000</td>\n      <td>49</td>\n      <td>Charlie Puth , Wiz Khalifa</td>\n      <td>GROUP</td>\n      <td>Charlie Puth|Wiz Khalifa</td>\n      <td>남성</td>\n      <td>미국</td>\n      <td></td>\n    </tr>\n    <tr>\n      <th>30</th>\n      <td>199</td>\n      <td>사랑은 늘 도망가</td>\n      <td>OST</td>\n      <td>눈물이 난다 이 길을 걸으면\\n그 사람 손길이 자꾸 생각이 난다\\n붙잡지 못하고 가...</td>\n      <td>2021-10-11</td>\n      <td>0</td>\n      <td>0</td>\n      <td>535.343402</td>\n      <td>93.023069</td>\n      <td>0.016296</td>\n      <td>0.008889</td>\n      <td>50</td>\n      <td>임영웅</td>\n      <td>SOLO</td>\n      <td>임영웅</td>\n      <td>남성</td>\n      <td>대한민국</td>\n      <td></td>\n    </tr>\n    <tr>\n      <th>31</th>\n      <td>200</td>\n      <td>모든 날, 모든 순간</td>\n      <td>OST</td>\n      <td>네가 없이 웃을 수 있을까\\n생각만 해도 눈물이나\\n힘든 시간 날 지켜준 사람\\n이...</td>\n      <td>2018-03-20</td>\n      <td>0</td>\n      <td>0</td>\n      <td>414.951102</td>\n      <td>169.953506</td>\n      <td>0.002247</td>\n      <td>0.000000</td>\n      <td>51</td>\n      <td>폴킴</td>\n      <td>SOLO</td>\n      <td>폴킴</td>\n      <td>남성</td>\n      <td>대한민국</td>\n      <td></td>\n    </tr>\n    <tr>\n      <th>32</th>\n      <td>201</td>\n      <td>부동의 첫사랑</td>\n      <td>INDIE</td>\n      <td>주인공은 아니었지\\n누구의 시점에서도\\n그냥 스쳐 지나가거나\\n친구3이라거나\\n이름...</td>\n      <td>2023-05-14</td>\n      <td>0</td>\n      <td>0</td>\n      <td>456.717386</td>\n      <td>145.977052</td>\n      <td>0.071713</td>\n      <td>0.000000</td>\n      <td>52</td>\n      <td>10CM</td>\n      <td>SOLO</td>\n      <td>권정열</td>\n      <td>남성</td>\n      <td>대한민국</td>\n      <td></td>\n    </tr>\n    <tr>\n      <th>33</th>\n      <td>202</td>\n      <td>FRIEND THE END</td>\n      <td>INDIE</td>\n      <td>요즘엔 썸이라는 단어를 난 쓰지 않아\\n친구란 완벽한 단어로 숨길 수가 있지\\n사랑...</td>\n      <td>2023-04-16</td>\n      <td>0</td>\n      <td>0</td>\n      <td>668.437651</td>\n      <td>159.646833</td>\n      <td>0.001818</td>\n      <td>0.014545</td>\n      <td>53</td>\n      <td>볼빨간사춘기</td>\n      <td>SOLO</td>\n      <td>안지영</td>\n      <td>여성</td>\n      <td>대한민국</td>\n      <td></td>\n    </tr>\n    <tr>\n      <th>34</th>\n      <td>203</td>\n      <td>주저하는 연인들을 위해</td>\n      <td>INDIE</td>\n      <td>나는 읽기 쉬운 마음이야\\n당신도 스윽 훑고 가셔요\\n달랠 길 없는 외로운 마음 있...</td>\n      <td>2019-03-13</td>\n      <td>0</td>\n      <td>0</td>\n      <td>465.799037</td>\n      <td>131.582028</td>\n      <td>0.058520</td>\n      <td>0.000000</td>\n      <td>54</td>\n      <td>잔나비</td>\n      <td>GROUP</td>\n      <td>최정훈|김도형</td>\n      <td>남성</td>\n      <td>대한민국</td>\n      <td></td>\n    </tr>\n    <tr>\n      <th>35</th>\n      <td>204</td>\n      <td>친구 얘긴데 (feat. Skinny Brown)</td>\n      <td>INDIE</td>\n      <td>저기 말야\\n나 말고 아는 친구 얘긴데\\n별 뜻은 아냐\\n그저 네 생각이 좀 궁금해...</td>\n      <td>2023-06-01</td>\n      <td>0</td>\n      <td>0</td>\n      <td>411.220547</td>\n      <td>93.726779</td>\n      <td>0.011164</td>\n      <td>0.007974</td>\n      <td>55</td>\n      <td>그리즐리 (Grizzly)</td>\n      <td>SOLO</td>\n      <td>그리즐리 (Grizzly)</td>\n      <td>남성</td>\n      <td>대한민국</td>\n      <td></td>\n    </tr>\n    <tr>\n      <th>36</th>\n      <td>205</td>\n      <td>첫사랑</td>\n      <td>INDIE</td>\n      <td>알아 내 맘에 조용히\\n문을 두드리면\\n눈에 뿌옇게 고여버린\\n널 흘려보내야 해\\n...</td>\n      <td>2018-10-11</td>\n      <td>0</td>\n      <td>0</td>\n      <td>525.258280</td>\n      <td>202.686124</td>\n      <td>0.000000</td>\n      <td>0.026694</td>\n      <td>56</td>\n      <td>백아</td>\n      <td>SOLO</td>\n      <td>백아</td>\n      <td>여성</td>\n      <td>대한민국</td>\n      <td>고음</td>\n    </tr>\n    <tr>\n      <th>37</th>\n      <td>206</td>\n      <td>오늘도 빛나는 너에게</td>\n      <td>INDIE</td>\n      <td>별빛이 내린 밤\\n그 풍경 속 너와 나\\n날 새롭게 하는\\n따뜻하게 만드는\\n니 눈...</td>\n      <td>2019-06-09</td>\n      <td>1</td>\n      <td>16</td>\n      <td>940.418904</td>\n      <td>147.626466</td>\n      <td>0.490427</td>\n      <td>0.000000</td>\n      <td>12</td>\n      <td>마크툽 (MAKTUB)</td>\n      <td>SOLO</td>\n      <td>마크툽 (MAKTUB)</td>\n      <td>남성</td>\n      <td>대한민국</td>\n      <td></td>\n    </tr>\n  </tbody>\n</table>\n</div>"
     },
     "execution_count": 15,
     "metadata": {},
     "output_type": "execute_result"
    }
   ],
   "source": [
    "musics"
   ],
   "metadata": {
    "collapsed": false,
    "ExecuteTime": {
     "end_time": "2024-10-15T17:24:49.724532Z",
     "start_time": "2024-10-15T17:24:49.695526Z"
    }
   },
   "id": "46d0df074176a0ab",
   "execution_count": 15
  },
  {
   "cell_type": "code",
   "outputs": [],
   "source": [
    "from konlpy.tag import Okt\n",
    "from collections import Counter\n",
    "\n",
    "okt = Okt()\n",
    "\n",
    "def remove_lyric_stop_words(lyrics):\n",
    "    if lyrics:\n",
    "        tags = okt.pos(lyrics, norm=True, stem=True)\n",
    "    \n",
    "        # 조사 제거\n",
    "        tags = list(filter(lambda t: t[1] == 'Noun', tags))\n",
    "        # 줄바꿈 문자 제거\n",
    "        tags = list(filter(lambda t: not t[0].startswith('\\n'), tags))\n",
    "        \n",
    "        # 단어만 추출하고, 2글자 이상인 단어 필터링\n",
    "        words = [word for word, pos in tags if len(word) >= 2]\n",
    "        \n",
    "        # 단어 개수 세기\n",
    "        word_counts = Counter(words)\n",
    "        \n",
    "        # 개수가 가장 많은 5개의 단어 추출\n",
    "        most_common_words = word_counts.most_common(10)\n",
    "        \n",
    "        return ' '.join([tag[0] for tag in most_common_words])\n",
    "        \n",
    "    else: # 가사 없는 경우\n",
    "        return ''"
   ],
   "metadata": {
    "collapsed": false,
    "ExecuteTime": {
     "end_time": "2024-10-15T17:24:50.118174Z",
     "start_time": "2024-10-15T17:24:49.725525Z"
    }
   },
   "id": "22a688707b5d1808",
   "execution_count": 16
  },
  {
   "cell_type": "code",
   "outputs": [
    {
     "data": {
      "text/plain": "'눈물 바람 한번 기억 마음 남아 먹음 다시 피어 얼음'"
     },
     "execution_count": 17,
     "metadata": {},
     "output_type": "execute_result"
    }
   ],
   "source": [
    "remove_lyric_stop_words(musics.lyrics[0])"
   ],
   "metadata": {
    "collapsed": false,
    "ExecuteTime": {
     "end_time": "2024-10-15T17:24:52.417332Z",
     "start_time": "2024-10-15T17:24:50.119174Z"
    }
   },
   "id": "9938483955601fc7",
   "execution_count": 17
  },
  {
   "cell_type": "code",
   "outputs": [
    {
     "data": {
      "text/plain": "    music_id                              title    genre  \\\n0        169                                야생화  BALLADE   \n1        170                       너에게 난, 나에게 넌     FOLK   \n2        171                               너였다면      OST   \n3        172                                 시작      OST   \n4        173                   어땠을까 (Feat. 박정현)      RAP   \n5        174           흔들리는 꽃들 속에서 네 샴푸향이 느껴진거야      OST   \n6        175                          Don't Cry  BALLADE   \n7        176                             잠시만 안녕  BALLADE   \n8        177                              인형의 꿈      OST   \n9        178                               외톨이야     ROCK   \n10       179                              나는 나비     ROCK   \n11       180                               취중진담  BALLADE   \n12       181                              사랑했지만     FOLK   \n13       182                            가지마 가지마  BALLADE   \n14       183                          결혼까지 생각했어      RNB   \n15       184                             잘못된 만남    DANCE   \n16       185                              벌써 일년      RNB   \n17       186                                응급실  BALLADE   \n18       187                              Aloha    INDIE   \n19       188                       NIGHT DANCER     JPOP   \n20       189                              Lemon     JPOP   \n21       190                           다시 만난 세계    DANCE   \n22       191                     퀸카 (Queencard)    DANCE   \n23       192                              Spicy    DANCE   \n24       193                               I AM    DANCE   \n25       194    UNFORGIVEN (feat. Nile Rodgers)    DANCE   \n26       195                                  꽃    DANCE   \n27       196                                손오공    DANCE   \n28       197                      저곳으로(인어공주OST)      OST   \n29       198  See You Again (분노의 질주 : 더 세븐 OST)      OST   \n30       199                          사랑은 늘 도망가      OST   \n31       200                        모든 날, 모든 순간      OST   \n32       201                            부동의 첫사랑    INDIE   \n33       202                     FRIEND THE END    INDIE   \n34       203                       주저하는 연인들을 위해    INDIE   \n35       204        친구 얘긴데 (feat. Skinny Brown)    INDIE   \n36       205                                첫사랑    INDIE   \n37       206                        오늘도 빛나는 너에게    INDIE   \n\n                                 lyrics release_date  likes  view  \\\n0         눈물 바람 한번 기억 마음 남아 먹음 다시 피어 얼음   2014-03-28      2    36   \n1         남아 노을 추억 우리 기억 그림 주기 한편 우후 영원   2024-02-01      0    28   \n2        하루 가슴 사랑 대답 혼자 가득 채운 통증 얼마나 수도   2024-05-31      0    17   \n3        시작 지금 대로 그게 바로 꿈일 버티고 다시 모든 시간   2020-02-01      0     0   \n4        사랑 지금 그때 마지막 혼자 기억 우리 사람 그땐 아무   2012-07-15      1     5   \n5         연락 항상 지금 집앞 그냥 계속 샴푸 건가 마음 사람   2019-08-23      0     3   \n6        사랑 안녕 그대 세월 눈물 우리 이제야 아픔 상처 약속   2003-08-01      0     0   \n7         안녕 사랑 행복 자격 잠시 위해 감히 욕심 용서 치마   2007-05-10      0     3   \n8         그대 걸음 항상 모습 손짓 사랑 바로 여기 조금 고개   2003-09-09      0     0   \n9     외톨이야 사랑 다른 사람 눈물 외톨이 요즘 가슴 마음 차라리   2010-01-14      0     0   \n10       나비 날개 활짝 세상 노래 보이지 피해 모습 앞길 아주   2006-08-10      0    10   \n11        사랑 다시 아침 생각 서면 준비 반대 후회 고백 처음   2007-03-15      0     1   \n12      그대 사랑 때론 눈물 그리움 가슴 외로움 멀리 어제 하루   1991-02-20      0     1   \n13        제발 사람 위해 이제 사랑 바보 어디 장난 우리 혼자   2008-06-19      0     1   \n14        자고 사랑 결혼 생각 실컷 순간 거품 우리 걱정 어서   2010-08-26      0     0   \n15        친구 사랑 만남 우리 시간 어디 예감 관심 그날 이후   1995-01-24      0     2   \n16        년뒤 추억 처음 벌써 눈물 다시 시작 는걸 며칠 생각   2007-06-12      0     0   \n17       때문 바보 진짜 사람 제발 사랑 후회 우리 자존심 금방   2005-01-20      0     0   \n18          사랑 처음 혼자 노래 바다 밤하늘 아려 낯선 처럼   2012-04-10      0     0   \n19                                        2022-08-19      0     0   \n20                                        2018-03-16      0     0   \n21        사랑 우리 느낌 시간 임의 세상 반복 슬픔 안녕 다시   2007-11-01      0     0   \n22        퀸카 카카 준비 하니 미모 머리 발끝 저기 니야 여자   2023-05-15      0     0   \n23        다른 순간 심장 번지 자극 바로 발견 내지 용기 지금   2023-05-08      0     0   \n24  제일 데자뷰 어딘가 낯선 갤럭시 장르 판타지 내일 스테이지 다른   2023-04-10      0     0   \n25        너머 시대 기억 한계 위로 우리 이름 싸움 바란 적도   2023-05-01      0     0   \n26     향기 잡지 버려진 구름 하나 도레미 눈빛 어쩌면 또한 파란   2023-03-31      0     0   \n27     마치 손오공 우리 여기 계속 매일 때론 영웅본색 시간 공간   2023-04-24      0     0   \n28        세상 모든 다리 아래 물건 어쩜 모두 내겐 아주 별난   2023-05-17      0     0   \n29                                        2015-03-17      0     0   \n30       사랑 사람 잠시 아이 행여 그리움 눈물 가슴 거더 이별   2021-10-11      0     0   \n31       모든 순간 해도 눈빛 하나로 송이 피고 햇살 생각 눈물   2018-03-20      0     0   \n32       이름 미소 엔딩 부동 첫사랑 누구 마음 기억 다음 편이   2023-05-14      0     0   \n33        사랑 하나 꽃잎 고개 이제 단어 벚꽃 분홍 물든 계절   2023-04-16      0     0   \n34        마음 사랑 보아 우리 비밀 추억 갈피 당신 스윽 여운   2019-03-13      0     0   \n35        얘기 친구 사랑 우리 영화 걔네 지금 고백 하라 그냥   2023-06-01      0     0   \n36      시간 우리 하늘 이름 사랑 필요 사이 피어 심장소리 고여   2018-10-11      0     0   \n37       바람 세상 지금 모습 그대로 모든 모두 전하 푸른 일상   2019-06-09      1    16   \n\n    highest_pitch  lowest_pitch  high_pitch_ratio  low_pitch_ratio  group_id  \\\n0      926.378401    125.573964          0.100877         0.000000        11   \n1      944.986819    140.076631          0.303609         0.000000        13   \n2      794.405940    145.657815          0.099138         0.000000        12   \n3      744.287827    149.105775          0.064583         0.000000        14   \n4      620.806132    123.754295          0.290698         0.000000        15   \n5      500.865280    104.255744          0.009747         0.005848        16   \n6      796.514962    124.552403          0.228346         0.000000        17   \n7      885.293572    166.179307          0.303150         0.000000        18   \n8      588.248207    232.075376          0.000000         0.120504        19   \n9      557.989885    150.122581          0.268987         0.000000        20   \n10     840.293833    132.162513          0.143198         0.000000        21   \n11     810.409495     92.717461          0.062087         0.002642        22   \n12     889.166344    121.303076          0.167300         0.000000        23   \n13     834.280803    152.085571          0.228491         0.000000        24   \n14     902.750069    124.968452          0.256654         0.000000        25   \n15     850.065165    199.168516          0.298677         0.000000        35   \n16     833.013293    123.631166          0.217993         0.000000        24   \n17     571.456098     98.209465          0.041600         0.001600        36   \n18     360.737434    121.419028          0.000000         0.000000        37   \n19     586.909798    131.658609          0.086601         0.000000        38   \n20     492.779072    121.414461          0.032338         0.000000        39   \n21     696.975553    233.820538          0.002571         0.000000        41   \n22     575.688579    186.402709          0.000000         0.124444        42   \n23     880.857538    193.677050          0.028892         0.012841        43   \n24     805.328717    183.901798          0.074219         0.039062        44   \n25     558.651408    175.889445          0.000000         0.050000        45   \n26     661.198665    169.262994          0.002481         0.096774        46   \n27     554.940132    132.934857          0.041905         0.000000        47   \n28     589.494552    240.798246          0.000000         0.000000        48   \n29     940.949070    164.744786          0.293814         0.000000        49   \n30     535.343402     93.023069          0.016296         0.008889        50   \n31     414.951102    169.953506          0.002247         0.000000        51   \n32     456.717386    145.977052          0.071713         0.000000        52   \n33     668.437651    159.646833          0.001818         0.014545        53   \n34     465.799037    131.582028          0.058520         0.000000        54   \n35     411.220547     93.726779          0.011164         0.007974        55   \n36     525.258280    202.686124          0.000000         0.026694        56   \n37     940.418904    147.626466          0.490427         0.000000        12   \n\n                    group_name group_type  \\\n0                          박효신       SOLO   \n1                     자전거 탄 풍경      GROUP   \n2                 마크툽 (MAKTUB)       SOLO   \n3                    가호 (Gaho)       SOLO   \n4                     싸이 (PSY)       SOLO   \n5                          장범준       SOLO   \n6                        더 크로스      GROUP   \n7          엠씨더맥스 (M.C the MAX)       SOLO   \n8                         러브홀릭       SOLO   \n9                CNBLUE (씨엔블루)      GROUP   \n10                 YB (윤도현 밴드)       SOLO   \n11                         김동률       SOLO   \n12                         김광석       SOLO   \n13                     브라운 아이즈      GROUP   \n14               휘성 (Realslow)       SOLO   \n15                         김건모       SOLO   \n16                     브라운 아이즈      GROUP   \n17                         izi      GROUP   \n18                      스탠딩 에그      GROUP   \n19                       imase       SOLO   \n20               Yonezu Kenshi       SOLO   \n21    소녀시대 (GIRLS' GENERATION)      GROUP   \n22                     (여자)아이들      GROUP   \n23                       aespa      GROUP   \n24                   IVE (아이브)      GROUP   \n25          LE SSERAFIM (르세라핌)      GROUP   \n26                  지수 (JISOO)       SOLO   \n27             세븐틴 (SEVENTEEN)      GROUP   \n28               다니엘(DANIELLE)       SOLO   \n29  Charlie Puth , Wiz Khalifa      GROUP   \n30                         임영웅       SOLO   \n31                          폴킴       SOLO   \n32                        10CM       SOLO   \n33                      볼빨간사춘기       SOLO   \n34                         잔나비      GROUP   \n35              그리즐리 (Grizzly)       SOLO   \n36                          백아       SOLO   \n37                마크툽 (MAKTUB)       SOLO   \n\n                                         artist_names gender nation themes  \n0                                                 박효신     남성   대한민국  고음|저음  \n1                                         강인봉|김형섭|송봉주     남성   대한민국         \n2                                        마크툽 (MAKTUB)     남성   대한민국         \n3                                           가호 (Gaho)     남성   대한민국         \n4                                            싸이 (PSY)     남성   대한민국         \n5                                                 장범준     남성   대한민국         \n6                           SiHa (이시하)|김혁건(The Cross)     남성   대한민국         \n7                                          이수 (엠씨더맥스)     남성   대한민국         \n8                                      지선 (Loveholic)     여성   대한민국         \n9                       이정신 (CNBLUE)|강민혁 (CNBLUE)|정용화     남성   대한민국         \n10                                                윤도현     남성   대한민국         \n11                                                김동률     남성   대한민국         \n12                                                김광석     남성   대한민국         \n13                                              윤건|나얼     남성   대한민국         \n14                                      휘성 (Realslow)     남성   대한민국         \n15                                                김건모     남성   대한민국         \n16                                              윤건|나얼     남성   대한민국         \n17                                      izi (오진성)|신승익     남성   대한민국         \n18                                     Egg1|Egg2|Egg3     기타   대한민국         \n19                                              imase     남성     일본         \n20                                      Yonezu Kenshi     남성     일본         \n21  태연 (TAEYEON)|써니 (SUNNY)|유리 (YURI)|수영 (SOOYOUNG...     여성   대한민국         \n22  소연 ((여자)아이들)|미연 ((여자)아이들)|우기 ((여자)아이들)|슈화 ((여자...     여성   대한민국         \n23  민니 ((여자)아이들)|카리나 (KARINA)|지젤 (GISELLE)|윈터 (WIN...     여성   대한민국         \n24  안유진 (IVE)|가을 (IVE)|레이 (IVE)|장원영 (IVE)|리즈 (IVE)...     여성   대한민국         \n25                               김채원|사쿠라|허윤진| 카즈하|홍은채     여성   대한민국         \n26                                         지수 (JISOO)     여성   대한민국         \n27  S.COUPS (SEVENTEEN)|정한 (SEVENTEEN)| 조슈아 (SEVEN...     남성   대한민국         \n28                                      다니엘(DANIELLE)     여성   대한민국         \n29                           Charlie Puth|Wiz Khalifa     남성     미국         \n30                                                임영웅     남성   대한민국         \n31                                                 폴킴     남성   대한민국         \n32                                                권정열     남성   대한민국         \n33                                                안지영     여성   대한민국         \n34                                            최정훈|김도형     남성   대한민국         \n35                                     그리즐리 (Grizzly)     남성   대한민국         \n36                                                 백아     여성   대한민국     고음  \n37                                       마크툽 (MAKTUB)     남성   대한민국         ",
      "text/html": "<div>\n<style scoped>\n    .dataframe tbody tr th:only-of-type {\n        vertical-align: middle;\n    }\n\n    .dataframe tbody tr th {\n        vertical-align: top;\n    }\n\n    .dataframe thead th {\n        text-align: right;\n    }\n</style>\n<table border=\"1\" class=\"dataframe\">\n  <thead>\n    <tr style=\"text-align: right;\">\n      <th></th>\n      <th>music_id</th>\n      <th>title</th>\n      <th>genre</th>\n      <th>lyrics</th>\n      <th>release_date</th>\n      <th>likes</th>\n      <th>view</th>\n      <th>highest_pitch</th>\n      <th>lowest_pitch</th>\n      <th>high_pitch_ratio</th>\n      <th>low_pitch_ratio</th>\n      <th>group_id</th>\n      <th>group_name</th>\n      <th>group_type</th>\n      <th>artist_names</th>\n      <th>gender</th>\n      <th>nation</th>\n      <th>themes</th>\n    </tr>\n  </thead>\n  <tbody>\n    <tr>\n      <th>0</th>\n      <td>169</td>\n      <td>야생화</td>\n      <td>BALLADE</td>\n      <td>눈물 바람 한번 기억 마음 남아 먹음 다시 피어 얼음</td>\n      <td>2014-03-28</td>\n      <td>2</td>\n      <td>36</td>\n      <td>926.378401</td>\n      <td>125.573964</td>\n      <td>0.100877</td>\n      <td>0.000000</td>\n      <td>11</td>\n      <td>박효신</td>\n      <td>SOLO</td>\n      <td>박효신</td>\n      <td>남성</td>\n      <td>대한민국</td>\n      <td>고음|저음</td>\n    </tr>\n    <tr>\n      <th>1</th>\n      <td>170</td>\n      <td>너에게 난, 나에게 넌</td>\n      <td>FOLK</td>\n      <td>남아 노을 추억 우리 기억 그림 주기 한편 우후 영원</td>\n      <td>2024-02-01</td>\n      <td>0</td>\n      <td>28</td>\n      <td>944.986819</td>\n      <td>140.076631</td>\n      <td>0.303609</td>\n      <td>0.000000</td>\n      <td>13</td>\n      <td>자전거 탄 풍경</td>\n      <td>GROUP</td>\n      <td>강인봉|김형섭|송봉주</td>\n      <td>남성</td>\n      <td>대한민국</td>\n      <td></td>\n    </tr>\n    <tr>\n      <th>2</th>\n      <td>171</td>\n      <td>너였다면</td>\n      <td>OST</td>\n      <td>하루 가슴 사랑 대답 혼자 가득 채운 통증 얼마나 수도</td>\n      <td>2024-05-31</td>\n      <td>0</td>\n      <td>17</td>\n      <td>794.405940</td>\n      <td>145.657815</td>\n      <td>0.099138</td>\n      <td>0.000000</td>\n      <td>12</td>\n      <td>마크툽 (MAKTUB)</td>\n      <td>SOLO</td>\n      <td>마크툽 (MAKTUB)</td>\n      <td>남성</td>\n      <td>대한민국</td>\n      <td></td>\n    </tr>\n    <tr>\n      <th>3</th>\n      <td>172</td>\n      <td>시작</td>\n      <td>OST</td>\n      <td>시작 지금 대로 그게 바로 꿈일 버티고 다시 모든 시간</td>\n      <td>2020-02-01</td>\n      <td>0</td>\n      <td>0</td>\n      <td>744.287827</td>\n      <td>149.105775</td>\n      <td>0.064583</td>\n      <td>0.000000</td>\n      <td>14</td>\n      <td>가호 (Gaho)</td>\n      <td>SOLO</td>\n      <td>가호 (Gaho)</td>\n      <td>남성</td>\n      <td>대한민국</td>\n      <td></td>\n    </tr>\n    <tr>\n      <th>4</th>\n      <td>173</td>\n      <td>어땠을까 (Feat. 박정현)</td>\n      <td>RAP</td>\n      <td>사랑 지금 그때 마지막 혼자 기억 우리 사람 그땐 아무</td>\n      <td>2012-07-15</td>\n      <td>1</td>\n      <td>5</td>\n      <td>620.806132</td>\n      <td>123.754295</td>\n      <td>0.290698</td>\n      <td>0.000000</td>\n      <td>15</td>\n      <td>싸이 (PSY)</td>\n      <td>SOLO</td>\n      <td>싸이 (PSY)</td>\n      <td>남성</td>\n      <td>대한민국</td>\n      <td></td>\n    </tr>\n    <tr>\n      <th>5</th>\n      <td>174</td>\n      <td>흔들리는 꽃들 속에서 네 샴푸향이 느껴진거야</td>\n      <td>OST</td>\n      <td>연락 항상 지금 집앞 그냥 계속 샴푸 건가 마음 사람</td>\n      <td>2019-08-23</td>\n      <td>0</td>\n      <td>3</td>\n      <td>500.865280</td>\n      <td>104.255744</td>\n      <td>0.009747</td>\n      <td>0.005848</td>\n      <td>16</td>\n      <td>장범준</td>\n      <td>SOLO</td>\n      <td>장범준</td>\n      <td>남성</td>\n      <td>대한민국</td>\n      <td></td>\n    </tr>\n    <tr>\n      <th>6</th>\n      <td>175</td>\n      <td>Don't Cry</td>\n      <td>BALLADE</td>\n      <td>사랑 안녕 그대 세월 눈물 우리 이제야 아픔 상처 약속</td>\n      <td>2003-08-01</td>\n      <td>0</td>\n      <td>0</td>\n      <td>796.514962</td>\n      <td>124.552403</td>\n      <td>0.228346</td>\n      <td>0.000000</td>\n      <td>17</td>\n      <td>더 크로스</td>\n      <td>GROUP</td>\n      <td>SiHa (이시하)|김혁건(The Cross)</td>\n      <td>남성</td>\n      <td>대한민국</td>\n      <td></td>\n    </tr>\n    <tr>\n      <th>7</th>\n      <td>176</td>\n      <td>잠시만 안녕</td>\n      <td>BALLADE</td>\n      <td>안녕 사랑 행복 자격 잠시 위해 감히 욕심 용서 치마</td>\n      <td>2007-05-10</td>\n      <td>0</td>\n      <td>3</td>\n      <td>885.293572</td>\n      <td>166.179307</td>\n      <td>0.303150</td>\n      <td>0.000000</td>\n      <td>18</td>\n      <td>엠씨더맥스 (M.C the MAX)</td>\n      <td>SOLO</td>\n      <td>이수 (엠씨더맥스)</td>\n      <td>남성</td>\n      <td>대한민국</td>\n      <td></td>\n    </tr>\n    <tr>\n      <th>8</th>\n      <td>177</td>\n      <td>인형의 꿈</td>\n      <td>OST</td>\n      <td>그대 걸음 항상 모습 손짓 사랑 바로 여기 조금 고개</td>\n      <td>2003-09-09</td>\n      <td>0</td>\n      <td>0</td>\n      <td>588.248207</td>\n      <td>232.075376</td>\n      <td>0.000000</td>\n      <td>0.120504</td>\n      <td>19</td>\n      <td>러브홀릭</td>\n      <td>SOLO</td>\n      <td>지선 (Loveholic)</td>\n      <td>여성</td>\n      <td>대한민국</td>\n      <td></td>\n    </tr>\n    <tr>\n      <th>9</th>\n      <td>178</td>\n      <td>외톨이야</td>\n      <td>ROCK</td>\n      <td>외톨이야 사랑 다른 사람 눈물 외톨이 요즘 가슴 마음 차라리</td>\n      <td>2010-01-14</td>\n      <td>0</td>\n      <td>0</td>\n      <td>557.989885</td>\n      <td>150.122581</td>\n      <td>0.268987</td>\n      <td>0.000000</td>\n      <td>20</td>\n      <td>CNBLUE (씨엔블루)</td>\n      <td>GROUP</td>\n      <td>이정신 (CNBLUE)|강민혁 (CNBLUE)|정용화</td>\n      <td>남성</td>\n      <td>대한민국</td>\n      <td></td>\n    </tr>\n    <tr>\n      <th>10</th>\n      <td>179</td>\n      <td>나는 나비</td>\n      <td>ROCK</td>\n      <td>나비 날개 활짝 세상 노래 보이지 피해 모습 앞길 아주</td>\n      <td>2006-08-10</td>\n      <td>0</td>\n      <td>10</td>\n      <td>840.293833</td>\n      <td>132.162513</td>\n      <td>0.143198</td>\n      <td>0.000000</td>\n      <td>21</td>\n      <td>YB (윤도현 밴드)</td>\n      <td>SOLO</td>\n      <td>윤도현</td>\n      <td>남성</td>\n      <td>대한민국</td>\n      <td></td>\n    </tr>\n    <tr>\n      <th>11</th>\n      <td>180</td>\n      <td>취중진담</td>\n      <td>BALLADE</td>\n      <td>사랑 다시 아침 생각 서면 준비 반대 후회 고백 처음</td>\n      <td>2007-03-15</td>\n      <td>0</td>\n      <td>1</td>\n      <td>810.409495</td>\n      <td>92.717461</td>\n      <td>0.062087</td>\n      <td>0.002642</td>\n      <td>22</td>\n      <td>김동률</td>\n      <td>SOLO</td>\n      <td>김동률</td>\n      <td>남성</td>\n      <td>대한민국</td>\n      <td></td>\n    </tr>\n    <tr>\n      <th>12</th>\n      <td>181</td>\n      <td>사랑했지만</td>\n      <td>FOLK</td>\n      <td>그대 사랑 때론 눈물 그리움 가슴 외로움 멀리 어제 하루</td>\n      <td>1991-02-20</td>\n      <td>0</td>\n      <td>1</td>\n      <td>889.166344</td>\n      <td>121.303076</td>\n      <td>0.167300</td>\n      <td>0.000000</td>\n      <td>23</td>\n      <td>김광석</td>\n      <td>SOLO</td>\n      <td>김광석</td>\n      <td>남성</td>\n      <td>대한민국</td>\n      <td></td>\n    </tr>\n    <tr>\n      <th>13</th>\n      <td>182</td>\n      <td>가지마 가지마</td>\n      <td>BALLADE</td>\n      <td>제발 사람 위해 이제 사랑 바보 어디 장난 우리 혼자</td>\n      <td>2008-06-19</td>\n      <td>0</td>\n      <td>1</td>\n      <td>834.280803</td>\n      <td>152.085571</td>\n      <td>0.228491</td>\n      <td>0.000000</td>\n      <td>24</td>\n      <td>브라운 아이즈</td>\n      <td>GROUP</td>\n      <td>윤건|나얼</td>\n      <td>남성</td>\n      <td>대한민국</td>\n      <td></td>\n    </tr>\n    <tr>\n      <th>14</th>\n      <td>183</td>\n      <td>결혼까지 생각했어</td>\n      <td>RNB</td>\n      <td>자고 사랑 결혼 생각 실컷 순간 거품 우리 걱정 어서</td>\n      <td>2010-08-26</td>\n      <td>0</td>\n      <td>0</td>\n      <td>902.750069</td>\n      <td>124.968452</td>\n      <td>0.256654</td>\n      <td>0.000000</td>\n      <td>25</td>\n      <td>휘성 (Realslow)</td>\n      <td>SOLO</td>\n      <td>휘성 (Realslow)</td>\n      <td>남성</td>\n      <td>대한민국</td>\n      <td></td>\n    </tr>\n    <tr>\n      <th>15</th>\n      <td>184</td>\n      <td>잘못된 만남</td>\n      <td>DANCE</td>\n      <td>친구 사랑 만남 우리 시간 어디 예감 관심 그날 이후</td>\n      <td>1995-01-24</td>\n      <td>0</td>\n      <td>2</td>\n      <td>850.065165</td>\n      <td>199.168516</td>\n      <td>0.298677</td>\n      <td>0.000000</td>\n      <td>35</td>\n      <td>김건모</td>\n      <td>SOLO</td>\n      <td>김건모</td>\n      <td>남성</td>\n      <td>대한민국</td>\n      <td></td>\n    </tr>\n    <tr>\n      <th>16</th>\n      <td>185</td>\n      <td>벌써 일년</td>\n      <td>RNB</td>\n      <td>년뒤 추억 처음 벌써 눈물 다시 시작 는걸 며칠 생각</td>\n      <td>2007-06-12</td>\n      <td>0</td>\n      <td>0</td>\n      <td>833.013293</td>\n      <td>123.631166</td>\n      <td>0.217993</td>\n      <td>0.000000</td>\n      <td>24</td>\n      <td>브라운 아이즈</td>\n      <td>GROUP</td>\n      <td>윤건|나얼</td>\n      <td>남성</td>\n      <td>대한민국</td>\n      <td></td>\n    </tr>\n    <tr>\n      <th>17</th>\n      <td>186</td>\n      <td>응급실</td>\n      <td>BALLADE</td>\n      <td>때문 바보 진짜 사람 제발 사랑 후회 우리 자존심 금방</td>\n      <td>2005-01-20</td>\n      <td>0</td>\n      <td>0</td>\n      <td>571.456098</td>\n      <td>98.209465</td>\n      <td>0.041600</td>\n      <td>0.001600</td>\n      <td>36</td>\n      <td>izi</td>\n      <td>GROUP</td>\n      <td>izi (오진성)|신승익</td>\n      <td>남성</td>\n      <td>대한민국</td>\n      <td></td>\n    </tr>\n    <tr>\n      <th>18</th>\n      <td>187</td>\n      <td>Aloha</td>\n      <td>INDIE</td>\n      <td>사랑 처음 혼자 노래 바다 밤하늘 아려 낯선 처럼</td>\n      <td>2012-04-10</td>\n      <td>0</td>\n      <td>0</td>\n      <td>360.737434</td>\n      <td>121.419028</td>\n      <td>0.000000</td>\n      <td>0.000000</td>\n      <td>37</td>\n      <td>스탠딩 에그</td>\n      <td>GROUP</td>\n      <td>Egg1|Egg2|Egg3</td>\n      <td>기타</td>\n      <td>대한민국</td>\n      <td></td>\n    </tr>\n    <tr>\n      <th>19</th>\n      <td>188</td>\n      <td>NIGHT DANCER</td>\n      <td>JPOP</td>\n      <td></td>\n      <td>2022-08-19</td>\n      <td>0</td>\n      <td>0</td>\n      <td>586.909798</td>\n      <td>131.658609</td>\n      <td>0.086601</td>\n      <td>0.000000</td>\n      <td>38</td>\n      <td>imase</td>\n      <td>SOLO</td>\n      <td>imase</td>\n      <td>남성</td>\n      <td>일본</td>\n      <td></td>\n    </tr>\n    <tr>\n      <th>20</th>\n      <td>189</td>\n      <td>Lemon</td>\n      <td>JPOP</td>\n      <td></td>\n      <td>2018-03-16</td>\n      <td>0</td>\n      <td>0</td>\n      <td>492.779072</td>\n      <td>121.414461</td>\n      <td>0.032338</td>\n      <td>0.000000</td>\n      <td>39</td>\n      <td>Yonezu Kenshi</td>\n      <td>SOLO</td>\n      <td>Yonezu Kenshi</td>\n      <td>남성</td>\n      <td>일본</td>\n      <td></td>\n    </tr>\n    <tr>\n      <th>21</th>\n      <td>190</td>\n      <td>다시 만난 세계</td>\n      <td>DANCE</td>\n      <td>사랑 우리 느낌 시간 임의 세상 반복 슬픔 안녕 다시</td>\n      <td>2007-11-01</td>\n      <td>0</td>\n      <td>0</td>\n      <td>696.975553</td>\n      <td>233.820538</td>\n      <td>0.002571</td>\n      <td>0.000000</td>\n      <td>41</td>\n      <td>소녀시대 (GIRLS' GENERATION)</td>\n      <td>GROUP</td>\n      <td>태연 (TAEYEON)|써니 (SUNNY)|유리 (YURI)|수영 (SOOYOUNG...</td>\n      <td>여성</td>\n      <td>대한민국</td>\n      <td></td>\n    </tr>\n    <tr>\n      <th>22</th>\n      <td>191</td>\n      <td>퀸카 (Queencard)</td>\n      <td>DANCE</td>\n      <td>퀸카 카카 준비 하니 미모 머리 발끝 저기 니야 여자</td>\n      <td>2023-05-15</td>\n      <td>0</td>\n      <td>0</td>\n      <td>575.688579</td>\n      <td>186.402709</td>\n      <td>0.000000</td>\n      <td>0.124444</td>\n      <td>42</td>\n      <td>(여자)아이들</td>\n      <td>GROUP</td>\n      <td>소연 ((여자)아이들)|미연 ((여자)아이들)|우기 ((여자)아이들)|슈화 ((여자...</td>\n      <td>여성</td>\n      <td>대한민국</td>\n      <td></td>\n    </tr>\n    <tr>\n      <th>23</th>\n      <td>192</td>\n      <td>Spicy</td>\n      <td>DANCE</td>\n      <td>다른 순간 심장 번지 자극 바로 발견 내지 용기 지금</td>\n      <td>2023-05-08</td>\n      <td>0</td>\n      <td>0</td>\n      <td>880.857538</td>\n      <td>193.677050</td>\n      <td>0.028892</td>\n      <td>0.012841</td>\n      <td>43</td>\n      <td>aespa</td>\n      <td>GROUP</td>\n      <td>민니 ((여자)아이들)|카리나 (KARINA)|지젤 (GISELLE)|윈터 (WIN...</td>\n      <td>여성</td>\n      <td>대한민국</td>\n      <td></td>\n    </tr>\n    <tr>\n      <th>24</th>\n      <td>193</td>\n      <td>I AM</td>\n      <td>DANCE</td>\n      <td>제일 데자뷰 어딘가 낯선 갤럭시 장르 판타지 내일 스테이지 다른</td>\n      <td>2023-04-10</td>\n      <td>0</td>\n      <td>0</td>\n      <td>805.328717</td>\n      <td>183.901798</td>\n      <td>0.074219</td>\n      <td>0.039062</td>\n      <td>44</td>\n      <td>IVE (아이브)</td>\n      <td>GROUP</td>\n      <td>안유진 (IVE)|가을 (IVE)|레이 (IVE)|장원영 (IVE)|리즈 (IVE)...</td>\n      <td>여성</td>\n      <td>대한민국</td>\n      <td></td>\n    </tr>\n    <tr>\n      <th>25</th>\n      <td>194</td>\n      <td>UNFORGIVEN (feat. Nile Rodgers)</td>\n      <td>DANCE</td>\n      <td>너머 시대 기억 한계 위로 우리 이름 싸움 바란 적도</td>\n      <td>2023-05-01</td>\n      <td>0</td>\n      <td>0</td>\n      <td>558.651408</td>\n      <td>175.889445</td>\n      <td>0.000000</td>\n      <td>0.050000</td>\n      <td>45</td>\n      <td>LE SSERAFIM (르세라핌)</td>\n      <td>GROUP</td>\n      <td>김채원|사쿠라|허윤진| 카즈하|홍은채</td>\n      <td>여성</td>\n      <td>대한민국</td>\n      <td></td>\n    </tr>\n    <tr>\n      <th>26</th>\n      <td>195</td>\n      <td>꽃</td>\n      <td>DANCE</td>\n      <td>향기 잡지 버려진 구름 하나 도레미 눈빛 어쩌면 또한 파란</td>\n      <td>2023-03-31</td>\n      <td>0</td>\n      <td>0</td>\n      <td>661.198665</td>\n      <td>169.262994</td>\n      <td>0.002481</td>\n      <td>0.096774</td>\n      <td>46</td>\n      <td>지수 (JISOO)</td>\n      <td>SOLO</td>\n      <td>지수 (JISOO)</td>\n      <td>여성</td>\n      <td>대한민국</td>\n      <td></td>\n    </tr>\n    <tr>\n      <th>27</th>\n      <td>196</td>\n      <td>손오공</td>\n      <td>DANCE</td>\n      <td>마치 손오공 우리 여기 계속 매일 때론 영웅본색 시간 공간</td>\n      <td>2023-04-24</td>\n      <td>0</td>\n      <td>0</td>\n      <td>554.940132</td>\n      <td>132.934857</td>\n      <td>0.041905</td>\n      <td>0.000000</td>\n      <td>47</td>\n      <td>세븐틴 (SEVENTEEN)</td>\n      <td>GROUP</td>\n      <td>S.COUPS (SEVENTEEN)|정한 (SEVENTEEN)| 조슈아 (SEVEN...</td>\n      <td>남성</td>\n      <td>대한민국</td>\n      <td></td>\n    </tr>\n    <tr>\n      <th>28</th>\n      <td>197</td>\n      <td>저곳으로(인어공주OST)</td>\n      <td>OST</td>\n      <td>세상 모든 다리 아래 물건 어쩜 모두 내겐 아주 별난</td>\n      <td>2023-05-17</td>\n      <td>0</td>\n      <td>0</td>\n      <td>589.494552</td>\n      <td>240.798246</td>\n      <td>0.000000</td>\n      <td>0.000000</td>\n      <td>48</td>\n      <td>다니엘(DANIELLE)</td>\n      <td>SOLO</td>\n      <td>다니엘(DANIELLE)</td>\n      <td>여성</td>\n      <td>대한민국</td>\n      <td></td>\n    </tr>\n    <tr>\n      <th>29</th>\n      <td>198</td>\n      <td>See You Again (분노의 질주 : 더 세븐 OST)</td>\n      <td>OST</td>\n      <td></td>\n      <td>2015-03-17</td>\n      <td>0</td>\n      <td>0</td>\n      <td>940.949070</td>\n      <td>164.744786</td>\n      <td>0.293814</td>\n      <td>0.000000</td>\n      <td>49</td>\n      <td>Charlie Puth , Wiz Khalifa</td>\n      <td>GROUP</td>\n      <td>Charlie Puth|Wiz Khalifa</td>\n      <td>남성</td>\n      <td>미국</td>\n      <td></td>\n    </tr>\n    <tr>\n      <th>30</th>\n      <td>199</td>\n      <td>사랑은 늘 도망가</td>\n      <td>OST</td>\n      <td>사랑 사람 잠시 아이 행여 그리움 눈물 가슴 거더 이별</td>\n      <td>2021-10-11</td>\n      <td>0</td>\n      <td>0</td>\n      <td>535.343402</td>\n      <td>93.023069</td>\n      <td>0.016296</td>\n      <td>0.008889</td>\n      <td>50</td>\n      <td>임영웅</td>\n      <td>SOLO</td>\n      <td>임영웅</td>\n      <td>남성</td>\n      <td>대한민국</td>\n      <td></td>\n    </tr>\n    <tr>\n      <th>31</th>\n      <td>200</td>\n      <td>모든 날, 모든 순간</td>\n      <td>OST</td>\n      <td>모든 순간 해도 눈빛 하나로 송이 피고 햇살 생각 눈물</td>\n      <td>2018-03-20</td>\n      <td>0</td>\n      <td>0</td>\n      <td>414.951102</td>\n      <td>169.953506</td>\n      <td>0.002247</td>\n      <td>0.000000</td>\n      <td>51</td>\n      <td>폴킴</td>\n      <td>SOLO</td>\n      <td>폴킴</td>\n      <td>남성</td>\n      <td>대한민국</td>\n      <td></td>\n    </tr>\n    <tr>\n      <th>32</th>\n      <td>201</td>\n      <td>부동의 첫사랑</td>\n      <td>INDIE</td>\n      <td>이름 미소 엔딩 부동 첫사랑 누구 마음 기억 다음 편이</td>\n      <td>2023-05-14</td>\n      <td>0</td>\n      <td>0</td>\n      <td>456.717386</td>\n      <td>145.977052</td>\n      <td>0.071713</td>\n      <td>0.000000</td>\n      <td>52</td>\n      <td>10CM</td>\n      <td>SOLO</td>\n      <td>권정열</td>\n      <td>남성</td>\n      <td>대한민국</td>\n      <td></td>\n    </tr>\n    <tr>\n      <th>33</th>\n      <td>202</td>\n      <td>FRIEND THE END</td>\n      <td>INDIE</td>\n      <td>사랑 하나 꽃잎 고개 이제 단어 벚꽃 분홍 물든 계절</td>\n      <td>2023-04-16</td>\n      <td>0</td>\n      <td>0</td>\n      <td>668.437651</td>\n      <td>159.646833</td>\n      <td>0.001818</td>\n      <td>0.014545</td>\n      <td>53</td>\n      <td>볼빨간사춘기</td>\n      <td>SOLO</td>\n      <td>안지영</td>\n      <td>여성</td>\n      <td>대한민국</td>\n      <td></td>\n    </tr>\n    <tr>\n      <th>34</th>\n      <td>203</td>\n      <td>주저하는 연인들을 위해</td>\n      <td>INDIE</td>\n      <td>마음 사랑 보아 우리 비밀 추억 갈피 당신 스윽 여운</td>\n      <td>2019-03-13</td>\n      <td>0</td>\n      <td>0</td>\n      <td>465.799037</td>\n      <td>131.582028</td>\n      <td>0.058520</td>\n      <td>0.000000</td>\n      <td>54</td>\n      <td>잔나비</td>\n      <td>GROUP</td>\n      <td>최정훈|김도형</td>\n      <td>남성</td>\n      <td>대한민국</td>\n      <td></td>\n    </tr>\n    <tr>\n      <th>35</th>\n      <td>204</td>\n      <td>친구 얘긴데 (feat. Skinny Brown)</td>\n      <td>INDIE</td>\n      <td>얘기 친구 사랑 우리 영화 걔네 지금 고백 하라 그냥</td>\n      <td>2023-06-01</td>\n      <td>0</td>\n      <td>0</td>\n      <td>411.220547</td>\n      <td>93.726779</td>\n      <td>0.011164</td>\n      <td>0.007974</td>\n      <td>55</td>\n      <td>그리즐리 (Grizzly)</td>\n      <td>SOLO</td>\n      <td>그리즐리 (Grizzly)</td>\n      <td>남성</td>\n      <td>대한민국</td>\n      <td></td>\n    </tr>\n    <tr>\n      <th>36</th>\n      <td>205</td>\n      <td>첫사랑</td>\n      <td>INDIE</td>\n      <td>시간 우리 하늘 이름 사랑 필요 사이 피어 심장소리 고여</td>\n      <td>2018-10-11</td>\n      <td>0</td>\n      <td>0</td>\n      <td>525.258280</td>\n      <td>202.686124</td>\n      <td>0.000000</td>\n      <td>0.026694</td>\n      <td>56</td>\n      <td>백아</td>\n      <td>SOLO</td>\n      <td>백아</td>\n      <td>여성</td>\n      <td>대한민국</td>\n      <td>고음</td>\n    </tr>\n    <tr>\n      <th>37</th>\n      <td>206</td>\n      <td>오늘도 빛나는 너에게</td>\n      <td>INDIE</td>\n      <td>바람 세상 지금 모습 그대로 모든 모두 전하 푸른 일상</td>\n      <td>2019-06-09</td>\n      <td>1</td>\n      <td>16</td>\n      <td>940.418904</td>\n      <td>147.626466</td>\n      <td>0.490427</td>\n      <td>0.000000</td>\n      <td>12</td>\n      <td>마크툽 (MAKTUB)</td>\n      <td>SOLO</td>\n      <td>마크툽 (MAKTUB)</td>\n      <td>남성</td>\n      <td>대한민국</td>\n      <td></td>\n    </tr>\n  </tbody>\n</table>\n</div>"
     },
     "execution_count": 18,
     "metadata": {},
     "output_type": "execute_result"
    }
   ],
   "source": [
    "# 가사 형태소 분석 후 명사와 동사만 남기기\n",
    "\n",
    "musics['lyrics'] = musics.apply(lambda row: remove_lyric_stop_words(row.lyrics), axis=1)\n",
    "musics"
   ],
   "metadata": {
    "collapsed": false,
    "ExecuteTime": {
     "end_time": "2024-10-15T17:24:53.471720Z",
     "start_time": "2024-10-15T17:24:52.418332Z"
    }
   },
   "id": "c7c0e17357d6fa35",
   "execution_count": 18
  },
  {
   "cell_type": "code",
   "outputs": [
    {
     "data": {
      "text/plain": "0     genre:BALLADE group_id:11 group_type:SOLO arti...\n1     genre:FOLK group_id:13 group_type:GROUP artist...\n2     genre:OST group_id:12 group_type:SOLO artist:마...\n3     genre:OST group_id:14 group_type:SOLO artist:가...\n4     genre:RAP group_id:15 group_type:SOLO artist:싸...\n5     genre:OST group_id:16 group_type:SOLO artist:장...\n6     genre:BALLADE group_id:17 group_type:GROUP art...\n7     genre:BALLADE group_id:18 group_type:SOLO arti...\n8     genre:OST group_id:19 group_type:SOLO artist:지...\n9     genre:ROCK group_id:20 group_type:GROUP artist...\n10    genre:ROCK group_id:21 group_type:SOLO artist:...\n11    genre:BALLADE group_id:22 group_type:SOLO arti...\n12    genre:FOLK group_id:23 group_type:SOLO artist:...\n13    genre:BALLADE group_id:24 group_type:GROUP art...\n14    genre:RNB group_id:25 group_type:SOLO artist:휘...\n15    genre:DANCE group_id:35 group_type:SOLO artist...\n16    genre:RNB group_id:24 group_type:GROUP artist:...\n17    genre:BALLADE group_id:36 group_type:GROUP art...\n18    genre:INDIE group_id:37 group_type:GROUP artis...\n19    genre:JPOP group_id:38 group_type:SOLO artist:...\n20    genre:JPOP group_id:39 group_type:SOLO artist:...\n21    genre:DANCE group_id:41 group_type:GROUP artis...\n22    genre:DANCE group_id:42 group_type:GROUP artis...\n23    genre:DANCE group_id:43 group_type:GROUP artis...\n24    genre:DANCE group_id:44 group_type:GROUP artis...\n25    genre:DANCE group_id:45 group_type:GROUP artis...\n26    genre:DANCE group_id:46 group_type:SOLO artist...\n27    genre:DANCE group_id:47 group_type:GROUP artis...\n28    genre:OST group_id:48 group_type:SOLO artist:다...\n29    genre:OST group_id:49 group_type:GROUP artist:...\n30    genre:OST group_id:50 group_type:SOLO artist:임...\n31    genre:OST group_id:51 group_type:SOLO artist:폴...\n32    genre:INDIE group_id:52 group_type:SOLO artist...\n33    genre:INDIE group_id:53 group_type:SOLO artist...\n34    genre:INDIE group_id:54 group_type:GROUP artis...\n35    genre:INDIE group_id:55 group_type:SOLO artist...\n36    genre:INDIE group_id:56 group_type:SOLO artist...\n37    genre:INDIE group_id:12 group_type:SOLO artist...\ndtype: object"
     },
     "execution_count": 19,
     "metadata": {},
     "output_type": "execute_result"
    }
   ],
   "source": [
    "musics_str = 'genre:' + musics.genre\n",
    "musics_str = musics_str + ' group_id:' + musics.group_id.astype(str)\n",
    "musics_str = musics_str + ' group_type:' + musics.group_type\n",
    "\n",
    "musics_str = musics_str + ' ' + musics.artist_names.apply(\n",
    "    lambda x: ' '.join(['artist:' + artist.replace(' ', '_') for artist in x.split('|')])\n",
    ")\n",
    "\n",
    "musics_str = musics_str + ' gender:' + musics.gender\n",
    "musics_str = musics_str + ' nation:' + musics.nation\n",
    "\n",
    "musics_str = musics_str + ' ' + musics.themes.apply(\n",
    "    lambda x: ' '.join(['theme:' + theme.replace(' ', '_') if theme else '' for theme in x.split('|')])\n",
    ")\n",
    "\n",
    "musics_str = musics_str + ' ' + ' hPitch:' + musics.highest_pitch.apply(lambda x: str(round(x / 100) * 100))\n",
    "musics_str = musics_str + ' ' + ' lPitch:' + musics.lowest_pitch.apply(lambda x: str(round(x / 100) * 100))\n",
    "musics_str = musics_str + ' ' + ' hRatio:' + musics.high_pitch_ratio.apply(lambda x: str(round(round(x * 100) / 10)* 10))\n",
    "musics_str = musics_str + ' ' + ' lRatio:' + musics.low_pitch_ratio.apply(lambda x: str(round(round(x * 100) / 10)* 10))\n",
    "\n",
    "musics_str = musics_str + ' ' + musics.lyrics\n",
    "\n",
    "musics_str"
   ],
   "metadata": {
    "collapsed": false,
    "ExecuteTime": {
     "end_time": "2024-10-15T17:24:53.487029Z",
     "start_time": "2024-10-15T17:24:53.472720Z"
    }
   },
   "id": "cee32131c1148f30",
   "execution_count": 19
  },
  {
   "cell_type": "code",
   "outputs": [],
   "source": [
    "from sklearn.feature_extraction.text import TfidfVectorizer\n",
    "from sklearn.metrics.pairwise import cosine_similarity\n",
    "\n",
    "def custom_tokenizer(text):\n",
    "    tokens = text.split()\n",
    "    weighted_tokens = []\n",
    "    for token in tokens:\n",
    "        if token.startswith(\"genre:\"):\n",
    "            weighted_tokens.append((token, 20))  # 장르 가중치 20\n",
    "        elif token.startswith(\"group_id:\"):\n",
    "            weighted_tokens.append((token, 20))  # 그룹 가중치 20\n",
    "        elif token.startswith(\"group_type:\"):\n",
    "            weighted_tokens.append((token, 10))  # 그룹 형태 가중치 10\n",
    "        elif token.startswith(\"artist:\"):\n",
    "            weighted_tokens.append((token, 30))  # 가수 명 가중치 30\n",
    "        elif token.startswith(\"gender:\"):\n",
    "            weighted_tokens.append((token, 60))  # 성별 가중치 60\n",
    "        elif token.startswith(\"nation:\"):\n",
    "            weighted_tokens.append((token, 40))  # 국가 가중치 40\n",
    "        elif token.startswith(\"theme:\"):\n",
    "            weighted_tokens.append((token, 10))  # 테마 가중치 10\n",
    "        elif token.startswith(\"hPitch:\"):\n",
    "            weighted_tokens.append((token, 10))  # 최고음 가중치 10\n",
    "        elif token.startswith(\"lPitch:\"):\n",
    "            weighted_tokens.append((token, 10))  # 최저음 가중치 10\n",
    "        elif token.startswith(\"hRatio:\"):\n",
    "            weighted_tokens.append((token, 10))  # 고음 비율 가중치 10\n",
    "        elif token.startswith(\"lRatio:\"):\n",
    "            weighted_tokens.append((token, 10))  # 저음 비율 가중치 10\n",
    "        else:\n",
    "            weighted_tokens.append((token, 1))  # 가사 가중치 1\n",
    "    return weighted_tokens    \n",
    "\n",
    "def custom_preprocessor(text):\n",
    "    expanded_tokens = [\" \".join([token] * weight) for token, weight in custom_tokenizer(text)]\n",
    "    return \" \".join(expanded_tokens)\n",
    "\n",
    "tfidf_vector = TfidfVectorizer(token_pattern=r\"\\b\\S+\\b\", tokenizer=None, preprocessor=custom_preprocessor)\n",
    "tfidf_matrix = tfidf_vector.fit_transform(musics_str).toarray()\n",
    "tfidf_matrix_feature = tfidf_vector.get_feature_names_out()"
   ],
   "metadata": {
    "collapsed": false,
    "ExecuteTime": {
     "end_time": "2024-10-15T17:24:54.246907Z",
     "start_time": "2024-10-15T17:24:53.488219Z"
    }
   },
   "id": "b5d3ad3fc4e982db",
   "execution_count": 20
  },
  {
   "cell_type": "code",
   "outputs": [
    {
     "name": "stdout",
     "output_type": "stream",
     "text": [
      "(38, 378)\n"
     ]
    }
   ],
   "source": [
    "tfidf_matrix = pd.DataFrame(tfidf_matrix, columns=tfidf_matrix_feature, index = musics.title)\n",
    "print(tfidf_matrix.shape)\n",
    "#tfidf_matrix.head()"
   ],
   "metadata": {
    "collapsed": false,
    "ExecuteTime": {
     "end_time": "2024-10-15T17:24:54.262593Z",
     "start_time": "2024-10-15T17:24:54.248379Z"
    }
   },
   "id": "829f09c291859225",
   "execution_count": 21
  },
  {
   "cell_type": "code",
   "outputs": [
    {
     "data": {
      "text/plain": "artist:박효신       0.624792\ngender:남성        0.419009\ngroup_id:11      0.416528\ngenre:BALLADE    0.285103\nnation:대한민국      0.226610\n                   ...   \ngroup_id:50      0.000000\ngroup_id:49      0.000000\ngroup_id:48      0.000000\ngroup_id:47      0.000000\n후회               0.000000\nName: 야생화, Length: 378, dtype: float64"
     },
     "execution_count": 22,
     "metadata": {},
     "output_type": "execute_result"
    }
   ],
   "source": [
    "row_index = 0  # 정렬할 행의 인덱스\n",
    "sorted_row = tfidf_matrix.iloc[row_index].sort_values(ascending=False)\n",
    "sorted_row"
   ],
   "metadata": {
    "collapsed": false,
    "ExecuteTime": {
     "end_time": "2024-10-15T17:24:54.277614Z",
     "start_time": "2024-10-15T17:24:54.263589Z"
    }
   },
   "id": "1124d9deb0084d5b",
   "execution_count": 22
  },
  {
   "cell_type": "code",
   "outputs": [],
   "source": [
    "# 유사도 구하기\n",
    "\n",
    "cosine_sim = cosine_similarity(tfidf_matrix)"
   ],
   "metadata": {
    "collapsed": false,
    "ExecuteTime": {
     "end_time": "2024-10-15T17:24:54.293128Z",
     "start_time": "2024-10-15T17:24:54.278603Z"
    }
   },
   "id": "2861cb091335b4ce",
   "execution_count": 23
  },
  {
   "cell_type": "code",
   "outputs": [
    {
     "data": {
      "text/plain": "(38, 38)"
     },
     "execution_count": 24,
     "metadata": {},
     "output_type": "execute_result"
    }
   ],
   "source": [
    "cosine_sim.shape"
   ],
   "metadata": {
    "collapsed": false,
    "ExecuteTime": {
     "end_time": "2024-10-15T17:24:54.308129Z",
     "start_time": "2024-10-15T17:24:54.294129Z"
    }
   },
   "id": "170341983d1af3dc",
   "execution_count": 24
  },
  {
   "cell_type": "code",
   "outputs": [
    {
     "name": "stdout",
     "output_type": "stream",
     "text": [
      "(38, 38)\n"
     ]
    },
    {
     "data": {
      "text/plain": "title                  야생화  너에게 난, 나에게 넌      너였다면        시작  \\\ntitle                                                          \n야생화               1.000000      0.189866  0.288160  0.269515   \n너에게 난, 나에게 넌      0.189866      1.000000  0.198723  0.185702   \n너였다면              0.288160      0.198723  1.000000  0.378862   \n시작                0.269515      0.185702  0.378862  1.000000   \n어땠을까 (Feat. 박정현)  0.240874      0.190406  0.269188  0.251415   \n\ntitle             어땠을까 (Feat. 박정현)  흔들리는 꽃들 속에서 네 샴푸향이 느껴진거야  Don't Cry  \\\ntitle                                                                     \n야생화                       0.240874                  0.255166   0.275857   \n너에게 난, 나에게 넌              0.190406                  0.186918   0.160803   \n너였다면                      0.269188                  0.363342   0.247087   \n시작                        0.251415                  0.339757   0.214191   \n어땠을까 (Feat. 박정현)          1.000000                  0.253273   0.203681   \n\ntitle               잠시만 안녕     인형의 꿈      외톨이야  ...  저곳으로(인어공주OST)  \\\ntitle                                           ...                  \n야생화               0.345503  0.051101  0.173269  ...       0.054518   \n너에게 난, 나에게 넌      0.205978  0.034367  0.146019  ...       0.036894   \n너였다면              0.273992  0.123708  0.193486  ...       0.128140   \n시작                0.255956  0.115805  0.180547  ...       0.119984   \n어땠을까 (Feat. 박정현)  0.262198  0.064289  0.196888  ...       0.067751   \n\ntitle             See You Again (분노의 질주 : 더 세븐 OST)  사랑은 늘 도망가  모든 날, 모든 순간  \\\ntitle                                                                         \n야생화                                        0.139127   0.255158     0.246726   \n너에게 난, 나에게 넌                               0.119835   0.186945     0.180638   \n너였다면                                       0.196731   0.363786     0.353446   \n시작                                         0.183841   0.339584     0.330566   \n어땠을까 (Feat. 박정현)                           0.140151   0.253178     0.244524   \n\ntitle              부동의 첫사랑  FRIEND THE END  주저하는 연인들을 위해  \\\ntitle                                                      \n야생화               0.269504        0.054152      0.220019   \n너에게 난, 나에게 넌      0.185708        0.036646      0.161973   \n너였다면              0.300522        0.060567      0.245627   \n시작                0.280831        0.080453      0.229462   \n어땠을까 (Feat. 박정현)  0.251207        0.053778      0.204917   \n\ntitle             친구 얘긴데 (feat. Skinny Brown)       첫사랑  오늘도 빛나는 너에게  \ntitle                                                                 \n야생화                                  0.252769  0.084715     0.283050  \n너에게 난, 나에게 넌                         0.185424  0.036303     0.207573  \n너였다면                                 0.282447  0.059876     0.853396  \n시작                                   0.264077  0.056091     0.278048  \n어땠을까 (Feat. 박정현)                     0.251114  0.053263     0.263915  \n\n[5 rows x 38 columns]",
      "text/html": "<div>\n<style scoped>\n    .dataframe tbody tr th:only-of-type {\n        vertical-align: middle;\n    }\n\n    .dataframe tbody tr th {\n        vertical-align: top;\n    }\n\n    .dataframe thead th {\n        text-align: right;\n    }\n</style>\n<table border=\"1\" class=\"dataframe\">\n  <thead>\n    <tr style=\"text-align: right;\">\n      <th>title</th>\n      <th>야생화</th>\n      <th>너에게 난, 나에게 넌</th>\n      <th>너였다면</th>\n      <th>시작</th>\n      <th>어땠을까 (Feat. 박정현)</th>\n      <th>흔들리는 꽃들 속에서 네 샴푸향이 느껴진거야</th>\n      <th>Don't Cry</th>\n      <th>잠시만 안녕</th>\n      <th>인형의 꿈</th>\n      <th>외톨이야</th>\n      <th>...</th>\n      <th>저곳으로(인어공주OST)</th>\n      <th>See You Again (분노의 질주 : 더 세븐 OST)</th>\n      <th>사랑은 늘 도망가</th>\n      <th>모든 날, 모든 순간</th>\n      <th>부동의 첫사랑</th>\n      <th>FRIEND THE END</th>\n      <th>주저하는 연인들을 위해</th>\n      <th>친구 얘긴데 (feat. Skinny Brown)</th>\n      <th>첫사랑</th>\n      <th>오늘도 빛나는 너에게</th>\n    </tr>\n    <tr>\n      <th>title</th>\n      <th></th>\n      <th></th>\n      <th></th>\n      <th></th>\n      <th></th>\n      <th></th>\n      <th></th>\n      <th></th>\n      <th></th>\n      <th></th>\n      <th></th>\n      <th></th>\n      <th></th>\n      <th></th>\n      <th></th>\n      <th></th>\n      <th></th>\n      <th></th>\n      <th></th>\n      <th></th>\n      <th></th>\n    </tr>\n  </thead>\n  <tbody>\n    <tr>\n      <th>야생화</th>\n      <td>1.000000</td>\n      <td>0.189866</td>\n      <td>0.288160</td>\n      <td>0.269515</td>\n      <td>0.240874</td>\n      <td>0.255166</td>\n      <td>0.275857</td>\n      <td>0.345503</td>\n      <td>0.051101</td>\n      <td>0.173269</td>\n      <td>...</td>\n      <td>0.054518</td>\n      <td>0.139127</td>\n      <td>0.255158</td>\n      <td>0.246726</td>\n      <td>0.269504</td>\n      <td>0.054152</td>\n      <td>0.220019</td>\n      <td>0.252769</td>\n      <td>0.084715</td>\n      <td>0.283050</td>\n    </tr>\n    <tr>\n      <th>너에게 난, 나에게 넌</th>\n      <td>0.189866</td>\n      <td>1.000000</td>\n      <td>0.198723</td>\n      <td>0.185702</td>\n      <td>0.190406</td>\n      <td>0.186918</td>\n      <td>0.160803</td>\n      <td>0.205978</td>\n      <td>0.034367</td>\n      <td>0.146019</td>\n      <td>...</td>\n      <td>0.036894</td>\n      <td>0.119835</td>\n      <td>0.186945</td>\n      <td>0.180638</td>\n      <td>0.185708</td>\n      <td>0.036646</td>\n      <td>0.161973</td>\n      <td>0.185424</td>\n      <td>0.036303</td>\n      <td>0.207573</td>\n    </tr>\n    <tr>\n      <th>너였다면</th>\n      <td>0.288160</td>\n      <td>0.198723</td>\n      <td>1.000000</td>\n      <td>0.378862</td>\n      <td>0.269188</td>\n      <td>0.363342</td>\n      <td>0.247087</td>\n      <td>0.273992</td>\n      <td>0.123708</td>\n      <td>0.193486</td>\n      <td>...</td>\n      <td>0.128140</td>\n      <td>0.196731</td>\n      <td>0.363786</td>\n      <td>0.353446</td>\n      <td>0.300522</td>\n      <td>0.060567</td>\n      <td>0.245627</td>\n      <td>0.282447</td>\n      <td>0.059876</td>\n      <td>0.853396</td>\n    </tr>\n    <tr>\n      <th>시작</th>\n      <td>0.269515</td>\n      <td>0.185702</td>\n      <td>0.378862</td>\n      <td>1.000000</td>\n      <td>0.251415</td>\n      <td>0.339757</td>\n      <td>0.214191</td>\n      <td>0.255956</td>\n      <td>0.115805</td>\n      <td>0.180547</td>\n      <td>...</td>\n      <td>0.119984</td>\n      <td>0.183841</td>\n      <td>0.339584</td>\n      <td>0.330566</td>\n      <td>0.280831</td>\n      <td>0.080453</td>\n      <td>0.229462</td>\n      <td>0.264077</td>\n      <td>0.056091</td>\n      <td>0.278048</td>\n    </tr>\n    <tr>\n      <th>어땠을까 (Feat. 박정현)</th>\n      <td>0.240874</td>\n      <td>0.190406</td>\n      <td>0.269188</td>\n      <td>0.251415</td>\n      <td>1.000000</td>\n      <td>0.253273</td>\n      <td>0.203681</td>\n      <td>0.262198</td>\n      <td>0.064289</td>\n      <td>0.196888</td>\n      <td>...</td>\n      <td>0.067751</td>\n      <td>0.140151</td>\n      <td>0.253178</td>\n      <td>0.244524</td>\n      <td>0.251207</td>\n      <td>0.053778</td>\n      <td>0.204917</td>\n      <td>0.251114</td>\n      <td>0.053263</td>\n      <td>0.263915</td>\n    </tr>\n  </tbody>\n</table>\n<p>5 rows × 38 columns</p>\n</div>"
     },
     "execution_count": 25,
     "metadata": {},
     "output_type": "execute_result"
    }
   ],
   "source": [
    "cosine_sim_df = pd.DataFrame(cosine_sim, index = musics.title, columns = musics.title)\n",
    "print(cosine_sim_df.shape)\n",
    "cosine_sim_df.head()"
   ],
   "metadata": {
    "collapsed": false,
    "ExecuteTime": {
     "end_time": "2024-10-15T17:24:54.338129Z",
     "start_time": "2024-10-15T17:24:54.309129Z"
    }
   },
   "id": "719435d650f5de17",
   "execution_count": 25
  },
  {
   "cell_type": "code",
   "outputs": [
    {
     "data": {
      "text/plain": "array([0.35302847, 0.34550273, 0.29082286, 0.28816015, 0.28304988,\n       0.27779608, 0.27585678, 0.26951542, 0.2695035 , 0.26321945])"
     },
     "execution_count": 26,
     "metadata": {},
     "output_type": "execute_result"
    }
   ],
   "source": [
    "np.sort(cosine_sim_df.loc[:, \"야생화\"].values.reshape(1, -1).flatten())[::-1][1:11]"
   ],
   "metadata": {
    "collapsed": false,
    "ExecuteTime": {
     "end_time": "2024-10-15T17:24:54.353430Z",
     "start_time": "2024-10-15T17:24:54.339129Z"
    }
   },
   "id": "3edecddb7beb17a4",
   "execution_count": 26
  },
  {
   "cell_type": "code",
   "outputs": [],
   "source": [
    "# Content Based Filtering\n",
    "\n",
    "def get_recommendations(target_title, matrix, items, k=10):\n",
    "    recom_idx = matrix.loc[:, target_title].values.reshape(1, -1).argsort()[:, ::-1].flatten()[1:k+1]\n",
    "    recom_score = np.sort(matrix.loc[:, target_title].values.reshape(1, -1).flatten())[::-1][1:k+1]\n",
    "    recom_title = items.iloc[recom_idx, :].title.values\n",
    "    target_title_list = np.full(len(range(k)), target_title)\n",
    "    d = {\n",
    "        'target_title': target_title_list,\n",
    "        'recom_title' : recom_title,\n",
    "        'score': recom_score\n",
    "    }\n",
    "    return pd.DataFrame(d)"
   ],
   "metadata": {
    "collapsed": false,
    "ExecuteTime": {
     "end_time": "2024-10-15T17:24:54.368430Z",
     "start_time": "2024-10-15T17:24:54.354429Z"
    }
   },
   "id": "8fb6b9900673ceb6",
   "execution_count": 27
  },
  {
   "cell_type": "code",
   "outputs": [
    {
     "data": {
      "text/plain": "  target_title  recom_title     score\n0          야생화         취중진담  0.353028\n1          야생화       잠시만 안녕  0.345503\n2          야생화      가지마 가지마  0.290823\n3          야생화         너였다면  0.288160\n4          야생화  오늘도 빛나는 너에게  0.283050\n5          야생화          응급실  0.277796\n6          야생화    Don't Cry  0.275857\n7          야생화           시작  0.269515\n8          야생화      부동의 첫사랑  0.269504\n9          야생화       잘못된 만남  0.263219",
      "text/html": "<div>\n<style scoped>\n    .dataframe tbody tr th:only-of-type {\n        vertical-align: middle;\n    }\n\n    .dataframe tbody tr th {\n        vertical-align: top;\n    }\n\n    .dataframe thead th {\n        text-align: right;\n    }\n</style>\n<table border=\"1\" class=\"dataframe\">\n  <thead>\n    <tr style=\"text-align: right;\">\n      <th></th>\n      <th>target_title</th>\n      <th>recom_title</th>\n      <th>score</th>\n    </tr>\n  </thead>\n  <tbody>\n    <tr>\n      <th>0</th>\n      <td>야생화</td>\n      <td>취중진담</td>\n      <td>0.353028</td>\n    </tr>\n    <tr>\n      <th>1</th>\n      <td>야생화</td>\n      <td>잠시만 안녕</td>\n      <td>0.345503</td>\n    </tr>\n    <tr>\n      <th>2</th>\n      <td>야생화</td>\n      <td>가지마 가지마</td>\n      <td>0.290823</td>\n    </tr>\n    <tr>\n      <th>3</th>\n      <td>야생화</td>\n      <td>너였다면</td>\n      <td>0.288160</td>\n    </tr>\n    <tr>\n      <th>4</th>\n      <td>야생화</td>\n      <td>오늘도 빛나는 너에게</td>\n      <td>0.283050</td>\n    </tr>\n    <tr>\n      <th>5</th>\n      <td>야생화</td>\n      <td>응급실</td>\n      <td>0.277796</td>\n    </tr>\n    <tr>\n      <th>6</th>\n      <td>야생화</td>\n      <td>Don't Cry</td>\n      <td>0.275857</td>\n    </tr>\n    <tr>\n      <th>7</th>\n      <td>야생화</td>\n      <td>시작</td>\n      <td>0.269515</td>\n    </tr>\n    <tr>\n      <th>8</th>\n      <td>야생화</td>\n      <td>부동의 첫사랑</td>\n      <td>0.269504</td>\n    </tr>\n    <tr>\n      <th>9</th>\n      <td>야생화</td>\n      <td>잘못된 만남</td>\n      <td>0.263219</td>\n    </tr>\n  </tbody>\n</table>\n</div>"
     },
     "execution_count": 28,
     "metadata": {},
     "output_type": "execute_result"
    }
   ],
   "source": [
    "get_recommendations('야생화', cosine_sim_df, musics)"
   ],
   "metadata": {
    "collapsed": false,
    "ExecuteTime": {
     "end_time": "2024-10-15T17:24:54.383435Z",
     "start_time": "2024-10-15T17:24:54.372430Z"
    }
   },
   "id": "c2361fc4da5d4e2b",
   "execution_count": 28
  },
  {
   "cell_type": "code",
   "outputs": [
    {
     "data": {
      "text/plain": "  target_title                  recom_title     score\n0        Lemon                 NIGHT DANCER  0.600026\n1        Lemon                    사랑은 늘 도망가  0.190026\n2        Lemon     흔들리는 꽃들 속에서 네 샴푸향이 느껴진거야  0.189999\n3        Lemon                      부동의 첫사랑  0.181181\n4        Lemon                         너였다면  0.175427\n5        Lemon                  오늘도 빛나는 너에게  0.172082\n6        Lemon  친구 얘긴데 (feat. Skinny Brown)  0.171008\n7        Lemon                  모든 날, 모든 순간  0.165821\n8        Lemon                           시작  0.163932\n9        Lemon                         취중진담  0.163314",
      "text/html": "<div>\n<style scoped>\n    .dataframe tbody tr th:only-of-type {\n        vertical-align: middle;\n    }\n\n    .dataframe tbody tr th {\n        vertical-align: top;\n    }\n\n    .dataframe thead th {\n        text-align: right;\n    }\n</style>\n<table border=\"1\" class=\"dataframe\">\n  <thead>\n    <tr style=\"text-align: right;\">\n      <th></th>\n      <th>target_title</th>\n      <th>recom_title</th>\n      <th>score</th>\n    </tr>\n  </thead>\n  <tbody>\n    <tr>\n      <th>0</th>\n      <td>Lemon</td>\n      <td>NIGHT DANCER</td>\n      <td>0.600026</td>\n    </tr>\n    <tr>\n      <th>1</th>\n      <td>Lemon</td>\n      <td>사랑은 늘 도망가</td>\n      <td>0.190026</td>\n    </tr>\n    <tr>\n      <th>2</th>\n      <td>Lemon</td>\n      <td>흔들리는 꽃들 속에서 네 샴푸향이 느껴진거야</td>\n      <td>0.189999</td>\n    </tr>\n    <tr>\n      <th>3</th>\n      <td>Lemon</td>\n      <td>부동의 첫사랑</td>\n      <td>0.181181</td>\n    </tr>\n    <tr>\n      <th>4</th>\n      <td>Lemon</td>\n      <td>너였다면</td>\n      <td>0.175427</td>\n    </tr>\n    <tr>\n      <th>5</th>\n      <td>Lemon</td>\n      <td>오늘도 빛나는 너에게</td>\n      <td>0.172082</td>\n    </tr>\n    <tr>\n      <th>6</th>\n      <td>Lemon</td>\n      <td>친구 얘긴데 (feat. Skinny Brown)</td>\n      <td>0.171008</td>\n    </tr>\n    <tr>\n      <th>7</th>\n      <td>Lemon</td>\n      <td>모든 날, 모든 순간</td>\n      <td>0.165821</td>\n    </tr>\n    <tr>\n      <th>8</th>\n      <td>Lemon</td>\n      <td>시작</td>\n      <td>0.163932</td>\n    </tr>\n    <tr>\n      <th>9</th>\n      <td>Lemon</td>\n      <td>취중진담</td>\n      <td>0.163314</td>\n    </tr>\n  </tbody>\n</table>\n</div>"
     },
     "execution_count": 29,
     "metadata": {},
     "output_type": "execute_result"
    }
   ],
   "source": [
    "get_recommendations('Lemon', cosine_sim_df, musics)"
   ],
   "metadata": {
    "collapsed": false,
    "ExecuteTime": {
     "end_time": "2024-10-15T17:24:54.399112Z",
     "start_time": "2024-10-15T17:24:54.384435Z"
    }
   },
   "id": "5dfb626e18417731",
   "execution_count": 29
  },
  {
   "cell_type": "code",
   "outputs": [
    {
     "data": {
      "text/plain": "  target_title                      recom_title     score\n0        Spicy                   퀸카 (Queencard)  0.353739\n1        Spicy                                꽃  0.345890\n2        Spicy                    저곳으로(인어공주OST)  0.316321\n3        Spicy                   FRIEND THE END  0.314196\n4        Spicy                            인형의 꿈  0.311497\n5        Spicy                              첫사랑  0.310609\n6        Spicy  UNFORGIVEN (feat. Nile Rodgers)  0.237948\n7        Spicy                             I AM  0.219743\n8        Spicy                         다시 만난 세계  0.199585\n9        Spicy                           잘못된 만남  0.092567",
      "text/html": "<div>\n<style scoped>\n    .dataframe tbody tr th:only-of-type {\n        vertical-align: middle;\n    }\n\n    .dataframe tbody tr th {\n        vertical-align: top;\n    }\n\n    .dataframe thead th {\n        text-align: right;\n    }\n</style>\n<table border=\"1\" class=\"dataframe\">\n  <thead>\n    <tr style=\"text-align: right;\">\n      <th></th>\n      <th>target_title</th>\n      <th>recom_title</th>\n      <th>score</th>\n    </tr>\n  </thead>\n  <tbody>\n    <tr>\n      <th>0</th>\n      <td>Spicy</td>\n      <td>퀸카 (Queencard)</td>\n      <td>0.353739</td>\n    </tr>\n    <tr>\n      <th>1</th>\n      <td>Spicy</td>\n      <td>꽃</td>\n      <td>0.345890</td>\n    </tr>\n    <tr>\n      <th>2</th>\n      <td>Spicy</td>\n      <td>저곳으로(인어공주OST)</td>\n      <td>0.316321</td>\n    </tr>\n    <tr>\n      <th>3</th>\n      <td>Spicy</td>\n      <td>FRIEND THE END</td>\n      <td>0.314196</td>\n    </tr>\n    <tr>\n      <th>4</th>\n      <td>Spicy</td>\n      <td>인형의 꿈</td>\n      <td>0.311497</td>\n    </tr>\n    <tr>\n      <th>5</th>\n      <td>Spicy</td>\n      <td>첫사랑</td>\n      <td>0.310609</td>\n    </tr>\n    <tr>\n      <th>6</th>\n      <td>Spicy</td>\n      <td>UNFORGIVEN (feat. Nile Rodgers)</td>\n      <td>0.237948</td>\n    </tr>\n    <tr>\n      <th>7</th>\n      <td>Spicy</td>\n      <td>I AM</td>\n      <td>0.219743</td>\n    </tr>\n    <tr>\n      <th>8</th>\n      <td>Spicy</td>\n      <td>다시 만난 세계</td>\n      <td>0.199585</td>\n    </tr>\n    <tr>\n      <th>9</th>\n      <td>Spicy</td>\n      <td>잘못된 만남</td>\n      <td>0.092567</td>\n    </tr>\n  </tbody>\n</table>\n</div>"
     },
     "execution_count": 30,
     "metadata": {},
     "output_type": "execute_result"
    }
   ],
   "source": [
    "get_recommendations('Spicy', cosine_sim_df, musics)"
   ],
   "metadata": {
    "collapsed": false,
    "ExecuteTime": {
     "end_time": "2024-10-15T17:24:54.414111Z",
     "start_time": "2024-10-15T17:24:54.401111Z"
    }
   },
   "id": "105c91f03b6b0f84",
   "execution_count": 30
  },
  {
   "cell_type": "markdown",
   "source": [
    "### Music ID 이용"
   ],
   "metadata": {
    "collapsed": false
   },
   "id": "f0ad6d9bd3487871"
  },
  {
   "cell_type": "code",
   "outputs": [
    {
     "name": "stdout",
     "output_type": "stream",
     "text": [
      "(38, 38)\n"
     ]
    },
    {
     "data": {
      "text/plain": "music_id       169       170       171       172       173       174  \\\nmusic_id                                                               \n169       1.000000  0.189866  0.288160  0.269515  0.240874  0.255166   \n170       0.189866  1.000000  0.198723  0.185702  0.190406  0.186918   \n171       0.288160  0.198723  1.000000  0.378862  0.269188  0.363342   \n172       0.269515  0.185702  0.378862  1.000000  0.251415  0.339757   \n173       0.240874  0.190406  0.269188  0.251415  1.000000  0.253273   \n\nmusic_id       175       176       177       178  ...       197       198  \\\nmusic_id                                          ...                       \n169       0.275857  0.345503  0.051101  0.173269  ...  0.054518  0.139127   \n170       0.160803  0.205978  0.034367  0.146019  ...  0.036894  0.119835   \n171       0.247087  0.273992  0.123708  0.193486  ...  0.128140  0.196731   \n172       0.214191  0.255956  0.115805  0.180547  ...  0.119984  0.183841   \n173       0.203681  0.262198  0.064289  0.196888  ...  0.067751  0.140151   \n\nmusic_id       199       200       201       202       203       204  \\\nmusic_id                                                               \n169       0.255158  0.246726  0.269504  0.054152  0.220019  0.252769   \n170       0.186945  0.180638  0.185708  0.036646  0.161973  0.185424   \n171       0.363786  0.353446  0.300522  0.060567  0.245627  0.282447   \n172       0.339584  0.330566  0.280831  0.080453  0.229462  0.264077   \n173       0.253178  0.244524  0.251207  0.053778  0.204917  0.251114   \n\nmusic_id       205       206  \nmusic_id                      \n169       0.084715  0.283050  \n170       0.036303  0.207573  \n171       0.059876  0.853396  \n172       0.056091  0.278048  \n173       0.053263  0.263915  \n\n[5 rows x 38 columns]",
      "text/html": "<div>\n<style scoped>\n    .dataframe tbody tr th:only-of-type {\n        vertical-align: middle;\n    }\n\n    .dataframe tbody tr th {\n        vertical-align: top;\n    }\n\n    .dataframe thead th {\n        text-align: right;\n    }\n</style>\n<table border=\"1\" class=\"dataframe\">\n  <thead>\n    <tr style=\"text-align: right;\">\n      <th>music_id</th>\n      <th>169</th>\n      <th>170</th>\n      <th>171</th>\n      <th>172</th>\n      <th>173</th>\n      <th>174</th>\n      <th>175</th>\n      <th>176</th>\n      <th>177</th>\n      <th>178</th>\n      <th>...</th>\n      <th>197</th>\n      <th>198</th>\n      <th>199</th>\n      <th>200</th>\n      <th>201</th>\n      <th>202</th>\n      <th>203</th>\n      <th>204</th>\n      <th>205</th>\n      <th>206</th>\n    </tr>\n    <tr>\n      <th>music_id</th>\n      <th></th>\n      <th></th>\n      <th></th>\n      <th></th>\n      <th></th>\n      <th></th>\n      <th></th>\n      <th></th>\n      <th></th>\n      <th></th>\n      <th></th>\n      <th></th>\n      <th></th>\n      <th></th>\n      <th></th>\n      <th></th>\n      <th></th>\n      <th></th>\n      <th></th>\n      <th></th>\n      <th></th>\n    </tr>\n  </thead>\n  <tbody>\n    <tr>\n      <th>169</th>\n      <td>1.000000</td>\n      <td>0.189866</td>\n      <td>0.288160</td>\n      <td>0.269515</td>\n      <td>0.240874</td>\n      <td>0.255166</td>\n      <td>0.275857</td>\n      <td>0.345503</td>\n      <td>0.051101</td>\n      <td>0.173269</td>\n      <td>...</td>\n      <td>0.054518</td>\n      <td>0.139127</td>\n      <td>0.255158</td>\n      <td>0.246726</td>\n      <td>0.269504</td>\n      <td>0.054152</td>\n      <td>0.220019</td>\n      <td>0.252769</td>\n      <td>0.084715</td>\n      <td>0.283050</td>\n    </tr>\n    <tr>\n      <th>170</th>\n      <td>0.189866</td>\n      <td>1.000000</td>\n      <td>0.198723</td>\n      <td>0.185702</td>\n      <td>0.190406</td>\n      <td>0.186918</td>\n      <td>0.160803</td>\n      <td>0.205978</td>\n      <td>0.034367</td>\n      <td>0.146019</td>\n      <td>...</td>\n      <td>0.036894</td>\n      <td>0.119835</td>\n      <td>0.186945</td>\n      <td>0.180638</td>\n      <td>0.185708</td>\n      <td>0.036646</td>\n      <td>0.161973</td>\n      <td>0.185424</td>\n      <td>0.036303</td>\n      <td>0.207573</td>\n    </tr>\n    <tr>\n      <th>171</th>\n      <td>0.288160</td>\n      <td>0.198723</td>\n      <td>1.000000</td>\n      <td>0.378862</td>\n      <td>0.269188</td>\n      <td>0.363342</td>\n      <td>0.247087</td>\n      <td>0.273992</td>\n      <td>0.123708</td>\n      <td>0.193486</td>\n      <td>...</td>\n      <td>0.128140</td>\n      <td>0.196731</td>\n      <td>0.363786</td>\n      <td>0.353446</td>\n      <td>0.300522</td>\n      <td>0.060567</td>\n      <td>0.245627</td>\n      <td>0.282447</td>\n      <td>0.059876</td>\n      <td>0.853396</td>\n    </tr>\n    <tr>\n      <th>172</th>\n      <td>0.269515</td>\n      <td>0.185702</td>\n      <td>0.378862</td>\n      <td>1.000000</td>\n      <td>0.251415</td>\n      <td>0.339757</td>\n      <td>0.214191</td>\n      <td>0.255956</td>\n      <td>0.115805</td>\n      <td>0.180547</td>\n      <td>...</td>\n      <td>0.119984</td>\n      <td>0.183841</td>\n      <td>0.339584</td>\n      <td>0.330566</td>\n      <td>0.280831</td>\n      <td>0.080453</td>\n      <td>0.229462</td>\n      <td>0.264077</td>\n      <td>0.056091</td>\n      <td>0.278048</td>\n    </tr>\n    <tr>\n      <th>173</th>\n      <td>0.240874</td>\n      <td>0.190406</td>\n      <td>0.269188</td>\n      <td>0.251415</td>\n      <td>1.000000</td>\n      <td>0.253273</td>\n      <td>0.203681</td>\n      <td>0.262198</td>\n      <td>0.064289</td>\n      <td>0.196888</td>\n      <td>...</td>\n      <td>0.067751</td>\n      <td>0.140151</td>\n      <td>0.253178</td>\n      <td>0.244524</td>\n      <td>0.251207</td>\n      <td>0.053778</td>\n      <td>0.204917</td>\n      <td>0.251114</td>\n      <td>0.053263</td>\n      <td>0.263915</td>\n    </tr>\n  </tbody>\n</table>\n<p>5 rows × 38 columns</p>\n</div>"
     },
     "execution_count": 31,
     "metadata": {},
     "output_type": "execute_result"
    }
   ],
   "source": [
    "cosine_sim_df = pd.DataFrame(cosine_sim, index = musics.music_id, columns = musics.music_id)\n",
    "print(cosine_sim_df.shape)\n",
    "cosine_sim_df.head()"
   ],
   "metadata": {
    "collapsed": false,
    "ExecuteTime": {
     "end_time": "2024-10-15T17:24:54.429112Z",
     "start_time": "2024-10-15T17:24:54.415110Z"
    }
   },
   "id": "54083b3955086e1b",
   "execution_count": 31
  },
  {
   "cell_type": "code",
   "outputs": [],
   "source": [
    "def get_recommendations(target_id, matrix, items, k=10):\n",
    "    recom_idx = matrix.loc[:, target_id].values.reshape(1, -1).argsort()[:, ::-1].flatten()[1:k+1]\n",
    "    recom_score = np.sort(matrix.loc[:, target_id].values.reshape(1, -1).flatten())[::-1][1:k+1]\n",
    "    recom_id = items.iloc[recom_idx, :].music_id.values\n",
    "    target_title_list = np.full(len(range(k)), target_id)\n",
    "    d = {\n",
    "        'target_id': target_title_list,\n",
    "        'recom_id' : recom_id,\n",
    "        'score': recom_score\n",
    "    }\n",
    "    return pd.DataFrame(d)\n",
    "\n",
    "result_sample = get_recommendations(169, cosine_sim_df, musics)"
   ],
   "metadata": {
    "collapsed": false,
    "ExecuteTime": {
     "end_time": "2024-10-15T17:24:54.444111Z",
     "start_time": "2024-10-15T17:24:54.430111Z"
    }
   },
   "id": "daec083566480d44",
   "execution_count": 32
  },
  {
   "cell_type": "code",
   "outputs": [
    {
     "data": {
      "text/plain": "   target_id  recom_id     score\n0        169       180  0.353028\n1        169       176  0.345503\n2        169       182  0.290823\n3        169       171  0.288160\n4        169       206  0.283050\n5        169       186  0.277796\n6        169       175  0.275857\n7        169       172  0.269515\n8        169       201  0.269504\n9        169       184  0.263219",
      "text/html": "<div>\n<style scoped>\n    .dataframe tbody tr th:only-of-type {\n        vertical-align: middle;\n    }\n\n    .dataframe tbody tr th {\n        vertical-align: top;\n    }\n\n    .dataframe thead th {\n        text-align: right;\n    }\n</style>\n<table border=\"1\" class=\"dataframe\">\n  <thead>\n    <tr style=\"text-align: right;\">\n      <th></th>\n      <th>target_id</th>\n      <th>recom_id</th>\n      <th>score</th>\n    </tr>\n  </thead>\n  <tbody>\n    <tr>\n      <th>0</th>\n      <td>169</td>\n      <td>180</td>\n      <td>0.353028</td>\n    </tr>\n    <tr>\n      <th>1</th>\n      <td>169</td>\n      <td>176</td>\n      <td>0.345503</td>\n    </tr>\n    <tr>\n      <th>2</th>\n      <td>169</td>\n      <td>182</td>\n      <td>0.290823</td>\n    </tr>\n    <tr>\n      <th>3</th>\n      <td>169</td>\n      <td>171</td>\n      <td>0.288160</td>\n    </tr>\n    <tr>\n      <th>4</th>\n      <td>169</td>\n      <td>206</td>\n      <td>0.283050</td>\n    </tr>\n    <tr>\n      <th>5</th>\n      <td>169</td>\n      <td>186</td>\n      <td>0.277796</td>\n    </tr>\n    <tr>\n      <th>6</th>\n      <td>169</td>\n      <td>175</td>\n      <td>0.275857</td>\n    </tr>\n    <tr>\n      <th>7</th>\n      <td>169</td>\n      <td>172</td>\n      <td>0.269515</td>\n    </tr>\n    <tr>\n      <th>8</th>\n      <td>169</td>\n      <td>201</td>\n      <td>0.269504</td>\n    </tr>\n    <tr>\n      <th>9</th>\n      <td>169</td>\n      <td>184</td>\n      <td>0.263219</td>\n    </tr>\n  </tbody>\n</table>\n</div>"
     },
     "execution_count": 33,
     "metadata": {},
     "output_type": "execute_result"
    }
   ],
   "source": [
    "result_sample"
   ],
   "metadata": {
    "collapsed": false,
    "ExecuteTime": {
     "end_time": "2024-10-15T17:24:54.459111Z",
     "start_time": "2024-10-15T17:24:54.445111Z"
    }
   },
   "id": "78aba0d22c2a7b2e",
   "execution_count": 33
  },
  {
   "cell_type": "code",
   "outputs": [
    {
     "data": {
      "text/plain": "'2024-10-16 02:24:54'"
     },
     "execution_count": 34,
     "metadata": {},
     "output_type": "execute_result"
    }
   ],
   "source": [
    "from datetime import datetime\n",
    "\n",
    "now = datetime.now()\n",
    "version = now.strftime(\"%Y-%m-%d %H:%M:%S\")\n",
    "version"
   ],
   "metadata": {
    "collapsed": false,
    "ExecuteTime": {
     "end_time": "2024-10-15T17:24:54.474110Z",
     "start_time": "2024-10-15T17:24:54.460111Z"
    }
   },
   "id": "2cb68122b8c20178",
   "execution_count": 34
  },
  {
   "cell_type": "code",
   "outputs": [],
   "source": [
    "from database import save_similar_music\n",
    "\n",
    "save_similar_music(169, result_sample, version)"
   ],
   "metadata": {
    "collapsed": false,
    "ExecuteTime": {
     "end_time": "2024-10-15T17:24:54.489119Z",
     "start_time": "2024-10-15T17:24:54.475112Z"
    }
   },
   "id": "7833b89c666ace6e",
   "execution_count": 35
  }
 ],
 "metadata": {
  "kernelspec": {
   "name": "tensorflow",
   "language": "python",
   "display_name": "tensorflow"
  },
  "language_info": {
   "codemirror_mode": {
    "name": "ipython",
    "version": 2
   },
   "file_extension": ".py",
   "mimetype": "text/x-python",
   "name": "python",
   "nbconvert_exporter": "python",
   "pygments_lexer": "ipython2",
   "version": "2.7.6"
  }
 },
 "nbformat": 4,
 "nbformat_minor": 5
}
