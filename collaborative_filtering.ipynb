{
 "cells": [
  {
   "cell_type": "markdown",
   "source": [
    "* original code from https://lsjsj92.tistory.com/569"
   ],
   "metadata": {
    "collapsed": false
   },
   "id": "1e28ef65b218db7c"
  },
  {
   "cell_type": "code",
   "execution_count": 1,
   "id": "initial_id",
   "metadata": {
    "collapsed": true,
    "ExecuteTime": {
     "end_time": "2024-10-25T01:33:40.523233Z",
     "start_time": "2024-10-25T01:33:40.287176Z"
    }
   },
   "outputs": [],
   "source": [
    "from sklearn.decomposition import TruncatedSVD\n",
    "from scipy.sparse.linalg import svds\n",
    "\n",
    "import matplotlib.pyplot as plt\n",
    "import seaborn as sns\n",
    "import pandas as pd\n",
    "import numpy as np\n",
    "import ast\n",
    "import warnings\n",
    "warnings.filterwarnings(\"ignore\")\n",
    "\n",
    "from database import fetch_data_music_and_groups_extended, fetch_log_from_all_user, fetch_artist, fetch_bookmark, fetch_user, save_recom_musics"
   ]
  },
  {
   "cell_type": "code",
   "outputs": [
    {
     "name": "stdout",
     "output_type": "stream",
     "text": [
      "2024-10-25 10:33:40.526237: [SQL] SELECT m.music_id, m.title, m.genre, m.lyrics, m.release_date, m.likes, m.`view`, ma.highest_pitch, ma.lowest_pitch, ma.high_pitch_ratio, ma.low_pitch_ratio, ma.pitch_average, ma.pitch_stat, g.group_id, g.group_name, g.group_type FROM (music m NATURAL JOIN music_analysis ma) NATURAL JOIN groups g WHERE ma.`status` = 'COMPLETE'\n"
     ]
    },
    {
     "data": {
      "text/plain": "    music_id                                              title    genre  \\\n0        169                                                야생화  BALLADE   \n1        170                                       너에게 난, 나에게 넌     FOLK   \n2        171                                               너였다면      OST   \n3        172                                                 시작      OST   \n4        173                                   어땠을까 (Feat. 박정현)      RAP   \n5        174                           흔들리는 꽃들 속에서 네 샴푸향이 느껴진거야      OST   \n6        175                                          Don't Cry  BALLADE   \n7        176                                             잠시만 안녕  BALLADE   \n8        177                                              인형의 꿈      OST   \n9        178                                               외톨이야     ROCK   \n10       179                                              나는 나비     ROCK   \n11       180                                               취중진담  BALLADE   \n12       181                                              사랑했지만     FOLK   \n13       182                                            가지마 가지마  BALLADE   \n14       183                                          결혼까지 생각했어      RNB   \n15       184                                             잘못된 만남    DANCE   \n16       185                                              벌써 일년      RNB   \n17       186                                                응급실  BALLADE   \n18       187                                              Aloha    INDIE   \n19       188                                       NIGHT DANCER     JPOP   \n20       189                                              Lemon     JPOP   \n21       190                                           다시 만난 세계    DANCE   \n22       191                                     퀸카 (Queencard)    DANCE   \n23       192                                              Spicy    DANCE   \n24       193                                               I AM    DANCE   \n25       194                    UNFORGIVEN (feat. Nile Rodgers)    DANCE   \n26       195                                                  꽃    DANCE   \n27       196                                                손오공    DANCE   \n28       197                                      저곳으로(인어공주OST)      OST   \n29       198                  See You Again (분노의 질주 : 더 세븐 OST)      OST   \n30       199                                          사랑은 늘 도망가      OST   \n31       200                                        모든 날, 모든 순간      OST   \n32       201                                            부동의 첫사랑    INDIE   \n33       202                                     FRIEND THE END    INDIE   \n34       203                                       주저하는 연인들을 위해    INDIE   \n35       204                        친구 얘긴데 (feat. Skinny Brown)    INDIE   \n36       205                                                첫사랑    INDIE   \n37       206                                        오늘도 빛나는 너에게    INDIE   \n38       383                                               다행이다  BALLADE   \n39       384                                             소주 한 잔  BALLADE   \n40       385                                               바람기억      RNB   \n41       386                                       사랑은 은하수 다방에서     FOLK   \n42       387                                     Let's Get Loud      POP   \n43       388                                          Everytime      POP   \n44       389                                         She's Gone     ROCK   \n45       390                                     Because Of You      POP   \n46       391                                          Superstar      POP   \n47       392                                         What's Up?     ROCK   \n48       393                                             My All      RNB   \n49       394                                             Listen      RNB   \n50       395  Beauty and the Beast (from \"Beauty and the Bea...      OST   \n51       396                                  Don't Stop Me Now     ROCK   \n52       397                     Boys And Girls (Feat. Babylon)      RAP   \n53       398                                              검은 행복      RAP   \n\n                                               lyrics release_date  likes  \\\n0   하얗게 피어난 얼음 꽃 하나가\\n달가운 바람에 얼굴을 내밀어\\n아무 말 못했던 이름...   2014-03-28      2   \n1   너에게 난 해질녘 노을처럼\\n한 편의 아름다운 추억이 되고\\n소중했던 우리 푸르던 ...   2003-02-01      0   \n2   왜 너에겐 그렇게 어려운지\\n애를 쓰는 나를\\n제대로 봐주는 게\\n너 하나에 이토록...   2016-05-31      0   \n3   새로운 시작은 늘 설레게 하지\\n모든 걸 이겨낼 것처럼\\n시간을 뒤쫓는 시계바늘처럼...   2020-02-01      0   \n4   내가 그때 널 잡았더라면\\n너와 나 지금보다 행복했을까\\n마지막에 널\\n안아줬다면 ...   2012-07-15      1   \n5   흔들리는 꽃들 속에서\\n네 샴푸향이 느껴진거야\\n스쳐지나간건가 뒤돌아보지만\\n그냥 ...   2019-08-23      0   \n6   그대의 눈물이 마를 때까지\\n우리의 사랑을 볼 수 없을테니\\n울지 말아요 이제야\\n...   2003-08-01      0   \n7   행복을 줄 수 없었어\\n그런데 사랑을 했어\\n니곁에 감히 머무른\\n내 욕심을 용서치...   2007-05-10      0   \n8   그대 먼 곳만 보네요\\n내가 바로 여기 있는데\\n조금만 고개를 돌려도\\n날 볼 수 ...   2003-09-09      1   \n9   외톨이야 외톨이야\\n\\n외톨이야 외톨이야\\n\\n\\n\\n봐봐 나를 봐봐 똑바로 내 두...   2010-01-14      0   \n10  내 모습이 보이지 않아\\n앞길도 보이지 않아\\n나는 아주 작은 애벌레\\n\\n살이 터...   2006-08-10      0   \n11  그래 난 취했는지도 몰라\\n실수인지도 몰라\\n아침이면 까마득히 생각이 안나\\n불안해...   2007-03-15      0   \n12  어제는 하루 종일 비가 내렸어\\n자욱하게 내려 앉은 먼지 사이로\\n귓가에 은은하게 ...   1991-02-20      0   \n13  우리 함께했던 날들\\n그 기억들만 남아\\n너를 지워야만 내가 살 수 있을까\\n우리 ...   2008-06-19      0   \n14  To all My people hellow hellow\\nhellow hellow\\...   2010-08-26      0   \n15  난 너를 믿었던 만큼\\n난 내 친구도 믿었기에\\n난 아무런 부담없이 널\\n내 친구에...   1995-01-24      0   \n16  처음이라 그래 며칠뒤엔\\n괜찮아져\\n그 생각만으로 벌써 일년이\\n너와 만든 기념일마...   2007-06-12      0   \n17  후회 하고 있어요\\n우리 다투던 그 날\\n괜한 자존심 때문에\\n끝내자고 말을 해버린...   2005-01-20      0   \n18  처음 듣는 노래\\n처음 걷는 길\\n처음 보는 바다\\n처음 보는 별\\n\\n네가 없는 ...   2012-04-10      0   \n19  どうでもいいような 夜だけど\\n響めき 煌めきと君も\\nまだ止まった 刻む針も\\n入り浸った...   2022-08-19      0   \n20  夢ならばどれほどよかったでしょう\\n未だにあなたのことを夢にみる\\n忘れた物を取りに帰るよう...   2018-03-16      0   \n21  전해 주고 싶어 슬픈 시간이\\n다 흩어진 후에야 들리지만\\n눈을 감고 느껴 봐 움직...   2007-11-01      0   \n22  Hey you\\n뭘 보니? 내가 좀 Sexy Sexy 반했니\\nYe you\\n뭐 하...   2023-05-15      0   \n23  Uh Uh Too Spicy\\nYou want my A to the Z\\nBut y...   2023-05-08      1   \n24  다른 문을 열어 따라 갈 필요는 없어\\n넌 너의 길로 난 나의 길로 음\\n하루하루마...   2023-04-10      0   \n25  Unforgiven I’m a villain I’m a\\nUnforgiven 난 그...   2023-05-01      0   \n26  ABC 도레미만큼 착했던 나\\n그 눈빛이 싹 변했지\\n어쩌면 이 또한 나니까\\n난 ...   2023-03-31      0   \n27  땅을 보고 계속 올랐지 정상까지\\n많은 시련은 보란 듯이 I Always Win\\n...   2023-04-24      0   \n28  이것 좀 봐 신기하지\\n내가 모은 것들 대단하지\\n내가 세상 모든 걸 다 가진 것 ...   2023-05-17      0   \n29  It's been a long day\\nwithout you my friend\\nA...   2015-03-17      0   \n30  눈물이 난다 이 길을 걸으면\\n그 사람 손길이 자꾸 생각이 난다\\n붙잡지 못하고 가...   2021-10-11      0   \n31  네가 없이 웃을 수 있을까\\n생각만 해도 눈물이나\\n힘든 시간 날 지켜준 사람\\n이...   2018-03-20      0   \n32  주인공은 아니었지\\n누구의 시점에서도\\n그냥 스쳐 지나가거나\\n친구3이라거나\\n이름...   2023-05-14      1   \n33  요즘엔 썸이라는 단어를 난 쓰지 않아\\n친구란 완벽한 단어로 숨길 수가 있지\\n사랑...   2023-04-16      0   \n34  나는 읽기 쉬운 마음이야\\n당신도 스윽 훑고 가셔요\\n달랠 길 없는 외로운 마음 있...   2019-03-13      1   \n35  저기 말야\\n나 말고 아는 친구 얘긴데\\n별 뜻은 아냐\\n그저 네 생각이 좀 궁금해...   2023-06-01      0   \n36  알아 내 맘에 조용히\\n문을 두드리면\\n눈에 뿌옇게 고여버린\\n널 흘려보내야 해\\n...   2018-10-11      1   \n37  별빛이 내린 밤\\n그 풍경 속 너와 나\\n날 새롭게 하는\\n따뜻하게 만드는\\n니 눈...   2019-06-09      1   \n38  그대를 만나고\\n그대의 머릿결을 만질 수가 있어서\\n그대를 만나고\\n그대와 마주보며...   2007-04-19      0   \n39  술이 한 잔 생각나는 밤\\n같이 있는 것 같아요\\n그 좋았던 시절들\\n이젠 모두 한...   2003-06-05      0   \n40  바람 불어와 내 맘 흔들면\\n지나간 세월에\\n두 눈을 감아본다\\n\\n나를 스치는 고...   2012-09-20      0   \n41  사랑은 은하수 다방 문 앞에서 만나\\n홍차와 냉커피를 마시며\\n매일 똑같은 노래를 ...   2011-02-10      0   \n42  let's get loud let's get loud\\nturn the music ...   1999-06-29      0   \n43  Notice me, take my hand\\n\\nWhy are we stranger...   2003-11-13      0   \n44  She′s gone out of my life\\nI was wrong\\nI′m to...   2011-01-01      0   \n45  I will not make\\nthe same mistakes that you di...   2005-07-16      0   \n46  Hey hey, yeah\\nUh huh, superstar, ah ah\\nNo ma...   2009-07-27      0   \n47  25 years and my life is still\\nTrying to get u...   2007-05-17      0   \n48  I am thinking of you\\n당신을 생각해요\\nin my sleeples...   1997-09-16      0   \n49  Listen,\\nto the song here in my heart\\n내맘속 노래를...   2007-02-21      0   \n50                                               None   1992-03-30      0   \n51  Tonight, I'm gonna have myself a real good tim...   1976-01-26      0   \n52  Don't worry about money\\n놀자 오빠가 무리할게\\n넌 그냥 옆에서...   2015-11-03      0   \n53  유난히 검었었던\\n어릴 적 내 살색\\n사람들은 손가락질 해\\n내 Mommy한테\\n내...   2007-02-23      0   \n\n    view  highest_pitch  lowest_pitch  high_pitch_ratio  low_pitch_ratio  \\\n0     42     926.378401    125.573964          0.199561         0.000000   \n1     36     944.986819    140.076631          0.397028         0.000000   \n2     25     513.832400    145.657815          0.345133         0.000000   \n3      8     428.380936    149.105775          0.331224         0.000000   \n4      9     620.806132    123.754295          0.485465         0.000000   \n5      7     500.865280    104.255744          0.052632         0.005848   \n6      4     796.514962    124.552403          0.440945         0.000000   \n7     12     885.293572    166.179307          0.493438         0.000000   \n8      5     588.248207    232.075376          0.021583         0.120504   \n9      4     557.989885    150.122581          0.468354         0.000000   \n10    17     840.293833    132.162513          0.396181         0.000000   \n11     8     688.456088     92.717461          0.236074         0.002653   \n12     5     889.166344    121.303076          0.302281         0.000000   \n13     8     834.280803    152.085571          0.387870         0.000000   \n14     6     902.750069    124.968452          0.460076         0.000000   \n15     6     850.065165    199.168516          0.657845         0.000000   \n16     8     593.289648    123.631166          0.394097         0.000000   \n17     9     447.480460     98.209465          0.184466         0.001618   \n18    11     339.689281    121.419028          0.004073         0.000000   \n19     9     473.118383    131.658609          0.210438         0.000000   \n20     8     415.074247    121.414461          0.057107         0.000000   \n21     9     527.411163    233.820538          0.002656         0.088977   \n22     7     575.688579    186.402709          0.015556         0.400000   \n23    11     703.966140    193.677050          0.074554         0.141005   \n24     6     805.328717    183.901798          0.185547         0.144531   \n25     9     558.651408    175.889445          0.005769         0.259615   \n26     7     661.198665    169.262994          0.069479         0.272953   \n27     8     364.594405    132.934857          0.246493         0.000000   \n28     4     589.494552    240.798246          0.089855         0.133333   \n29     6     590.567826    164.744786          0.456140         0.000000   \n30     6     415.945462     93.023069          0.069837         0.008915   \n31     6     348.985553    169.953506          0.027027         0.000000   \n32     9     456.717386    145.977052          0.272244         0.000000   \n33     6     462.287979    159.646833          0.000000         0.374753   \n34    11     465.799037    131.582028          0.175559         0.000000   \n35     7     411.220547     93.726779          0.039872         0.007974   \n36     9     525.258280    202.686124          0.002053         0.488706   \n37    34     655.590421    147.626466          0.623476         0.000000   \n38    22     378.239188    125.874867          0.077957         0.000000   \n39    28     883.534154    117.084343          0.149086         0.000000   \n40    21     641.050494    173.659578          0.606061         0.000000   \n41    38     419.766686    179.586040          0.170213         0.000000   \n42    16     597.670991    205.814429          0.039370         0.226378   \n43     0     621.329797    229.133862          0.039267         0.248691   \n44     0     805.689733    183.615690          0.789644         0.000000   \n45     0     661.821069    203.634407          0.102679         0.273810   \n46     0     584.447793    206.903635          0.008460         0.314721   \n47     0     718.458771    178.835255          0.699010         0.000000   \n48     1     694.707279    144.864262          0.173242         0.418525   \n49     0     727.918474    170.494849          0.201141         0.176890   \n50     2     882.665004    170.163455          0.669540         0.000000   \n51     1     507.861756    164.907098          0.505030         0.000000   \n52     1     469.292125    123.944968          0.123616         0.000000   \n53     0     472.369219     88.935388          0.000000         0.446927   \n\n    pitch_average                                         pitch_stat  \\\n0      271.857078  {'C2': 0.0, 'D2': 0.0, 'E2': 0.0, 'F2': 0.0, '...   \n1      344.381940  {'C2': 0.0, 'D2': 0.0, 'E2': 0.0, 'F2': 0.0, '...   \n2      294.095022  {'C2': 0.0, 'D2': 0.0, 'E2': 0.0, 'F2': 0.0, '...   \n3      300.080222  {'C2': 0.0, 'D2': 0.0, 'E2': 0.0, 'F2': 0.0, '...   \n4      317.807284  {'C2': 0.0, 'D2': 0.0, 'E2': 0.0, 'F2': 0.0, '...   \n5      245.927647  {'C2': 0.0, 'D2': 0.0, 'E2': 0.0, 'F2': 0.0, '...   \n6      321.024447  {'C2': 0.0, 'D2': 0.0, 'E2': 0.0, 'F2': 0.0, '...   \n7      360.619057  {'C2': 0.0, 'D2': 0.0, 'E2': 0.0, 'F2': 0.0, '...   \n8      386.938462  {'C2': 0.0, 'D2': 0.0, 'E2': 0.0, 'F2': 0.0, '...   \n9      339.719083  {'C2': 0.0, 'D2': 0.0, 'E2': 0.0, 'F2': 0.0, '...   \n10     324.931949  {'C2': 0.0, 'D2': 0.0, 'E2': 0.0, 'F2': 0.0, '...   \n11     254.914448  {'C2': 0.0, 'D2': 0.0, 'E2': 0.0, 'F2': 0.0, '...   \n12     324.027882  {'C2': 0.0, 'D2': 0.0, 'E2': 0.0, 'F2': 0.0, '...   \n13     344.287088  {'C2': 0.0, 'D2': 0.0, 'E2': 0.0, 'F2': 0.0, '...   \n14     333.824600  {'C2': 0.0, 'D2': 0.0, 'E2': 0.0, 'F2': 0.0, '...   \n15     378.667970  {'C2': 0.0, 'D2': 0.0, 'E2': 0.0, 'F2': 0.0, '...   \n16     313.682014  {'C2': 0.0, 'D2': 0.0, 'E2': 0.0, 'F2': 0.0, '...   \n17     251.204317  {'C2': 0.0, 'D2': 0.0, 'E2': 0.0, 'F2': 0.0, '...   \n18     187.741279  {'C2': 0.0, 'D2': 0.0, 'E2': 0.0, 'F2': 0.0, '...   \n19     278.414292  {'C2': 0.0, 'D2': 0.0, 'E2': 0.0, 'F2': 0.0, '...   \n20     240.868082  {'C2': 0.0, 'D2': 0.0, 'E2': 0.0, 'F2': 0.0, '...   \n21     384.026013  {'C2': 0.0, 'D2': 0.0, 'E2': 0.0, 'F2': 0.0, '...   \n22     330.100029  {'C2': 0.0, 'D2': 0.0, 'E2': 0.0, 'F2': 0.0, '...   \n23     387.823861  {'C2': 0.0, 'D2': 0.0, 'E2': 0.0, 'F2': 0.0, '...   \n24     445.451092  {'C2': 0.0, 'D2': 0.0, 'E2': 0.0, 'F2': 0.0, '...   \n25     331.741399  {'C2': 0.0, 'D2': 0.0, 'E2': 0.0, 'F2': 0.0, '...   \n26     370.308363  {'C2': 0.0, 'D2': 0.0, 'E2': 0.0, 'F2': 0.0, '...   \n27     270.714602  {'C2': 0.0, 'D2': 0.0, 'E2': 0.0, 'F2': 0.0, '...   \n28     401.498566  {'C2': 0.0, 'D2': 0.0, 'E2': 0.0, 'F2': 0.0, '...   \n29     323.534208  {'C2': 0.0, 'D2': 0.0, 'E2': 0.0, 'F2': 0.0, '...   \n30     244.590870  {'C2': 0.0, 'D2': 0.0, 'E2': 0.0, 'F2': 0.0, '...   \n31     241.841471  {'C2': 0.0, 'D2': 0.0, 'E2': 0.0, 'F2': 0.0, '...   \n32     292.126194  {'C2': 0.0, 'D2': 0.0, 'E2': 0.0, 'F2': 0.0, '...   \n33     326.673668  {'C2': 0.0, 'D2': 0.0, 'E2': 0.0, 'F2': 0.0, '...   \n34     272.035502  {'C2': 0.0, 'D2': 0.0, 'E2': 0.0, 'F2': 0.0, '...   \n35     256.574423  {'C2': 0.0, 'D2': 0.0, 'E2': 0.0, 'F2': 0.0, '...   \n36     308.470262  {'C2': 0.0, 'D2': 0.0, 'E2': 0.0, 'F2': 0.0, '...   \n37     360.265918  {'C2': 0.0, 'D2': 0.0, 'E2': 0.0, 'F2': 0.0, '...   \n38     261.205990  {'C2': 0.0, 'D2': 0.0, 'E2': 0.0, 'F2': 0.0, '...   \n39     254.346880  {'C2': 0.0, 'D2': 0.0, 'E2': 0.0, 'F2': 0.0, '...   \n40     377.492801  {'C2': 0.0, 'D2': 0.0, 'E2': 0.0, 'F2': 0.0, '...   \n41     287.265146  {'C2': 0.0, 'D2': 0.0, 'E2': 0.0, 'F2': 0.0, '...   \n42     346.274942  {'C2': 0.0, 'D2': 0.0, 'E2': 0.0, 'F2': 0.0, '...   \n43     345.569000  {'C2': 0.0, 'D2': 0.0, 'E2': 0.0, 'F2': 0.0, '...   \n44     491.449801  {'C2': 0.0, 'D2': 0.0, 'E2': 0.0, 'F2': 0.0, '...   \n45     389.824621  {'C2': 0.0, 'D2': 0.0, 'E2': 0.0, 'F2': 0.0, '...   \n46     320.859180  {'C2': 0.0, 'D2': 0.0, 'E2': 0.0, 'F2': 0.0, '...   \n47     420.344116  {'C2': 0.0, 'D2': 0.0, 'E2': 0.0, 'F2': 0.0, '...   \n48     371.087818  {'C2': 0.0, 'D2': 0.0, 'E2': 0.0, 'F2': 0.0, '...   \n49     427.610830  {'C2': 0.0, 'D2': 0.0, 'E2': 0.0, 'F2': 0.0, '...   \n50     404.741144  {'C2': 0.0, 'D2': 0.0, 'E2': 0.0, 'F2': 0.0, '...   \n51     319.656593  {'C2': 0.0, 'D2': 0.0, 'E2': 0.0, 'F2': 0.0, '...   \n52     270.923070  {'C2': 0.0, 'D2': 0.0, 'E2': 0.0, 'F2': 0.0, '...   \n53     284.247679  {'C2': 0.0, 'D2': 0.0, 'E2': 0.0, 'F2': 0.0027...   \n\n    group_id                  group_name group_type  \n0         11                         박효신       SOLO  \n1         13                    자전거 탄 풍경      GROUP  \n2         12                마크툽 (MAKTUB)       SOLO  \n3         14                   가호 (Gaho)       SOLO  \n4         15                    싸이 (PSY)       SOLO  \n5         16                         장범준       SOLO  \n6         17                       더 크로스      GROUP  \n7         18         엠씨더맥스 (M.C the MAX)       SOLO  \n8         19                        러브홀릭       SOLO  \n9         20               CNBLUE (씨엔블루)      GROUP  \n10        21                 YB (윤도현 밴드)       SOLO  \n11        22                         김동률       SOLO  \n12        23                         김광석       SOLO  \n13        24                     브라운 아이즈      GROUP  \n14        25               휘성 (Realslow)       SOLO  \n15        35                         김건모       SOLO  \n16        24                     브라운 아이즈      GROUP  \n17        36                         izi      GROUP  \n18        37                      스탠딩 에그      GROUP  \n19        38                       imase       SOLO  \n20        39               Yonezu Kenshi       SOLO  \n21        41    소녀시대 (GIRLS' GENERATION)      GROUP  \n22        42                     (여자)아이들      GROUP  \n23        43                       aespa      GROUP  \n24        44                   IVE (아이브)      GROUP  \n25        45          LE SSERAFIM (르세라핌)      GROUP  \n26        46                  지수 (JISOO)       SOLO  \n27        47             세븐틴 (SEVENTEEN)      GROUP  \n28        48               다니엘(DANIELLE)       SOLO  \n29        49  Charlie Puth , Wiz Khalifa      GROUP  \n30        50                         임영웅       SOLO  \n31        51                          폴킴       SOLO  \n32        52                        10CM       SOLO  \n33        53                      볼빨간사춘기       SOLO  \n34        54                         잔나비      GROUP  \n35        55              그리즐리 (Grizzly)       SOLO  \n36        56                          백아       SOLO  \n37        12                마크툽 (MAKTUB)       SOLO  \n38        61                          이적       SOLO  \n39        62                         임창정       SOLO  \n40        63                          나얼       SOLO  \n41        52                        10CM       SOLO  \n42        64              Jennifer Lopez       SOLO  \n43        65              Britney Spears       SOLO  \n44        66                  Steelheart      GROUP  \n45        67              Kelly Clarkson       SOLO  \n46        68                     Jamelia       SOLO  \n47        73               4 Non Blondes       SOLO  \n48        69                Mariah Carey       SOLO  \n49        71                     Beyonce       SOLO  \n50        72   Peabo Bryson, Celine Dion      GROUP  \n51        74                       Queen      GROUP  \n52        75                   지코 (ZICO)       SOLO  \n53        76                         윤미래       SOLO  ",
      "text/html": "<div>\n<style scoped>\n    .dataframe tbody tr th:only-of-type {\n        vertical-align: middle;\n    }\n\n    .dataframe tbody tr th {\n        vertical-align: top;\n    }\n\n    .dataframe thead th {\n        text-align: right;\n    }\n</style>\n<table border=\"1\" class=\"dataframe\">\n  <thead>\n    <tr style=\"text-align: right;\">\n      <th></th>\n      <th>music_id</th>\n      <th>title</th>\n      <th>genre</th>\n      <th>lyrics</th>\n      <th>release_date</th>\n      <th>likes</th>\n      <th>view</th>\n      <th>highest_pitch</th>\n      <th>lowest_pitch</th>\n      <th>high_pitch_ratio</th>\n      <th>low_pitch_ratio</th>\n      <th>pitch_average</th>\n      <th>pitch_stat</th>\n      <th>group_id</th>\n      <th>group_name</th>\n      <th>group_type</th>\n    </tr>\n  </thead>\n  <tbody>\n    <tr>\n      <th>0</th>\n      <td>169</td>\n      <td>야생화</td>\n      <td>BALLADE</td>\n      <td>하얗게 피어난 얼음 꽃 하나가\\n달가운 바람에 얼굴을 내밀어\\n아무 말 못했던 이름...</td>\n      <td>2014-03-28</td>\n      <td>2</td>\n      <td>42</td>\n      <td>926.378401</td>\n      <td>125.573964</td>\n      <td>0.199561</td>\n      <td>0.000000</td>\n      <td>271.857078</td>\n      <td>{'C2': 0.0, 'D2': 0.0, 'E2': 0.0, 'F2': 0.0, '...</td>\n      <td>11</td>\n      <td>박효신</td>\n      <td>SOLO</td>\n    </tr>\n    <tr>\n      <th>1</th>\n      <td>170</td>\n      <td>너에게 난, 나에게 넌</td>\n      <td>FOLK</td>\n      <td>너에게 난 해질녘 노을처럼\\n한 편의 아름다운 추억이 되고\\n소중했던 우리 푸르던 ...</td>\n      <td>2003-02-01</td>\n      <td>0</td>\n      <td>36</td>\n      <td>944.986819</td>\n      <td>140.076631</td>\n      <td>0.397028</td>\n      <td>0.000000</td>\n      <td>344.381940</td>\n      <td>{'C2': 0.0, 'D2': 0.0, 'E2': 0.0, 'F2': 0.0, '...</td>\n      <td>13</td>\n      <td>자전거 탄 풍경</td>\n      <td>GROUP</td>\n    </tr>\n    <tr>\n      <th>2</th>\n      <td>171</td>\n      <td>너였다면</td>\n      <td>OST</td>\n      <td>왜 너에겐 그렇게 어려운지\\n애를 쓰는 나를\\n제대로 봐주는 게\\n너 하나에 이토록...</td>\n      <td>2016-05-31</td>\n      <td>0</td>\n      <td>25</td>\n      <td>513.832400</td>\n      <td>145.657815</td>\n      <td>0.345133</td>\n      <td>0.000000</td>\n      <td>294.095022</td>\n      <td>{'C2': 0.0, 'D2': 0.0, 'E2': 0.0, 'F2': 0.0, '...</td>\n      <td>12</td>\n      <td>마크툽 (MAKTUB)</td>\n      <td>SOLO</td>\n    </tr>\n    <tr>\n      <th>3</th>\n      <td>172</td>\n      <td>시작</td>\n      <td>OST</td>\n      <td>새로운 시작은 늘 설레게 하지\\n모든 걸 이겨낼 것처럼\\n시간을 뒤쫓는 시계바늘처럼...</td>\n      <td>2020-02-01</td>\n      <td>0</td>\n      <td>8</td>\n      <td>428.380936</td>\n      <td>149.105775</td>\n      <td>0.331224</td>\n      <td>0.000000</td>\n      <td>300.080222</td>\n      <td>{'C2': 0.0, 'D2': 0.0, 'E2': 0.0, 'F2': 0.0, '...</td>\n      <td>14</td>\n      <td>가호 (Gaho)</td>\n      <td>SOLO</td>\n    </tr>\n    <tr>\n      <th>4</th>\n      <td>173</td>\n      <td>어땠을까 (Feat. 박정현)</td>\n      <td>RAP</td>\n      <td>내가 그때 널 잡았더라면\\n너와 나 지금보다 행복했을까\\n마지막에 널\\n안아줬다면 ...</td>\n      <td>2012-07-15</td>\n      <td>1</td>\n      <td>9</td>\n      <td>620.806132</td>\n      <td>123.754295</td>\n      <td>0.485465</td>\n      <td>0.000000</td>\n      <td>317.807284</td>\n      <td>{'C2': 0.0, 'D2': 0.0, 'E2': 0.0, 'F2': 0.0, '...</td>\n      <td>15</td>\n      <td>싸이 (PSY)</td>\n      <td>SOLO</td>\n    </tr>\n    <tr>\n      <th>5</th>\n      <td>174</td>\n      <td>흔들리는 꽃들 속에서 네 샴푸향이 느껴진거야</td>\n      <td>OST</td>\n      <td>흔들리는 꽃들 속에서\\n네 샴푸향이 느껴진거야\\n스쳐지나간건가 뒤돌아보지만\\n그냥 ...</td>\n      <td>2019-08-23</td>\n      <td>0</td>\n      <td>7</td>\n      <td>500.865280</td>\n      <td>104.255744</td>\n      <td>0.052632</td>\n      <td>0.005848</td>\n      <td>245.927647</td>\n      <td>{'C2': 0.0, 'D2': 0.0, 'E2': 0.0, 'F2': 0.0, '...</td>\n      <td>16</td>\n      <td>장범준</td>\n      <td>SOLO</td>\n    </tr>\n    <tr>\n      <th>6</th>\n      <td>175</td>\n      <td>Don't Cry</td>\n      <td>BALLADE</td>\n      <td>그대의 눈물이 마를 때까지\\n우리의 사랑을 볼 수 없을테니\\n울지 말아요 이제야\\n...</td>\n      <td>2003-08-01</td>\n      <td>0</td>\n      <td>4</td>\n      <td>796.514962</td>\n      <td>124.552403</td>\n      <td>0.440945</td>\n      <td>0.000000</td>\n      <td>321.024447</td>\n      <td>{'C2': 0.0, 'D2': 0.0, 'E2': 0.0, 'F2': 0.0, '...</td>\n      <td>17</td>\n      <td>더 크로스</td>\n      <td>GROUP</td>\n    </tr>\n    <tr>\n      <th>7</th>\n      <td>176</td>\n      <td>잠시만 안녕</td>\n      <td>BALLADE</td>\n      <td>행복을 줄 수 없었어\\n그런데 사랑을 했어\\n니곁에 감히 머무른\\n내 욕심을 용서치...</td>\n      <td>2007-05-10</td>\n      <td>0</td>\n      <td>12</td>\n      <td>885.293572</td>\n      <td>166.179307</td>\n      <td>0.493438</td>\n      <td>0.000000</td>\n      <td>360.619057</td>\n      <td>{'C2': 0.0, 'D2': 0.0, 'E2': 0.0, 'F2': 0.0, '...</td>\n      <td>18</td>\n      <td>엠씨더맥스 (M.C the MAX)</td>\n      <td>SOLO</td>\n    </tr>\n    <tr>\n      <th>8</th>\n      <td>177</td>\n      <td>인형의 꿈</td>\n      <td>OST</td>\n      <td>그대 먼 곳만 보네요\\n내가 바로 여기 있는데\\n조금만 고개를 돌려도\\n날 볼 수 ...</td>\n      <td>2003-09-09</td>\n      <td>1</td>\n      <td>5</td>\n      <td>588.248207</td>\n      <td>232.075376</td>\n      <td>0.021583</td>\n      <td>0.120504</td>\n      <td>386.938462</td>\n      <td>{'C2': 0.0, 'D2': 0.0, 'E2': 0.0, 'F2': 0.0, '...</td>\n      <td>19</td>\n      <td>러브홀릭</td>\n      <td>SOLO</td>\n    </tr>\n    <tr>\n      <th>9</th>\n      <td>178</td>\n      <td>외톨이야</td>\n      <td>ROCK</td>\n      <td>외톨이야 외톨이야\\n\\n외톨이야 외톨이야\\n\\n\\n\\n봐봐 나를 봐봐 똑바로 내 두...</td>\n      <td>2010-01-14</td>\n      <td>0</td>\n      <td>4</td>\n      <td>557.989885</td>\n      <td>150.122581</td>\n      <td>0.468354</td>\n      <td>0.000000</td>\n      <td>339.719083</td>\n      <td>{'C2': 0.0, 'D2': 0.0, 'E2': 0.0, 'F2': 0.0, '...</td>\n      <td>20</td>\n      <td>CNBLUE (씨엔블루)</td>\n      <td>GROUP</td>\n    </tr>\n    <tr>\n      <th>10</th>\n      <td>179</td>\n      <td>나는 나비</td>\n      <td>ROCK</td>\n      <td>내 모습이 보이지 않아\\n앞길도 보이지 않아\\n나는 아주 작은 애벌레\\n\\n살이 터...</td>\n      <td>2006-08-10</td>\n      <td>0</td>\n      <td>17</td>\n      <td>840.293833</td>\n      <td>132.162513</td>\n      <td>0.396181</td>\n      <td>0.000000</td>\n      <td>324.931949</td>\n      <td>{'C2': 0.0, 'D2': 0.0, 'E2': 0.0, 'F2': 0.0, '...</td>\n      <td>21</td>\n      <td>YB (윤도현 밴드)</td>\n      <td>SOLO</td>\n    </tr>\n    <tr>\n      <th>11</th>\n      <td>180</td>\n      <td>취중진담</td>\n      <td>BALLADE</td>\n      <td>그래 난 취했는지도 몰라\\n실수인지도 몰라\\n아침이면 까마득히 생각이 안나\\n불안해...</td>\n      <td>2007-03-15</td>\n      <td>0</td>\n      <td>8</td>\n      <td>688.456088</td>\n      <td>92.717461</td>\n      <td>0.236074</td>\n      <td>0.002653</td>\n      <td>254.914448</td>\n      <td>{'C2': 0.0, 'D2': 0.0, 'E2': 0.0, 'F2': 0.0, '...</td>\n      <td>22</td>\n      <td>김동률</td>\n      <td>SOLO</td>\n    </tr>\n    <tr>\n      <th>12</th>\n      <td>181</td>\n      <td>사랑했지만</td>\n      <td>FOLK</td>\n      <td>어제는 하루 종일 비가 내렸어\\n자욱하게 내려 앉은 먼지 사이로\\n귓가에 은은하게 ...</td>\n      <td>1991-02-20</td>\n      <td>0</td>\n      <td>5</td>\n      <td>889.166344</td>\n      <td>121.303076</td>\n      <td>0.302281</td>\n      <td>0.000000</td>\n      <td>324.027882</td>\n      <td>{'C2': 0.0, 'D2': 0.0, 'E2': 0.0, 'F2': 0.0, '...</td>\n      <td>23</td>\n      <td>김광석</td>\n      <td>SOLO</td>\n    </tr>\n    <tr>\n      <th>13</th>\n      <td>182</td>\n      <td>가지마 가지마</td>\n      <td>BALLADE</td>\n      <td>우리 함께했던 날들\\n그 기억들만 남아\\n너를 지워야만 내가 살 수 있을까\\n우리 ...</td>\n      <td>2008-06-19</td>\n      <td>0</td>\n      <td>8</td>\n      <td>834.280803</td>\n      <td>152.085571</td>\n      <td>0.387870</td>\n      <td>0.000000</td>\n      <td>344.287088</td>\n      <td>{'C2': 0.0, 'D2': 0.0, 'E2': 0.0, 'F2': 0.0, '...</td>\n      <td>24</td>\n      <td>브라운 아이즈</td>\n      <td>GROUP</td>\n    </tr>\n    <tr>\n      <th>14</th>\n      <td>183</td>\n      <td>결혼까지 생각했어</td>\n      <td>RNB</td>\n      <td>To all My people hellow hellow\\nhellow hellow\\...</td>\n      <td>2010-08-26</td>\n      <td>0</td>\n      <td>6</td>\n      <td>902.750069</td>\n      <td>124.968452</td>\n      <td>0.460076</td>\n      <td>0.000000</td>\n      <td>333.824600</td>\n      <td>{'C2': 0.0, 'D2': 0.0, 'E2': 0.0, 'F2': 0.0, '...</td>\n      <td>25</td>\n      <td>휘성 (Realslow)</td>\n      <td>SOLO</td>\n    </tr>\n    <tr>\n      <th>15</th>\n      <td>184</td>\n      <td>잘못된 만남</td>\n      <td>DANCE</td>\n      <td>난 너를 믿었던 만큼\\n난 내 친구도 믿었기에\\n난 아무런 부담없이 널\\n내 친구에...</td>\n      <td>1995-01-24</td>\n      <td>0</td>\n      <td>6</td>\n      <td>850.065165</td>\n      <td>199.168516</td>\n      <td>0.657845</td>\n      <td>0.000000</td>\n      <td>378.667970</td>\n      <td>{'C2': 0.0, 'D2': 0.0, 'E2': 0.0, 'F2': 0.0, '...</td>\n      <td>35</td>\n      <td>김건모</td>\n      <td>SOLO</td>\n    </tr>\n    <tr>\n      <th>16</th>\n      <td>185</td>\n      <td>벌써 일년</td>\n      <td>RNB</td>\n      <td>처음이라 그래 며칠뒤엔\\n괜찮아져\\n그 생각만으로 벌써 일년이\\n너와 만든 기념일마...</td>\n      <td>2007-06-12</td>\n      <td>0</td>\n      <td>8</td>\n      <td>593.289648</td>\n      <td>123.631166</td>\n      <td>0.394097</td>\n      <td>0.000000</td>\n      <td>313.682014</td>\n      <td>{'C2': 0.0, 'D2': 0.0, 'E2': 0.0, 'F2': 0.0, '...</td>\n      <td>24</td>\n      <td>브라운 아이즈</td>\n      <td>GROUP</td>\n    </tr>\n    <tr>\n      <th>17</th>\n      <td>186</td>\n      <td>응급실</td>\n      <td>BALLADE</td>\n      <td>후회 하고 있어요\\n우리 다투던 그 날\\n괜한 자존심 때문에\\n끝내자고 말을 해버린...</td>\n      <td>2005-01-20</td>\n      <td>0</td>\n      <td>9</td>\n      <td>447.480460</td>\n      <td>98.209465</td>\n      <td>0.184466</td>\n      <td>0.001618</td>\n      <td>251.204317</td>\n      <td>{'C2': 0.0, 'D2': 0.0, 'E2': 0.0, 'F2': 0.0, '...</td>\n      <td>36</td>\n      <td>izi</td>\n      <td>GROUP</td>\n    </tr>\n    <tr>\n      <th>18</th>\n      <td>187</td>\n      <td>Aloha</td>\n      <td>INDIE</td>\n      <td>처음 듣는 노래\\n처음 걷는 길\\n처음 보는 바다\\n처음 보는 별\\n\\n네가 없는 ...</td>\n      <td>2012-04-10</td>\n      <td>0</td>\n      <td>11</td>\n      <td>339.689281</td>\n      <td>121.419028</td>\n      <td>0.004073</td>\n      <td>0.000000</td>\n      <td>187.741279</td>\n      <td>{'C2': 0.0, 'D2': 0.0, 'E2': 0.0, 'F2': 0.0, '...</td>\n      <td>37</td>\n      <td>스탠딩 에그</td>\n      <td>GROUP</td>\n    </tr>\n    <tr>\n      <th>19</th>\n      <td>188</td>\n      <td>NIGHT DANCER</td>\n      <td>JPOP</td>\n      <td>どうでもいいような 夜だけど\\n響めき 煌めきと君も\\nまだ止まった 刻む針も\\n入り浸った...</td>\n      <td>2022-08-19</td>\n      <td>0</td>\n      <td>9</td>\n      <td>473.118383</td>\n      <td>131.658609</td>\n      <td>0.210438</td>\n      <td>0.000000</td>\n      <td>278.414292</td>\n      <td>{'C2': 0.0, 'D2': 0.0, 'E2': 0.0, 'F2': 0.0, '...</td>\n      <td>38</td>\n      <td>imase</td>\n      <td>SOLO</td>\n    </tr>\n    <tr>\n      <th>20</th>\n      <td>189</td>\n      <td>Lemon</td>\n      <td>JPOP</td>\n      <td>夢ならばどれほどよかったでしょう\\n未だにあなたのことを夢にみる\\n忘れた物を取りに帰るよう...</td>\n      <td>2018-03-16</td>\n      <td>0</td>\n      <td>8</td>\n      <td>415.074247</td>\n      <td>121.414461</td>\n      <td>0.057107</td>\n      <td>0.000000</td>\n      <td>240.868082</td>\n      <td>{'C2': 0.0, 'D2': 0.0, 'E2': 0.0, 'F2': 0.0, '...</td>\n      <td>39</td>\n      <td>Yonezu Kenshi</td>\n      <td>SOLO</td>\n    </tr>\n    <tr>\n      <th>21</th>\n      <td>190</td>\n      <td>다시 만난 세계</td>\n      <td>DANCE</td>\n      <td>전해 주고 싶어 슬픈 시간이\\n다 흩어진 후에야 들리지만\\n눈을 감고 느껴 봐 움직...</td>\n      <td>2007-11-01</td>\n      <td>0</td>\n      <td>9</td>\n      <td>527.411163</td>\n      <td>233.820538</td>\n      <td>0.002656</td>\n      <td>0.088977</td>\n      <td>384.026013</td>\n      <td>{'C2': 0.0, 'D2': 0.0, 'E2': 0.0, 'F2': 0.0, '...</td>\n      <td>41</td>\n      <td>소녀시대 (GIRLS' GENERATION)</td>\n      <td>GROUP</td>\n    </tr>\n    <tr>\n      <th>22</th>\n      <td>191</td>\n      <td>퀸카 (Queencard)</td>\n      <td>DANCE</td>\n      <td>Hey you\\n뭘 보니? 내가 좀 Sexy Sexy 반했니\\nYe you\\n뭐 하...</td>\n      <td>2023-05-15</td>\n      <td>0</td>\n      <td>7</td>\n      <td>575.688579</td>\n      <td>186.402709</td>\n      <td>0.015556</td>\n      <td>0.400000</td>\n      <td>330.100029</td>\n      <td>{'C2': 0.0, 'D2': 0.0, 'E2': 0.0, 'F2': 0.0, '...</td>\n      <td>42</td>\n      <td>(여자)아이들</td>\n      <td>GROUP</td>\n    </tr>\n    <tr>\n      <th>23</th>\n      <td>192</td>\n      <td>Spicy</td>\n      <td>DANCE</td>\n      <td>Uh Uh Too Spicy\\nYou want my A to the Z\\nBut y...</td>\n      <td>2023-05-08</td>\n      <td>1</td>\n      <td>11</td>\n      <td>703.966140</td>\n      <td>193.677050</td>\n      <td>0.074554</td>\n      <td>0.141005</td>\n      <td>387.823861</td>\n      <td>{'C2': 0.0, 'D2': 0.0, 'E2': 0.0, 'F2': 0.0, '...</td>\n      <td>43</td>\n      <td>aespa</td>\n      <td>GROUP</td>\n    </tr>\n    <tr>\n      <th>24</th>\n      <td>193</td>\n      <td>I AM</td>\n      <td>DANCE</td>\n      <td>다른 문을 열어 따라 갈 필요는 없어\\n넌 너의 길로 난 나의 길로 음\\n하루하루마...</td>\n      <td>2023-04-10</td>\n      <td>0</td>\n      <td>6</td>\n      <td>805.328717</td>\n      <td>183.901798</td>\n      <td>0.185547</td>\n      <td>0.144531</td>\n      <td>445.451092</td>\n      <td>{'C2': 0.0, 'D2': 0.0, 'E2': 0.0, 'F2': 0.0, '...</td>\n      <td>44</td>\n      <td>IVE (아이브)</td>\n      <td>GROUP</td>\n    </tr>\n    <tr>\n      <th>25</th>\n      <td>194</td>\n      <td>UNFORGIVEN (feat. Nile Rodgers)</td>\n      <td>DANCE</td>\n      <td>Unforgiven I’m a villain I’m a\\nUnforgiven 난 그...</td>\n      <td>2023-05-01</td>\n      <td>0</td>\n      <td>9</td>\n      <td>558.651408</td>\n      <td>175.889445</td>\n      <td>0.005769</td>\n      <td>0.259615</td>\n      <td>331.741399</td>\n      <td>{'C2': 0.0, 'D2': 0.0, 'E2': 0.0, 'F2': 0.0, '...</td>\n      <td>45</td>\n      <td>LE SSERAFIM (르세라핌)</td>\n      <td>GROUP</td>\n    </tr>\n    <tr>\n      <th>26</th>\n      <td>195</td>\n      <td>꽃</td>\n      <td>DANCE</td>\n      <td>ABC 도레미만큼 착했던 나\\n그 눈빛이 싹 변했지\\n어쩌면 이 또한 나니까\\n난 ...</td>\n      <td>2023-03-31</td>\n      <td>0</td>\n      <td>7</td>\n      <td>661.198665</td>\n      <td>169.262994</td>\n      <td>0.069479</td>\n      <td>0.272953</td>\n      <td>370.308363</td>\n      <td>{'C2': 0.0, 'D2': 0.0, 'E2': 0.0, 'F2': 0.0, '...</td>\n      <td>46</td>\n      <td>지수 (JISOO)</td>\n      <td>SOLO</td>\n    </tr>\n    <tr>\n      <th>27</th>\n      <td>196</td>\n      <td>손오공</td>\n      <td>DANCE</td>\n      <td>땅을 보고 계속 올랐지 정상까지\\n많은 시련은 보란 듯이 I Always Win\\n...</td>\n      <td>2023-04-24</td>\n      <td>0</td>\n      <td>8</td>\n      <td>364.594405</td>\n      <td>132.934857</td>\n      <td>0.246493</td>\n      <td>0.000000</td>\n      <td>270.714602</td>\n      <td>{'C2': 0.0, 'D2': 0.0, 'E2': 0.0, 'F2': 0.0, '...</td>\n      <td>47</td>\n      <td>세븐틴 (SEVENTEEN)</td>\n      <td>GROUP</td>\n    </tr>\n    <tr>\n      <th>28</th>\n      <td>197</td>\n      <td>저곳으로(인어공주OST)</td>\n      <td>OST</td>\n      <td>이것 좀 봐 신기하지\\n내가 모은 것들 대단하지\\n내가 세상 모든 걸 다 가진 것 ...</td>\n      <td>2023-05-17</td>\n      <td>0</td>\n      <td>4</td>\n      <td>589.494552</td>\n      <td>240.798246</td>\n      <td>0.089855</td>\n      <td>0.133333</td>\n      <td>401.498566</td>\n      <td>{'C2': 0.0, 'D2': 0.0, 'E2': 0.0, 'F2': 0.0, '...</td>\n      <td>48</td>\n      <td>다니엘(DANIELLE)</td>\n      <td>SOLO</td>\n    </tr>\n    <tr>\n      <th>29</th>\n      <td>198</td>\n      <td>See You Again (분노의 질주 : 더 세븐 OST)</td>\n      <td>OST</td>\n      <td>It's been a long day\\nwithout you my friend\\nA...</td>\n      <td>2015-03-17</td>\n      <td>0</td>\n      <td>6</td>\n      <td>590.567826</td>\n      <td>164.744786</td>\n      <td>0.456140</td>\n      <td>0.000000</td>\n      <td>323.534208</td>\n      <td>{'C2': 0.0, 'D2': 0.0, 'E2': 0.0, 'F2': 0.0, '...</td>\n      <td>49</td>\n      <td>Charlie Puth , Wiz Khalifa</td>\n      <td>GROUP</td>\n    </tr>\n    <tr>\n      <th>30</th>\n      <td>199</td>\n      <td>사랑은 늘 도망가</td>\n      <td>OST</td>\n      <td>눈물이 난다 이 길을 걸으면\\n그 사람 손길이 자꾸 생각이 난다\\n붙잡지 못하고 가...</td>\n      <td>2021-10-11</td>\n      <td>0</td>\n      <td>6</td>\n      <td>415.945462</td>\n      <td>93.023069</td>\n      <td>0.069837</td>\n      <td>0.008915</td>\n      <td>244.590870</td>\n      <td>{'C2': 0.0, 'D2': 0.0, 'E2': 0.0, 'F2': 0.0, '...</td>\n      <td>50</td>\n      <td>임영웅</td>\n      <td>SOLO</td>\n    </tr>\n    <tr>\n      <th>31</th>\n      <td>200</td>\n      <td>모든 날, 모든 순간</td>\n      <td>OST</td>\n      <td>네가 없이 웃을 수 있을까\\n생각만 해도 눈물이나\\n힘든 시간 날 지켜준 사람\\n이...</td>\n      <td>2018-03-20</td>\n      <td>0</td>\n      <td>6</td>\n      <td>348.985553</td>\n      <td>169.953506</td>\n      <td>0.027027</td>\n      <td>0.000000</td>\n      <td>241.841471</td>\n      <td>{'C2': 0.0, 'D2': 0.0, 'E2': 0.0, 'F2': 0.0, '...</td>\n      <td>51</td>\n      <td>폴킴</td>\n      <td>SOLO</td>\n    </tr>\n    <tr>\n      <th>32</th>\n      <td>201</td>\n      <td>부동의 첫사랑</td>\n      <td>INDIE</td>\n      <td>주인공은 아니었지\\n누구의 시점에서도\\n그냥 스쳐 지나가거나\\n친구3이라거나\\n이름...</td>\n      <td>2023-05-14</td>\n      <td>1</td>\n      <td>9</td>\n      <td>456.717386</td>\n      <td>145.977052</td>\n      <td>0.272244</td>\n      <td>0.000000</td>\n      <td>292.126194</td>\n      <td>{'C2': 0.0, 'D2': 0.0, 'E2': 0.0, 'F2': 0.0, '...</td>\n      <td>52</td>\n      <td>10CM</td>\n      <td>SOLO</td>\n    </tr>\n    <tr>\n      <th>33</th>\n      <td>202</td>\n      <td>FRIEND THE END</td>\n      <td>INDIE</td>\n      <td>요즘엔 썸이라는 단어를 난 쓰지 않아\\n친구란 완벽한 단어로 숨길 수가 있지\\n사랑...</td>\n      <td>2023-04-16</td>\n      <td>0</td>\n      <td>6</td>\n      <td>462.287979</td>\n      <td>159.646833</td>\n      <td>0.000000</td>\n      <td>0.374753</td>\n      <td>326.673668</td>\n      <td>{'C2': 0.0, 'D2': 0.0, 'E2': 0.0, 'F2': 0.0, '...</td>\n      <td>53</td>\n      <td>볼빨간사춘기</td>\n      <td>SOLO</td>\n    </tr>\n    <tr>\n      <th>34</th>\n      <td>203</td>\n      <td>주저하는 연인들을 위해</td>\n      <td>INDIE</td>\n      <td>나는 읽기 쉬운 마음이야\\n당신도 스윽 훑고 가셔요\\n달랠 길 없는 외로운 마음 있...</td>\n      <td>2019-03-13</td>\n      <td>1</td>\n      <td>11</td>\n      <td>465.799037</td>\n      <td>131.582028</td>\n      <td>0.175559</td>\n      <td>0.000000</td>\n      <td>272.035502</td>\n      <td>{'C2': 0.0, 'D2': 0.0, 'E2': 0.0, 'F2': 0.0, '...</td>\n      <td>54</td>\n      <td>잔나비</td>\n      <td>GROUP</td>\n    </tr>\n    <tr>\n      <th>35</th>\n      <td>204</td>\n      <td>친구 얘긴데 (feat. Skinny Brown)</td>\n      <td>INDIE</td>\n      <td>저기 말야\\n나 말고 아는 친구 얘긴데\\n별 뜻은 아냐\\n그저 네 생각이 좀 궁금해...</td>\n      <td>2023-06-01</td>\n      <td>0</td>\n      <td>7</td>\n      <td>411.220547</td>\n      <td>93.726779</td>\n      <td>0.039872</td>\n      <td>0.007974</td>\n      <td>256.574423</td>\n      <td>{'C2': 0.0, 'D2': 0.0, 'E2': 0.0, 'F2': 0.0, '...</td>\n      <td>55</td>\n      <td>그리즐리 (Grizzly)</td>\n      <td>SOLO</td>\n    </tr>\n    <tr>\n      <th>36</th>\n      <td>205</td>\n      <td>첫사랑</td>\n      <td>INDIE</td>\n      <td>알아 내 맘에 조용히\\n문을 두드리면\\n눈에 뿌옇게 고여버린\\n널 흘려보내야 해\\n...</td>\n      <td>2018-10-11</td>\n      <td>1</td>\n      <td>9</td>\n      <td>525.258280</td>\n      <td>202.686124</td>\n      <td>0.002053</td>\n      <td>0.488706</td>\n      <td>308.470262</td>\n      <td>{'C2': 0.0, 'D2': 0.0, 'E2': 0.0, 'F2': 0.0, '...</td>\n      <td>56</td>\n      <td>백아</td>\n      <td>SOLO</td>\n    </tr>\n    <tr>\n      <th>37</th>\n      <td>206</td>\n      <td>오늘도 빛나는 너에게</td>\n      <td>INDIE</td>\n      <td>별빛이 내린 밤\\n그 풍경 속 너와 나\\n날 새롭게 하는\\n따뜻하게 만드는\\n니 눈...</td>\n      <td>2019-06-09</td>\n      <td>1</td>\n      <td>34</td>\n      <td>655.590421</td>\n      <td>147.626466</td>\n      <td>0.623476</td>\n      <td>0.000000</td>\n      <td>360.265918</td>\n      <td>{'C2': 0.0, 'D2': 0.0, 'E2': 0.0, 'F2': 0.0, '...</td>\n      <td>12</td>\n      <td>마크툽 (MAKTUB)</td>\n      <td>SOLO</td>\n    </tr>\n    <tr>\n      <th>38</th>\n      <td>383</td>\n      <td>다행이다</td>\n      <td>BALLADE</td>\n      <td>그대를 만나고\\n그대의 머릿결을 만질 수가 있어서\\n그대를 만나고\\n그대와 마주보며...</td>\n      <td>2007-04-19</td>\n      <td>0</td>\n      <td>22</td>\n      <td>378.239188</td>\n      <td>125.874867</td>\n      <td>0.077957</td>\n      <td>0.000000</td>\n      <td>261.205990</td>\n      <td>{'C2': 0.0, 'D2': 0.0, 'E2': 0.0, 'F2': 0.0, '...</td>\n      <td>61</td>\n      <td>이적</td>\n      <td>SOLO</td>\n    </tr>\n    <tr>\n      <th>39</th>\n      <td>384</td>\n      <td>소주 한 잔</td>\n      <td>BALLADE</td>\n      <td>술이 한 잔 생각나는 밤\\n같이 있는 것 같아요\\n그 좋았던 시절들\\n이젠 모두 한...</td>\n      <td>2003-06-05</td>\n      <td>0</td>\n      <td>28</td>\n      <td>883.534154</td>\n      <td>117.084343</td>\n      <td>0.149086</td>\n      <td>0.000000</td>\n      <td>254.346880</td>\n      <td>{'C2': 0.0, 'D2': 0.0, 'E2': 0.0, 'F2': 0.0, '...</td>\n      <td>62</td>\n      <td>임창정</td>\n      <td>SOLO</td>\n    </tr>\n    <tr>\n      <th>40</th>\n      <td>385</td>\n      <td>바람기억</td>\n      <td>RNB</td>\n      <td>바람 불어와 내 맘 흔들면\\n지나간 세월에\\n두 눈을 감아본다\\n\\n나를 스치는 고...</td>\n      <td>2012-09-20</td>\n      <td>0</td>\n      <td>21</td>\n      <td>641.050494</td>\n      <td>173.659578</td>\n      <td>0.606061</td>\n      <td>0.000000</td>\n      <td>377.492801</td>\n      <td>{'C2': 0.0, 'D2': 0.0, 'E2': 0.0, 'F2': 0.0, '...</td>\n      <td>63</td>\n      <td>나얼</td>\n      <td>SOLO</td>\n    </tr>\n    <tr>\n      <th>41</th>\n      <td>386</td>\n      <td>사랑은 은하수 다방에서</td>\n      <td>FOLK</td>\n      <td>사랑은 은하수 다방 문 앞에서 만나\\n홍차와 냉커피를 마시며\\n매일 똑같은 노래를 ...</td>\n      <td>2011-02-10</td>\n      <td>0</td>\n      <td>38</td>\n      <td>419.766686</td>\n      <td>179.586040</td>\n      <td>0.170213</td>\n      <td>0.000000</td>\n      <td>287.265146</td>\n      <td>{'C2': 0.0, 'D2': 0.0, 'E2': 0.0, 'F2': 0.0, '...</td>\n      <td>52</td>\n      <td>10CM</td>\n      <td>SOLO</td>\n    </tr>\n    <tr>\n      <th>42</th>\n      <td>387</td>\n      <td>Let's Get Loud</td>\n      <td>POP</td>\n      <td>let's get loud let's get loud\\nturn the music ...</td>\n      <td>1999-06-29</td>\n      <td>0</td>\n      <td>16</td>\n      <td>597.670991</td>\n      <td>205.814429</td>\n      <td>0.039370</td>\n      <td>0.226378</td>\n      <td>346.274942</td>\n      <td>{'C2': 0.0, 'D2': 0.0, 'E2': 0.0, 'F2': 0.0, '...</td>\n      <td>64</td>\n      <td>Jennifer Lopez</td>\n      <td>SOLO</td>\n    </tr>\n    <tr>\n      <th>43</th>\n      <td>388</td>\n      <td>Everytime</td>\n      <td>POP</td>\n      <td>Notice me, take my hand\\n\\nWhy are we stranger...</td>\n      <td>2003-11-13</td>\n      <td>0</td>\n      <td>0</td>\n      <td>621.329797</td>\n      <td>229.133862</td>\n      <td>0.039267</td>\n      <td>0.248691</td>\n      <td>345.569000</td>\n      <td>{'C2': 0.0, 'D2': 0.0, 'E2': 0.0, 'F2': 0.0, '...</td>\n      <td>65</td>\n      <td>Britney Spears</td>\n      <td>SOLO</td>\n    </tr>\n    <tr>\n      <th>44</th>\n      <td>389</td>\n      <td>She's Gone</td>\n      <td>ROCK</td>\n      <td>She′s gone out of my life\\nI was wrong\\nI′m to...</td>\n      <td>2011-01-01</td>\n      <td>0</td>\n      <td>0</td>\n      <td>805.689733</td>\n      <td>183.615690</td>\n      <td>0.789644</td>\n      <td>0.000000</td>\n      <td>491.449801</td>\n      <td>{'C2': 0.0, 'D2': 0.0, 'E2': 0.0, 'F2': 0.0, '...</td>\n      <td>66</td>\n      <td>Steelheart</td>\n      <td>GROUP</td>\n    </tr>\n    <tr>\n      <th>45</th>\n      <td>390</td>\n      <td>Because Of You</td>\n      <td>POP</td>\n      <td>I will not make\\nthe same mistakes that you di...</td>\n      <td>2005-07-16</td>\n      <td>0</td>\n      <td>0</td>\n      <td>661.821069</td>\n      <td>203.634407</td>\n      <td>0.102679</td>\n      <td>0.273810</td>\n      <td>389.824621</td>\n      <td>{'C2': 0.0, 'D2': 0.0, 'E2': 0.0, 'F2': 0.0, '...</td>\n      <td>67</td>\n      <td>Kelly Clarkson</td>\n      <td>SOLO</td>\n    </tr>\n    <tr>\n      <th>46</th>\n      <td>391</td>\n      <td>Superstar</td>\n      <td>POP</td>\n      <td>Hey hey, yeah\\nUh huh, superstar, ah ah\\nNo ma...</td>\n      <td>2009-07-27</td>\n      <td>0</td>\n      <td>0</td>\n      <td>584.447793</td>\n      <td>206.903635</td>\n      <td>0.008460</td>\n      <td>0.314721</td>\n      <td>320.859180</td>\n      <td>{'C2': 0.0, 'D2': 0.0, 'E2': 0.0, 'F2': 0.0, '...</td>\n      <td>68</td>\n      <td>Jamelia</td>\n      <td>SOLO</td>\n    </tr>\n    <tr>\n      <th>47</th>\n      <td>392</td>\n      <td>What's Up?</td>\n      <td>ROCK</td>\n      <td>25 years and my life is still\\nTrying to get u...</td>\n      <td>2007-05-17</td>\n      <td>0</td>\n      <td>0</td>\n      <td>718.458771</td>\n      <td>178.835255</td>\n      <td>0.699010</td>\n      <td>0.000000</td>\n      <td>420.344116</td>\n      <td>{'C2': 0.0, 'D2': 0.0, 'E2': 0.0, 'F2': 0.0, '...</td>\n      <td>73</td>\n      <td>4 Non Blondes</td>\n      <td>SOLO</td>\n    </tr>\n    <tr>\n      <th>48</th>\n      <td>393</td>\n      <td>My All</td>\n      <td>RNB</td>\n      <td>I am thinking of you\\n당신을 생각해요\\nin my sleeples...</td>\n      <td>1997-09-16</td>\n      <td>0</td>\n      <td>1</td>\n      <td>694.707279</td>\n      <td>144.864262</td>\n      <td>0.173242</td>\n      <td>0.418525</td>\n      <td>371.087818</td>\n      <td>{'C2': 0.0, 'D2': 0.0, 'E2': 0.0, 'F2': 0.0, '...</td>\n      <td>69</td>\n      <td>Mariah Carey</td>\n      <td>SOLO</td>\n    </tr>\n    <tr>\n      <th>49</th>\n      <td>394</td>\n      <td>Listen</td>\n      <td>RNB</td>\n      <td>Listen,\\nto the song here in my heart\\n내맘속 노래를...</td>\n      <td>2007-02-21</td>\n      <td>0</td>\n      <td>0</td>\n      <td>727.918474</td>\n      <td>170.494849</td>\n      <td>0.201141</td>\n      <td>0.176890</td>\n      <td>427.610830</td>\n      <td>{'C2': 0.0, 'D2': 0.0, 'E2': 0.0, 'F2': 0.0, '...</td>\n      <td>71</td>\n      <td>Beyonce</td>\n      <td>SOLO</td>\n    </tr>\n    <tr>\n      <th>50</th>\n      <td>395</td>\n      <td>Beauty and the Beast (from \"Beauty and the Bea...</td>\n      <td>OST</td>\n      <td>None</td>\n      <td>1992-03-30</td>\n      <td>0</td>\n      <td>2</td>\n      <td>882.665004</td>\n      <td>170.163455</td>\n      <td>0.669540</td>\n      <td>0.000000</td>\n      <td>404.741144</td>\n      <td>{'C2': 0.0, 'D2': 0.0, 'E2': 0.0, 'F2': 0.0, '...</td>\n      <td>72</td>\n      <td>Peabo Bryson, Celine Dion</td>\n      <td>GROUP</td>\n    </tr>\n    <tr>\n      <th>51</th>\n      <td>396</td>\n      <td>Don't Stop Me Now</td>\n      <td>ROCK</td>\n      <td>Tonight, I'm gonna have myself a real good tim...</td>\n      <td>1976-01-26</td>\n      <td>0</td>\n      <td>1</td>\n      <td>507.861756</td>\n      <td>164.907098</td>\n      <td>0.505030</td>\n      <td>0.000000</td>\n      <td>319.656593</td>\n      <td>{'C2': 0.0, 'D2': 0.0, 'E2': 0.0, 'F2': 0.0, '...</td>\n      <td>74</td>\n      <td>Queen</td>\n      <td>GROUP</td>\n    </tr>\n    <tr>\n      <th>52</th>\n      <td>397</td>\n      <td>Boys And Girls (Feat. Babylon)</td>\n      <td>RAP</td>\n      <td>Don't worry about money\\n놀자 오빠가 무리할게\\n넌 그냥 옆에서...</td>\n      <td>2015-11-03</td>\n      <td>0</td>\n      <td>1</td>\n      <td>469.292125</td>\n      <td>123.944968</td>\n      <td>0.123616</td>\n      <td>0.000000</td>\n      <td>270.923070</td>\n      <td>{'C2': 0.0, 'D2': 0.0, 'E2': 0.0, 'F2': 0.0, '...</td>\n      <td>75</td>\n      <td>지코 (ZICO)</td>\n      <td>SOLO</td>\n    </tr>\n    <tr>\n      <th>53</th>\n      <td>398</td>\n      <td>검은 행복</td>\n      <td>RAP</td>\n      <td>유난히 검었었던\\n어릴 적 내 살색\\n사람들은 손가락질 해\\n내 Mommy한테\\n내...</td>\n      <td>2007-02-23</td>\n      <td>0</td>\n      <td>0</td>\n      <td>472.369219</td>\n      <td>88.935388</td>\n      <td>0.000000</td>\n      <td>0.446927</td>\n      <td>284.247679</td>\n      <td>{'C2': 0.0, 'D2': 0.0, 'E2': 0.0, 'F2': 0.0027...</td>\n      <td>76</td>\n      <td>윤미래</td>\n      <td>SOLO</td>\n    </tr>\n  </tbody>\n</table>\n</div>"
     },
     "execution_count": 2,
     "metadata": {},
     "output_type": "execute_result"
    }
   ],
   "source": [
    "music_data = fetch_data_music_and_groups_extended()\n",
    "column_names = ['music_id', 'title', 'genre', 'lyrics', 'release_date', 'likes', 'view',\n",
    "                'highest_pitch', 'lowest_pitch', 'high_pitch_ratio', 'low_pitch_ratio',\n",
    "                'pitch_average', 'pitch_stat', 'group_id', 'group_name', 'group_type']\n",
    "\n",
    "music_data.columns = column_names\n",
    "\n",
    "music_data['pitch_stat'] = music_data['pitch_stat'].apply(ast.literal_eval)\n",
    "\n",
    "music_data"
   ],
   "metadata": {
    "collapsed": false,
    "ExecuteTime": {
     "end_time": "2024-10-25T01:33:40.598334Z",
     "start_time": "2024-10-25T01:33:40.524223Z"
    }
   },
   "id": "91944f299100537e",
   "execution_count": 2
  },
  {
   "cell_type": "code",
   "outputs": [
    {
     "name": "stdout",
     "output_type": "stream",
     "text": [
      "2024-10-25 10:33:40.600336: [SQL] SELECT gai.group_id, a.artist_id, a.artist_name, a.gender, a.nation FROM (SELECT g.group_id, gm.artist_id FROM groups g NATURAL JOIN group_member gm) gai    INNER JOIN artist a ON gai.artist_id = a.artist_id\n"
     ]
    },
    {
     "data": {
      "text/plain": "     group_id  artist_id      artist_name  gender nation\n0           7          2              이영지  FEMALE   대한민국\n1          11         11              박효신    MALE   대한민국\n2          13         13              강인봉    MALE   대한민국\n3          13         14              김형섭    MALE   대한민국\n4          13         15              송봉주    MALE   대한민국\n..        ...        ...              ...     ...    ...\n102        74        148     Roger Taylor    MALE     영국\n103        74        149  Freddie Mercury    MALE     영국\n104        74        150      John Deacon    MALE     영국\n105        75        151        지코 (ZICO)    MALE   대한민국\n106        76        152              윤미래  FEMALE     미국\n\n[107 rows x 5 columns]",
      "text/html": "<div>\n<style scoped>\n    .dataframe tbody tr th:only-of-type {\n        vertical-align: middle;\n    }\n\n    .dataframe tbody tr th {\n        vertical-align: top;\n    }\n\n    .dataframe thead th {\n        text-align: right;\n    }\n</style>\n<table border=\"1\" class=\"dataframe\">\n  <thead>\n    <tr style=\"text-align: right;\">\n      <th></th>\n      <th>group_id</th>\n      <th>artist_id</th>\n      <th>artist_name</th>\n      <th>gender</th>\n      <th>nation</th>\n    </tr>\n  </thead>\n  <tbody>\n    <tr>\n      <th>0</th>\n      <td>7</td>\n      <td>2</td>\n      <td>이영지</td>\n      <td>FEMALE</td>\n      <td>대한민국</td>\n    </tr>\n    <tr>\n      <th>1</th>\n      <td>11</td>\n      <td>11</td>\n      <td>박효신</td>\n      <td>MALE</td>\n      <td>대한민국</td>\n    </tr>\n    <tr>\n      <th>2</th>\n      <td>13</td>\n      <td>13</td>\n      <td>강인봉</td>\n      <td>MALE</td>\n      <td>대한민국</td>\n    </tr>\n    <tr>\n      <th>3</th>\n      <td>13</td>\n      <td>14</td>\n      <td>김형섭</td>\n      <td>MALE</td>\n      <td>대한민국</td>\n    </tr>\n    <tr>\n      <th>4</th>\n      <td>13</td>\n      <td>15</td>\n      <td>송봉주</td>\n      <td>MALE</td>\n      <td>대한민국</td>\n    </tr>\n    <tr>\n      <th>...</th>\n      <td>...</td>\n      <td>...</td>\n      <td>...</td>\n      <td>...</td>\n      <td>...</td>\n    </tr>\n    <tr>\n      <th>102</th>\n      <td>74</td>\n      <td>148</td>\n      <td>Roger Taylor</td>\n      <td>MALE</td>\n      <td>영국</td>\n    </tr>\n    <tr>\n      <th>103</th>\n      <td>74</td>\n      <td>149</td>\n      <td>Freddie Mercury</td>\n      <td>MALE</td>\n      <td>영국</td>\n    </tr>\n    <tr>\n      <th>104</th>\n      <td>74</td>\n      <td>150</td>\n      <td>John Deacon</td>\n      <td>MALE</td>\n      <td>영국</td>\n    </tr>\n    <tr>\n      <th>105</th>\n      <td>75</td>\n      <td>151</td>\n      <td>지코 (ZICO)</td>\n      <td>MALE</td>\n      <td>대한민국</td>\n    </tr>\n    <tr>\n      <th>106</th>\n      <td>76</td>\n      <td>152</td>\n      <td>윤미래</td>\n      <td>FEMALE</td>\n      <td>미국</td>\n    </tr>\n  </tbody>\n</table>\n<p>107 rows × 5 columns</p>\n</div>"
     },
     "execution_count": 3,
     "metadata": {},
     "output_type": "execute_result"
    }
   ],
   "source": [
    "artists = fetch_artist()\n",
    "column_names = ['group_id', 'artist_id', 'artist_name', 'gender', 'nation']\n",
    "artists.columns = column_names\n",
    "\n",
    "artists"
   ],
   "metadata": {
    "collapsed": false,
    "ExecuteTime": {
     "end_time": "2024-10-25T01:33:40.613847Z",
     "start_time": "2024-10-25T01:33:40.599337Z"
    }
   },
   "id": "c8cf4768d3cbdc83",
   "execution_count": 3
  },
  {
   "cell_type": "code",
   "outputs": [],
   "source": [
    "artist_dict = {}\n",
    "\n",
    "for at in artists.itertuples():\n",
    "    if at.group_id in artist_dict:\n",
    "        artist_dict[at.group_id].append(at)\n",
    "    else:\n",
    "        artist_dict[at.group_id] = [at]"
   ],
   "metadata": {
    "collapsed": false,
    "ExecuteTime": {
     "end_time": "2024-10-25T01:33:40.629511Z",
     "start_time": "2024-10-25T01:33:40.616236Z"
    }
   },
   "id": "a2a0877c5b5fe811",
   "execution_count": 4
  },
  {
   "cell_type": "code",
   "outputs": [],
   "source": [
    "def classify_gender(gender_list):\n",
    "    # 'OTHER'이 하나라도 있으면 '기타'\n",
    "    if 'OTHER' in gender_list:\n",
    "        return 'OTHER'\n",
    "    \n",
    "    # 'FEMALE'과 'MALE'이 섞여 있으면 '혼성'\n",
    "    if 'FEMALE' in gender_list and 'MALE' in gender_list:\n",
    "        return 'MIX'\n",
    "    \n",
    "    # 'FEMALE'만 있으면 '여성'\n",
    "    if all(g == 'FEMALE' for g in gender_list):\n",
    "        return 'FEMALE'\n",
    "    \n",
    "    # 'MALE'만 있으면 '남성'\n",
    "    if all(g == 'MALE' for g in gender_list):\n",
    "        return 'MALE'\n",
    "    \n",
    "    # 예외 처리를 위해 기본 반환값 (조건에 맞지 않는 경우)\n",
    "    return 'OTHER'\n",
    "\n",
    "# 노래 성별(남자, 여자, 혼성, 그외) 구분 추가\n",
    "music_data['gender'] = music_data.apply(lambda row: classify_gender([at.gender for at in artist_dict[row.group_id]]), axis=1)"
   ],
   "metadata": {
    "collapsed": false,
    "ExecuteTime": {
     "end_time": "2024-10-25T01:33:40.644658Z",
     "start_time": "2024-10-25T01:33:40.630506Z"
    }
   },
   "id": "4a9ece554adbb3ee",
   "execution_count": 5
  },
  {
   "cell_type": "code",
   "outputs": [
    {
     "name": "stdout",
     "output_type": "stream",
     "text": [
      "2024-10-25 10:33:40.647657: [SQL] SELECT * FROM log WHERE created_at >= DATE_SUB(NOW(), INTERVAL 3 MONTH)\n"
     ]
    },
    {
     "data": {
      "text/plain": "   event_id                 created_at            event  target_id  user_id\n0         1 2024-10-20 22:59:18.581643  viewMusicDetail        383        1\n1         2 2024-10-20 22:59:28.355868  viewMusicDetail        180        1\n2         3 2024-10-20 22:59:33.554950  viewMusicDetail        176        1\n3         4 2024-10-21 11:20:40.244589  viewMusicDetail        192        1\n4         5 2024-10-21 11:20:43.759666  viewMusicDetail        203        1",
      "text/html": "<div>\n<style scoped>\n    .dataframe tbody tr th:only-of-type {\n        vertical-align: middle;\n    }\n\n    .dataframe tbody tr th {\n        vertical-align: top;\n    }\n\n    .dataframe thead th {\n        text-align: right;\n    }\n</style>\n<table border=\"1\" class=\"dataframe\">\n  <thead>\n    <tr style=\"text-align: right;\">\n      <th></th>\n      <th>event_id</th>\n      <th>created_at</th>\n      <th>event</th>\n      <th>target_id</th>\n      <th>user_id</th>\n    </tr>\n  </thead>\n  <tbody>\n    <tr>\n      <th>0</th>\n      <td>1</td>\n      <td>2024-10-20 22:59:18.581643</td>\n      <td>viewMusicDetail</td>\n      <td>383</td>\n      <td>1</td>\n    </tr>\n    <tr>\n      <th>1</th>\n      <td>2</td>\n      <td>2024-10-20 22:59:28.355868</td>\n      <td>viewMusicDetail</td>\n      <td>180</td>\n      <td>1</td>\n    </tr>\n    <tr>\n      <th>2</th>\n      <td>3</td>\n      <td>2024-10-20 22:59:33.554950</td>\n      <td>viewMusicDetail</td>\n      <td>176</td>\n      <td>1</td>\n    </tr>\n    <tr>\n      <th>3</th>\n      <td>4</td>\n      <td>2024-10-21 11:20:40.244589</td>\n      <td>viewMusicDetail</td>\n      <td>192</td>\n      <td>1</td>\n    </tr>\n    <tr>\n      <th>4</th>\n      <td>5</td>\n      <td>2024-10-21 11:20:43.759666</td>\n      <td>viewMusicDetail</td>\n      <td>203</td>\n      <td>1</td>\n    </tr>\n  </tbody>\n</table>\n</div>"
     },
     "execution_count": 6,
     "metadata": {},
     "output_type": "execute_result"
    }
   ],
   "source": [
    "log_data = fetch_log_from_all_user()\n",
    "column_names = ['event_id', 'created_at', 'event', 'target_id', 'user_id']\n",
    "\n",
    "log_data.columns = column_names\n",
    "\n",
    "log_data.head()"
   ],
   "metadata": {
    "collapsed": false,
    "ExecuteTime": {
     "end_time": "2024-10-25T01:33:40.659658Z",
     "start_time": "2024-10-25T01:33:40.645658Z"
    }
   },
   "id": "a2ccd060bf72cd8f",
   "execution_count": 6
  },
  {
   "cell_type": "code",
   "outputs": [
    {
     "data": {
      "text/plain": "   event_id            event  target_id  user_id\n0         1  viewMusicDetail        383        1\n1         2  viewMusicDetail        180        1\n2         3  viewMusicDetail        176        1\n3         4  viewMusicDetail        192        1\n4         5  viewMusicDetail        203        1",
      "text/html": "<div>\n<style scoped>\n    .dataframe tbody tr th:only-of-type {\n        vertical-align: middle;\n    }\n\n    .dataframe tbody tr th {\n        vertical-align: top;\n    }\n\n    .dataframe thead th {\n        text-align: right;\n    }\n</style>\n<table border=\"1\" class=\"dataframe\">\n  <thead>\n    <tr style=\"text-align: right;\">\n      <th></th>\n      <th>event_id</th>\n      <th>event</th>\n      <th>target_id</th>\n      <th>user_id</th>\n    </tr>\n  </thead>\n  <tbody>\n    <tr>\n      <th>0</th>\n      <td>1</td>\n      <td>viewMusicDetail</td>\n      <td>383</td>\n      <td>1</td>\n    </tr>\n    <tr>\n      <th>1</th>\n      <td>2</td>\n      <td>viewMusicDetail</td>\n      <td>180</td>\n      <td>1</td>\n    </tr>\n    <tr>\n      <th>2</th>\n      <td>3</td>\n      <td>viewMusicDetail</td>\n      <td>176</td>\n      <td>1</td>\n    </tr>\n    <tr>\n      <th>3</th>\n      <td>4</td>\n      <td>viewMusicDetail</td>\n      <td>192</td>\n      <td>1</td>\n    </tr>\n    <tr>\n      <th>4</th>\n      <td>5</td>\n      <td>viewMusicDetail</td>\n      <td>203</td>\n      <td>1</td>\n    </tr>\n  </tbody>\n</table>\n</div>"
     },
     "execution_count": 7,
     "metadata": {},
     "output_type": "execute_result"
    }
   ],
   "source": [
    "log_data_test = log_data\n",
    "log_data_test = log_data_test.drop('created_at', axis=1)\n",
    "log_data_test.head()"
   ],
   "metadata": {
    "collapsed": false,
    "ExecuteTime": {
     "end_time": "2024-10-25T01:33:40.674662Z",
     "start_time": "2024-10-25T01:33:40.660659Z"
    }
   },
   "id": "79bf704549b20e04",
   "execution_count": 7
  },
  {
   "cell_type": "code",
   "outputs": [
    {
     "name": "stdout",
     "output_type": "stream",
     "text": [
      "Final shared_dict data: {(383, 1): 3.2, (180, 1): 3.1, (176, 1): 3.2, (192, 1): 3.1, (203, 1): 5.699999999999999, (201, 1): 4.499999999999998, (386, 1): 3.2, (169, 1): 3.1, (205, 1): 1.1, (204, 1): 3.1, (170, 1): 3.1, (192, 2): 4.1, (205, 2): 4.1, (177, 2): 4.1, (384, 1): 3.1, (191, 1): 3.1, (206, 1): 1, (395, 1): 3.2, (393, 1): 3.1, (396, 1): 3.1, (182, 1): 3.1, (387, 1): 3.1, (397, 1): 3.1, (386, 8): 3.1, (203, 5): 4.5, (192, 6): 3.1, (393, 21): 3.1, (169, 19): 4}\n"
     ]
    }
   ],
   "source": [
    "import threading\n",
    "from concurrent.futures import ThreadPoolExecutor\n",
    "\n",
    "# 특정 key에 대한 lock을 관리하는 클래스\n",
    "class KeyLockDict:\n",
    "    def __init__(self):\n",
    "        self.data = {}\n",
    "        self.locks = {}\n",
    "        self.global_lock = threading.Lock()\n",
    "\n",
    "    def _get_lock(self, key):\n",
    "        # 특정 key에 대한 lock을 생성 또는 반환\n",
    "        with self.global_lock:\n",
    "            if key not in self.locks:\n",
    "                self.locks[key] = threading.Lock()\n",
    "            return self.locks[key]\n",
    "\n",
    "    def set(self, key, value):\n",
    "        lock = self._get_lock(key)\n",
    "        with lock:\n",
    "            self.data[key] = value\n",
    "\n",
    "    def get(self, key):\n",
    "        lock = self._get_lock(key)\n",
    "        with lock:\n",
    "            return self.data.get(key)\n",
    "        \n",
    "    def add(self, key, value):\n",
    "        lock = self._get_lock(key)\n",
    "        with lock:\n",
    "            if self.data.get(key) is not None:\n",
    "                self.data[key] += value\n",
    "            else:\n",
    "                self.data[key] = 3 + value\n",
    "\n",
    "    def remove(self, key):\n",
    "        lock = self._get_lock(key)\n",
    "        with lock:\n",
    "            if key in self.data:\n",
    "                del self.data[key]\n",
    "                del self.locks[key]\n",
    "                \n",
    "# KeyLockDict 생성\n",
    "shared_dict = KeyLockDict()\n",
    "\n",
    "# 데이터 처리 함수 (Thread-safe)\n",
    "def process_row(row):\n",
    "    key = (row['target_id'], row['user_id'])\n",
    "    event = row['event']\n",
    "\n",
    "    if event == 'viewMusicDetail':\n",
    "        shared_dict.add(key, 0.1)\n",
    "    elif event == 'closeMusicDetail':\n",
    "        shared_dict.add(key, -0.5)\n",
    "    elif event == 'bookmarkMusic':\n",
    "        shared_dict.add(key, 1)\n",
    "    elif event == 'unbookmarkMusic':\n",
    "        shared_dict.add(key, -1)\n",
    "    elif event == 'feedbackPositive':\n",
    "        shared_dict.add(key, 1.5)\n",
    "    elif event == 'feedbackNegative':\n",
    "        shared_dict.add(key, -2)\n",
    "\n",
    "# ThreadPoolExecutor를 사용한 병렬 처리\n",
    "with ThreadPoolExecutor() as executor:\n",
    "    executor.map(process_row, [row for _, row in log_data.iterrows()])\n",
    "\n",
    "# 결과 출력\n",
    "print(\"Final shared_dict data:\", shared_dict.data)\n",
    "\n",
    "rating_data = pd.DataFrame(list(shared_dict.data.items()), columns=['Key', 'rating'])\n",
    "\n",
    "rating_data[['music_id', 'user_id']] = pd.DataFrame(rating_data['Key'].tolist(), index=rating_data.index)\n",
    "rating_data = rating_data.drop('Key', axis=1)\n",
    "\n",
    "# 열 순서 정렬\n",
    "rating_data = rating_data[['music_id', 'user_id', 'rating']]"
   ],
   "metadata": {
    "collapsed": false,
    "ExecuteTime": {
     "end_time": "2024-10-25T01:33:40.704671Z",
     "start_time": "2024-10-25T01:33:40.675665Z"
    }
   },
   "id": "796302a2c7d4351d",
   "execution_count": 8
  },
  {
   "cell_type": "code",
   "outputs": [
    {
     "data": {
      "text/plain": "   music_id  user_id  rating\n0       383        1     3.2\n1       180        1     3.1\n2       176        1     3.2\n3       192        1     3.1\n4       203        1     5.7",
      "text/html": "<div>\n<style scoped>\n    .dataframe tbody tr th:only-of-type {\n        vertical-align: middle;\n    }\n\n    .dataframe tbody tr th {\n        vertical-align: top;\n    }\n\n    .dataframe thead th {\n        text-align: right;\n    }\n</style>\n<table border=\"1\" class=\"dataframe\">\n  <thead>\n    <tr style=\"text-align: right;\">\n      <th></th>\n      <th>music_id</th>\n      <th>user_id</th>\n      <th>rating</th>\n    </tr>\n  </thead>\n  <tbody>\n    <tr>\n      <th>0</th>\n      <td>383</td>\n      <td>1</td>\n      <td>3.2</td>\n    </tr>\n    <tr>\n      <th>1</th>\n      <td>180</td>\n      <td>1</td>\n      <td>3.1</td>\n    </tr>\n    <tr>\n      <th>2</th>\n      <td>176</td>\n      <td>1</td>\n      <td>3.2</td>\n    </tr>\n    <tr>\n      <th>3</th>\n      <td>192</td>\n      <td>1</td>\n      <td>3.1</td>\n    </tr>\n    <tr>\n      <th>4</th>\n      <td>203</td>\n      <td>1</td>\n      <td>5.7</td>\n    </tr>\n  </tbody>\n</table>\n</div>"
     },
     "execution_count": 9,
     "metadata": {},
     "output_type": "execute_result"
    }
   ],
   "source": [
    "rating_data.head()"
   ],
   "metadata": {
    "collapsed": false,
    "ExecuteTime": {
     "end_time": "2024-10-25T01:33:40.720179Z",
     "start_time": "2024-10-25T01:33:40.705673Z"
    }
   },
   "id": "4d95991ebdeeab73",
   "execution_count": 9
  },
  {
   "cell_type": "code",
   "outputs": [
    {
     "data": {
      "text/plain": "   music_id             title    genre  \\\n0       169               야생화  BALLADE   \n1       170      너에게 난, 나에게 넌     FOLK   \n2       171              너였다면      OST   \n3       172                시작      OST   \n4       173  어땠을까 (Feat. 박정현)      RAP   \n\n                                              lyrics release_date  likes  \\\n0  하얗게 피어난 얼음 꽃 하나가\\n달가운 바람에 얼굴을 내밀어\\n아무 말 못했던 이름...   2014-03-28      2   \n1  너에게 난 해질녘 노을처럼\\n한 편의 아름다운 추억이 되고\\n소중했던 우리 푸르던 ...   2003-02-01      0   \n2  왜 너에겐 그렇게 어려운지\\n애를 쓰는 나를\\n제대로 봐주는 게\\n너 하나에 이토록...   2016-05-31      0   \n3  새로운 시작은 늘 설레게 하지\\n모든 걸 이겨낼 것처럼\\n시간을 뒤쫓는 시계바늘처럼...   2020-02-01      0   \n4  내가 그때 널 잡았더라면\\n너와 나 지금보다 행복했을까\\n마지막에 널\\n안아줬다면 ...   2012-07-15      1   \n\n   view  highest_pitch  lowest_pitch  high_pitch_ratio  low_pitch_ratio  \\\n0    42     926.378401    125.573964          0.199561              0.0   \n1    36     944.986819    140.076631          0.397028              0.0   \n2    25     513.832400    145.657815          0.345133              0.0   \n3     8     428.380936    149.105775          0.331224              0.0   \n4     9     620.806132    123.754295          0.485465              0.0   \n\n   pitch_average                                         pitch_stat  group_id  \\\n0     271.857078  {'C2': 0.0, 'D2': 0.0, 'E2': 0.0, 'F2': 0.0, '...        11   \n1     344.381940  {'C2': 0.0, 'D2': 0.0, 'E2': 0.0, 'F2': 0.0, '...        13   \n2     294.095022  {'C2': 0.0, 'D2': 0.0, 'E2': 0.0, 'F2': 0.0, '...        12   \n3     300.080222  {'C2': 0.0, 'D2': 0.0, 'E2': 0.0, 'F2': 0.0, '...        14   \n4     317.807284  {'C2': 0.0, 'D2': 0.0, 'E2': 0.0, 'F2': 0.0, '...        15   \n\n     group_name group_type gender  \n0           박효신       SOLO   MALE  \n1      자전거 탄 풍경      GROUP   MALE  \n2  마크툽 (MAKTUB)       SOLO   MALE  \n3     가호 (Gaho)       SOLO   MALE  \n4      싸이 (PSY)       SOLO   MALE  ",
      "text/html": "<div>\n<style scoped>\n    .dataframe tbody tr th:only-of-type {\n        vertical-align: middle;\n    }\n\n    .dataframe tbody tr th {\n        vertical-align: top;\n    }\n\n    .dataframe thead th {\n        text-align: right;\n    }\n</style>\n<table border=\"1\" class=\"dataframe\">\n  <thead>\n    <tr style=\"text-align: right;\">\n      <th></th>\n      <th>music_id</th>\n      <th>title</th>\n      <th>genre</th>\n      <th>lyrics</th>\n      <th>release_date</th>\n      <th>likes</th>\n      <th>view</th>\n      <th>highest_pitch</th>\n      <th>lowest_pitch</th>\n      <th>high_pitch_ratio</th>\n      <th>low_pitch_ratio</th>\n      <th>pitch_average</th>\n      <th>pitch_stat</th>\n      <th>group_id</th>\n      <th>group_name</th>\n      <th>group_type</th>\n      <th>gender</th>\n    </tr>\n  </thead>\n  <tbody>\n    <tr>\n      <th>0</th>\n      <td>169</td>\n      <td>야생화</td>\n      <td>BALLADE</td>\n      <td>하얗게 피어난 얼음 꽃 하나가\\n달가운 바람에 얼굴을 내밀어\\n아무 말 못했던 이름...</td>\n      <td>2014-03-28</td>\n      <td>2</td>\n      <td>42</td>\n      <td>926.378401</td>\n      <td>125.573964</td>\n      <td>0.199561</td>\n      <td>0.0</td>\n      <td>271.857078</td>\n      <td>{'C2': 0.0, 'D2': 0.0, 'E2': 0.0, 'F2': 0.0, '...</td>\n      <td>11</td>\n      <td>박효신</td>\n      <td>SOLO</td>\n      <td>MALE</td>\n    </tr>\n    <tr>\n      <th>1</th>\n      <td>170</td>\n      <td>너에게 난, 나에게 넌</td>\n      <td>FOLK</td>\n      <td>너에게 난 해질녘 노을처럼\\n한 편의 아름다운 추억이 되고\\n소중했던 우리 푸르던 ...</td>\n      <td>2003-02-01</td>\n      <td>0</td>\n      <td>36</td>\n      <td>944.986819</td>\n      <td>140.076631</td>\n      <td>0.397028</td>\n      <td>0.0</td>\n      <td>344.381940</td>\n      <td>{'C2': 0.0, 'D2': 0.0, 'E2': 0.0, 'F2': 0.0, '...</td>\n      <td>13</td>\n      <td>자전거 탄 풍경</td>\n      <td>GROUP</td>\n      <td>MALE</td>\n    </tr>\n    <tr>\n      <th>2</th>\n      <td>171</td>\n      <td>너였다면</td>\n      <td>OST</td>\n      <td>왜 너에겐 그렇게 어려운지\\n애를 쓰는 나를\\n제대로 봐주는 게\\n너 하나에 이토록...</td>\n      <td>2016-05-31</td>\n      <td>0</td>\n      <td>25</td>\n      <td>513.832400</td>\n      <td>145.657815</td>\n      <td>0.345133</td>\n      <td>0.0</td>\n      <td>294.095022</td>\n      <td>{'C2': 0.0, 'D2': 0.0, 'E2': 0.0, 'F2': 0.0, '...</td>\n      <td>12</td>\n      <td>마크툽 (MAKTUB)</td>\n      <td>SOLO</td>\n      <td>MALE</td>\n    </tr>\n    <tr>\n      <th>3</th>\n      <td>172</td>\n      <td>시작</td>\n      <td>OST</td>\n      <td>새로운 시작은 늘 설레게 하지\\n모든 걸 이겨낼 것처럼\\n시간을 뒤쫓는 시계바늘처럼...</td>\n      <td>2020-02-01</td>\n      <td>0</td>\n      <td>8</td>\n      <td>428.380936</td>\n      <td>149.105775</td>\n      <td>0.331224</td>\n      <td>0.0</td>\n      <td>300.080222</td>\n      <td>{'C2': 0.0, 'D2': 0.0, 'E2': 0.0, 'F2': 0.0, '...</td>\n      <td>14</td>\n      <td>가호 (Gaho)</td>\n      <td>SOLO</td>\n      <td>MALE</td>\n    </tr>\n    <tr>\n      <th>4</th>\n      <td>173</td>\n      <td>어땠을까 (Feat. 박정현)</td>\n      <td>RAP</td>\n      <td>내가 그때 널 잡았더라면\\n너와 나 지금보다 행복했을까\\n마지막에 널\\n안아줬다면 ...</td>\n      <td>2012-07-15</td>\n      <td>1</td>\n      <td>9</td>\n      <td>620.806132</td>\n      <td>123.754295</td>\n      <td>0.485465</td>\n      <td>0.0</td>\n      <td>317.807284</td>\n      <td>{'C2': 0.0, 'D2': 0.0, 'E2': 0.0, 'F2': 0.0, '...</td>\n      <td>15</td>\n      <td>싸이 (PSY)</td>\n      <td>SOLO</td>\n      <td>MALE</td>\n    </tr>\n  </tbody>\n</table>\n</div>"
     },
     "execution_count": 10,
     "metadata": {},
     "output_type": "execute_result"
    }
   ],
   "source": [
    "music_data_test = music_data\n",
    "music_data_test.drop(['genre', 'lyrics', 'release_date', 'likes', 'view', 'highest_pitch', 'lowest_pitch', 'high_pitch_ratio', 'low_pitch_ratio',\n",
    "                'pitch_average', 'pitch_stat', 'group_id', 'group_name', 'group_type'], axis = 1)\n",
    "music_data_test.head()"
   ],
   "metadata": {
    "collapsed": false,
    "ExecuteTime": {
     "end_time": "2024-10-25T01:33:40.750637Z",
     "start_time": "2024-10-25T01:33:40.723187Z"
    }
   },
   "id": "b22423d7232599a4",
   "execution_count": 10
  },
  {
   "cell_type": "code",
   "outputs": [
    {
     "data": {
      "text/plain": "   music_id  user_id  rating         title    genre  \\\n0       383        1     3.2          다행이다  BALLADE   \n1       180        1     3.1          취중진담  BALLADE   \n2       176        1     3.2        잠시만 안녕  BALLADE   \n3       192        1     3.1         Spicy    DANCE   \n4       203        1     5.7  주저하는 연인들을 위해    INDIE   \n\n                                              lyrics release_date  likes  \\\n0  그대를 만나고\\n그대의 머릿결을 만질 수가 있어서\\n그대를 만나고\\n그대와 마주보며...   2007-04-19      0   \n1  그래 난 취했는지도 몰라\\n실수인지도 몰라\\n아침이면 까마득히 생각이 안나\\n불안해...   2007-03-15      0   \n2  행복을 줄 수 없었어\\n그런데 사랑을 했어\\n니곁에 감히 머무른\\n내 욕심을 용서치...   2007-05-10      0   \n3  Uh Uh Too Spicy\\nYou want my A to the Z\\nBut y...   2023-05-08      1   \n4  나는 읽기 쉬운 마음이야\\n당신도 스윽 훑고 가셔요\\n달랠 길 없는 외로운 마음 있...   2019-03-13      1   \n\n   view  highest_pitch  lowest_pitch  high_pitch_ratio  low_pitch_ratio  \\\n0    22     378.239188    125.874867          0.077957         0.000000   \n1     8     688.456088     92.717461          0.236074         0.002653   \n2    12     885.293572    166.179307          0.493438         0.000000   \n3    11     703.966140    193.677050          0.074554         0.141005   \n4    11     465.799037    131.582028          0.175559         0.000000   \n\n   pitch_average                                         pitch_stat  group_id  \\\n0     261.205990  {'C2': 0.0, 'D2': 0.0, 'E2': 0.0, 'F2': 0.0, '...        61   \n1     254.914448  {'C2': 0.0, 'D2': 0.0, 'E2': 0.0, 'F2': 0.0, '...        22   \n2     360.619057  {'C2': 0.0, 'D2': 0.0, 'E2': 0.0, 'F2': 0.0, '...        18   \n3     387.823861  {'C2': 0.0, 'D2': 0.0, 'E2': 0.0, 'F2': 0.0, '...        43   \n4     272.035502  {'C2': 0.0, 'D2': 0.0, 'E2': 0.0, 'F2': 0.0, '...        54   \n\n            group_name group_type  gender  \n0                   이적       SOLO    MALE  \n1                  김동률       SOLO    MALE  \n2  엠씨더맥스 (M.C the MAX)       SOLO    MALE  \n3                aespa      GROUP  FEMALE  \n4                  잔나비      GROUP    MALE  ",
      "text/html": "<div>\n<style scoped>\n    .dataframe tbody tr th:only-of-type {\n        vertical-align: middle;\n    }\n\n    .dataframe tbody tr th {\n        vertical-align: top;\n    }\n\n    .dataframe thead th {\n        text-align: right;\n    }\n</style>\n<table border=\"1\" class=\"dataframe\">\n  <thead>\n    <tr style=\"text-align: right;\">\n      <th></th>\n      <th>music_id</th>\n      <th>user_id</th>\n      <th>rating</th>\n      <th>title</th>\n      <th>genre</th>\n      <th>lyrics</th>\n      <th>release_date</th>\n      <th>likes</th>\n      <th>view</th>\n      <th>highest_pitch</th>\n      <th>lowest_pitch</th>\n      <th>high_pitch_ratio</th>\n      <th>low_pitch_ratio</th>\n      <th>pitch_average</th>\n      <th>pitch_stat</th>\n      <th>group_id</th>\n      <th>group_name</th>\n      <th>group_type</th>\n      <th>gender</th>\n    </tr>\n  </thead>\n  <tbody>\n    <tr>\n      <th>0</th>\n      <td>383</td>\n      <td>1</td>\n      <td>3.2</td>\n      <td>다행이다</td>\n      <td>BALLADE</td>\n      <td>그대를 만나고\\n그대의 머릿결을 만질 수가 있어서\\n그대를 만나고\\n그대와 마주보며...</td>\n      <td>2007-04-19</td>\n      <td>0</td>\n      <td>22</td>\n      <td>378.239188</td>\n      <td>125.874867</td>\n      <td>0.077957</td>\n      <td>0.000000</td>\n      <td>261.205990</td>\n      <td>{'C2': 0.0, 'D2': 0.0, 'E2': 0.0, 'F2': 0.0, '...</td>\n      <td>61</td>\n      <td>이적</td>\n      <td>SOLO</td>\n      <td>MALE</td>\n    </tr>\n    <tr>\n      <th>1</th>\n      <td>180</td>\n      <td>1</td>\n      <td>3.1</td>\n      <td>취중진담</td>\n      <td>BALLADE</td>\n      <td>그래 난 취했는지도 몰라\\n실수인지도 몰라\\n아침이면 까마득히 생각이 안나\\n불안해...</td>\n      <td>2007-03-15</td>\n      <td>0</td>\n      <td>8</td>\n      <td>688.456088</td>\n      <td>92.717461</td>\n      <td>0.236074</td>\n      <td>0.002653</td>\n      <td>254.914448</td>\n      <td>{'C2': 0.0, 'D2': 0.0, 'E2': 0.0, 'F2': 0.0, '...</td>\n      <td>22</td>\n      <td>김동률</td>\n      <td>SOLO</td>\n      <td>MALE</td>\n    </tr>\n    <tr>\n      <th>2</th>\n      <td>176</td>\n      <td>1</td>\n      <td>3.2</td>\n      <td>잠시만 안녕</td>\n      <td>BALLADE</td>\n      <td>행복을 줄 수 없었어\\n그런데 사랑을 했어\\n니곁에 감히 머무른\\n내 욕심을 용서치...</td>\n      <td>2007-05-10</td>\n      <td>0</td>\n      <td>12</td>\n      <td>885.293572</td>\n      <td>166.179307</td>\n      <td>0.493438</td>\n      <td>0.000000</td>\n      <td>360.619057</td>\n      <td>{'C2': 0.0, 'D2': 0.0, 'E2': 0.0, 'F2': 0.0, '...</td>\n      <td>18</td>\n      <td>엠씨더맥스 (M.C the MAX)</td>\n      <td>SOLO</td>\n      <td>MALE</td>\n    </tr>\n    <tr>\n      <th>3</th>\n      <td>192</td>\n      <td>1</td>\n      <td>3.1</td>\n      <td>Spicy</td>\n      <td>DANCE</td>\n      <td>Uh Uh Too Spicy\\nYou want my A to the Z\\nBut y...</td>\n      <td>2023-05-08</td>\n      <td>1</td>\n      <td>11</td>\n      <td>703.966140</td>\n      <td>193.677050</td>\n      <td>0.074554</td>\n      <td>0.141005</td>\n      <td>387.823861</td>\n      <td>{'C2': 0.0, 'D2': 0.0, 'E2': 0.0, 'F2': 0.0, '...</td>\n      <td>43</td>\n      <td>aespa</td>\n      <td>GROUP</td>\n      <td>FEMALE</td>\n    </tr>\n    <tr>\n      <th>4</th>\n      <td>203</td>\n      <td>1</td>\n      <td>5.7</td>\n      <td>주저하는 연인들을 위해</td>\n      <td>INDIE</td>\n      <td>나는 읽기 쉬운 마음이야\\n당신도 스윽 훑고 가셔요\\n달랠 길 없는 외로운 마음 있...</td>\n      <td>2019-03-13</td>\n      <td>1</td>\n      <td>11</td>\n      <td>465.799037</td>\n      <td>131.582028</td>\n      <td>0.175559</td>\n      <td>0.000000</td>\n      <td>272.035502</td>\n      <td>{'C2': 0.0, 'D2': 0.0, 'E2': 0.0, 'F2': 0.0, '...</td>\n      <td>54</td>\n      <td>잔나비</td>\n      <td>GROUP</td>\n      <td>MALE</td>\n    </tr>\n  </tbody>\n</table>\n</div>"
     },
     "execution_count": 11,
     "metadata": {},
     "output_type": "execute_result"
    }
   ],
   "source": [
    "music_rating_data = pd.merge(rating_data, music_data, on ='music_id')\n",
    "music_rating_data.head()"
   ],
   "metadata": {
    "collapsed": false,
    "ExecuteTime": {
     "end_time": "2024-10-25T01:33:40.780787Z",
     "start_time": "2024-10-25T01:33:40.752636Z"
    }
   },
   "id": "a5502b8753bca56c",
   "execution_count": 11
  },
  {
   "cell_type": "code",
   "outputs": [
    {
     "data": {
      "text/plain": "(28, 19)"
     },
     "execution_count": 12,
     "metadata": {},
     "output_type": "execute_result"
    }
   ],
   "source": [
    "music_rating_data.shape"
   ],
   "metadata": {
    "collapsed": false,
    "ExecuteTime": {
     "end_time": "2024-10-25T01:33:40.795800Z",
     "start_time": "2024-10-25T01:33:40.781785Z"
    }
   },
   "id": "b25867f54f44633b",
   "execution_count": 12
  },
  {
   "cell_type": "code",
   "outputs": [],
   "source": [
    "user_music_rating = music_rating_data.pivot_table('rating', index = 'user_id', columns='title').fillna(3)"
   ],
   "metadata": {
    "collapsed": false,
    "ExecuteTime": {
     "end_time": "2024-10-25T01:33:40.810685Z",
     "start_time": "2024-10-25T01:33:40.796800Z"
    }
   },
   "id": "c930b193bf64d2df",
   "execution_count": 13
  },
  {
   "cell_type": "code",
   "outputs": [
    {
     "data": {
      "text/plain": "(7, 21)"
     },
     "execution_count": 14,
     "metadata": {},
     "output_type": "execute_result"
    }
   ],
   "source": [
    "user_music_rating.shape"
   ],
   "metadata": {
    "collapsed": false,
    "ExecuteTime": {
     "end_time": "2024-10-25T01:33:40.825685Z",
     "start_time": "2024-10-25T01:33:40.811683Z"
    }
   },
   "id": "d59f3ffdb1f8fe7d",
   "execution_count": 14
  },
  {
   "cell_type": "code",
   "outputs": [
    {
     "data": {
      "text/plain": "title    Beauty and the Beast (from \"Beauty and the Beast\")  \\\nuser_id                                                       \n1                                                      3.2    \n2                                                      3.0    \n5                                                      3.0    \n6                                                      3.0    \n8                                                      3.0    \n\ntitle    Boys And Girls (Feat. Babylon)  Don't Stop Me Now  Let's Get Loud  \\\nuser_id                                                                      \n1                                   3.1                3.1             3.1   \n2                                   3.0                3.0             3.0   \n5                                   3.0                3.0             3.0   \n6                                   3.0                3.0             3.0   \n8                                   3.0                3.0             3.0   \n\ntitle    My All  Spicy  가지마 가지마  너에게 난, 나에게 넌  다행이다  부동의 첫사랑  ...  소주 한 잔  \\\nuser_id                                                       ...           \n1           3.1    3.1      3.1           3.1   3.2      4.5  ...     3.1   \n2           3.0    4.1      3.0           3.0   3.0      3.0  ...     3.0   \n5           3.0    3.0      3.0           3.0   3.0      3.0  ...     3.0   \n6           3.0    3.1      3.0           3.0   3.0      3.0  ...     3.0   \n8           3.0    3.0      3.0           3.0   3.0      3.0  ...     3.0   \n\ntitle    야생화  오늘도 빛나는 너에게  인형의 꿈  잠시만 안녕  주저하는 연인들을 위해  첫사랑  취중진담  \\\nuser_id                                                             \n1        3.1          1.0    3.0     3.2           5.7  1.1   3.1   \n2        3.0          3.0    4.1     3.0           3.0  4.1   3.0   \n5        3.0          3.0    3.0     3.0           4.5  3.0   3.0   \n6        3.0          3.0    3.0     3.0           3.0  3.0   3.0   \n8        3.0          3.0    3.0     3.0           3.0  3.0   3.0   \n\ntitle    친구 얘긴데 (feat. Skinny Brown)  퀸카 (Queencard)  \nuser_id                                               \n1                                3.1             3.1  \n2                                3.0             3.0  \n5                                3.0             3.0  \n6                                3.0             3.0  \n8                                3.0             3.0  \n\n[5 rows x 21 columns]",
      "text/html": "<div>\n<style scoped>\n    .dataframe tbody tr th:only-of-type {\n        vertical-align: middle;\n    }\n\n    .dataframe tbody tr th {\n        vertical-align: top;\n    }\n\n    .dataframe thead th {\n        text-align: right;\n    }\n</style>\n<table border=\"1\" class=\"dataframe\">\n  <thead>\n    <tr style=\"text-align: right;\">\n      <th>title</th>\n      <th>Beauty and the Beast (from \"Beauty and the Beast\")</th>\n      <th>Boys And Girls (Feat. Babylon)</th>\n      <th>Don't Stop Me Now</th>\n      <th>Let's Get Loud</th>\n      <th>My All</th>\n      <th>Spicy</th>\n      <th>가지마 가지마</th>\n      <th>너에게 난, 나에게 넌</th>\n      <th>다행이다</th>\n      <th>부동의 첫사랑</th>\n      <th>...</th>\n      <th>소주 한 잔</th>\n      <th>야생화</th>\n      <th>오늘도 빛나는 너에게</th>\n      <th>인형의 꿈</th>\n      <th>잠시만 안녕</th>\n      <th>주저하는 연인들을 위해</th>\n      <th>첫사랑</th>\n      <th>취중진담</th>\n      <th>친구 얘긴데 (feat. Skinny Brown)</th>\n      <th>퀸카 (Queencard)</th>\n    </tr>\n    <tr>\n      <th>user_id</th>\n      <th></th>\n      <th></th>\n      <th></th>\n      <th></th>\n      <th></th>\n      <th></th>\n      <th></th>\n      <th></th>\n      <th></th>\n      <th></th>\n      <th></th>\n      <th></th>\n      <th></th>\n      <th></th>\n      <th></th>\n      <th></th>\n      <th></th>\n      <th></th>\n      <th></th>\n      <th></th>\n      <th></th>\n    </tr>\n  </thead>\n  <tbody>\n    <tr>\n      <th>1</th>\n      <td>3.2</td>\n      <td>3.1</td>\n      <td>3.1</td>\n      <td>3.1</td>\n      <td>3.1</td>\n      <td>3.1</td>\n      <td>3.1</td>\n      <td>3.1</td>\n      <td>3.2</td>\n      <td>4.5</td>\n      <td>...</td>\n      <td>3.1</td>\n      <td>3.1</td>\n      <td>1.0</td>\n      <td>3.0</td>\n      <td>3.2</td>\n      <td>5.7</td>\n      <td>1.1</td>\n      <td>3.1</td>\n      <td>3.1</td>\n      <td>3.1</td>\n    </tr>\n    <tr>\n      <th>2</th>\n      <td>3.0</td>\n      <td>3.0</td>\n      <td>3.0</td>\n      <td>3.0</td>\n      <td>3.0</td>\n      <td>4.1</td>\n      <td>3.0</td>\n      <td>3.0</td>\n      <td>3.0</td>\n      <td>3.0</td>\n      <td>...</td>\n      <td>3.0</td>\n      <td>3.0</td>\n      <td>3.0</td>\n      <td>4.1</td>\n      <td>3.0</td>\n      <td>3.0</td>\n      <td>4.1</td>\n      <td>3.0</td>\n      <td>3.0</td>\n      <td>3.0</td>\n    </tr>\n    <tr>\n      <th>5</th>\n      <td>3.0</td>\n      <td>3.0</td>\n      <td>3.0</td>\n      <td>3.0</td>\n      <td>3.0</td>\n      <td>3.0</td>\n      <td>3.0</td>\n      <td>3.0</td>\n      <td>3.0</td>\n      <td>3.0</td>\n      <td>...</td>\n      <td>3.0</td>\n      <td>3.0</td>\n      <td>3.0</td>\n      <td>3.0</td>\n      <td>3.0</td>\n      <td>4.5</td>\n      <td>3.0</td>\n      <td>3.0</td>\n      <td>3.0</td>\n      <td>3.0</td>\n    </tr>\n    <tr>\n      <th>6</th>\n      <td>3.0</td>\n      <td>3.0</td>\n      <td>3.0</td>\n      <td>3.0</td>\n      <td>3.0</td>\n      <td>3.1</td>\n      <td>3.0</td>\n      <td>3.0</td>\n      <td>3.0</td>\n      <td>3.0</td>\n      <td>...</td>\n      <td>3.0</td>\n      <td>3.0</td>\n      <td>3.0</td>\n      <td>3.0</td>\n      <td>3.0</td>\n      <td>3.0</td>\n      <td>3.0</td>\n      <td>3.0</td>\n      <td>3.0</td>\n      <td>3.0</td>\n    </tr>\n    <tr>\n      <th>8</th>\n      <td>3.0</td>\n      <td>3.0</td>\n      <td>3.0</td>\n      <td>3.0</td>\n      <td>3.0</td>\n      <td>3.0</td>\n      <td>3.0</td>\n      <td>3.0</td>\n      <td>3.0</td>\n      <td>3.0</td>\n      <td>...</td>\n      <td>3.0</td>\n      <td>3.0</td>\n      <td>3.0</td>\n      <td>3.0</td>\n      <td>3.0</td>\n      <td>3.0</td>\n      <td>3.0</td>\n      <td>3.0</td>\n      <td>3.0</td>\n      <td>3.0</td>\n    </tr>\n  </tbody>\n</table>\n<p>5 rows × 21 columns</p>\n</div>"
     },
     "execution_count": 15,
     "metadata": {},
     "output_type": "execute_result"
    }
   ],
   "source": [
    "user_music_rating.head()"
   ],
   "metadata": {
    "collapsed": false,
    "ExecuteTime": {
     "end_time": "2024-10-25T01:33:40.855688Z",
     "start_time": "2024-10-25T01:33:40.826684Z"
    }
   },
   "id": "eb01d87ebd3d1d60",
   "execution_count": 15
  },
  {
   "cell_type": "code",
   "outputs": [
    {
     "data": {
      "text/plain": "title    Beauty and the Beast (from \"Beauty and the Beast\")  \\\nuser_id                                                       \n1                                                      3.2    \n2                                                      3.0    \n5                                                      3.0    \n6                                                      3.0    \n8                                                      3.0    \n19                                                     3.0    \n21                                                     3.0    \n\ntitle    Boys And Girls (Feat. Babylon)  Don't Stop Me Now  Let's Get Loud  \\\nuser_id                                                                      \n1                                   3.1                3.1             3.1   \n2                                   3.0                3.0             3.0   \n5                                   3.0                3.0             3.0   \n6                                   3.0                3.0             3.0   \n8                                   3.0                3.0             3.0   \n19                                  3.0                3.0             3.0   \n21                                  3.0                3.0             3.0   \n\ntitle    My All  Spicy  가지마 가지마  너에게 난, 나에게 넌  다행이다  부동의 첫사랑  ...  소주 한 잔  \\\nuser_id                                                       ...           \n1           3.1    3.1      3.1           3.1   3.2      4.5  ...     3.1   \n2           3.0    4.1      3.0           3.0   3.0      3.0  ...     3.0   \n5           3.0    3.0      3.0           3.0   3.0      3.0  ...     3.0   \n6           3.0    3.1      3.0           3.0   3.0      3.0  ...     3.0   \n8           3.0    3.0      3.0           3.0   3.0      3.0  ...     3.0   \n19          3.0    3.0      3.0           3.0   3.0      3.0  ...     3.0   \n21          3.1    3.0      3.0           3.0   3.0      3.0  ...     3.0   \n\ntitle    야생화  오늘도 빛나는 너에게  인형의 꿈  잠시만 안녕  주저하는 연인들을 위해  첫사랑  취중진담  \\\nuser_id                                                             \n1        3.1          1.0    3.0     3.2           5.7  1.1   3.1   \n2        3.0          3.0    4.1     3.0           3.0  4.1   3.0   \n5        3.0          3.0    3.0     3.0           4.5  3.0   3.0   \n6        3.0          3.0    3.0     3.0           3.0  3.0   3.0   \n8        3.0          3.0    3.0     3.0           3.0  3.0   3.0   \n19       4.0          3.0    3.0     3.0           3.0  3.0   3.0   \n21       3.0          3.0    3.0     3.0           3.0  3.0   3.0   \n\ntitle    친구 얘긴데 (feat. Skinny Brown)  퀸카 (Queencard)  \nuser_id                                               \n1                                3.1             3.1  \n2                                3.0             3.0  \n5                                3.0             3.0  \n6                                3.0             3.0  \n8                                3.0             3.0  \n19                               3.0             3.0  \n21                               3.0             3.0  \n\n[7 rows x 21 columns]",
      "text/html": "<div>\n<style scoped>\n    .dataframe tbody tr th:only-of-type {\n        vertical-align: middle;\n    }\n\n    .dataframe tbody tr th {\n        vertical-align: top;\n    }\n\n    .dataframe thead th {\n        text-align: right;\n    }\n</style>\n<table border=\"1\" class=\"dataframe\">\n  <thead>\n    <tr style=\"text-align: right;\">\n      <th>title</th>\n      <th>Beauty and the Beast (from \"Beauty and the Beast\")</th>\n      <th>Boys And Girls (Feat. Babylon)</th>\n      <th>Don't Stop Me Now</th>\n      <th>Let's Get Loud</th>\n      <th>My All</th>\n      <th>Spicy</th>\n      <th>가지마 가지마</th>\n      <th>너에게 난, 나에게 넌</th>\n      <th>다행이다</th>\n      <th>부동의 첫사랑</th>\n      <th>...</th>\n      <th>소주 한 잔</th>\n      <th>야생화</th>\n      <th>오늘도 빛나는 너에게</th>\n      <th>인형의 꿈</th>\n      <th>잠시만 안녕</th>\n      <th>주저하는 연인들을 위해</th>\n      <th>첫사랑</th>\n      <th>취중진담</th>\n      <th>친구 얘긴데 (feat. Skinny Brown)</th>\n      <th>퀸카 (Queencard)</th>\n    </tr>\n    <tr>\n      <th>user_id</th>\n      <th></th>\n      <th></th>\n      <th></th>\n      <th></th>\n      <th></th>\n      <th></th>\n      <th></th>\n      <th></th>\n      <th></th>\n      <th></th>\n      <th></th>\n      <th></th>\n      <th></th>\n      <th></th>\n      <th></th>\n      <th></th>\n      <th></th>\n      <th></th>\n      <th></th>\n      <th></th>\n      <th></th>\n    </tr>\n  </thead>\n  <tbody>\n    <tr>\n      <th>1</th>\n      <td>3.2</td>\n      <td>3.1</td>\n      <td>3.1</td>\n      <td>3.1</td>\n      <td>3.1</td>\n      <td>3.1</td>\n      <td>3.1</td>\n      <td>3.1</td>\n      <td>3.2</td>\n      <td>4.5</td>\n      <td>...</td>\n      <td>3.1</td>\n      <td>3.1</td>\n      <td>1.0</td>\n      <td>3.0</td>\n      <td>3.2</td>\n      <td>5.7</td>\n      <td>1.1</td>\n      <td>3.1</td>\n      <td>3.1</td>\n      <td>3.1</td>\n    </tr>\n    <tr>\n      <th>2</th>\n      <td>3.0</td>\n      <td>3.0</td>\n      <td>3.0</td>\n      <td>3.0</td>\n      <td>3.0</td>\n      <td>4.1</td>\n      <td>3.0</td>\n      <td>3.0</td>\n      <td>3.0</td>\n      <td>3.0</td>\n      <td>...</td>\n      <td>3.0</td>\n      <td>3.0</td>\n      <td>3.0</td>\n      <td>4.1</td>\n      <td>3.0</td>\n      <td>3.0</td>\n      <td>4.1</td>\n      <td>3.0</td>\n      <td>3.0</td>\n      <td>3.0</td>\n    </tr>\n    <tr>\n      <th>5</th>\n      <td>3.0</td>\n      <td>3.0</td>\n      <td>3.0</td>\n      <td>3.0</td>\n      <td>3.0</td>\n      <td>3.0</td>\n      <td>3.0</td>\n      <td>3.0</td>\n      <td>3.0</td>\n      <td>3.0</td>\n      <td>...</td>\n      <td>3.0</td>\n      <td>3.0</td>\n      <td>3.0</td>\n      <td>3.0</td>\n      <td>3.0</td>\n      <td>4.5</td>\n      <td>3.0</td>\n      <td>3.0</td>\n      <td>3.0</td>\n      <td>3.0</td>\n    </tr>\n    <tr>\n      <th>6</th>\n      <td>3.0</td>\n      <td>3.0</td>\n      <td>3.0</td>\n      <td>3.0</td>\n      <td>3.0</td>\n      <td>3.1</td>\n      <td>3.0</td>\n      <td>3.0</td>\n      <td>3.0</td>\n      <td>3.0</td>\n      <td>...</td>\n      <td>3.0</td>\n      <td>3.0</td>\n      <td>3.0</td>\n      <td>3.0</td>\n      <td>3.0</td>\n      <td>3.0</td>\n      <td>3.0</td>\n      <td>3.0</td>\n      <td>3.0</td>\n      <td>3.0</td>\n    </tr>\n    <tr>\n      <th>8</th>\n      <td>3.0</td>\n      <td>3.0</td>\n      <td>3.0</td>\n      <td>3.0</td>\n      <td>3.0</td>\n      <td>3.0</td>\n      <td>3.0</td>\n      <td>3.0</td>\n      <td>3.0</td>\n      <td>3.0</td>\n      <td>...</td>\n      <td>3.0</td>\n      <td>3.0</td>\n      <td>3.0</td>\n      <td>3.0</td>\n      <td>3.0</td>\n      <td>3.0</td>\n      <td>3.0</td>\n      <td>3.0</td>\n      <td>3.0</td>\n      <td>3.0</td>\n    </tr>\n    <tr>\n      <th>19</th>\n      <td>3.0</td>\n      <td>3.0</td>\n      <td>3.0</td>\n      <td>3.0</td>\n      <td>3.0</td>\n      <td>3.0</td>\n      <td>3.0</td>\n      <td>3.0</td>\n      <td>3.0</td>\n      <td>3.0</td>\n      <td>...</td>\n      <td>3.0</td>\n      <td>4.0</td>\n      <td>3.0</td>\n      <td>3.0</td>\n      <td>3.0</td>\n      <td>3.0</td>\n      <td>3.0</td>\n      <td>3.0</td>\n      <td>3.0</td>\n      <td>3.0</td>\n    </tr>\n    <tr>\n      <th>21</th>\n      <td>3.0</td>\n      <td>3.0</td>\n      <td>3.0</td>\n      <td>3.0</td>\n      <td>3.1</td>\n      <td>3.0</td>\n      <td>3.0</td>\n      <td>3.0</td>\n      <td>3.0</td>\n      <td>3.0</td>\n      <td>...</td>\n      <td>3.0</td>\n      <td>3.0</td>\n      <td>3.0</td>\n      <td>3.0</td>\n      <td>3.0</td>\n      <td>3.0</td>\n      <td>3.0</td>\n      <td>3.0</td>\n      <td>3.0</td>\n      <td>3.0</td>\n    </tr>\n  </tbody>\n</table>\n<p>7 rows × 21 columns</p>\n</div>"
     },
     "execution_count": 16,
     "metadata": {},
     "output_type": "execute_result"
    }
   ],
   "source": [
    "user_music_rating"
   ],
   "metadata": {
    "collapsed": false,
    "ExecuteTime": {
     "end_time": "2024-10-25T01:33:40.885685Z",
     "start_time": "2024-10-25T01:33:40.856684Z"
    }
   },
   "id": "f9222773e1ce5d06",
   "execution_count": 16
  },
  {
   "cell_type": "code",
   "outputs": [
    {
     "data": {
      "text/plain": "{1: 0, 2: 1, 5: 2, 6: 3, 8: 4, 19: 5, 21: 6}"
     },
     "execution_count": 17,
     "metadata": {},
     "output_type": "execute_result"
    }
   ],
   "source": [
    "# 나중에 user_id를 이용해 index로 접근하기 위해 저장\n",
    "user_index_dict = dict()\n",
    "for idx, uid in enumerate(user_music_rating.index):\n",
    "    user_index_dict[uid] = idx\n",
    "\n",
    "user_index_dict"
   ],
   "metadata": {
    "collapsed": false,
    "ExecuteTime": {
     "end_time": "2024-10-25T01:33:40.900691Z",
     "start_time": "2024-10-25T01:33:40.886684Z"
    }
   },
   "id": "e0d64b9047197590",
   "execution_count": 17
  },
  {
   "cell_type": "code",
   "outputs": [
    {
     "data": {
      "text/plain": "title    Beauty and the Beast (from \"Beauty and the Beast\")  \\\nuser_id                                                       \n1                                                      3.2    \n2                                                      3.0    \n5                                                      3.0    \n6                                                      3.0    \n8                                                      3.0    \n\ntitle    Boys And Girls (Feat. Babylon)  Don't Stop Me Now  Let's Get Loud  \\\nuser_id                                                                      \n1                                   3.1                3.1             3.1   \n2                                   3.0                3.0             3.0   \n5                                   3.0                3.0             3.0   \n6                                   3.0                3.0             3.0   \n8                                   3.0                3.0             3.0   \n\ntitle    My All  Spicy  가지마 가지마  너에게 난, 나에게 넌  다행이다  부동의 첫사랑  ...  \\\nuser_id                                                       ...   \n1           3.1    3.1      3.1           3.1   3.2      4.5  ...   \n2           3.0    4.1      3.0           3.0   3.0      3.0  ...   \n5           3.0    3.0      3.0           3.0   3.0      3.0  ...   \n6           3.0    3.1      3.0           3.0   3.0      3.0  ...   \n8           3.0    3.0      3.0           3.0   3.0      3.0  ...   \n\ntitle    모든 날, 모든 순간  FRIEND THE END  바람기억  Everytime  She's Gone  \\\nuser_id                                                             \n1                  3               3     3          3           3   \n2                  3               3     3          3           3   \n5                  3               3     3          3           3   \n6                  3               3     3          3           3   \n8                  3               3     3          3           3   \n\ntitle    Because Of You  Superstar  What's Up?  Listen  검은 행복  \nuser_id                                                        \n1                     3          3           3       3      3  \n2                     3          3           3       3      3  \n5                     3          3           3       3      3  \n6                     3          3           3       3      3  \n8                     3          3           3       3      3  \n\n[5 rows x 54 columns]",
      "text/html": "<div>\n<style scoped>\n    .dataframe tbody tr th:only-of-type {\n        vertical-align: middle;\n    }\n\n    .dataframe tbody tr th {\n        vertical-align: top;\n    }\n\n    .dataframe thead th {\n        text-align: right;\n    }\n</style>\n<table border=\"1\" class=\"dataframe\">\n  <thead>\n    <tr style=\"text-align: right;\">\n      <th>title</th>\n      <th>Beauty and the Beast (from \"Beauty and the Beast\")</th>\n      <th>Boys And Girls (Feat. Babylon)</th>\n      <th>Don't Stop Me Now</th>\n      <th>Let's Get Loud</th>\n      <th>My All</th>\n      <th>Spicy</th>\n      <th>가지마 가지마</th>\n      <th>너에게 난, 나에게 넌</th>\n      <th>다행이다</th>\n      <th>부동의 첫사랑</th>\n      <th>...</th>\n      <th>모든 날, 모든 순간</th>\n      <th>FRIEND THE END</th>\n      <th>바람기억</th>\n      <th>Everytime</th>\n      <th>She's Gone</th>\n      <th>Because Of You</th>\n      <th>Superstar</th>\n      <th>What's Up?</th>\n      <th>Listen</th>\n      <th>검은 행복</th>\n    </tr>\n    <tr>\n      <th>user_id</th>\n      <th></th>\n      <th></th>\n      <th></th>\n      <th></th>\n      <th></th>\n      <th></th>\n      <th></th>\n      <th></th>\n      <th></th>\n      <th></th>\n      <th></th>\n      <th></th>\n      <th></th>\n      <th></th>\n      <th></th>\n      <th></th>\n      <th></th>\n      <th></th>\n      <th></th>\n      <th></th>\n      <th></th>\n    </tr>\n  </thead>\n  <tbody>\n    <tr>\n      <th>1</th>\n      <td>3.2</td>\n      <td>3.1</td>\n      <td>3.1</td>\n      <td>3.1</td>\n      <td>3.1</td>\n      <td>3.1</td>\n      <td>3.1</td>\n      <td>3.1</td>\n      <td>3.2</td>\n      <td>4.5</td>\n      <td>...</td>\n      <td>3</td>\n      <td>3</td>\n      <td>3</td>\n      <td>3</td>\n      <td>3</td>\n      <td>3</td>\n      <td>3</td>\n      <td>3</td>\n      <td>3</td>\n      <td>3</td>\n    </tr>\n    <tr>\n      <th>2</th>\n      <td>3.0</td>\n      <td>3.0</td>\n      <td>3.0</td>\n      <td>3.0</td>\n      <td>3.0</td>\n      <td>4.1</td>\n      <td>3.0</td>\n      <td>3.0</td>\n      <td>3.0</td>\n      <td>3.0</td>\n      <td>...</td>\n      <td>3</td>\n      <td>3</td>\n      <td>3</td>\n      <td>3</td>\n      <td>3</td>\n      <td>3</td>\n      <td>3</td>\n      <td>3</td>\n      <td>3</td>\n      <td>3</td>\n    </tr>\n    <tr>\n      <th>5</th>\n      <td>3.0</td>\n      <td>3.0</td>\n      <td>3.0</td>\n      <td>3.0</td>\n      <td>3.0</td>\n      <td>3.0</td>\n      <td>3.0</td>\n      <td>3.0</td>\n      <td>3.0</td>\n      <td>3.0</td>\n      <td>...</td>\n      <td>3</td>\n      <td>3</td>\n      <td>3</td>\n      <td>3</td>\n      <td>3</td>\n      <td>3</td>\n      <td>3</td>\n      <td>3</td>\n      <td>3</td>\n      <td>3</td>\n    </tr>\n    <tr>\n      <th>6</th>\n      <td>3.0</td>\n      <td>3.0</td>\n      <td>3.0</td>\n      <td>3.0</td>\n      <td>3.0</td>\n      <td>3.1</td>\n      <td>3.0</td>\n      <td>3.0</td>\n      <td>3.0</td>\n      <td>3.0</td>\n      <td>...</td>\n      <td>3</td>\n      <td>3</td>\n      <td>3</td>\n      <td>3</td>\n      <td>3</td>\n      <td>3</td>\n      <td>3</td>\n      <td>3</td>\n      <td>3</td>\n      <td>3</td>\n    </tr>\n    <tr>\n      <th>8</th>\n      <td>3.0</td>\n      <td>3.0</td>\n      <td>3.0</td>\n      <td>3.0</td>\n      <td>3.0</td>\n      <td>3.0</td>\n      <td>3.0</td>\n      <td>3.0</td>\n      <td>3.0</td>\n      <td>3.0</td>\n      <td>...</td>\n      <td>3</td>\n      <td>3</td>\n      <td>3</td>\n      <td>3</td>\n      <td>3</td>\n      <td>3</td>\n      <td>3</td>\n      <td>3</td>\n      <td>3</td>\n      <td>3</td>\n    </tr>\n  </tbody>\n</table>\n<p>5 rows × 54 columns</p>\n</div>"
     },
     "execution_count": 18,
     "metadata": {},
     "output_type": "execute_result"
    }
   ],
   "source": [
    "# 로그에 나타나지 않는 음악 추가\n",
    "all_music_title = music_data_test['title'].tolist()\n",
    "missing_titles = [title for title in all_music_title if title not in user_music_rating.columns.tolist()]\n",
    "\n",
    "user_music_rating = user_music_rating.reindex(\n",
    "    index=list(user_music_rating.index),\n",
    "    columns=list(user_music_rating.columns) + missing_titles,\n",
    "    fill_value=3\n",
    ")\n",
    "user_music_rating.head()"
   ],
   "metadata": {
    "collapsed": false,
    "ExecuteTime": {
     "end_time": "2024-10-25T01:33:40.931202Z",
     "start_time": "2024-10-25T01:33:40.901689Z"
    }
   },
   "id": "b84d15859c2fc03c",
   "execution_count": 18
  },
  {
   "cell_type": "code",
   "outputs": [],
   "source": [
    "# matrix는 pivot_table 값을 numpy matrix로 만든 것 \n",
    "matrix = user_music_rating.values\n",
    "\n",
    "# user_ratings_mean은 사용자의 평균 평점 \n",
    "user_ratings_mean = np.mean(matrix, axis = 1)\n",
    "\n",
    "# R_user_mean : 사용자-음악에 대해 사용자 평균 평점을 뺀 것.\n",
    "matrix_user_mean = matrix - user_ratings_mean.reshape(-1, 1)"
   ],
   "metadata": {
    "collapsed": false,
    "ExecuteTime": {
     "end_time": "2024-10-25T01:33:40.946203Z",
     "start_time": "2024-10-25T01:33:40.932198Z"
    }
   },
   "id": "5264f21c36d70e59",
   "execution_count": 19
  },
  {
   "cell_type": "code",
   "outputs": [
    {
     "data": {
      "text/plain": "array([[ 1.57407407e-01,  5.74074074e-02,  5.74074074e-02,\n         5.74074074e-02,  5.74074074e-02,  5.74074074e-02,\n         5.74074074e-02,  5.74074074e-02,  1.57407407e-01,\n         1.45740741e+00,  1.57407407e-01,  5.74074074e-02,\n         5.74074074e-02, -2.04259259e+00, -4.25925926e-02,\n         1.57407407e-01,  2.65740741e+00, -1.94259259e+00,\n         5.74074074e-02,  5.74074074e-02,  5.74074074e-02,\n        -4.25925926e-02, -4.25925926e-02, -4.25925926e-02,\n        -4.25925926e-02, -4.25925926e-02, -4.25925926e-02,\n        -4.25925926e-02, -4.25925926e-02, -4.25925926e-02,\n        -4.25925926e-02, -4.25925926e-02, -4.25925926e-02,\n        -4.25925926e-02, -4.25925926e-02, -4.25925926e-02,\n        -4.25925926e-02, -4.25925926e-02, -4.25925926e-02,\n        -4.25925926e-02, -4.25925926e-02, -4.25925926e-02,\n        -4.25925926e-02, -4.25925926e-02, -4.25925926e-02,\n        -4.25925926e-02, -4.25925926e-02, -4.25925926e-02,\n        -4.25925926e-02, -4.25925926e-02, -4.25925926e-02,\n        -4.25925926e-02, -4.25925926e-02, -4.25925926e-02],\n       [-6.11111111e-02, -6.11111111e-02, -6.11111111e-02,\n        -6.11111111e-02, -6.11111111e-02,  1.03888889e+00,\n        -6.11111111e-02, -6.11111111e-02, -6.11111111e-02,\n        -6.11111111e-02, -6.11111111e-02, -6.11111111e-02,\n        -6.11111111e-02, -6.11111111e-02,  1.03888889e+00,\n        -6.11111111e-02, -6.11111111e-02,  1.03888889e+00,\n        -6.11111111e-02, -6.11111111e-02, -6.11111111e-02,\n        -6.11111111e-02, -6.11111111e-02, -6.11111111e-02,\n        -6.11111111e-02, -6.11111111e-02, -6.11111111e-02,\n        -6.11111111e-02, -6.11111111e-02, -6.11111111e-02,\n        -6.11111111e-02, -6.11111111e-02, -6.11111111e-02,\n        -6.11111111e-02, -6.11111111e-02, -6.11111111e-02,\n        -6.11111111e-02, -6.11111111e-02, -6.11111111e-02,\n        -6.11111111e-02, -6.11111111e-02, -6.11111111e-02,\n        -6.11111111e-02, -6.11111111e-02, -6.11111111e-02,\n        -6.11111111e-02, -6.11111111e-02, -6.11111111e-02,\n        -6.11111111e-02, -6.11111111e-02, -6.11111111e-02,\n        -6.11111111e-02, -6.11111111e-02, -6.11111111e-02],\n       [-2.77777778e-02, -2.77777778e-02, -2.77777778e-02,\n        -2.77777778e-02, -2.77777778e-02, -2.77777778e-02,\n        -2.77777778e-02, -2.77777778e-02, -2.77777778e-02,\n        -2.77777778e-02, -2.77777778e-02, -2.77777778e-02,\n        -2.77777778e-02, -2.77777778e-02, -2.77777778e-02,\n        -2.77777778e-02,  1.47222222e+00, -2.77777778e-02,\n        -2.77777778e-02, -2.77777778e-02, -2.77777778e-02,\n        -2.77777778e-02, -2.77777778e-02, -2.77777778e-02,\n        -2.77777778e-02, -2.77777778e-02, -2.77777778e-02,\n        -2.77777778e-02, -2.77777778e-02, -2.77777778e-02,\n        -2.77777778e-02, -2.77777778e-02, -2.77777778e-02,\n        -2.77777778e-02, -2.77777778e-02, -2.77777778e-02,\n        -2.77777778e-02, -2.77777778e-02, -2.77777778e-02,\n        -2.77777778e-02, -2.77777778e-02, -2.77777778e-02,\n        -2.77777778e-02, -2.77777778e-02, -2.77777778e-02,\n        -2.77777778e-02, -2.77777778e-02, -2.77777778e-02,\n        -2.77777778e-02, -2.77777778e-02, -2.77777778e-02,\n        -2.77777778e-02, -2.77777778e-02, -2.77777778e-02],\n       [-1.85185185e-03, -1.85185185e-03, -1.85185185e-03,\n        -1.85185185e-03, -1.85185185e-03,  9.81481481e-02,\n        -1.85185185e-03, -1.85185185e-03, -1.85185185e-03,\n        -1.85185185e-03, -1.85185185e-03, -1.85185185e-03,\n        -1.85185185e-03, -1.85185185e-03, -1.85185185e-03,\n        -1.85185185e-03, -1.85185185e-03, -1.85185185e-03,\n        -1.85185185e-03, -1.85185185e-03, -1.85185185e-03,\n        -1.85185185e-03, -1.85185185e-03, -1.85185185e-03,\n        -1.85185185e-03, -1.85185185e-03, -1.85185185e-03,\n        -1.85185185e-03, -1.85185185e-03, -1.85185185e-03,\n        -1.85185185e-03, -1.85185185e-03, -1.85185185e-03,\n        -1.85185185e-03, -1.85185185e-03, -1.85185185e-03,\n        -1.85185185e-03, -1.85185185e-03, -1.85185185e-03,\n        -1.85185185e-03, -1.85185185e-03, -1.85185185e-03,\n        -1.85185185e-03, -1.85185185e-03, -1.85185185e-03,\n        -1.85185185e-03, -1.85185185e-03, -1.85185185e-03,\n        -1.85185185e-03, -1.85185185e-03, -1.85185185e-03,\n        -1.85185185e-03, -1.85185185e-03, -1.85185185e-03],\n       [-1.85185185e-03, -1.85185185e-03, -1.85185185e-03,\n        -1.85185185e-03, -1.85185185e-03, -1.85185185e-03,\n        -1.85185185e-03, -1.85185185e-03, -1.85185185e-03,\n        -1.85185185e-03,  9.81481481e-02, -1.85185185e-03,\n        -1.85185185e-03, -1.85185185e-03, -1.85185185e-03,\n        -1.85185185e-03, -1.85185185e-03, -1.85185185e-03,\n        -1.85185185e-03, -1.85185185e-03, -1.85185185e-03,\n        -1.85185185e-03, -1.85185185e-03, -1.85185185e-03,\n        -1.85185185e-03, -1.85185185e-03, -1.85185185e-03,\n        -1.85185185e-03, -1.85185185e-03, -1.85185185e-03,\n        -1.85185185e-03, -1.85185185e-03, -1.85185185e-03,\n        -1.85185185e-03, -1.85185185e-03, -1.85185185e-03,\n        -1.85185185e-03, -1.85185185e-03, -1.85185185e-03,\n        -1.85185185e-03, -1.85185185e-03, -1.85185185e-03,\n        -1.85185185e-03, -1.85185185e-03, -1.85185185e-03,\n        -1.85185185e-03, -1.85185185e-03, -1.85185185e-03,\n        -1.85185185e-03, -1.85185185e-03, -1.85185185e-03,\n        -1.85185185e-03, -1.85185185e-03, -1.85185185e-03],\n       [-1.85185185e-02, -1.85185185e-02, -1.85185185e-02,\n        -1.85185185e-02, -1.85185185e-02, -1.85185185e-02,\n        -1.85185185e-02, -1.85185185e-02, -1.85185185e-02,\n        -1.85185185e-02, -1.85185185e-02, -1.85185185e-02,\n         9.81481481e-01, -1.85185185e-02, -1.85185185e-02,\n        -1.85185185e-02, -1.85185185e-02, -1.85185185e-02,\n        -1.85185185e-02, -1.85185185e-02, -1.85185185e-02,\n        -1.85185185e-02, -1.85185185e-02, -1.85185185e-02,\n        -1.85185185e-02, -1.85185185e-02, -1.85185185e-02,\n        -1.85185185e-02, -1.85185185e-02, -1.85185185e-02,\n        -1.85185185e-02, -1.85185185e-02, -1.85185185e-02,\n        -1.85185185e-02, -1.85185185e-02, -1.85185185e-02,\n        -1.85185185e-02, -1.85185185e-02, -1.85185185e-02,\n        -1.85185185e-02, -1.85185185e-02, -1.85185185e-02,\n        -1.85185185e-02, -1.85185185e-02, -1.85185185e-02,\n        -1.85185185e-02, -1.85185185e-02, -1.85185185e-02,\n        -1.85185185e-02, -1.85185185e-02, -1.85185185e-02,\n        -1.85185185e-02, -1.85185185e-02, -1.85185185e-02],\n       [-1.85185185e-03, -1.85185185e-03, -1.85185185e-03,\n        -1.85185185e-03,  9.81481481e-02, -1.85185185e-03,\n        -1.85185185e-03, -1.85185185e-03, -1.85185185e-03,\n        -1.85185185e-03, -1.85185185e-03, -1.85185185e-03,\n        -1.85185185e-03, -1.85185185e-03, -1.85185185e-03,\n        -1.85185185e-03, -1.85185185e-03, -1.85185185e-03,\n        -1.85185185e-03, -1.85185185e-03, -1.85185185e-03,\n        -1.85185185e-03, -1.85185185e-03, -1.85185185e-03,\n        -1.85185185e-03, -1.85185185e-03, -1.85185185e-03,\n        -1.85185185e-03, -1.85185185e-03, -1.85185185e-03,\n        -1.85185185e-03, -1.85185185e-03, -1.85185185e-03,\n        -1.85185185e-03, -1.85185185e-03, -1.85185185e-03,\n        -1.85185185e-03, -1.85185185e-03, -1.85185185e-03,\n        -1.85185185e-03, -1.85185185e-03, -1.85185185e-03,\n        -1.85185185e-03, -1.85185185e-03, -1.85185185e-03,\n        -1.85185185e-03, -1.85185185e-03, -1.85185185e-03,\n        -1.85185185e-03, -1.85185185e-03, -1.85185185e-03,\n        -1.85185185e-03, -1.85185185e-03, -1.85185185e-03]])"
     },
     "execution_count": 20,
     "metadata": {},
     "output_type": "execute_result"
    }
   ],
   "source": [
    "matrix_user_mean"
   ],
   "metadata": {
    "collapsed": false,
    "ExecuteTime": {
     "end_time": "2024-10-25T01:33:40.961204Z",
     "start_time": "2024-10-25T01:33:40.947199Z"
    }
   },
   "id": "90300d956c41579a",
   "execution_count": 20
  },
  {
   "cell_type": "code",
   "outputs": [
    {
     "data": {
      "text/plain": "title  Beauty and the Beast (from \"Beauty and the Beast\")  \\\n0                                               0.157407    \n1                                              -0.061111    \n2                                              -0.027778    \n3                                              -0.001852    \n4                                              -0.001852    \n\ntitle  Boys And Girls (Feat. Babylon)  Don't Stop Me Now  Let's Get Loud  \\\n0                            0.057407           0.057407        0.057407   \n1                           -0.061111          -0.061111       -0.061111   \n2                           -0.027778          -0.027778       -0.027778   \n3                           -0.001852          -0.001852       -0.001852   \n4                           -0.001852          -0.001852       -0.001852   \n\ntitle    My All     Spicy   가지마 가지마  너에게 난, 나에게 넌      다행이다   부동의 첫사랑  ...  \\\n0      0.057407  0.057407  0.057407      0.057407  0.157407  1.457407  ...   \n1     -0.061111  1.038889 -0.061111     -0.061111 -0.061111 -0.061111  ...   \n2     -0.027778 -0.027778 -0.027778     -0.027778 -0.027778 -0.027778  ...   \n3     -0.001852  0.098148 -0.001852     -0.001852 -0.001852 -0.001852  ...   \n4     -0.001852 -0.001852 -0.001852     -0.001852 -0.001852 -0.001852  ...   \n\ntitle  모든 날, 모든 순간  FRIEND THE END      바람기억  Everytime  She's Gone  \\\n0        -0.042593       -0.042593 -0.042593  -0.042593   -0.042593   \n1        -0.061111       -0.061111 -0.061111  -0.061111   -0.061111   \n2        -0.027778       -0.027778 -0.027778  -0.027778   -0.027778   \n3        -0.001852       -0.001852 -0.001852  -0.001852   -0.001852   \n4        -0.001852       -0.001852 -0.001852  -0.001852   -0.001852   \n\ntitle  Because Of You  Superstar  What's Up?    Listen     검은 행복  \n0           -0.042593  -0.042593   -0.042593 -0.042593 -0.042593  \n1           -0.061111  -0.061111   -0.061111 -0.061111 -0.061111  \n2           -0.027778  -0.027778   -0.027778 -0.027778 -0.027778  \n3           -0.001852  -0.001852   -0.001852 -0.001852 -0.001852  \n4           -0.001852  -0.001852   -0.001852 -0.001852 -0.001852  \n\n[5 rows x 54 columns]",
      "text/html": "<div>\n<style scoped>\n    .dataframe tbody tr th:only-of-type {\n        vertical-align: middle;\n    }\n\n    .dataframe tbody tr th {\n        vertical-align: top;\n    }\n\n    .dataframe thead th {\n        text-align: right;\n    }\n</style>\n<table border=\"1\" class=\"dataframe\">\n  <thead>\n    <tr style=\"text-align: right;\">\n      <th>title</th>\n      <th>Beauty and the Beast (from \"Beauty and the Beast\")</th>\n      <th>Boys And Girls (Feat. Babylon)</th>\n      <th>Don't Stop Me Now</th>\n      <th>Let's Get Loud</th>\n      <th>My All</th>\n      <th>Spicy</th>\n      <th>가지마 가지마</th>\n      <th>너에게 난, 나에게 넌</th>\n      <th>다행이다</th>\n      <th>부동의 첫사랑</th>\n      <th>...</th>\n      <th>모든 날, 모든 순간</th>\n      <th>FRIEND THE END</th>\n      <th>바람기억</th>\n      <th>Everytime</th>\n      <th>She's Gone</th>\n      <th>Because Of You</th>\n      <th>Superstar</th>\n      <th>What's Up?</th>\n      <th>Listen</th>\n      <th>검은 행복</th>\n    </tr>\n  </thead>\n  <tbody>\n    <tr>\n      <th>0</th>\n      <td>0.157407</td>\n      <td>0.057407</td>\n      <td>0.057407</td>\n      <td>0.057407</td>\n      <td>0.057407</td>\n      <td>0.057407</td>\n      <td>0.057407</td>\n      <td>0.057407</td>\n      <td>0.157407</td>\n      <td>1.457407</td>\n      <td>...</td>\n      <td>-0.042593</td>\n      <td>-0.042593</td>\n      <td>-0.042593</td>\n      <td>-0.042593</td>\n      <td>-0.042593</td>\n      <td>-0.042593</td>\n      <td>-0.042593</td>\n      <td>-0.042593</td>\n      <td>-0.042593</td>\n      <td>-0.042593</td>\n    </tr>\n    <tr>\n      <th>1</th>\n      <td>-0.061111</td>\n      <td>-0.061111</td>\n      <td>-0.061111</td>\n      <td>-0.061111</td>\n      <td>-0.061111</td>\n      <td>1.038889</td>\n      <td>-0.061111</td>\n      <td>-0.061111</td>\n      <td>-0.061111</td>\n      <td>-0.061111</td>\n      <td>...</td>\n      <td>-0.061111</td>\n      <td>-0.061111</td>\n      <td>-0.061111</td>\n      <td>-0.061111</td>\n      <td>-0.061111</td>\n      <td>-0.061111</td>\n      <td>-0.061111</td>\n      <td>-0.061111</td>\n      <td>-0.061111</td>\n      <td>-0.061111</td>\n    </tr>\n    <tr>\n      <th>2</th>\n      <td>-0.027778</td>\n      <td>-0.027778</td>\n      <td>-0.027778</td>\n      <td>-0.027778</td>\n      <td>-0.027778</td>\n      <td>-0.027778</td>\n      <td>-0.027778</td>\n      <td>-0.027778</td>\n      <td>-0.027778</td>\n      <td>-0.027778</td>\n      <td>...</td>\n      <td>-0.027778</td>\n      <td>-0.027778</td>\n      <td>-0.027778</td>\n      <td>-0.027778</td>\n      <td>-0.027778</td>\n      <td>-0.027778</td>\n      <td>-0.027778</td>\n      <td>-0.027778</td>\n      <td>-0.027778</td>\n      <td>-0.027778</td>\n    </tr>\n    <tr>\n      <th>3</th>\n      <td>-0.001852</td>\n      <td>-0.001852</td>\n      <td>-0.001852</td>\n      <td>-0.001852</td>\n      <td>-0.001852</td>\n      <td>0.098148</td>\n      <td>-0.001852</td>\n      <td>-0.001852</td>\n      <td>-0.001852</td>\n      <td>-0.001852</td>\n      <td>...</td>\n      <td>-0.001852</td>\n      <td>-0.001852</td>\n      <td>-0.001852</td>\n      <td>-0.001852</td>\n      <td>-0.001852</td>\n      <td>-0.001852</td>\n      <td>-0.001852</td>\n      <td>-0.001852</td>\n      <td>-0.001852</td>\n      <td>-0.001852</td>\n    </tr>\n    <tr>\n      <th>4</th>\n      <td>-0.001852</td>\n      <td>-0.001852</td>\n      <td>-0.001852</td>\n      <td>-0.001852</td>\n      <td>-0.001852</td>\n      <td>-0.001852</td>\n      <td>-0.001852</td>\n      <td>-0.001852</td>\n      <td>-0.001852</td>\n      <td>-0.001852</td>\n      <td>...</td>\n      <td>-0.001852</td>\n      <td>-0.001852</td>\n      <td>-0.001852</td>\n      <td>-0.001852</td>\n      <td>-0.001852</td>\n      <td>-0.001852</td>\n      <td>-0.001852</td>\n      <td>-0.001852</td>\n      <td>-0.001852</td>\n      <td>-0.001852</td>\n    </tr>\n  </tbody>\n</table>\n<p>5 rows × 54 columns</p>\n</div>"
     },
     "execution_count": 21,
     "metadata": {},
     "output_type": "execute_result"
    }
   ],
   "source": [
    "pd.DataFrame(matrix_user_mean, columns = user_music_rating.columns).head()"
   ],
   "metadata": {
    "collapsed": false,
    "ExecuteTime": {
     "end_time": "2024-10-25T01:33:40.976572Z",
     "start_time": "2024-10-25T01:33:40.962198Z"
    }
   },
   "id": "ea4a42840b41a82d",
   "execution_count": 21
  },
  {
   "cell_type": "code",
   "outputs": [],
   "source": [
    "U, sigma, Vt = svds(matrix_user_mean, k = 6)"
   ],
   "metadata": {
    "collapsed": false,
    "ExecuteTime": {
     "end_time": "2024-10-25T01:33:41.006580Z",
     "start_time": "2024-10-25T01:33:40.977573Z"
    }
   },
   "id": "5f5f6fdfeedc49c3",
   "execution_count": 22
  },
  {
   "cell_type": "code",
   "outputs": [
    {
     "name": "stdout",
     "output_type": "stream",
     "text": [
      "(7, 6)\n",
      "(6,)\n",
      "(6, 54)\n"
     ]
    }
   ],
   "source": [
    "print(U.shape)\n",
    "print(sigma.shape)\n",
    "print(Vt.shape)"
   ],
   "metadata": {
    "collapsed": false,
    "ExecuteTime": {
     "end_time": "2024-10-25T01:33:41.022014Z",
     "start_time": "2024-10-25T01:33:41.007765Z"
    }
   },
   "id": "a550df5dd702c6ef",
   "execution_count": 23
  },
  {
   "cell_type": "code",
   "outputs": [
    {
     "data": {
      "text/plain": "(6, 6)"
     },
     "execution_count": 24,
     "metadata": {},
     "output_type": "execute_result"
    }
   ],
   "source": [
    "# 현재 이 Sigma 행렬은 0이 아닌 값만 1차원 행렬로 표현된 상태입니다.\n",
    "# 즉, 0이 포함된 대칭행렬로 변환할 때는 numpy의 diag를 이용해야 합니다.\n",
    "\n",
    "sigma = np.diag(sigma)\n",
    "sigma.shape"
   ],
   "metadata": {
    "collapsed": false,
    "ExecuteTime": {
     "end_time": "2024-10-25T01:33:41.037017Z",
     "start_time": "2024-10-25T01:33:41.023015Z"
    }
   },
   "id": "cdb140dfb18dc516",
   "execution_count": 24
  },
  {
   "cell_type": "markdown",
   "source": [
    "이렇게 대칭 행렬로 변환이 되었습니다.\n",
    "\n",
    "현재 까지 상황을 정리하면 아래와 같습니다.\n",
    "\n",
    "원본 user-music 평점 행렬이 있었음\n",
    "이를 user의 평균 점수를 빼서 matrix_user_mean 이라는 행렬로 만듬\n",
    "2번의 값을 SVD를 적용해 U, Sigma, Vt 행렬을 구했음\n",
    "Sigma 행렬은 현재 0이 포함이 되지 않은 값으로만 구성되어 있음. 이를 대칭행렬로 변환\n",
    "자! 이제 여기서 matrix_user_mean을 SVD를 적용해 분해를 한 상태입니다.\n",
    "이제, 다시 원본 행렬로 복구시켜야겠죠?\n",
    "\n",
    "원본 행렬로 복구시키는 방법은 아래와 같습니다.\n",
    "\n",
    "U, Sigma, Vt의 내적을 수행\n",
    "즉, np.dot(np.dot(U, sigma), Vt)를 수행하면 됩니다.\n",
    "\n",
    "그리고 아까 사용자 평균을 빼주었으니 여기서는 더해줍니다."
   ],
   "metadata": {
    "collapsed": false
   },
   "id": "f0c444d8eacb90e1"
  },
  {
   "cell_type": "code",
   "outputs": [],
   "source": [
    "# U, Sigma, Vt의 내적을 수행하면, 다시 원본 행렬로 복원이 된다. \n",
    "# 거기에 + 사용자 평균 rating을 적용한다. \n",
    "svd_user_predicted_ratings = np.dot(np.dot(U, sigma), Vt) + user_ratings_mean.reshape(-1, 1)"
   ],
   "metadata": {
    "collapsed": false,
    "ExecuteTime": {
     "end_time": "2024-10-25T01:33:41.052016Z",
     "start_time": "2024-10-25T01:33:41.038013Z"
    }
   },
   "id": "45a407690463f30f",
   "execution_count": 25
  },
  {
   "cell_type": "code",
   "outputs": [
    {
     "data": {
      "text/plain": "title  Beauty and the Beast (from \"Beauty and the Beast\")  \\\n0                                               3.199988    \n1                                               2.999949    \n2                                               3.000021    \n3                                               3.001475    \n4                                               3.000056    \n\ntitle  Boys And Girls (Feat. Babylon)  Don't Stop Me Now  Let's Get Loud  \\\n0                            3.099995           3.099995        3.099995   \n1                            2.999976           2.999976        2.999976   \n2                            3.000010           3.000010        3.000010   \n3                            3.000688           3.000688        3.000688   \n4                            3.000026           3.000026        3.000026   \n\ntitle    My All     Spicy   가지마 가지마  너에게 난, 나에게 넌      다행이다   부동의 첫사랑  ...  \\\n0      3.100009  3.100480  3.099995      3.099995  3.199988  4.499908  ...   \n1      3.000038  4.102116  2.999976      2.999976  2.999949  2.999594  ...   \n2      2.999985  2.999137  3.000010      3.000010  3.000021  3.000166  ...   \n3      2.998920  3.039116  3.000688      3.000688  3.001475  3.011696  ...   \n4      2.999959  2.997686  3.000026      3.000026  3.000056  3.000445  ...   \n\ntitle  모든 날, 모든 순간  FRIEND THE END      바람기억  Everytime  She's Gone  \\\n0         3.000001        3.000001  3.000001   3.000001    3.000001   \n1         3.000003        3.000003  3.000003   3.000003    3.000003   \n2         2.999999        2.999999  2.999999   2.999999    2.999999   \n3         2.999902        2.999902  2.999902   2.999902    2.999902   \n4         2.999996        2.999996  2.999996   2.999996    2.999996   \n\ntitle  Because Of You  Superstar  What's Up?    Listen     검은 행복  \n0            3.000001   3.000001    3.000001  3.000001  3.000001  \n1            3.000003   3.000003    3.000003  3.000003  3.000003  \n2            2.999999   2.999999    2.999999  2.999999  2.999999  \n3            2.999902   2.999902    2.999902  2.999902  2.999902  \n4            2.999996   2.999996    2.999996  2.999996  2.999996  \n\n[5 rows x 54 columns]",
      "text/html": "<div>\n<style scoped>\n    .dataframe tbody tr th:only-of-type {\n        vertical-align: middle;\n    }\n\n    .dataframe tbody tr th {\n        vertical-align: top;\n    }\n\n    .dataframe thead th {\n        text-align: right;\n    }\n</style>\n<table border=\"1\" class=\"dataframe\">\n  <thead>\n    <tr style=\"text-align: right;\">\n      <th>title</th>\n      <th>Beauty and the Beast (from \"Beauty and the Beast\")</th>\n      <th>Boys And Girls (Feat. Babylon)</th>\n      <th>Don't Stop Me Now</th>\n      <th>Let's Get Loud</th>\n      <th>My All</th>\n      <th>Spicy</th>\n      <th>가지마 가지마</th>\n      <th>너에게 난, 나에게 넌</th>\n      <th>다행이다</th>\n      <th>부동의 첫사랑</th>\n      <th>...</th>\n      <th>모든 날, 모든 순간</th>\n      <th>FRIEND THE END</th>\n      <th>바람기억</th>\n      <th>Everytime</th>\n      <th>She's Gone</th>\n      <th>Because Of You</th>\n      <th>Superstar</th>\n      <th>What's Up?</th>\n      <th>Listen</th>\n      <th>검은 행복</th>\n    </tr>\n  </thead>\n  <tbody>\n    <tr>\n      <th>0</th>\n      <td>3.199988</td>\n      <td>3.099995</td>\n      <td>3.099995</td>\n      <td>3.099995</td>\n      <td>3.100009</td>\n      <td>3.100480</td>\n      <td>3.099995</td>\n      <td>3.099995</td>\n      <td>3.199988</td>\n      <td>4.499908</td>\n      <td>...</td>\n      <td>3.000001</td>\n      <td>3.000001</td>\n      <td>3.000001</td>\n      <td>3.000001</td>\n      <td>3.000001</td>\n      <td>3.000001</td>\n      <td>3.000001</td>\n      <td>3.000001</td>\n      <td>3.000001</td>\n      <td>3.000001</td>\n    </tr>\n    <tr>\n      <th>1</th>\n      <td>2.999949</td>\n      <td>2.999976</td>\n      <td>2.999976</td>\n      <td>2.999976</td>\n      <td>3.000038</td>\n      <td>4.102116</td>\n      <td>2.999976</td>\n      <td>2.999976</td>\n      <td>2.999949</td>\n      <td>2.999594</td>\n      <td>...</td>\n      <td>3.000003</td>\n      <td>3.000003</td>\n      <td>3.000003</td>\n      <td>3.000003</td>\n      <td>3.000003</td>\n      <td>3.000003</td>\n      <td>3.000003</td>\n      <td>3.000003</td>\n      <td>3.000003</td>\n      <td>3.000003</td>\n    </tr>\n    <tr>\n      <th>2</th>\n      <td>3.000021</td>\n      <td>3.000010</td>\n      <td>3.000010</td>\n      <td>3.000010</td>\n      <td>2.999985</td>\n      <td>2.999137</td>\n      <td>3.000010</td>\n      <td>3.000010</td>\n      <td>3.000021</td>\n      <td>3.000166</td>\n      <td>...</td>\n      <td>2.999999</td>\n      <td>2.999999</td>\n      <td>2.999999</td>\n      <td>2.999999</td>\n      <td>2.999999</td>\n      <td>2.999999</td>\n      <td>2.999999</td>\n      <td>2.999999</td>\n      <td>2.999999</td>\n      <td>2.999999</td>\n    </tr>\n    <tr>\n      <th>3</th>\n      <td>3.001475</td>\n      <td>3.000688</td>\n      <td>3.000688</td>\n      <td>3.000688</td>\n      <td>2.998920</td>\n      <td>3.039116</td>\n      <td>3.000688</td>\n      <td>3.000688</td>\n      <td>3.001475</td>\n      <td>3.011696</td>\n      <td>...</td>\n      <td>2.999902</td>\n      <td>2.999902</td>\n      <td>2.999902</td>\n      <td>2.999902</td>\n      <td>2.999902</td>\n      <td>2.999902</td>\n      <td>2.999902</td>\n      <td>2.999902</td>\n      <td>2.999902</td>\n      <td>2.999902</td>\n    </tr>\n    <tr>\n      <th>4</th>\n      <td>3.000056</td>\n      <td>3.000026</td>\n      <td>3.000026</td>\n      <td>3.000026</td>\n      <td>2.999959</td>\n      <td>2.997686</td>\n      <td>3.000026</td>\n      <td>3.000026</td>\n      <td>3.000056</td>\n      <td>3.000445</td>\n      <td>...</td>\n      <td>2.999996</td>\n      <td>2.999996</td>\n      <td>2.999996</td>\n      <td>2.999996</td>\n      <td>2.999996</td>\n      <td>2.999996</td>\n      <td>2.999996</td>\n      <td>2.999996</td>\n      <td>2.999996</td>\n      <td>2.999996</td>\n    </tr>\n  </tbody>\n</table>\n<p>5 rows × 54 columns</p>\n</div>"
     },
     "execution_count": 26,
     "metadata": {},
     "output_type": "execute_result"
    }
   ],
   "source": [
    "df_svd_preds = pd.DataFrame(svd_user_predicted_ratings, columns = user_music_rating.columns)\n",
    "df_svd_preds.head()"
   ],
   "metadata": {
    "collapsed": false,
    "ExecuteTime": {
     "end_time": "2024-10-25T01:33:41.082589Z",
     "start_time": "2024-10-25T01:33:41.053014Z"
    }
   },
   "id": "c813a2fded3f9fdb",
   "execution_count": 26
  },
  {
   "cell_type": "markdown",
   "source": [
    "자! 이제 함수를 하나 만듭니다. 이 함수의 기능은 아래와 같습니다.\n",
    "\n",
    "- 인자로 사용자 아이디, 음악 정보 테이블, 평점 테이블 등을 받음\n",
    "- 사용자 아이디에 SVD로 나온 결과의 음악 평점이 가장 높은 데이터 순으로 정렬\n",
    "- 사용자가 북마크한 데이터를 제외"
   ],
   "metadata": {
    "collapsed": false
   },
   "id": "78f4976226a04f87"
  },
  {
   "cell_type": "code",
   "outputs": [
    {
     "data": {
      "text/plain": "title  Beauty and the Beast (from \"Beauty and the Beast\")  \\\n0                                               3.199988    \n1                                               2.999949    \n2                                               3.000021    \n3                                               3.001475    \n4                                               3.000056    \n5                                               3.000001    \n6                                               3.000026    \n\ntitle  Boys And Girls (Feat. Babylon)  Don't Stop Me Now  Let's Get Loud  \\\n0                            3.099995           3.099995        3.099995   \n1                            2.999976           2.999976        2.999976   \n2                            3.000010           3.000010        3.000010   \n3                            3.000688           3.000688        3.000688   \n4                            3.000026           3.000026        3.000026   \n5                            3.000000           3.000000        3.000000   \n6                            3.000012           3.000012        3.000012   \n\ntitle    My All     Spicy   가지마 가지마  너에게 난, 나에게 넌      다행이다   부동의 첫사랑  ...  \\\n0      3.100009  3.100480  3.099995      3.099995  3.199988  4.499908  ...   \n1      3.000038  4.102116  2.999976      2.999976  2.999949  2.999594  ...   \n2      2.999985  2.999137  3.000010      3.000010  3.000021  3.000166  ...   \n3      2.998920  3.039116  3.000688      3.000688  3.001475  3.011696  ...   \n4      2.999959  2.997686  3.000026      3.000026  3.000056  3.000445  ...   \n5      2.999999  2.999958  3.000000      3.000000  3.000001  3.000008  ...   \n6      3.099981  2.998920  3.000012      3.000012  3.000026  3.000208  ...   \n\ntitle  모든 날, 모든 순간  FRIEND THE END      바람기억  Everytime  She's Gone  \\\n0         3.000001        3.000001  3.000001   3.000001    3.000001   \n1         3.000003        3.000003  3.000003   3.000003    3.000003   \n2         2.999999        2.999999  2.999999   2.999999    2.999999   \n3         2.999902        2.999902  2.999902   2.999902    2.999902   \n4         2.999996        2.999996  2.999996   2.999996    2.999996   \n5         3.000000        3.000000  3.000000   3.000000    3.000000   \n6         2.999998        2.999998  2.999998   2.999998    2.999998   \n\ntitle  Because Of You  Superstar  What's Up?    Listen     검은 행복  \n0            3.000001   3.000001    3.000001  3.000001  3.000001  \n1            3.000003   3.000003    3.000003  3.000003  3.000003  \n2            2.999999   2.999999    2.999999  2.999999  2.999999  \n3            2.999902   2.999902    2.999902  2.999902  2.999902  \n4            2.999996   2.999996    2.999996  2.999996  2.999996  \n5            3.000000   3.000000    3.000000  3.000000  3.000000  \n6            2.999998   2.999998    2.999998  2.999998  2.999998  \n\n[7 rows x 54 columns]",
      "text/html": "<div>\n<style scoped>\n    .dataframe tbody tr th:only-of-type {\n        vertical-align: middle;\n    }\n\n    .dataframe tbody tr th {\n        vertical-align: top;\n    }\n\n    .dataframe thead th {\n        text-align: right;\n    }\n</style>\n<table border=\"1\" class=\"dataframe\">\n  <thead>\n    <tr style=\"text-align: right;\">\n      <th>title</th>\n      <th>Beauty and the Beast (from \"Beauty and the Beast\")</th>\n      <th>Boys And Girls (Feat. Babylon)</th>\n      <th>Don't Stop Me Now</th>\n      <th>Let's Get Loud</th>\n      <th>My All</th>\n      <th>Spicy</th>\n      <th>가지마 가지마</th>\n      <th>너에게 난, 나에게 넌</th>\n      <th>다행이다</th>\n      <th>부동의 첫사랑</th>\n      <th>...</th>\n      <th>모든 날, 모든 순간</th>\n      <th>FRIEND THE END</th>\n      <th>바람기억</th>\n      <th>Everytime</th>\n      <th>She's Gone</th>\n      <th>Because Of You</th>\n      <th>Superstar</th>\n      <th>What's Up?</th>\n      <th>Listen</th>\n      <th>검은 행복</th>\n    </tr>\n  </thead>\n  <tbody>\n    <tr>\n      <th>0</th>\n      <td>3.199988</td>\n      <td>3.099995</td>\n      <td>3.099995</td>\n      <td>3.099995</td>\n      <td>3.100009</td>\n      <td>3.100480</td>\n      <td>3.099995</td>\n      <td>3.099995</td>\n      <td>3.199988</td>\n      <td>4.499908</td>\n      <td>...</td>\n      <td>3.000001</td>\n      <td>3.000001</td>\n      <td>3.000001</td>\n      <td>3.000001</td>\n      <td>3.000001</td>\n      <td>3.000001</td>\n      <td>3.000001</td>\n      <td>3.000001</td>\n      <td>3.000001</td>\n      <td>3.000001</td>\n    </tr>\n    <tr>\n      <th>1</th>\n      <td>2.999949</td>\n      <td>2.999976</td>\n      <td>2.999976</td>\n      <td>2.999976</td>\n      <td>3.000038</td>\n      <td>4.102116</td>\n      <td>2.999976</td>\n      <td>2.999976</td>\n      <td>2.999949</td>\n      <td>2.999594</td>\n      <td>...</td>\n      <td>3.000003</td>\n      <td>3.000003</td>\n      <td>3.000003</td>\n      <td>3.000003</td>\n      <td>3.000003</td>\n      <td>3.000003</td>\n      <td>3.000003</td>\n      <td>3.000003</td>\n      <td>3.000003</td>\n      <td>3.000003</td>\n    </tr>\n    <tr>\n      <th>2</th>\n      <td>3.000021</td>\n      <td>3.000010</td>\n      <td>3.000010</td>\n      <td>3.000010</td>\n      <td>2.999985</td>\n      <td>2.999137</td>\n      <td>3.000010</td>\n      <td>3.000010</td>\n      <td>3.000021</td>\n      <td>3.000166</td>\n      <td>...</td>\n      <td>2.999999</td>\n      <td>2.999999</td>\n      <td>2.999999</td>\n      <td>2.999999</td>\n      <td>2.999999</td>\n      <td>2.999999</td>\n      <td>2.999999</td>\n      <td>2.999999</td>\n      <td>2.999999</td>\n      <td>2.999999</td>\n    </tr>\n    <tr>\n      <th>3</th>\n      <td>3.001475</td>\n      <td>3.000688</td>\n      <td>3.000688</td>\n      <td>3.000688</td>\n      <td>2.998920</td>\n      <td>3.039116</td>\n      <td>3.000688</td>\n      <td>3.000688</td>\n      <td>3.001475</td>\n      <td>3.011696</td>\n      <td>...</td>\n      <td>2.999902</td>\n      <td>2.999902</td>\n      <td>2.999902</td>\n      <td>2.999902</td>\n      <td>2.999902</td>\n      <td>2.999902</td>\n      <td>2.999902</td>\n      <td>2.999902</td>\n      <td>2.999902</td>\n      <td>2.999902</td>\n    </tr>\n    <tr>\n      <th>4</th>\n      <td>3.000056</td>\n      <td>3.000026</td>\n      <td>3.000026</td>\n      <td>3.000026</td>\n      <td>2.999959</td>\n      <td>2.997686</td>\n      <td>3.000026</td>\n      <td>3.000026</td>\n      <td>3.000056</td>\n      <td>3.000445</td>\n      <td>...</td>\n      <td>2.999996</td>\n      <td>2.999996</td>\n      <td>2.999996</td>\n      <td>2.999996</td>\n      <td>2.999996</td>\n      <td>2.999996</td>\n      <td>2.999996</td>\n      <td>2.999996</td>\n      <td>2.999996</td>\n      <td>2.999996</td>\n    </tr>\n    <tr>\n      <th>5</th>\n      <td>3.000001</td>\n      <td>3.000000</td>\n      <td>3.000000</td>\n      <td>3.000000</td>\n      <td>2.999999</td>\n      <td>2.999958</td>\n      <td>3.000000</td>\n      <td>3.000000</td>\n      <td>3.000001</td>\n      <td>3.000008</td>\n      <td>...</td>\n      <td>3.000000</td>\n      <td>3.000000</td>\n      <td>3.000000</td>\n      <td>3.000000</td>\n      <td>3.000000</td>\n      <td>3.000000</td>\n      <td>3.000000</td>\n      <td>3.000000</td>\n      <td>3.000000</td>\n      <td>3.000000</td>\n    </tr>\n    <tr>\n      <th>6</th>\n      <td>3.000026</td>\n      <td>3.000012</td>\n      <td>3.000012</td>\n      <td>3.000012</td>\n      <td>3.099981</td>\n      <td>2.998920</td>\n      <td>3.000012</td>\n      <td>3.000012</td>\n      <td>3.000026</td>\n      <td>3.000208</td>\n      <td>...</td>\n      <td>2.999998</td>\n      <td>2.999998</td>\n      <td>2.999998</td>\n      <td>2.999998</td>\n      <td>2.999998</td>\n      <td>2.999998</td>\n      <td>2.999998</td>\n      <td>2.999998</td>\n      <td>2.999998</td>\n      <td>2.999998</td>\n    </tr>\n  </tbody>\n</table>\n<p>7 rows × 54 columns</p>\n</div>"
     },
     "execution_count": 27,
     "metadata": {},
     "output_type": "execute_result"
    }
   ],
   "source": [
    "df_svd_preds"
   ],
   "metadata": {
    "collapsed": false,
    "ExecuteTime": {
     "end_time": "2024-10-25T01:33:41.112861Z",
     "start_time": "2024-10-25T01:33:41.083657Z"
    }
   },
   "id": "a6a79ac3a3d1bf3b",
   "execution_count": 27
  },
  {
   "cell_type": "code",
   "outputs": [
    {
     "name": "stdout",
     "output_type": "stream",
     "text": [
      "2024-10-25 10:33:41.117861: [SQL] SELECT music_id, title FROM bookmark NATURAL JOIN music WHERE user_id = 1\n"
     ]
    },
    {
     "data": {
      "text/plain": "   music_id         title\n0       203  주저하는 연인들을 위해\n1       201       부동의 첫사랑\n2       169           야생화",
      "text/html": "<div>\n<style scoped>\n    .dataframe tbody tr th:only-of-type {\n        vertical-align: middle;\n    }\n\n    .dataframe tbody tr th {\n        vertical-align: top;\n    }\n\n    .dataframe thead th {\n        text-align: right;\n    }\n</style>\n<table border=\"1\" class=\"dataframe\">\n  <thead>\n    <tr style=\"text-align: right;\">\n      <th></th>\n      <th>music_id</th>\n      <th>title</th>\n    </tr>\n  </thead>\n  <tbody>\n    <tr>\n      <th>0</th>\n      <td>203</td>\n      <td>주저하는 연인들을 위해</td>\n    </tr>\n    <tr>\n      <th>1</th>\n      <td>201</td>\n      <td>부동의 첫사랑</td>\n    </tr>\n    <tr>\n      <th>2</th>\n      <td>169</td>\n      <td>야생화</td>\n    </tr>\n  </tbody>\n</table>\n</div>"
     },
     "execution_count": 28,
     "metadata": {},
     "output_type": "execute_result"
    }
   ],
   "source": [
    "# 1번 사용자가 북마크한 music_id 조회\n",
    "bookmark_data = fetch_bookmark(1)\n",
    "\n",
    "column_names = ['music_id', 'title']\n",
    "bookmark_data.columns = column_names\n",
    "\n",
    "bookmark_data"
   ],
   "metadata": {
    "collapsed": false,
    "ExecuteTime": {
     "end_time": "2024-10-25T01:33:41.127861Z",
     "start_time": "2024-10-25T01:33:41.115861Z"
    }
   },
   "id": "82ce6d3a7270f312",
   "execution_count": 28
  },
  {
   "cell_type": "code",
   "outputs": [
    {
     "data": {
      "text/plain": "title\nBeauty and the Beast (from \"Beauty and the Beast\")    3.199988\nBoys And Girls (Feat. Babylon)                        3.099995\nDon't Stop Me Now                                     3.099995\nLet's Get Loud                                        3.099995\nMy All                                                3.100009\nSpicy                                                 3.100480\n가지마 가지마                                               3.099995\n너에게 난, 나에게 넌                                          3.099995\n다행이다                                                  3.199988\n부동의 첫사랑                                               4.499908\n사랑은 은하수 다방에서                                          3.200018\n소주 한 잔                                                3.099995\n야생화                                                   3.100000\n오늘도 빛나는 너에게                                           1.000125\n인형의 꿈                                                 2.999700\n잠시만 안녕                                                3.199988\n주저하는 연인들을 위해                                          5.700000\n첫사랑                                                   1.099818\n취중진담                                                  3.099995\n친구 얘긴데 (feat. Skinny Brown)                           3.099995\n퀸카 (Queencard)                                        3.099995\n너였다면                                                  3.000001\n시작                                                    3.000001\n어땠을까 (Feat. 박정현)                                      3.000001\n흔들리는 꽃들 속에서 네 샴푸향이 느껴진거야                              3.000001\nDon't Cry                                             3.000001\n외톨이야                                                  3.000001\n나는 나비                                                 3.000001\n사랑했지만                                                 3.000001\n결혼까지 생각했어                                             3.000001\n잘못된 만남                                                3.000001\n벌써 일년                                                 3.000001\n응급실                                                   3.000001\nAloha                                                 3.000001\nNIGHT DANCER                                          3.000001\nLemon                                                 3.000001\n다시 만난 세계                                              3.000001\nI AM                                                  3.000001\nUNFORGIVEN (feat. Nile Rodgers)                       3.000001\n꽃                                                     3.000001\n손오공                                                   3.000001\n저곳으로(인어공주OST)                                         3.000001\nSee You Again (분노의 질주 : 더 세븐 OST)                     3.000001\n사랑은 늘 도망가                                             3.000001\n모든 날, 모든 순간                                           3.000001\nFRIEND THE END                                        3.000001\n바람기억                                                  3.000001\nEverytime                                             3.000001\nShe's Gone                                            3.000001\nBecause Of You                                        3.000001\nSuperstar                                             3.000001\nWhat's Up?                                            3.000001\nListen                                                3.000001\n검은 행복                                                 3.000001\nName: 0, dtype: float64"
     },
     "execution_count": 29,
     "metadata": {},
     "output_type": "execute_result"
    }
   ],
   "source": [
    "# 최종적으로 만든 df_svd_preds에서 사용자 index에 따라 데이터 정렬 -> 예상 평점이 높은 순으로 정렬\n",
    "sorted_user_predictions = df_svd_preds.iloc[user_index_dict[1]]#.sort_values(ascending=False)\n",
    "sorted_user_predictions"
   ],
   "metadata": {
    "collapsed": false,
    "ExecuteTime": {
     "end_time": "2024-10-25T01:33:41.142867Z",
     "start_time": "2024-10-25T01:33:41.129864Z"
    }
   },
   "id": "207c32f725d8669c",
   "execution_count": 29
  },
  {
   "cell_type": "code",
   "outputs": [
    {
     "data": {
      "text/plain": "title\nBeauty and the Beast (from \"Beauty and the Beast\")    3.199988\nBoys And Girls (Feat. Babylon)                        3.099995\nDon't Stop Me Now                                     3.099995\nLet's Get Loud                                        3.099995\nMy All                                                3.100009\nSpicy                                                 3.100480\n가지마 가지마                                               3.099995\n너에게 난, 나에게 넌                                          3.099995\n다행이다                                                  3.199988\n사랑은 은하수 다방에서                                          3.200018\n소주 한 잔                                                3.099995\n오늘도 빛나는 너에게                                           1.000125\n인형의 꿈                                                 2.999700\n잠시만 안녕                                                3.199988\n첫사랑                                                   1.099818\n취중진담                                                  3.099995\n친구 얘긴데 (feat. Skinny Brown)                           3.099995\n퀸카 (Queencard)                                        3.099995\n너였다면                                                  3.000001\n시작                                                    3.000001\n어땠을까 (Feat. 박정현)                                      3.000001\n흔들리는 꽃들 속에서 네 샴푸향이 느껴진거야                              3.000001\nDon't Cry                                             3.000001\n외톨이야                                                  3.000001\n나는 나비                                                 3.000001\n사랑했지만                                                 3.000001\n결혼까지 생각했어                                             3.000001\n잘못된 만남                                                3.000001\n벌써 일년                                                 3.000001\n응급실                                                   3.000001\nAloha                                                 3.000001\nNIGHT DANCER                                          3.000001\nLemon                                                 3.000001\n다시 만난 세계                                              3.000001\nI AM                                                  3.000001\nUNFORGIVEN (feat. Nile Rodgers)                       3.000001\n꽃                                                     3.000001\n손오공                                                   3.000001\n저곳으로(인어공주OST)                                         3.000001\nSee You Again (분노의 질주 : 더 세븐 OST)                     3.000001\n사랑은 늘 도망가                                             3.000001\n모든 날, 모든 순간                                           3.000001\nFRIEND THE END                                        3.000001\n바람기억                                                  3.000001\nEverytime                                             3.000001\nShe's Gone                                            3.000001\nBecause Of You                                        3.000001\nSuperstar                                             3.000001\nWhat's Up?                                            3.000001\nListen                                                3.000001\n검은 행복                                                 3.000001\nName: 0, dtype: float64"
     },
     "execution_count": 30,
     "metadata": {},
     "output_type": "execute_result"
    }
   ],
   "source": [
    "# 사용자가 이미 북마크한 곡은 제거\n",
    "recommendations = sorted_user_predictions.drop(bookmark_data.title.tolist())\n",
    "recommendations"
   ],
   "metadata": {
    "collapsed": false,
    "ExecuteTime": {
     "end_time": "2024-10-25T01:33:41.158203Z",
     "start_time": "2024-10-25T01:33:41.143860Z"
    }
   },
   "id": "4a250df89d315f43",
   "execution_count": 30
  },
  {
   "cell_type": "code",
   "outputs": [],
   "source": [
    "recommendations_df = pd.DataFrame(recommendations)\n",
    "recommendations_df.columns = ['pred']"
   ],
   "metadata": {
    "collapsed": false,
    "ExecuteTime": {
     "end_time": "2024-10-25T01:33:41.173197Z",
     "start_time": "2024-10-25T01:33:41.159206Z"
    }
   },
   "id": "c5dbdcefd8d36dcc",
   "execution_count": 31
  },
  {
   "cell_type": "code",
   "outputs": [
    {
     "data": {
      "text/plain": "                                               title      pred  music_id  \\\n0  Beauty and the Beast (from \"Beauty and the Bea...  3.199988       395   \n1                     Boys And Girls (Feat. Babylon)  3.099995       397   \n2                                  Don't Stop Me Now  3.099995       396   \n3                                     Let's Get Loud  3.099995       387   \n4                                             My All  3.100009       393   \n\n  genre                                             lyrics release_date  \\\n0   OST                                               None   1992-03-30   \n1   RAP  Don't worry about money\\n놀자 오빠가 무리할게\\n넌 그냥 옆에서...   2015-11-03   \n2  ROCK  Tonight, I'm gonna have myself a real good tim...   1976-01-26   \n3   POP  let's get loud let's get loud\\nturn the music ...   1999-06-29   \n4   RNB  I am thinking of you\\n당신을 생각해요\\nin my sleeples...   1997-09-16   \n\n   likes  view  highest_pitch  lowest_pitch  high_pitch_ratio  \\\n0      0     2     882.665004    170.163455          0.669540   \n1      0     1     469.292125    123.944968          0.123616   \n2      0     1     507.861756    164.907098          0.505030   \n3      0    16     597.670991    205.814429          0.039370   \n4      0     1     694.707279    144.864262          0.173242   \n\n   low_pitch_ratio  pitch_average  \\\n0         0.000000     404.741144   \n1         0.000000     270.923070   \n2         0.000000     319.656593   \n3         0.226378     346.274942   \n4         0.418525     371.087818   \n\n                                          pitch_stat  group_id  \\\n0  {'C2': 0.0, 'D2': 0.0, 'E2': 0.0, 'F2': 0.0, '...        72   \n1  {'C2': 0.0, 'D2': 0.0, 'E2': 0.0, 'F2': 0.0, '...        75   \n2  {'C2': 0.0, 'D2': 0.0, 'E2': 0.0, 'F2': 0.0, '...        74   \n3  {'C2': 0.0, 'D2': 0.0, 'E2': 0.0, 'F2': 0.0, '...        64   \n4  {'C2': 0.0, 'D2': 0.0, 'E2': 0.0, 'F2': 0.0, '...        69   \n\n                  group_name group_type  gender  \n0  Peabo Bryson, Celine Dion      GROUP     MIX  \n1                  지코 (ZICO)       SOLO    MALE  \n2                      Queen      GROUP    MALE  \n3             Jennifer Lopez       SOLO  FEMALE  \n4               Mariah Carey       SOLO  FEMALE  ",
      "text/html": "<div>\n<style scoped>\n    .dataframe tbody tr th:only-of-type {\n        vertical-align: middle;\n    }\n\n    .dataframe tbody tr th {\n        vertical-align: top;\n    }\n\n    .dataframe thead th {\n        text-align: right;\n    }\n</style>\n<table border=\"1\" class=\"dataframe\">\n  <thead>\n    <tr style=\"text-align: right;\">\n      <th></th>\n      <th>title</th>\n      <th>pred</th>\n      <th>music_id</th>\n      <th>genre</th>\n      <th>lyrics</th>\n      <th>release_date</th>\n      <th>likes</th>\n      <th>view</th>\n      <th>highest_pitch</th>\n      <th>lowest_pitch</th>\n      <th>high_pitch_ratio</th>\n      <th>low_pitch_ratio</th>\n      <th>pitch_average</th>\n      <th>pitch_stat</th>\n      <th>group_id</th>\n      <th>group_name</th>\n      <th>group_type</th>\n      <th>gender</th>\n    </tr>\n  </thead>\n  <tbody>\n    <tr>\n      <th>0</th>\n      <td>Beauty and the Beast (from \"Beauty and the Bea...</td>\n      <td>3.199988</td>\n      <td>395</td>\n      <td>OST</td>\n      <td>None</td>\n      <td>1992-03-30</td>\n      <td>0</td>\n      <td>2</td>\n      <td>882.665004</td>\n      <td>170.163455</td>\n      <td>0.669540</td>\n      <td>0.000000</td>\n      <td>404.741144</td>\n      <td>{'C2': 0.0, 'D2': 0.0, 'E2': 0.0, 'F2': 0.0, '...</td>\n      <td>72</td>\n      <td>Peabo Bryson, Celine Dion</td>\n      <td>GROUP</td>\n      <td>MIX</td>\n    </tr>\n    <tr>\n      <th>1</th>\n      <td>Boys And Girls (Feat. Babylon)</td>\n      <td>3.099995</td>\n      <td>397</td>\n      <td>RAP</td>\n      <td>Don't worry about money\\n놀자 오빠가 무리할게\\n넌 그냥 옆에서...</td>\n      <td>2015-11-03</td>\n      <td>0</td>\n      <td>1</td>\n      <td>469.292125</td>\n      <td>123.944968</td>\n      <td>0.123616</td>\n      <td>0.000000</td>\n      <td>270.923070</td>\n      <td>{'C2': 0.0, 'D2': 0.0, 'E2': 0.0, 'F2': 0.0, '...</td>\n      <td>75</td>\n      <td>지코 (ZICO)</td>\n      <td>SOLO</td>\n      <td>MALE</td>\n    </tr>\n    <tr>\n      <th>2</th>\n      <td>Don't Stop Me Now</td>\n      <td>3.099995</td>\n      <td>396</td>\n      <td>ROCK</td>\n      <td>Tonight, I'm gonna have myself a real good tim...</td>\n      <td>1976-01-26</td>\n      <td>0</td>\n      <td>1</td>\n      <td>507.861756</td>\n      <td>164.907098</td>\n      <td>0.505030</td>\n      <td>0.000000</td>\n      <td>319.656593</td>\n      <td>{'C2': 0.0, 'D2': 0.0, 'E2': 0.0, 'F2': 0.0, '...</td>\n      <td>74</td>\n      <td>Queen</td>\n      <td>GROUP</td>\n      <td>MALE</td>\n    </tr>\n    <tr>\n      <th>3</th>\n      <td>Let's Get Loud</td>\n      <td>3.099995</td>\n      <td>387</td>\n      <td>POP</td>\n      <td>let's get loud let's get loud\\nturn the music ...</td>\n      <td>1999-06-29</td>\n      <td>0</td>\n      <td>16</td>\n      <td>597.670991</td>\n      <td>205.814429</td>\n      <td>0.039370</td>\n      <td>0.226378</td>\n      <td>346.274942</td>\n      <td>{'C2': 0.0, 'D2': 0.0, 'E2': 0.0, 'F2': 0.0, '...</td>\n      <td>64</td>\n      <td>Jennifer Lopez</td>\n      <td>SOLO</td>\n      <td>FEMALE</td>\n    </tr>\n    <tr>\n      <th>4</th>\n      <td>My All</td>\n      <td>3.100009</td>\n      <td>393</td>\n      <td>RNB</td>\n      <td>I am thinking of you\\n당신을 생각해요\\nin my sleeples...</td>\n      <td>1997-09-16</td>\n      <td>0</td>\n      <td>1</td>\n      <td>694.707279</td>\n      <td>144.864262</td>\n      <td>0.173242</td>\n      <td>0.418525</td>\n      <td>371.087818</td>\n      <td>{'C2': 0.0, 'D2': 0.0, 'E2': 0.0, 'F2': 0.0, '...</td>\n      <td>69</td>\n      <td>Mariah Carey</td>\n      <td>SOLO</td>\n      <td>FEMALE</td>\n    </tr>\n  </tbody>\n</table>\n</div>"
     },
     "execution_count": 32,
     "metadata": {},
     "output_type": "execute_result"
    }
   ],
   "source": [
    "recommendations_data = recommendations_df.merge(music_data, on='title')\n",
    "recommendations_data.head()"
   ],
   "metadata": {
    "collapsed": false,
    "ExecuteTime": {
     "end_time": "2024-10-25T01:33:41.203210Z",
     "start_time": "2024-10-25T01:33:41.174200Z"
    }
   },
   "id": "b568887aab6c4f06",
   "execution_count": 32
  },
  {
   "cell_type": "markdown",
   "source": [
    "# 사용자의 선호 장르와 나이대에 따른 가산점 계산"
   ],
   "metadata": {
    "collapsed": false
   },
   "id": "1149f8a82a30778d"
  },
  {
   "cell_type": "code",
   "outputs": [
    {
     "name": "stdout",
     "output_type": "stream",
     "text": [
      "{'age': 20, 'gender': 'MALE', 'genre': ['BALLADE', 'DANCE', 'RAP'], 'highest_pitch': 351.0, 'lowest_pitch': 131.0}\n"
     ]
    }
   ],
   "source": [
    "import pymysql\n",
    "\n",
    "user_data = fetch_user(1)\n",
    "print(user_data)"
   ],
   "metadata": {
    "collapsed": false,
    "ExecuteTime": {
     "end_time": "2024-10-25T01:33:41.218716Z",
     "start_time": "2024-10-25T01:33:41.204202Z"
    }
   },
   "id": "a8a1f9c7c02ef52e",
   "execution_count": 33
  },
  {
   "cell_type": "code",
   "outputs": [
    {
     "data": {
      "text/plain": "                                               title      pred  music_id  \\\n0  Beauty and the Beast (from \"Beauty and the Bea...  3.199988       395   \n1                     Boys And Girls (Feat. Babylon)  3.099995       397   \n2                                  Don't Stop Me Now  3.099995       396   \n3                                     Let's Get Loud  3.099995       387   \n4                                             My All  3.100009       393   \n\n  genre                                             lyrics release_date  \\\n0   OST                                               None   1992-03-30   \n1   RAP  Don't worry about money\\n놀자 오빠가 무리할게\\n넌 그냥 옆에서...   2015-11-03   \n2  ROCK  Tonight, I'm gonna have myself a real good tim...   1976-01-26   \n3   POP  let's get loud let's get loud\\nturn the music ...   1999-06-29   \n4   RNB  I am thinking of you\\n당신을 생각해요\\nin my sleeples...   1997-09-16   \n\n   likes  view  highest_pitch  lowest_pitch  high_pitch_ratio  \\\n0      0     2     882.665004    170.163455          0.669540   \n1      0     1     469.292125    123.944968          0.123616   \n2      0     1     507.861756    164.907098          0.505030   \n3      0    16     597.670991    205.814429          0.039370   \n4      0     1     694.707279    144.864262          0.173242   \n\n   low_pitch_ratio  pitch_average  \\\n0         0.000000     404.741144   \n1         0.000000     270.923070   \n2         0.000000     319.656593   \n3         0.226378     346.274942   \n4         0.418525     371.087818   \n\n                                          pitch_stat  group_id  \\\n0  {'C2': 0.0, 'D2': 0.0, 'E2': 0.0, 'F2': 0.0, '...        72   \n1  {'C2': 0.0, 'D2': 0.0, 'E2': 0.0, 'F2': 0.0, '...        75   \n2  {'C2': 0.0, 'D2': 0.0, 'E2': 0.0, 'F2': 0.0, '...        74   \n3  {'C2': 0.0, 'D2': 0.0, 'E2': 0.0, 'F2': 0.0, '...        64   \n4  {'C2': 0.0, 'D2': 0.0, 'E2': 0.0, 'F2': 0.0, '...        69   \n\n                  group_name group_type  gender  \n0  Peabo Bryson, Celine Dion      GROUP     MIX  \n1                  지코 (ZICO)       SOLO    MALE  \n2                      Queen      GROUP    MALE  \n3             Jennifer Lopez       SOLO  FEMALE  \n4               Mariah Carey       SOLO  FEMALE  ",
      "text/html": "<div>\n<style scoped>\n    .dataframe tbody tr th:only-of-type {\n        vertical-align: middle;\n    }\n\n    .dataframe tbody tr th {\n        vertical-align: top;\n    }\n\n    .dataframe thead th {\n        text-align: right;\n    }\n</style>\n<table border=\"1\" class=\"dataframe\">\n  <thead>\n    <tr style=\"text-align: right;\">\n      <th></th>\n      <th>title</th>\n      <th>pred</th>\n      <th>music_id</th>\n      <th>genre</th>\n      <th>lyrics</th>\n      <th>release_date</th>\n      <th>likes</th>\n      <th>view</th>\n      <th>highest_pitch</th>\n      <th>lowest_pitch</th>\n      <th>high_pitch_ratio</th>\n      <th>low_pitch_ratio</th>\n      <th>pitch_average</th>\n      <th>pitch_stat</th>\n      <th>group_id</th>\n      <th>group_name</th>\n      <th>group_type</th>\n      <th>gender</th>\n    </tr>\n  </thead>\n  <tbody>\n    <tr>\n      <th>0</th>\n      <td>Beauty and the Beast (from \"Beauty and the Bea...</td>\n      <td>3.199988</td>\n      <td>395</td>\n      <td>OST</td>\n      <td>None</td>\n      <td>1992-03-30</td>\n      <td>0</td>\n      <td>2</td>\n      <td>882.665004</td>\n      <td>170.163455</td>\n      <td>0.669540</td>\n      <td>0.000000</td>\n      <td>404.741144</td>\n      <td>{'C2': 0.0, 'D2': 0.0, 'E2': 0.0, 'F2': 0.0, '...</td>\n      <td>72</td>\n      <td>Peabo Bryson, Celine Dion</td>\n      <td>GROUP</td>\n      <td>MIX</td>\n    </tr>\n    <tr>\n      <th>1</th>\n      <td>Boys And Girls (Feat. Babylon)</td>\n      <td>3.099995</td>\n      <td>397</td>\n      <td>RAP</td>\n      <td>Don't worry about money\\n놀자 오빠가 무리할게\\n넌 그냥 옆에서...</td>\n      <td>2015-11-03</td>\n      <td>0</td>\n      <td>1</td>\n      <td>469.292125</td>\n      <td>123.944968</td>\n      <td>0.123616</td>\n      <td>0.000000</td>\n      <td>270.923070</td>\n      <td>{'C2': 0.0, 'D2': 0.0, 'E2': 0.0, 'F2': 0.0, '...</td>\n      <td>75</td>\n      <td>지코 (ZICO)</td>\n      <td>SOLO</td>\n      <td>MALE</td>\n    </tr>\n    <tr>\n      <th>2</th>\n      <td>Don't Stop Me Now</td>\n      <td>3.099995</td>\n      <td>396</td>\n      <td>ROCK</td>\n      <td>Tonight, I'm gonna have myself a real good tim...</td>\n      <td>1976-01-26</td>\n      <td>0</td>\n      <td>1</td>\n      <td>507.861756</td>\n      <td>164.907098</td>\n      <td>0.505030</td>\n      <td>0.000000</td>\n      <td>319.656593</td>\n      <td>{'C2': 0.0, 'D2': 0.0, 'E2': 0.0, 'F2': 0.0, '...</td>\n      <td>74</td>\n      <td>Queen</td>\n      <td>GROUP</td>\n      <td>MALE</td>\n    </tr>\n    <tr>\n      <th>3</th>\n      <td>Let's Get Loud</td>\n      <td>3.099995</td>\n      <td>387</td>\n      <td>POP</td>\n      <td>let's get loud let's get loud\\nturn the music ...</td>\n      <td>1999-06-29</td>\n      <td>0</td>\n      <td>16</td>\n      <td>597.670991</td>\n      <td>205.814429</td>\n      <td>0.039370</td>\n      <td>0.226378</td>\n      <td>346.274942</td>\n      <td>{'C2': 0.0, 'D2': 0.0, 'E2': 0.0, 'F2': 0.0, '...</td>\n      <td>64</td>\n      <td>Jennifer Lopez</td>\n      <td>SOLO</td>\n      <td>FEMALE</td>\n    </tr>\n    <tr>\n      <th>4</th>\n      <td>My All</td>\n      <td>3.100009</td>\n      <td>393</td>\n      <td>RNB</td>\n      <td>I am thinking of you\\n당신을 생각해요\\nin my sleeples...</td>\n      <td>1997-09-16</td>\n      <td>0</td>\n      <td>1</td>\n      <td>694.707279</td>\n      <td>144.864262</td>\n      <td>0.173242</td>\n      <td>0.418525</td>\n      <td>371.087818</td>\n      <td>{'C2': 0.0, 'D2': 0.0, 'E2': 0.0, 'F2': 0.0, '...</td>\n      <td>69</td>\n      <td>Mariah Carey</td>\n      <td>SOLO</td>\n      <td>FEMALE</td>\n    </tr>\n  </tbody>\n</table>\n</div>"
     },
     "execution_count": 34,
     "metadata": {},
     "output_type": "execute_result"
    }
   ],
   "source": [
    "recommendations_data.head()"
   ],
   "metadata": {
    "collapsed": false,
    "ExecuteTime": {
     "end_time": "2024-10-25T01:33:41.249196Z",
     "start_time": "2024-10-25T01:33:41.219717Z"
    }
   },
   "id": "a26972cc012ca635",
   "execution_count": 34
  },
  {
   "cell_type": "code",
   "outputs": [],
   "source": [
    "def update_rating_by_user_data(row, user_data):\n",
    "\n",
    "    # 나이\n",
    "    age_prefix = user_data['age'] // 10\n",
    "    release = row['release_date'].year\n",
    "    if age_prefix == 1 and 2018 <= release:\n",
    "        row['pred'] += 0.3\n",
    "    elif age_prefix == 2 and 2010 <= release <= 2024:\n",
    "        row['pred'] += 0.3\n",
    "    elif age_prefix == 3 and 1995 <= release <= 2015:\n",
    "        row['pred'] += 0.3\n",
    "    elif age_prefix == 4 and 1985 <= release <= 2005:\n",
    "        row['pred'] += 0.3\n",
    "    elif age_prefix == 5 and 1975 <= release <= 1995:\n",
    "        row['pred'] += 0.3\n",
    "    elif age_prefix == 6 and 1965 <= release <= 1985:\n",
    "        row['pred'] += 0.3\n",
    "    \n",
    "    # 성별\n",
    "    if row['gender'] == user_data['gender']:\n",
    "        row['pred'] += 0.4\n",
    "    \n",
    "    # 장르\n",
    "    if row['genre'] in user_data['genre']:\n",
    "        row['pred'] += 0.4\n",
    "        \n",
    "    return row\n",
    "    \n",
    "\n",
    "recommendations_data = recommendations_data.apply(update_rating_by_user_data, axis=1, user_data=user_data)"
   ],
   "metadata": {
    "collapsed": false,
    "ExecuteTime": {
     "end_time": "2024-10-25T01:33:41.264194Z",
     "start_time": "2024-10-25T01:33:41.251197Z"
    }
   },
   "id": "5673a46d4636dee9",
   "execution_count": 35
  },
  {
   "cell_type": "code",
   "outputs": [
    {
     "data": {
      "text/plain": "                                               title      pred  music_id  \\\n0  Beauty and the Beast (from \"Beauty and the Bea...  3.199988       395   \n1                     Boys And Girls (Feat. Babylon)  4.199995       397   \n2                                  Don't Stop Me Now  3.499995       396   \n3                                     Let's Get Loud  3.099995       387   \n4                                             My All  3.100009       393   \n\n  genre                                             lyrics release_date  \\\n0   OST                                               None   1992-03-30   \n1   RAP  Don't worry about money\\n놀자 오빠가 무리할게\\n넌 그냥 옆에서...   2015-11-03   \n2  ROCK  Tonight, I'm gonna have myself a real good tim...   1976-01-26   \n3   POP  let's get loud let's get loud\\nturn the music ...   1999-06-29   \n4   RNB  I am thinking of you\\n당신을 생각해요\\nin my sleeples...   1997-09-16   \n\n   likes  view  highest_pitch  lowest_pitch  high_pitch_ratio  \\\n0      0     2     882.665004    170.163455          0.669540   \n1      0     1     469.292125    123.944968          0.123616   \n2      0     1     507.861756    164.907098          0.505030   \n3      0    16     597.670991    205.814429          0.039370   \n4      0     1     694.707279    144.864262          0.173242   \n\n   low_pitch_ratio  pitch_average  \\\n0         0.000000     404.741144   \n1         0.000000     270.923070   \n2         0.000000     319.656593   \n3         0.226378     346.274942   \n4         0.418525     371.087818   \n\n                                          pitch_stat  group_id  \\\n0  {'C2': 0.0, 'D2': 0.0, 'E2': 0.0, 'F2': 0.0, '...        72   \n1  {'C2': 0.0, 'D2': 0.0, 'E2': 0.0, 'F2': 0.0, '...        75   \n2  {'C2': 0.0, 'D2': 0.0, 'E2': 0.0, 'F2': 0.0, '...        74   \n3  {'C2': 0.0, 'D2': 0.0, 'E2': 0.0, 'F2': 0.0, '...        64   \n4  {'C2': 0.0, 'D2': 0.0, 'E2': 0.0, 'F2': 0.0, '...        69   \n\n                  group_name group_type  gender  \n0  Peabo Bryson, Celine Dion      GROUP     MIX  \n1                  지코 (ZICO)       SOLO    MALE  \n2                      Queen      GROUP    MALE  \n3             Jennifer Lopez       SOLO  FEMALE  \n4               Mariah Carey       SOLO  FEMALE  ",
      "text/html": "<div>\n<style scoped>\n    .dataframe tbody tr th:only-of-type {\n        vertical-align: middle;\n    }\n\n    .dataframe tbody tr th {\n        vertical-align: top;\n    }\n\n    .dataframe thead th {\n        text-align: right;\n    }\n</style>\n<table border=\"1\" class=\"dataframe\">\n  <thead>\n    <tr style=\"text-align: right;\">\n      <th></th>\n      <th>title</th>\n      <th>pred</th>\n      <th>music_id</th>\n      <th>genre</th>\n      <th>lyrics</th>\n      <th>release_date</th>\n      <th>likes</th>\n      <th>view</th>\n      <th>highest_pitch</th>\n      <th>lowest_pitch</th>\n      <th>high_pitch_ratio</th>\n      <th>low_pitch_ratio</th>\n      <th>pitch_average</th>\n      <th>pitch_stat</th>\n      <th>group_id</th>\n      <th>group_name</th>\n      <th>group_type</th>\n      <th>gender</th>\n    </tr>\n  </thead>\n  <tbody>\n    <tr>\n      <th>0</th>\n      <td>Beauty and the Beast (from \"Beauty and the Bea...</td>\n      <td>3.199988</td>\n      <td>395</td>\n      <td>OST</td>\n      <td>None</td>\n      <td>1992-03-30</td>\n      <td>0</td>\n      <td>2</td>\n      <td>882.665004</td>\n      <td>170.163455</td>\n      <td>0.669540</td>\n      <td>0.000000</td>\n      <td>404.741144</td>\n      <td>{'C2': 0.0, 'D2': 0.0, 'E2': 0.0, 'F2': 0.0, '...</td>\n      <td>72</td>\n      <td>Peabo Bryson, Celine Dion</td>\n      <td>GROUP</td>\n      <td>MIX</td>\n    </tr>\n    <tr>\n      <th>1</th>\n      <td>Boys And Girls (Feat. Babylon)</td>\n      <td>4.199995</td>\n      <td>397</td>\n      <td>RAP</td>\n      <td>Don't worry about money\\n놀자 오빠가 무리할게\\n넌 그냥 옆에서...</td>\n      <td>2015-11-03</td>\n      <td>0</td>\n      <td>1</td>\n      <td>469.292125</td>\n      <td>123.944968</td>\n      <td>0.123616</td>\n      <td>0.000000</td>\n      <td>270.923070</td>\n      <td>{'C2': 0.0, 'D2': 0.0, 'E2': 0.0, 'F2': 0.0, '...</td>\n      <td>75</td>\n      <td>지코 (ZICO)</td>\n      <td>SOLO</td>\n      <td>MALE</td>\n    </tr>\n    <tr>\n      <th>2</th>\n      <td>Don't Stop Me Now</td>\n      <td>3.499995</td>\n      <td>396</td>\n      <td>ROCK</td>\n      <td>Tonight, I'm gonna have myself a real good tim...</td>\n      <td>1976-01-26</td>\n      <td>0</td>\n      <td>1</td>\n      <td>507.861756</td>\n      <td>164.907098</td>\n      <td>0.505030</td>\n      <td>0.000000</td>\n      <td>319.656593</td>\n      <td>{'C2': 0.0, 'D2': 0.0, 'E2': 0.0, 'F2': 0.0, '...</td>\n      <td>74</td>\n      <td>Queen</td>\n      <td>GROUP</td>\n      <td>MALE</td>\n    </tr>\n    <tr>\n      <th>3</th>\n      <td>Let's Get Loud</td>\n      <td>3.099995</td>\n      <td>387</td>\n      <td>POP</td>\n      <td>let's get loud let's get loud\\nturn the music ...</td>\n      <td>1999-06-29</td>\n      <td>0</td>\n      <td>16</td>\n      <td>597.670991</td>\n      <td>205.814429</td>\n      <td>0.039370</td>\n      <td>0.226378</td>\n      <td>346.274942</td>\n      <td>{'C2': 0.0, 'D2': 0.0, 'E2': 0.0, 'F2': 0.0, '...</td>\n      <td>64</td>\n      <td>Jennifer Lopez</td>\n      <td>SOLO</td>\n      <td>FEMALE</td>\n    </tr>\n    <tr>\n      <th>4</th>\n      <td>My All</td>\n      <td>3.100009</td>\n      <td>393</td>\n      <td>RNB</td>\n      <td>I am thinking of you\\n당신을 생각해요\\nin my sleeples...</td>\n      <td>1997-09-16</td>\n      <td>0</td>\n      <td>1</td>\n      <td>694.707279</td>\n      <td>144.864262</td>\n      <td>0.173242</td>\n      <td>0.418525</td>\n      <td>371.087818</td>\n      <td>{'C2': 0.0, 'D2': 0.0, 'E2': 0.0, 'F2': 0.0, '...</td>\n      <td>69</td>\n      <td>Mariah Carey</td>\n      <td>SOLO</td>\n      <td>FEMALE</td>\n    </tr>\n  </tbody>\n</table>\n</div>"
     },
     "execution_count": 36,
     "metadata": {},
     "output_type": "execute_result"
    }
   ],
   "source": [
    "recommendations_data.head()"
   ],
   "metadata": {
    "collapsed": false,
    "ExecuteTime": {
     "end_time": "2024-10-25T01:33:41.279196Z",
     "start_time": "2024-10-25T01:33:41.265195Z"
    }
   },
   "id": "d5991887e85cfb2f",
   "execution_count": 36
  },
  {
   "cell_type": "markdown",
   "source": [
    "# 음역대에 따른 가산점 계산"
   ],
   "metadata": {
    "collapsed": false
   },
   "id": "41a127c4f7c1c047"
  },
  {
   "cell_type": "code",
   "outputs": [],
   "source": [
    "import bisect\n",
    "\n",
    "class PitchConverter:\n",
    "    freq_level = [\n",
    "        65.41, 65.41, 73.42, 82.41, 87.31, 98.00, 110.00, 123.47, 130.81, 146.83, 164.81, 174.61,\n",
    "        196.00, 220.00, 246.94, 261.63, 293.66, 329.63, 349.23, 392.00, 440.00, 493.88, 523.25,\n",
    "        587.33, 659.25, 698.46, 783.99, 880.00, 987.77, 1046.50, 1174.66, 1174.66\n",
    "    ]\n",
    "\n",
    "    pitch_string = [\n",
    "        \"C2\", \"C2\", \"D2\", \"E2\", \"F2\", \"G2\", \"A2\", \"B2\", \"C3\", \"D3\", \"E3\", \"F3\", \"G3\", \"A3\", \"B3\",\n",
    "        \"C4\", \"D4\", \"E4\", \"F4\", \"G4\", \"A4\", \"B4\", \"C5\", \"D5\", \"E5\", \"F5\", \"G5\", \"A5\", \"B5\",\n",
    "        \"C6\", \"D6\", \"D6\"\n",
    "    ]\n",
    "\n",
    "    @staticmethod\n",
    "    def freq_to_pitch(value):\n",
    "        nearest_index = PitchConverter.search_nearest(value)\n",
    "        if 0 <= nearest_index < len(PitchConverter.pitch_string):\n",
    "            return PitchConverter.pitch_string[nearest_index]\n",
    "        return PitchConverter.pitch_string[0]\n",
    "\n",
    "    @staticmethod\n",
    "    def search_nearest(value):\n",
    "        pos = bisect.bisect_left(PitchConverter.freq_level, value)\n",
    "        if pos == 0:\n",
    "            return 0\n",
    "        if pos == len(PitchConverter.freq_level):\n",
    "            return len(PitchConverter.freq_level) - 1\n",
    "\n",
    "        before = PitchConverter.freq_level[pos - 1]\n",
    "        after = PitchConverter.freq_level[pos]\n",
    "\n",
    "        if after - value < value - before:\n",
    "            return pos\n",
    "        return pos - 1"
   ],
   "metadata": {
    "collapsed": false,
    "ExecuteTime": {
     "end_time": "2024-10-25T01:33:41.294206Z",
     "start_time": "2024-10-25T01:33:41.280197Z"
    }
   },
   "id": "ad87620a641cb611",
   "execution_count": 37
  },
  {
   "cell_type": "code",
   "outputs": [
    {
     "data": {
      "text/plain": "                                               title      pred  music_id  \\\n0  Beauty and the Beast (from \"Beauty and the Bea...  3.662632       395   \n1                     Boys And Girls (Feat. Babylon)  5.152024       397   \n2                                  Don't Stop Me Now  4.174039       396   \n3                                     Let's Get Loud  3.810624       387   \n4                                             My All  3.628310       393   \n\n  genre                                             lyrics release_date  \\\n0   OST                                               None   1992-03-30   \n1   RAP  Don't worry about money\\n놀자 오빠가 무리할게\\n넌 그냥 옆에서...   2015-11-03   \n2  ROCK  Tonight, I'm gonna have myself a real good tim...   1976-01-26   \n3   POP  let's get loud let's get loud\\nturn the music ...   1999-06-29   \n4   RNB  I am thinking of you\\n당신을 생각해요\\nin my sleeples...   1997-09-16   \n\n   likes  view  highest_pitch  lowest_pitch  high_pitch_ratio  \\\n0      0     2     882.665004    170.163455          0.669540   \n1      0     1     469.292125    123.944968          0.123616   \n2      0     1     507.861756    164.907098          0.505030   \n3      0    16     597.670991    205.814429          0.039370   \n4      0     1     694.707279    144.864262          0.173242   \n\n   low_pitch_ratio  pitch_average  \\\n0         0.000000     404.741144   \n1         0.000000     270.923070   \n2         0.000000     319.656593   \n3         0.226378     346.274942   \n4         0.418525     371.087818   \n\n                                          pitch_stat  group_id  \\\n0  {'C2': 0.0, 'D2': 0.0, 'E2': 0.0, 'F2': 0.0, '...        72   \n1  {'C2': 0.0, 'D2': 0.0, 'E2': 0.0, 'F2': 0.0, '...        75   \n2  {'C2': 0.0, 'D2': 0.0, 'E2': 0.0, 'F2': 0.0, '...        74   \n3  {'C2': 0.0, 'D2': 0.0, 'E2': 0.0, 'F2': 0.0, '...        64   \n4  {'C2': 0.0, 'D2': 0.0, 'E2': 0.0, 'F2': 0.0, '...        69   \n\n                  group_name group_type  gender  \n0  Peabo Bryson, Celine Dion      GROUP     MIX  \n1                  지코 (ZICO)       SOLO    MALE  \n2                      Queen      GROUP    MALE  \n3             Jennifer Lopez       SOLO  FEMALE  \n4               Mariah Carey       SOLO  FEMALE  ",
      "text/html": "<div>\n<style scoped>\n    .dataframe tbody tr th:only-of-type {\n        vertical-align: middle;\n    }\n\n    .dataframe tbody tr th {\n        vertical-align: top;\n    }\n\n    .dataframe thead th {\n        text-align: right;\n    }\n</style>\n<table border=\"1\" class=\"dataframe\">\n  <thead>\n    <tr style=\"text-align: right;\">\n      <th></th>\n      <th>title</th>\n      <th>pred</th>\n      <th>music_id</th>\n      <th>genre</th>\n      <th>lyrics</th>\n      <th>release_date</th>\n      <th>likes</th>\n      <th>view</th>\n      <th>highest_pitch</th>\n      <th>lowest_pitch</th>\n      <th>high_pitch_ratio</th>\n      <th>low_pitch_ratio</th>\n      <th>pitch_average</th>\n      <th>pitch_stat</th>\n      <th>group_id</th>\n      <th>group_name</th>\n      <th>group_type</th>\n      <th>gender</th>\n    </tr>\n  </thead>\n  <tbody>\n    <tr>\n      <th>0</th>\n      <td>Beauty and the Beast (from \"Beauty and the Bea...</td>\n      <td>3.662632</td>\n      <td>395</td>\n      <td>OST</td>\n      <td>None</td>\n      <td>1992-03-30</td>\n      <td>0</td>\n      <td>2</td>\n      <td>882.665004</td>\n      <td>170.163455</td>\n      <td>0.669540</td>\n      <td>0.000000</td>\n      <td>404.741144</td>\n      <td>{'C2': 0.0, 'D2': 0.0, 'E2': 0.0, 'F2': 0.0, '...</td>\n      <td>72</td>\n      <td>Peabo Bryson, Celine Dion</td>\n      <td>GROUP</td>\n      <td>MIX</td>\n    </tr>\n    <tr>\n      <th>1</th>\n      <td>Boys And Girls (Feat. Babylon)</td>\n      <td>5.152024</td>\n      <td>397</td>\n      <td>RAP</td>\n      <td>Don't worry about money\\n놀자 오빠가 무리할게\\n넌 그냥 옆에서...</td>\n      <td>2015-11-03</td>\n      <td>0</td>\n      <td>1</td>\n      <td>469.292125</td>\n      <td>123.944968</td>\n      <td>0.123616</td>\n      <td>0.000000</td>\n      <td>270.923070</td>\n      <td>{'C2': 0.0, 'D2': 0.0, 'E2': 0.0, 'F2': 0.0, '...</td>\n      <td>75</td>\n      <td>지코 (ZICO)</td>\n      <td>SOLO</td>\n      <td>MALE</td>\n    </tr>\n    <tr>\n      <th>2</th>\n      <td>Don't Stop Me Now</td>\n      <td>4.174039</td>\n      <td>396</td>\n      <td>ROCK</td>\n      <td>Tonight, I'm gonna have myself a real good tim...</td>\n      <td>1976-01-26</td>\n      <td>0</td>\n      <td>1</td>\n      <td>507.861756</td>\n      <td>164.907098</td>\n      <td>0.505030</td>\n      <td>0.000000</td>\n      <td>319.656593</td>\n      <td>{'C2': 0.0, 'D2': 0.0, 'E2': 0.0, 'F2': 0.0, '...</td>\n      <td>74</td>\n      <td>Queen</td>\n      <td>GROUP</td>\n      <td>MALE</td>\n    </tr>\n    <tr>\n      <th>3</th>\n      <td>Let's Get Loud</td>\n      <td>3.810624</td>\n      <td>387</td>\n      <td>POP</td>\n      <td>let's get loud let's get loud\\nturn the music ...</td>\n      <td>1999-06-29</td>\n      <td>0</td>\n      <td>16</td>\n      <td>597.670991</td>\n      <td>205.814429</td>\n      <td>0.039370</td>\n      <td>0.226378</td>\n      <td>346.274942</td>\n      <td>{'C2': 0.0, 'D2': 0.0, 'E2': 0.0, 'F2': 0.0, '...</td>\n      <td>64</td>\n      <td>Jennifer Lopez</td>\n      <td>SOLO</td>\n      <td>FEMALE</td>\n    </tr>\n    <tr>\n      <th>4</th>\n      <td>My All</td>\n      <td>3.628310</td>\n      <td>393</td>\n      <td>RNB</td>\n      <td>I am thinking of you\\n당신을 생각해요\\nin my sleeples...</td>\n      <td>1997-09-16</td>\n      <td>0</td>\n      <td>1</td>\n      <td>694.707279</td>\n      <td>144.864262</td>\n      <td>0.173242</td>\n      <td>0.418525</td>\n      <td>371.087818</td>\n      <td>{'C2': 0.0, 'D2': 0.0, 'E2': 0.0, 'F2': 0.0, '...</td>\n      <td>69</td>\n      <td>Mariah Carey</td>\n      <td>SOLO</td>\n      <td>FEMALE</td>\n    </tr>\n  </tbody>\n</table>\n</div>"
     },
     "execution_count": 38,
     "metadata": {},
     "output_type": "execute_result"
    }
   ],
   "source": [
    "def update_rating_by_pitch_coverage(row, user_data):\n",
    "    coverage = 0.0\n",
    "    \n",
    "    highestPitch = PitchConverter.freq_to_pitch(user_data['highest_pitch'])\n",
    "    lowestPitch = PitchConverter.freq_to_pitch(user_data['lowest_pitch'])\n",
    "    \n",
    "    lowest_pitch_met = False\n",
    "    for pitch, pct in row['pitch_stat'].items():\n",
    "        if lowestPitch == pitch:\n",
    "            lowest_pitch_met = True\n",
    "            coverage += pct\n",
    "        elif highestPitch == pitch:\n",
    "            coverage += pct\n",
    "            break\n",
    "        elif lowest_pitch_met:\n",
    "            coverage += pct\n",
    "    \n",
    "    row['pred'] += coverage\n",
    "    return row\n",
    "        \n",
    "recommendations_data = recommendations_data.apply(update_rating_by_pitch_coverage, axis=1, user_data=user_data)\n",
    "recommendations_data.head()"
   ],
   "metadata": {
    "collapsed": false,
    "ExecuteTime": {
     "end_time": "2024-10-25T01:33:41.324918Z",
     "start_time": "2024-10-25T01:33:41.295201Z"
    }
   },
   "id": "5409968c2ba50e90",
   "execution_count": 38
  },
  {
   "cell_type": "code",
   "outputs": [
    {
     "data": {
      "text/plain": "                                                title      pred  music_id  \\\n1                      Boys And Girls (Feat. Babylon)  5.152024       397   \n37                                                손오공  5.100001       196   \n8                                                다행이다  4.989236       383   \n9                                        사랑은 은하수 다방에서  4.817276       386   \n10                                             소주 한 잔  4.815606       384   \n15                                               취중진담  4.783284       180   \n16                        친구 얘긴데 (feat. Skinny Brown)  4.755337       204   \n20                                   어땠을까 (Feat. 박정현)  4.722094       173   \n41                                        모든 날, 모든 순간  4.700001       200   \n29                                                응급실  4.699677       186   \n32                                              Lemon  4.670813       189   \n40                                          사랑은 늘 도망가  4.661368       199   \n21                           흔들리는 꽃들 속에서 네 샴푸향이 느껴진거야  4.661014       174   \n6                                             가지마 가지마  4.646116       182   \n13                                             잠시만 안녕  4.612849       176   \n19                                                 시작  4.602954       172   \n31                                       NIGHT DANCER  4.578789       188   \n18                                               너였다면  4.552508       171   \n22                                          Don't Cry  4.500788       175   \n35                    UNFORGIVEN (feat. Nile Rodgers)  4.444232       194   \n27                                             잘못된 만남  4.438942       184   \n17                                     퀸카 (Queencard)  4.406661       191   \n26                                          결혼까지 생각했어  4.399621       183   \n23                                               외톨이야  4.369305       178   \n39                  See You Again (분노의 질주 : 더 세븐 OST)  4.352632       198   \n5                                               Spicy  4.301291       192   \n30                                              Aloha  4.275561       187   \n50                                              검은 행복  4.212850       398   \n25                                              사랑했지만  4.196579       181   \n24                                              나는 나비  4.187590       179   \n2                                   Don't Stop Me Now  4.174039       396   \n36                                                  꽃  4.173946       195   \n7                                        너에게 난, 나에게 넌  4.149676       170   \n28                                              벌써 일년  4.104862       185   \n43                                               바람기억  4.098072       385   \n42                                     FRIEND THE END  4.035701       202   \n34                                               I AM  3.938282       193   \n45                                         She's Gone  3.933010       389   \n47                                          Superstar  3.864637       391   \n3                                      Let's Get Loud  3.810624       387   \n33                                           다시 만난 세계  3.802391       190   \n48                                         What's Up?  3.782179       392   \n38                                      저곳으로(인어공주OST)  3.711595       197   \n0   Beauty and the Beast (from \"Beauty and the Bea...  3.662632       395   \n44                                          Everytime  3.659687       388   \n4                                              My All  3.628310       393   \n12                                              인형의 꿈  3.398981       177   \n46                                     Because Of You  3.337798       390   \n49                                             Listen  3.332383       394   \n14                                                첫사랑  2.215013       205   \n11                                        오늘도 빛나는 너에게  2.186405       206   \n\n      genre                                             lyrics release_date  \\\n1       RAP  Don't worry about money\\n놀자 오빠가 무리할게\\n넌 그냥 옆에서...   2015-11-03   \n37    DANCE  땅을 보고 계속 올랐지 정상까지\\n많은 시련은 보란 듯이 I Always Win\\n...   2023-04-24   \n8   BALLADE  그대를 만나고\\n그대의 머릿결을 만질 수가 있어서\\n그대를 만나고\\n그대와 마주보며...   2007-04-19   \n9      FOLK  사랑은 은하수 다방 문 앞에서 만나\\n홍차와 냉커피를 마시며\\n매일 똑같은 노래를 ...   2011-02-10   \n10  BALLADE  술이 한 잔 생각나는 밤\\n같이 있는 것 같아요\\n그 좋았던 시절들\\n이젠 모두 한...   2003-06-05   \n15  BALLADE  그래 난 취했는지도 몰라\\n실수인지도 몰라\\n아침이면 까마득히 생각이 안나\\n불안해...   2007-03-15   \n16    INDIE  저기 말야\\n나 말고 아는 친구 얘긴데\\n별 뜻은 아냐\\n그저 네 생각이 좀 궁금해...   2023-06-01   \n20      RAP  내가 그때 널 잡았더라면\\n너와 나 지금보다 행복했을까\\n마지막에 널\\n안아줬다면 ...   2012-07-15   \n41      OST  네가 없이 웃을 수 있을까\\n생각만 해도 눈물이나\\n힘든 시간 날 지켜준 사람\\n이...   2018-03-20   \n29  BALLADE  후회 하고 있어요\\n우리 다투던 그 날\\n괜한 자존심 때문에\\n끝내자고 말을 해버린...   2005-01-20   \n32     JPOP  夢ならばどれほどよかったでしょう\\n未だにあなたのことを夢にみる\\n忘れた物を取りに帰るよう...   2018-03-16   \n40      OST  눈물이 난다 이 길을 걸으면\\n그 사람 손길이 자꾸 생각이 난다\\n붙잡지 못하고 가...   2021-10-11   \n21      OST  흔들리는 꽃들 속에서\\n네 샴푸향이 느껴진거야\\n스쳐지나간건가 뒤돌아보지만\\n그냥 ...   2019-08-23   \n6   BALLADE  우리 함께했던 날들\\n그 기억들만 남아\\n너를 지워야만 내가 살 수 있을까\\n우리 ...   2008-06-19   \n13  BALLADE  행복을 줄 수 없었어\\n그런데 사랑을 했어\\n니곁에 감히 머무른\\n내 욕심을 용서치...   2007-05-10   \n19      OST  새로운 시작은 늘 설레게 하지\\n모든 걸 이겨낼 것처럼\\n시간을 뒤쫓는 시계바늘처럼...   2020-02-01   \n31     JPOP  どうでもいいような 夜だけど\\n響めき 煌めきと君も\\nまだ止まった 刻む針も\\n入り浸った...   2022-08-19   \n18      OST  왜 너에겐 그렇게 어려운지\\n애를 쓰는 나를\\n제대로 봐주는 게\\n너 하나에 이토록...   2016-05-31   \n22  BALLADE  그대의 눈물이 마를 때까지\\n우리의 사랑을 볼 수 없을테니\\n울지 말아요 이제야\\n...   2003-08-01   \n35    DANCE  Unforgiven I’m a villain I’m a\\nUnforgiven 난 그...   2023-05-01   \n27    DANCE  난 너를 믿었던 만큼\\n난 내 친구도 믿었기에\\n난 아무런 부담없이 널\\n내 친구에...   1995-01-24   \n17    DANCE  Hey you\\n뭘 보니? 내가 좀 Sexy Sexy 반했니\\nYe you\\n뭐 하...   2023-05-15   \n26      RNB  To all My people hellow hellow\\nhellow hellow\\...   2010-08-26   \n23     ROCK  외톨이야 외톨이야\\n\\n외톨이야 외톨이야\\n\\n\\n\\n봐봐 나를 봐봐 똑바로 내 두...   2010-01-14   \n39      OST  It's been a long day\\nwithout you my friend\\nA...   2015-03-17   \n5     DANCE  Uh Uh Too Spicy\\nYou want my A to the Z\\nBut y...   2023-05-08   \n30    INDIE  처음 듣는 노래\\n처음 걷는 길\\n처음 보는 바다\\n처음 보는 별\\n\\n네가 없는 ...   2012-04-10   \n50      RAP  유난히 검었었던\\n어릴 적 내 살색\\n사람들은 손가락질 해\\n내 Mommy한테\\n내...   2007-02-23   \n25     FOLK  어제는 하루 종일 비가 내렸어\\n자욱하게 내려 앉은 먼지 사이로\\n귓가에 은은하게 ...   1991-02-20   \n24     ROCK  내 모습이 보이지 않아\\n앞길도 보이지 않아\\n나는 아주 작은 애벌레\\n\\n살이 터...   2006-08-10   \n2      ROCK  Tonight, I'm gonna have myself a real good tim...   1976-01-26   \n36    DANCE  ABC 도레미만큼 착했던 나\\n그 눈빛이 싹 변했지\\n어쩌면 이 또한 나니까\\n난 ...   2023-03-31   \n7      FOLK  너에게 난 해질녘 노을처럼\\n한 편의 아름다운 추억이 되고\\n소중했던 우리 푸르던 ...   2003-02-01   \n28      RNB  처음이라 그래 며칠뒤엔\\n괜찮아져\\n그 생각만으로 벌써 일년이\\n너와 만든 기념일마...   2007-06-12   \n43      RNB  바람 불어와 내 맘 흔들면\\n지나간 세월에\\n두 눈을 감아본다\\n\\n나를 스치는 고...   2012-09-20   \n42    INDIE  요즘엔 썸이라는 단어를 난 쓰지 않아\\n친구란 완벽한 단어로 숨길 수가 있지\\n사랑...   2023-04-16   \n34    DANCE  다른 문을 열어 따라 갈 필요는 없어\\n넌 너의 길로 난 나의 길로 음\\n하루하루마...   2023-04-10   \n45     ROCK  She′s gone out of my life\\nI was wrong\\nI′m to...   2011-01-01   \n47      POP  Hey hey, yeah\\nUh huh, superstar, ah ah\\nNo ma...   2009-07-27   \n3       POP  let's get loud let's get loud\\nturn the music ...   1999-06-29   \n33    DANCE  전해 주고 싶어 슬픈 시간이\\n다 흩어진 후에야 들리지만\\n눈을 감고 느껴 봐 움직...   2007-11-01   \n48     ROCK  25 years and my life is still\\nTrying to get u...   2007-05-17   \n38      OST  이것 좀 봐 신기하지\\n내가 모은 것들 대단하지\\n내가 세상 모든 걸 다 가진 것 ...   2023-05-17   \n0       OST                                               None   1992-03-30   \n44      POP  Notice me, take my hand\\n\\nWhy are we stranger...   2003-11-13   \n4       RNB  I am thinking of you\\n당신을 생각해요\\nin my sleeples...   1997-09-16   \n12      OST  그대 먼 곳만 보네요\\n내가 바로 여기 있는데\\n조금만 고개를 돌려도\\n날 볼 수 ...   2003-09-09   \n46      POP  I will not make\\nthe same mistakes that you di...   2005-07-16   \n49      RNB  Listen,\\nto the song here in my heart\\n내맘속 노래를...   2007-02-21   \n14    INDIE  알아 내 맘에 조용히\\n문을 두드리면\\n눈에 뿌옇게 고여버린\\n널 흘려보내야 해\\n...   2018-10-11   \n11    INDIE  별빛이 내린 밤\\n그 풍경 속 너와 나\\n날 새롭게 하는\\n따뜻하게 만드는\\n니 눈...   2019-06-09   \n\n    likes  view  highest_pitch  lowest_pitch  high_pitch_ratio  \\\n1       0     1     469.292125    123.944968          0.123616   \n37      0     8     364.594405    132.934857          0.246493   \n8       0    22     378.239188    125.874867          0.077957   \n9       0    38     419.766686    179.586040          0.170213   \n10      0    28     883.534154    117.084343          0.149086   \n15      0     8     688.456088     92.717461          0.236074   \n16      0     7     411.220547     93.726779          0.039872   \n20      1     9     620.806132    123.754295          0.485465   \n41      0     6     348.985553    169.953506          0.027027   \n29      0     9     447.480460     98.209465          0.184466   \n32      0     8     415.074247    121.414461          0.057107   \n40      0     6     415.945462     93.023069          0.069837   \n21      0     7     500.865280    104.255744          0.052632   \n6       0     8     834.280803    152.085571          0.387870   \n13      0    12     885.293572    166.179307          0.493438   \n19      0     8     428.380936    149.105775          0.331224   \n31      0     9     473.118383    131.658609          0.210438   \n18      0    25     513.832400    145.657815          0.345133   \n22      0     4     796.514962    124.552403          0.440945   \n35      0     9     558.651408    175.889445          0.005769   \n27      0     6     850.065165    199.168516          0.657845   \n17      0     7     575.688579    186.402709          0.015556   \n26      0     6     902.750069    124.968452          0.460076   \n23      0     4     557.989885    150.122581          0.468354   \n39      0     6     590.567826    164.744786          0.456140   \n5       1    11     703.966140    193.677050          0.074554   \n30      0    11     339.689281    121.419028          0.004073   \n50      0     0     472.369219     88.935388          0.000000   \n25      0     5     889.166344    121.303076          0.302281   \n24      0    17     840.293833    132.162513          0.396181   \n2       0     1     507.861756    164.907098          0.505030   \n36      0     7     661.198665    169.262994          0.069479   \n7       0    36     944.986819    140.076631          0.397028   \n28      0     8     593.289648    123.631166          0.394097   \n43      0    21     641.050494    173.659578          0.606061   \n42      0     6     462.287979    159.646833          0.000000   \n34      0     6     805.328717    183.901798          0.185547   \n45      0     0     805.689733    183.615690          0.789644   \n47      0     0     584.447793    206.903635          0.008460   \n3       0    16     597.670991    205.814429          0.039370   \n33      0     9     527.411163    233.820538          0.002656   \n48      0     0     718.458771    178.835255          0.699010   \n38      0     4     589.494552    240.798246          0.089855   \n0       0     2     882.665004    170.163455          0.669540   \n44      0     0     621.329797    229.133862          0.039267   \n4       0     1     694.707279    144.864262          0.173242   \n12      1     5     588.248207    232.075376          0.021583   \n46      0     0     661.821069    203.634407          0.102679   \n49      0     0     727.918474    170.494849          0.201141   \n14      1     9     525.258280    202.686124          0.002053   \n11      1    34     655.590421    147.626466          0.623476   \n\n    low_pitch_ratio  pitch_average  \\\n1          0.000000     270.923070   \n37         0.000000     270.714602   \n8          0.000000     261.205990   \n9          0.000000     287.265146   \n10         0.000000     254.346880   \n15         0.002653     254.914448   \n16         0.007974     256.574423   \n20         0.000000     317.807284   \n41         0.000000     241.841471   \n29         0.001618     251.204317   \n32         0.000000     240.868082   \n40         0.008915     244.590870   \n21         0.005848     245.927647   \n6          0.000000     344.287088   \n13         0.000000     360.619057   \n19         0.000000     300.080222   \n31         0.000000     278.414292   \n18         0.000000     294.095022   \n22         0.000000     321.024447   \n35         0.259615     331.741399   \n27         0.000000     378.667970   \n17         0.400000     330.100029   \n26         0.000000     333.824600   \n23         0.000000     339.719083   \n39         0.000000     323.534208   \n5          0.141005     387.823861   \n30         0.000000     187.741279   \n50         0.446927     284.247679   \n25         0.000000     324.027882   \n24         0.000000     324.931949   \n2          0.000000     319.656593   \n36         0.272953     370.308363   \n7          0.000000     344.381940   \n28         0.000000     313.682014   \n43         0.000000     377.492801   \n42         0.374753     326.673668   \n34         0.144531     445.451092   \n45         0.000000     491.449801   \n47         0.314721     320.859180   \n3          0.226378     346.274942   \n33         0.088977     384.026013   \n48         0.000000     420.344116   \n38         0.133333     401.498566   \n0          0.000000     404.741144   \n44         0.248691     345.569000   \n4          0.418525     371.087818   \n12         0.120504     386.938462   \n46         0.273810     389.824621   \n49         0.176890     427.610830   \n14         0.488706     308.470262   \n11         0.000000     360.265918   \n\n                                           pitch_stat  group_id  \\\n1   {'C2': 0.0, 'D2': 0.0, 'E2': 0.0, 'F2': 0.0, '...        75   \n37  {'C2': 0.0, 'D2': 0.0, 'E2': 0.0, 'F2': 0.0, '...        47   \n8   {'C2': 0.0, 'D2': 0.0, 'E2': 0.0, 'F2': 0.0, '...        61   \n9   {'C2': 0.0, 'D2': 0.0, 'E2': 0.0, 'F2': 0.0, '...        52   \n10  {'C2': 0.0, 'D2': 0.0, 'E2': 0.0, 'F2': 0.0, '...        62   \n15  {'C2': 0.0, 'D2': 0.0, 'E2': 0.0, 'F2': 0.0, '...        22   \n16  {'C2': 0.0, 'D2': 0.0, 'E2': 0.0, 'F2': 0.0, '...        55   \n20  {'C2': 0.0, 'D2': 0.0, 'E2': 0.0, 'F2': 0.0, '...        15   \n41  {'C2': 0.0, 'D2': 0.0, 'E2': 0.0, 'F2': 0.0, '...        51   \n29  {'C2': 0.0, 'D2': 0.0, 'E2': 0.0, 'F2': 0.0, '...        36   \n32  {'C2': 0.0, 'D2': 0.0, 'E2': 0.0, 'F2': 0.0, '...        39   \n40  {'C2': 0.0, 'D2': 0.0, 'E2': 0.0, 'F2': 0.0, '...        50   \n21  {'C2': 0.0, 'D2': 0.0, 'E2': 0.0, 'F2': 0.0, '...        16   \n6   {'C2': 0.0, 'D2': 0.0, 'E2': 0.0, 'F2': 0.0, '...        24   \n13  {'C2': 0.0, 'D2': 0.0, 'E2': 0.0, 'F2': 0.0, '...        18   \n19  {'C2': 0.0, 'D2': 0.0, 'E2': 0.0, 'F2': 0.0, '...        14   \n31  {'C2': 0.0, 'D2': 0.0, 'E2': 0.0, 'F2': 0.0, '...        38   \n18  {'C2': 0.0, 'D2': 0.0, 'E2': 0.0, 'F2': 0.0, '...        12   \n22  {'C2': 0.0, 'D2': 0.0, 'E2': 0.0, 'F2': 0.0, '...        17   \n35  {'C2': 0.0, 'D2': 0.0, 'E2': 0.0, 'F2': 0.0, '...        45   \n27  {'C2': 0.0, 'D2': 0.0, 'E2': 0.0, 'F2': 0.0, '...        35   \n17  {'C2': 0.0, 'D2': 0.0, 'E2': 0.0, 'F2': 0.0, '...        42   \n26  {'C2': 0.0, 'D2': 0.0, 'E2': 0.0, 'F2': 0.0, '...        25   \n23  {'C2': 0.0, 'D2': 0.0, 'E2': 0.0, 'F2': 0.0, '...        20   \n39  {'C2': 0.0, 'D2': 0.0, 'E2': 0.0, 'F2': 0.0, '...        49   \n5   {'C2': 0.0, 'D2': 0.0, 'E2': 0.0, 'F2': 0.0, '...        43   \n30  {'C2': 0.0, 'D2': 0.0, 'E2': 0.0, 'F2': 0.0, '...        37   \n50  {'C2': 0.0, 'D2': 0.0, 'E2': 0.0, 'F2': 0.0027...        76   \n25  {'C2': 0.0, 'D2': 0.0, 'E2': 0.0, 'F2': 0.0, '...        23   \n24  {'C2': 0.0, 'D2': 0.0, 'E2': 0.0, 'F2': 0.0, '...        21   \n2   {'C2': 0.0, 'D2': 0.0, 'E2': 0.0, 'F2': 0.0, '...        74   \n36  {'C2': 0.0, 'D2': 0.0, 'E2': 0.0, 'F2': 0.0, '...        46   \n7   {'C2': 0.0, 'D2': 0.0, 'E2': 0.0, 'F2': 0.0, '...        13   \n28  {'C2': 0.0, 'D2': 0.0, 'E2': 0.0, 'F2': 0.0, '...        24   \n43  {'C2': 0.0, 'D2': 0.0, 'E2': 0.0, 'F2': 0.0, '...        63   \n42  {'C2': 0.0, 'D2': 0.0, 'E2': 0.0, 'F2': 0.0, '...        53   \n34  {'C2': 0.0, 'D2': 0.0, 'E2': 0.0, 'F2': 0.0, '...        44   \n45  {'C2': 0.0, 'D2': 0.0, 'E2': 0.0, 'F2': 0.0, '...        66   \n47  {'C2': 0.0, 'D2': 0.0, 'E2': 0.0, 'F2': 0.0, '...        68   \n3   {'C2': 0.0, 'D2': 0.0, 'E2': 0.0, 'F2': 0.0, '...        64   \n33  {'C2': 0.0, 'D2': 0.0, 'E2': 0.0, 'F2': 0.0, '...        41   \n48  {'C2': 0.0, 'D2': 0.0, 'E2': 0.0, 'F2': 0.0, '...        73   \n38  {'C2': 0.0, 'D2': 0.0, 'E2': 0.0, 'F2': 0.0, '...        48   \n0   {'C2': 0.0, 'D2': 0.0, 'E2': 0.0, 'F2': 0.0, '...        72   \n44  {'C2': 0.0, 'D2': 0.0, 'E2': 0.0, 'F2': 0.0, '...        65   \n4   {'C2': 0.0, 'D2': 0.0, 'E2': 0.0, 'F2': 0.0, '...        69   \n12  {'C2': 0.0, 'D2': 0.0, 'E2': 0.0, 'F2': 0.0, '...        19   \n46  {'C2': 0.0, 'D2': 0.0, 'E2': 0.0, 'F2': 0.0, '...        67   \n49  {'C2': 0.0, 'D2': 0.0, 'E2': 0.0, 'F2': 0.0, '...        71   \n14  {'C2': 0.0, 'D2': 0.0, 'E2': 0.0, 'F2': 0.0, '...        56   \n11  {'C2': 0.0, 'D2': 0.0, 'E2': 0.0, 'F2': 0.0, '...        12   \n\n                    group_name group_type  gender  \n1                    지코 (ZICO)       SOLO    MALE  \n37             세븐틴 (SEVENTEEN)      GROUP    MALE  \n8                           이적       SOLO    MALE  \n9                         10CM       SOLO    MALE  \n10                         임창정       SOLO    MALE  \n15                         김동률       SOLO    MALE  \n16              그리즐리 (Grizzly)       SOLO    MALE  \n20                    싸이 (PSY)       SOLO    MALE  \n41                          폴킴       SOLO    MALE  \n29                         izi      GROUP    MALE  \n32               Yonezu Kenshi       SOLO    MALE  \n40                         임영웅       SOLO    MALE  \n21                         장범준       SOLO    MALE  \n6                      브라운 아이즈      GROUP    MALE  \n13         엠씨더맥스 (M.C the MAX)       SOLO    MALE  \n19                   가호 (Gaho)       SOLO    MALE  \n31                       imase       SOLO    MALE  \n18                마크툽 (MAKTUB)       SOLO    MALE  \n22                       더 크로스      GROUP    MALE  \n35          LE SSERAFIM (르세라핌)      GROUP  FEMALE  \n27                         김건모       SOLO    MALE  \n17                     (여자)아이들      GROUP  FEMALE  \n26               휘성 (Realslow)       SOLO    MALE  \n23               CNBLUE (씨엔블루)      GROUP    MALE  \n39  Charlie Puth , Wiz Khalifa      GROUP    MALE  \n5                        aespa      GROUP  FEMALE  \n30                      스탠딩 에그      GROUP   OTHER  \n50                         윤미래       SOLO  FEMALE  \n25                         김광석       SOLO    MALE  \n24                 YB (윤도현 밴드)       SOLO    MALE  \n2                        Queen      GROUP    MALE  \n36                  지수 (JISOO)       SOLO  FEMALE  \n7                     자전거 탄 풍경      GROUP    MALE  \n28                     브라운 아이즈      GROUP    MALE  \n43                          나얼       SOLO    MALE  \n42                      볼빨간사춘기       SOLO  FEMALE  \n34                   IVE (아이브)      GROUP  FEMALE  \n45                  Steelheart      GROUP    MALE  \n47                     Jamelia       SOLO  FEMALE  \n3               Jennifer Lopez       SOLO  FEMALE  \n33    소녀시대 (GIRLS' GENERATION)      GROUP  FEMALE  \n48               4 Non Blondes       SOLO    MALE  \n38               다니엘(DANIELLE)       SOLO  FEMALE  \n0    Peabo Bryson, Celine Dion      GROUP     MIX  \n44              Britney Spears       SOLO  FEMALE  \n4                 Mariah Carey       SOLO  FEMALE  \n12                        러브홀릭       SOLO  FEMALE  \n46              Kelly Clarkson       SOLO  FEMALE  \n49                     Beyonce       SOLO  FEMALE  \n14                          백아       SOLO  FEMALE  \n11                마크툽 (MAKTUB)       SOLO    MALE  ",
      "text/html": "<div>\n<style scoped>\n    .dataframe tbody tr th:only-of-type {\n        vertical-align: middle;\n    }\n\n    .dataframe tbody tr th {\n        vertical-align: top;\n    }\n\n    .dataframe thead th {\n        text-align: right;\n    }\n</style>\n<table border=\"1\" class=\"dataframe\">\n  <thead>\n    <tr style=\"text-align: right;\">\n      <th></th>\n      <th>title</th>\n      <th>pred</th>\n      <th>music_id</th>\n      <th>genre</th>\n      <th>lyrics</th>\n      <th>release_date</th>\n      <th>likes</th>\n      <th>view</th>\n      <th>highest_pitch</th>\n      <th>lowest_pitch</th>\n      <th>high_pitch_ratio</th>\n      <th>low_pitch_ratio</th>\n      <th>pitch_average</th>\n      <th>pitch_stat</th>\n      <th>group_id</th>\n      <th>group_name</th>\n      <th>group_type</th>\n      <th>gender</th>\n    </tr>\n  </thead>\n  <tbody>\n    <tr>\n      <th>1</th>\n      <td>Boys And Girls (Feat. Babylon)</td>\n      <td>5.152024</td>\n      <td>397</td>\n      <td>RAP</td>\n      <td>Don't worry about money\\n놀자 오빠가 무리할게\\n넌 그냥 옆에서...</td>\n      <td>2015-11-03</td>\n      <td>0</td>\n      <td>1</td>\n      <td>469.292125</td>\n      <td>123.944968</td>\n      <td>0.123616</td>\n      <td>0.000000</td>\n      <td>270.923070</td>\n      <td>{'C2': 0.0, 'D2': 0.0, 'E2': 0.0, 'F2': 0.0, '...</td>\n      <td>75</td>\n      <td>지코 (ZICO)</td>\n      <td>SOLO</td>\n      <td>MALE</td>\n    </tr>\n    <tr>\n      <th>37</th>\n      <td>손오공</td>\n      <td>5.100001</td>\n      <td>196</td>\n      <td>DANCE</td>\n      <td>땅을 보고 계속 올랐지 정상까지\\n많은 시련은 보란 듯이 I Always Win\\n...</td>\n      <td>2023-04-24</td>\n      <td>0</td>\n      <td>8</td>\n      <td>364.594405</td>\n      <td>132.934857</td>\n      <td>0.246493</td>\n      <td>0.000000</td>\n      <td>270.714602</td>\n      <td>{'C2': 0.0, 'D2': 0.0, 'E2': 0.0, 'F2': 0.0, '...</td>\n      <td>47</td>\n      <td>세븐틴 (SEVENTEEN)</td>\n      <td>GROUP</td>\n      <td>MALE</td>\n    </tr>\n    <tr>\n      <th>8</th>\n      <td>다행이다</td>\n      <td>4.989236</td>\n      <td>383</td>\n      <td>BALLADE</td>\n      <td>그대를 만나고\\n그대의 머릿결을 만질 수가 있어서\\n그대를 만나고\\n그대와 마주보며...</td>\n      <td>2007-04-19</td>\n      <td>0</td>\n      <td>22</td>\n      <td>378.239188</td>\n      <td>125.874867</td>\n      <td>0.077957</td>\n      <td>0.000000</td>\n      <td>261.205990</td>\n      <td>{'C2': 0.0, 'D2': 0.0, 'E2': 0.0, 'F2': 0.0, '...</td>\n      <td>61</td>\n      <td>이적</td>\n      <td>SOLO</td>\n      <td>MALE</td>\n    </tr>\n    <tr>\n      <th>9</th>\n      <td>사랑은 은하수 다방에서</td>\n      <td>4.817276</td>\n      <td>386</td>\n      <td>FOLK</td>\n      <td>사랑은 은하수 다방 문 앞에서 만나\\n홍차와 냉커피를 마시며\\n매일 똑같은 노래를 ...</td>\n      <td>2011-02-10</td>\n      <td>0</td>\n      <td>38</td>\n      <td>419.766686</td>\n      <td>179.586040</td>\n      <td>0.170213</td>\n      <td>0.000000</td>\n      <td>287.265146</td>\n      <td>{'C2': 0.0, 'D2': 0.0, 'E2': 0.0, 'F2': 0.0, '...</td>\n      <td>52</td>\n      <td>10CM</td>\n      <td>SOLO</td>\n      <td>MALE</td>\n    </tr>\n    <tr>\n      <th>10</th>\n      <td>소주 한 잔</td>\n      <td>4.815606</td>\n      <td>384</td>\n      <td>BALLADE</td>\n      <td>술이 한 잔 생각나는 밤\\n같이 있는 것 같아요\\n그 좋았던 시절들\\n이젠 모두 한...</td>\n      <td>2003-06-05</td>\n      <td>0</td>\n      <td>28</td>\n      <td>883.534154</td>\n      <td>117.084343</td>\n      <td>0.149086</td>\n      <td>0.000000</td>\n      <td>254.346880</td>\n      <td>{'C2': 0.0, 'D2': 0.0, 'E2': 0.0, 'F2': 0.0, '...</td>\n      <td>62</td>\n      <td>임창정</td>\n      <td>SOLO</td>\n      <td>MALE</td>\n    </tr>\n    <tr>\n      <th>15</th>\n      <td>취중진담</td>\n      <td>4.783284</td>\n      <td>180</td>\n      <td>BALLADE</td>\n      <td>그래 난 취했는지도 몰라\\n실수인지도 몰라\\n아침이면 까마득히 생각이 안나\\n불안해...</td>\n      <td>2007-03-15</td>\n      <td>0</td>\n      <td>8</td>\n      <td>688.456088</td>\n      <td>92.717461</td>\n      <td>0.236074</td>\n      <td>0.002653</td>\n      <td>254.914448</td>\n      <td>{'C2': 0.0, 'D2': 0.0, 'E2': 0.0, 'F2': 0.0, '...</td>\n      <td>22</td>\n      <td>김동률</td>\n      <td>SOLO</td>\n      <td>MALE</td>\n    </tr>\n    <tr>\n      <th>16</th>\n      <td>친구 얘긴데 (feat. Skinny Brown)</td>\n      <td>4.755337</td>\n      <td>204</td>\n      <td>INDIE</td>\n      <td>저기 말야\\n나 말고 아는 친구 얘긴데\\n별 뜻은 아냐\\n그저 네 생각이 좀 궁금해...</td>\n      <td>2023-06-01</td>\n      <td>0</td>\n      <td>7</td>\n      <td>411.220547</td>\n      <td>93.726779</td>\n      <td>0.039872</td>\n      <td>0.007974</td>\n      <td>256.574423</td>\n      <td>{'C2': 0.0, 'D2': 0.0, 'E2': 0.0, 'F2': 0.0, '...</td>\n      <td>55</td>\n      <td>그리즐리 (Grizzly)</td>\n      <td>SOLO</td>\n      <td>MALE</td>\n    </tr>\n    <tr>\n      <th>20</th>\n      <td>어땠을까 (Feat. 박정현)</td>\n      <td>4.722094</td>\n      <td>173</td>\n      <td>RAP</td>\n      <td>내가 그때 널 잡았더라면\\n너와 나 지금보다 행복했을까\\n마지막에 널\\n안아줬다면 ...</td>\n      <td>2012-07-15</td>\n      <td>1</td>\n      <td>9</td>\n      <td>620.806132</td>\n      <td>123.754295</td>\n      <td>0.485465</td>\n      <td>0.000000</td>\n      <td>317.807284</td>\n      <td>{'C2': 0.0, 'D2': 0.0, 'E2': 0.0, 'F2': 0.0, '...</td>\n      <td>15</td>\n      <td>싸이 (PSY)</td>\n      <td>SOLO</td>\n      <td>MALE</td>\n    </tr>\n    <tr>\n      <th>41</th>\n      <td>모든 날, 모든 순간</td>\n      <td>4.700001</td>\n      <td>200</td>\n      <td>OST</td>\n      <td>네가 없이 웃을 수 있을까\\n생각만 해도 눈물이나\\n힘든 시간 날 지켜준 사람\\n이...</td>\n      <td>2018-03-20</td>\n      <td>0</td>\n      <td>6</td>\n      <td>348.985553</td>\n      <td>169.953506</td>\n      <td>0.027027</td>\n      <td>0.000000</td>\n      <td>241.841471</td>\n      <td>{'C2': 0.0, 'D2': 0.0, 'E2': 0.0, 'F2': 0.0, '...</td>\n      <td>51</td>\n      <td>폴킴</td>\n      <td>SOLO</td>\n      <td>MALE</td>\n    </tr>\n    <tr>\n      <th>29</th>\n      <td>응급실</td>\n      <td>4.699677</td>\n      <td>186</td>\n      <td>BALLADE</td>\n      <td>후회 하고 있어요\\n우리 다투던 그 날\\n괜한 자존심 때문에\\n끝내자고 말을 해버린...</td>\n      <td>2005-01-20</td>\n      <td>0</td>\n      <td>9</td>\n      <td>447.480460</td>\n      <td>98.209465</td>\n      <td>0.184466</td>\n      <td>0.001618</td>\n      <td>251.204317</td>\n      <td>{'C2': 0.0, 'D2': 0.0, 'E2': 0.0, 'F2': 0.0, '...</td>\n      <td>36</td>\n      <td>izi</td>\n      <td>GROUP</td>\n      <td>MALE</td>\n    </tr>\n    <tr>\n      <th>32</th>\n      <td>Lemon</td>\n      <td>4.670813</td>\n      <td>189</td>\n      <td>JPOP</td>\n      <td>夢ならばどれほどよかったでしょう\\n未だにあなたのことを夢にみる\\n忘れた物を取りに帰るよう...</td>\n      <td>2018-03-16</td>\n      <td>0</td>\n      <td>8</td>\n      <td>415.074247</td>\n      <td>121.414461</td>\n      <td>0.057107</td>\n      <td>0.000000</td>\n      <td>240.868082</td>\n      <td>{'C2': 0.0, 'D2': 0.0, 'E2': 0.0, 'F2': 0.0, '...</td>\n      <td>39</td>\n      <td>Yonezu Kenshi</td>\n      <td>SOLO</td>\n      <td>MALE</td>\n    </tr>\n    <tr>\n      <th>40</th>\n      <td>사랑은 늘 도망가</td>\n      <td>4.661368</td>\n      <td>199</td>\n      <td>OST</td>\n      <td>눈물이 난다 이 길을 걸으면\\n그 사람 손길이 자꾸 생각이 난다\\n붙잡지 못하고 가...</td>\n      <td>2021-10-11</td>\n      <td>0</td>\n      <td>6</td>\n      <td>415.945462</td>\n      <td>93.023069</td>\n      <td>0.069837</td>\n      <td>0.008915</td>\n      <td>244.590870</td>\n      <td>{'C2': 0.0, 'D2': 0.0, 'E2': 0.0, 'F2': 0.0, '...</td>\n      <td>50</td>\n      <td>임영웅</td>\n      <td>SOLO</td>\n      <td>MALE</td>\n    </tr>\n    <tr>\n      <th>21</th>\n      <td>흔들리는 꽃들 속에서 네 샴푸향이 느껴진거야</td>\n      <td>4.661014</td>\n      <td>174</td>\n      <td>OST</td>\n      <td>흔들리는 꽃들 속에서\\n네 샴푸향이 느껴진거야\\n스쳐지나간건가 뒤돌아보지만\\n그냥 ...</td>\n      <td>2019-08-23</td>\n      <td>0</td>\n      <td>7</td>\n      <td>500.865280</td>\n      <td>104.255744</td>\n      <td>0.052632</td>\n      <td>0.005848</td>\n      <td>245.927647</td>\n      <td>{'C2': 0.0, 'D2': 0.0, 'E2': 0.0, 'F2': 0.0, '...</td>\n      <td>16</td>\n      <td>장범준</td>\n      <td>SOLO</td>\n      <td>MALE</td>\n    </tr>\n    <tr>\n      <th>6</th>\n      <td>가지마 가지마</td>\n      <td>4.646116</td>\n      <td>182</td>\n      <td>BALLADE</td>\n      <td>우리 함께했던 날들\\n그 기억들만 남아\\n너를 지워야만 내가 살 수 있을까\\n우리 ...</td>\n      <td>2008-06-19</td>\n      <td>0</td>\n      <td>8</td>\n      <td>834.280803</td>\n      <td>152.085571</td>\n      <td>0.387870</td>\n      <td>0.000000</td>\n      <td>344.287088</td>\n      <td>{'C2': 0.0, 'D2': 0.0, 'E2': 0.0, 'F2': 0.0, '...</td>\n      <td>24</td>\n      <td>브라운 아이즈</td>\n      <td>GROUP</td>\n      <td>MALE</td>\n    </tr>\n    <tr>\n      <th>13</th>\n      <td>잠시만 안녕</td>\n      <td>4.612849</td>\n      <td>176</td>\n      <td>BALLADE</td>\n      <td>행복을 줄 수 없었어\\n그런데 사랑을 했어\\n니곁에 감히 머무른\\n내 욕심을 용서치...</td>\n      <td>2007-05-10</td>\n      <td>0</td>\n      <td>12</td>\n      <td>885.293572</td>\n      <td>166.179307</td>\n      <td>0.493438</td>\n      <td>0.000000</td>\n      <td>360.619057</td>\n      <td>{'C2': 0.0, 'D2': 0.0, 'E2': 0.0, 'F2': 0.0, '...</td>\n      <td>18</td>\n      <td>엠씨더맥스 (M.C the MAX)</td>\n      <td>SOLO</td>\n      <td>MALE</td>\n    </tr>\n    <tr>\n      <th>19</th>\n      <td>시작</td>\n      <td>4.602954</td>\n      <td>172</td>\n      <td>OST</td>\n      <td>새로운 시작은 늘 설레게 하지\\n모든 걸 이겨낼 것처럼\\n시간을 뒤쫓는 시계바늘처럼...</td>\n      <td>2020-02-01</td>\n      <td>0</td>\n      <td>8</td>\n      <td>428.380936</td>\n      <td>149.105775</td>\n      <td>0.331224</td>\n      <td>0.000000</td>\n      <td>300.080222</td>\n      <td>{'C2': 0.0, 'D2': 0.0, 'E2': 0.0, 'F2': 0.0, '...</td>\n      <td>14</td>\n      <td>가호 (Gaho)</td>\n      <td>SOLO</td>\n      <td>MALE</td>\n    </tr>\n    <tr>\n      <th>31</th>\n      <td>NIGHT DANCER</td>\n      <td>4.578789</td>\n      <td>188</td>\n      <td>JPOP</td>\n      <td>どうでもいいような 夜だけど\\n響めき 煌めきと君も\\nまだ止まった 刻む針も\\n入り浸った...</td>\n      <td>2022-08-19</td>\n      <td>0</td>\n      <td>9</td>\n      <td>473.118383</td>\n      <td>131.658609</td>\n      <td>0.210438</td>\n      <td>0.000000</td>\n      <td>278.414292</td>\n      <td>{'C2': 0.0, 'D2': 0.0, 'E2': 0.0, 'F2': 0.0, '...</td>\n      <td>38</td>\n      <td>imase</td>\n      <td>SOLO</td>\n      <td>MALE</td>\n    </tr>\n    <tr>\n      <th>18</th>\n      <td>너였다면</td>\n      <td>4.552508</td>\n      <td>171</td>\n      <td>OST</td>\n      <td>왜 너에겐 그렇게 어려운지\\n애를 쓰는 나를\\n제대로 봐주는 게\\n너 하나에 이토록...</td>\n      <td>2016-05-31</td>\n      <td>0</td>\n      <td>25</td>\n      <td>513.832400</td>\n      <td>145.657815</td>\n      <td>0.345133</td>\n      <td>0.000000</td>\n      <td>294.095022</td>\n      <td>{'C2': 0.0, 'D2': 0.0, 'E2': 0.0, 'F2': 0.0, '...</td>\n      <td>12</td>\n      <td>마크툽 (MAKTUB)</td>\n      <td>SOLO</td>\n      <td>MALE</td>\n    </tr>\n    <tr>\n      <th>22</th>\n      <td>Don't Cry</td>\n      <td>4.500788</td>\n      <td>175</td>\n      <td>BALLADE</td>\n      <td>그대의 눈물이 마를 때까지\\n우리의 사랑을 볼 수 없을테니\\n울지 말아요 이제야\\n...</td>\n      <td>2003-08-01</td>\n      <td>0</td>\n      <td>4</td>\n      <td>796.514962</td>\n      <td>124.552403</td>\n      <td>0.440945</td>\n      <td>0.000000</td>\n      <td>321.024447</td>\n      <td>{'C2': 0.0, 'D2': 0.0, 'E2': 0.0, 'F2': 0.0, '...</td>\n      <td>17</td>\n      <td>더 크로스</td>\n      <td>GROUP</td>\n      <td>MALE</td>\n    </tr>\n    <tr>\n      <th>35</th>\n      <td>UNFORGIVEN (feat. Nile Rodgers)</td>\n      <td>4.444232</td>\n      <td>194</td>\n      <td>DANCE</td>\n      <td>Unforgiven I’m a villain I’m a\\nUnforgiven 난 그...</td>\n      <td>2023-05-01</td>\n      <td>0</td>\n      <td>9</td>\n      <td>558.651408</td>\n      <td>175.889445</td>\n      <td>0.005769</td>\n      <td>0.259615</td>\n      <td>331.741399</td>\n      <td>{'C2': 0.0, 'D2': 0.0, 'E2': 0.0, 'F2': 0.0, '...</td>\n      <td>45</td>\n      <td>LE SSERAFIM (르세라핌)</td>\n      <td>GROUP</td>\n      <td>FEMALE</td>\n    </tr>\n    <tr>\n      <th>27</th>\n      <td>잘못된 만남</td>\n      <td>4.438942</td>\n      <td>184</td>\n      <td>DANCE</td>\n      <td>난 너를 믿었던 만큼\\n난 내 친구도 믿었기에\\n난 아무런 부담없이 널\\n내 친구에...</td>\n      <td>1995-01-24</td>\n      <td>0</td>\n      <td>6</td>\n      <td>850.065165</td>\n      <td>199.168516</td>\n      <td>0.657845</td>\n      <td>0.000000</td>\n      <td>378.667970</td>\n      <td>{'C2': 0.0, 'D2': 0.0, 'E2': 0.0, 'F2': 0.0, '...</td>\n      <td>35</td>\n      <td>김건모</td>\n      <td>SOLO</td>\n      <td>MALE</td>\n    </tr>\n    <tr>\n      <th>17</th>\n      <td>퀸카 (Queencard)</td>\n      <td>4.406661</td>\n      <td>191</td>\n      <td>DANCE</td>\n      <td>Hey you\\n뭘 보니? 내가 좀 Sexy Sexy 반했니\\nYe you\\n뭐 하...</td>\n      <td>2023-05-15</td>\n      <td>0</td>\n      <td>7</td>\n      <td>575.688579</td>\n      <td>186.402709</td>\n      <td>0.015556</td>\n      <td>0.400000</td>\n      <td>330.100029</td>\n      <td>{'C2': 0.0, 'D2': 0.0, 'E2': 0.0, 'F2': 0.0, '...</td>\n      <td>42</td>\n      <td>(여자)아이들</td>\n      <td>GROUP</td>\n      <td>FEMALE</td>\n    </tr>\n    <tr>\n      <th>26</th>\n      <td>결혼까지 생각했어</td>\n      <td>4.399621</td>\n      <td>183</td>\n      <td>RNB</td>\n      <td>To all My people hellow hellow\\nhellow hellow\\...</td>\n      <td>2010-08-26</td>\n      <td>0</td>\n      <td>6</td>\n      <td>902.750069</td>\n      <td>124.968452</td>\n      <td>0.460076</td>\n      <td>0.000000</td>\n      <td>333.824600</td>\n      <td>{'C2': 0.0, 'D2': 0.0, 'E2': 0.0, 'F2': 0.0, '...</td>\n      <td>25</td>\n      <td>휘성 (Realslow)</td>\n      <td>SOLO</td>\n      <td>MALE</td>\n    </tr>\n    <tr>\n      <th>23</th>\n      <td>외톨이야</td>\n      <td>4.369305</td>\n      <td>178</td>\n      <td>ROCK</td>\n      <td>외톨이야 외톨이야\\n\\n외톨이야 외톨이야\\n\\n\\n\\n봐봐 나를 봐봐 똑바로 내 두...</td>\n      <td>2010-01-14</td>\n      <td>0</td>\n      <td>4</td>\n      <td>557.989885</td>\n      <td>150.122581</td>\n      <td>0.468354</td>\n      <td>0.000000</td>\n      <td>339.719083</td>\n      <td>{'C2': 0.0, 'D2': 0.0, 'E2': 0.0, 'F2': 0.0, '...</td>\n      <td>20</td>\n      <td>CNBLUE (씨엔블루)</td>\n      <td>GROUP</td>\n      <td>MALE</td>\n    </tr>\n    <tr>\n      <th>39</th>\n      <td>See You Again (분노의 질주 : 더 세븐 OST)</td>\n      <td>4.352632</td>\n      <td>198</td>\n      <td>OST</td>\n      <td>It's been a long day\\nwithout you my friend\\nA...</td>\n      <td>2015-03-17</td>\n      <td>0</td>\n      <td>6</td>\n      <td>590.567826</td>\n      <td>164.744786</td>\n      <td>0.456140</td>\n      <td>0.000000</td>\n      <td>323.534208</td>\n      <td>{'C2': 0.0, 'D2': 0.0, 'E2': 0.0, 'F2': 0.0, '...</td>\n      <td>49</td>\n      <td>Charlie Puth , Wiz Khalifa</td>\n      <td>GROUP</td>\n      <td>MALE</td>\n    </tr>\n    <tr>\n      <th>5</th>\n      <td>Spicy</td>\n      <td>4.301291</td>\n      <td>192</td>\n      <td>DANCE</td>\n      <td>Uh Uh Too Spicy\\nYou want my A to the Z\\nBut y...</td>\n      <td>2023-05-08</td>\n      <td>1</td>\n      <td>11</td>\n      <td>703.966140</td>\n      <td>193.677050</td>\n      <td>0.074554</td>\n      <td>0.141005</td>\n      <td>387.823861</td>\n      <td>{'C2': 0.0, 'D2': 0.0, 'E2': 0.0, 'F2': 0.0, '...</td>\n      <td>43</td>\n      <td>aespa</td>\n      <td>GROUP</td>\n      <td>FEMALE</td>\n    </tr>\n    <tr>\n      <th>30</th>\n      <td>Aloha</td>\n      <td>4.275561</td>\n      <td>187</td>\n      <td>INDIE</td>\n      <td>처음 듣는 노래\\n처음 걷는 길\\n처음 보는 바다\\n처음 보는 별\\n\\n네가 없는 ...</td>\n      <td>2012-04-10</td>\n      <td>0</td>\n      <td>11</td>\n      <td>339.689281</td>\n      <td>121.419028</td>\n      <td>0.004073</td>\n      <td>0.000000</td>\n      <td>187.741279</td>\n      <td>{'C2': 0.0, 'D2': 0.0, 'E2': 0.0, 'F2': 0.0, '...</td>\n      <td>37</td>\n      <td>스탠딩 에그</td>\n      <td>GROUP</td>\n      <td>OTHER</td>\n    </tr>\n    <tr>\n      <th>50</th>\n      <td>검은 행복</td>\n      <td>4.212850</td>\n      <td>398</td>\n      <td>RAP</td>\n      <td>유난히 검었었던\\n어릴 적 내 살색\\n사람들은 손가락질 해\\n내 Mommy한테\\n내...</td>\n      <td>2007-02-23</td>\n      <td>0</td>\n      <td>0</td>\n      <td>472.369219</td>\n      <td>88.935388</td>\n      <td>0.000000</td>\n      <td>0.446927</td>\n      <td>284.247679</td>\n      <td>{'C2': 0.0, 'D2': 0.0, 'E2': 0.0, 'F2': 0.0027...</td>\n      <td>76</td>\n      <td>윤미래</td>\n      <td>SOLO</td>\n      <td>FEMALE</td>\n    </tr>\n    <tr>\n      <th>25</th>\n      <td>사랑했지만</td>\n      <td>4.196579</td>\n      <td>181</td>\n      <td>FOLK</td>\n      <td>어제는 하루 종일 비가 내렸어\\n자욱하게 내려 앉은 먼지 사이로\\n귓가에 은은하게 ...</td>\n      <td>1991-02-20</td>\n      <td>0</td>\n      <td>5</td>\n      <td>889.166344</td>\n      <td>121.303076</td>\n      <td>0.302281</td>\n      <td>0.000000</td>\n      <td>324.027882</td>\n      <td>{'C2': 0.0, 'D2': 0.0, 'E2': 0.0, 'F2': 0.0, '...</td>\n      <td>23</td>\n      <td>김광석</td>\n      <td>SOLO</td>\n      <td>MALE</td>\n    </tr>\n    <tr>\n      <th>24</th>\n      <td>나는 나비</td>\n      <td>4.187590</td>\n      <td>179</td>\n      <td>ROCK</td>\n      <td>내 모습이 보이지 않아\\n앞길도 보이지 않아\\n나는 아주 작은 애벌레\\n\\n살이 터...</td>\n      <td>2006-08-10</td>\n      <td>0</td>\n      <td>17</td>\n      <td>840.293833</td>\n      <td>132.162513</td>\n      <td>0.396181</td>\n      <td>0.000000</td>\n      <td>324.931949</td>\n      <td>{'C2': 0.0, 'D2': 0.0, 'E2': 0.0, 'F2': 0.0, '...</td>\n      <td>21</td>\n      <td>YB (윤도현 밴드)</td>\n      <td>SOLO</td>\n      <td>MALE</td>\n    </tr>\n    <tr>\n      <th>2</th>\n      <td>Don't Stop Me Now</td>\n      <td>4.174039</td>\n      <td>396</td>\n      <td>ROCK</td>\n      <td>Tonight, I'm gonna have myself a real good tim...</td>\n      <td>1976-01-26</td>\n      <td>0</td>\n      <td>1</td>\n      <td>507.861756</td>\n      <td>164.907098</td>\n      <td>0.505030</td>\n      <td>0.000000</td>\n      <td>319.656593</td>\n      <td>{'C2': 0.0, 'D2': 0.0, 'E2': 0.0, 'F2': 0.0, '...</td>\n      <td>74</td>\n      <td>Queen</td>\n      <td>GROUP</td>\n      <td>MALE</td>\n    </tr>\n    <tr>\n      <th>36</th>\n      <td>꽃</td>\n      <td>4.173946</td>\n      <td>195</td>\n      <td>DANCE</td>\n      <td>ABC 도레미만큼 착했던 나\\n그 눈빛이 싹 변했지\\n어쩌면 이 또한 나니까\\n난 ...</td>\n      <td>2023-03-31</td>\n      <td>0</td>\n      <td>7</td>\n      <td>661.198665</td>\n      <td>169.262994</td>\n      <td>0.069479</td>\n      <td>0.272953</td>\n      <td>370.308363</td>\n      <td>{'C2': 0.0, 'D2': 0.0, 'E2': 0.0, 'F2': 0.0, '...</td>\n      <td>46</td>\n      <td>지수 (JISOO)</td>\n      <td>SOLO</td>\n      <td>FEMALE</td>\n    </tr>\n    <tr>\n      <th>7</th>\n      <td>너에게 난, 나에게 넌</td>\n      <td>4.149676</td>\n      <td>170</td>\n      <td>FOLK</td>\n      <td>너에게 난 해질녘 노을처럼\\n한 편의 아름다운 추억이 되고\\n소중했던 우리 푸르던 ...</td>\n      <td>2003-02-01</td>\n      <td>0</td>\n      <td>36</td>\n      <td>944.986819</td>\n      <td>140.076631</td>\n      <td>0.397028</td>\n      <td>0.000000</td>\n      <td>344.381940</td>\n      <td>{'C2': 0.0, 'D2': 0.0, 'E2': 0.0, 'F2': 0.0, '...</td>\n      <td>13</td>\n      <td>자전거 탄 풍경</td>\n      <td>GROUP</td>\n      <td>MALE</td>\n    </tr>\n    <tr>\n      <th>28</th>\n      <td>벌써 일년</td>\n      <td>4.104862</td>\n      <td>185</td>\n      <td>RNB</td>\n      <td>처음이라 그래 며칠뒤엔\\n괜찮아져\\n그 생각만으로 벌써 일년이\\n너와 만든 기념일마...</td>\n      <td>2007-06-12</td>\n      <td>0</td>\n      <td>8</td>\n      <td>593.289648</td>\n      <td>123.631166</td>\n      <td>0.394097</td>\n      <td>0.000000</td>\n      <td>313.682014</td>\n      <td>{'C2': 0.0, 'D2': 0.0, 'E2': 0.0, 'F2': 0.0, '...</td>\n      <td>24</td>\n      <td>브라운 아이즈</td>\n      <td>GROUP</td>\n      <td>MALE</td>\n    </tr>\n    <tr>\n      <th>43</th>\n      <td>바람기억</td>\n      <td>4.098072</td>\n      <td>385</td>\n      <td>RNB</td>\n      <td>바람 불어와 내 맘 흔들면\\n지나간 세월에\\n두 눈을 감아본다\\n\\n나를 스치는 고...</td>\n      <td>2012-09-20</td>\n      <td>0</td>\n      <td>21</td>\n      <td>641.050494</td>\n      <td>173.659578</td>\n      <td>0.606061</td>\n      <td>0.000000</td>\n      <td>377.492801</td>\n      <td>{'C2': 0.0, 'D2': 0.0, 'E2': 0.0, 'F2': 0.0, '...</td>\n      <td>63</td>\n      <td>나얼</td>\n      <td>SOLO</td>\n      <td>MALE</td>\n    </tr>\n    <tr>\n      <th>42</th>\n      <td>FRIEND THE END</td>\n      <td>4.035701</td>\n      <td>202</td>\n      <td>INDIE</td>\n      <td>요즘엔 썸이라는 단어를 난 쓰지 않아\\n친구란 완벽한 단어로 숨길 수가 있지\\n사랑...</td>\n      <td>2023-04-16</td>\n      <td>0</td>\n      <td>6</td>\n      <td>462.287979</td>\n      <td>159.646833</td>\n      <td>0.000000</td>\n      <td>0.374753</td>\n      <td>326.673668</td>\n      <td>{'C2': 0.0, 'D2': 0.0, 'E2': 0.0, 'F2': 0.0, '...</td>\n      <td>53</td>\n      <td>볼빨간사춘기</td>\n      <td>SOLO</td>\n      <td>FEMALE</td>\n    </tr>\n    <tr>\n      <th>34</th>\n      <td>I AM</td>\n      <td>3.938282</td>\n      <td>193</td>\n      <td>DANCE</td>\n      <td>다른 문을 열어 따라 갈 필요는 없어\\n넌 너의 길로 난 나의 길로 음\\n하루하루마...</td>\n      <td>2023-04-10</td>\n      <td>0</td>\n      <td>6</td>\n      <td>805.328717</td>\n      <td>183.901798</td>\n      <td>0.185547</td>\n      <td>0.144531</td>\n      <td>445.451092</td>\n      <td>{'C2': 0.0, 'D2': 0.0, 'E2': 0.0, 'F2': 0.0, '...</td>\n      <td>44</td>\n      <td>IVE (아이브)</td>\n      <td>GROUP</td>\n      <td>FEMALE</td>\n    </tr>\n    <tr>\n      <th>45</th>\n      <td>She's Gone</td>\n      <td>3.933010</td>\n      <td>389</td>\n      <td>ROCK</td>\n      <td>She′s gone out of my life\\nI was wrong\\nI′m to...</td>\n      <td>2011-01-01</td>\n      <td>0</td>\n      <td>0</td>\n      <td>805.689733</td>\n      <td>183.615690</td>\n      <td>0.789644</td>\n      <td>0.000000</td>\n      <td>491.449801</td>\n      <td>{'C2': 0.0, 'D2': 0.0, 'E2': 0.0, 'F2': 0.0, '...</td>\n      <td>66</td>\n      <td>Steelheart</td>\n      <td>GROUP</td>\n      <td>MALE</td>\n    </tr>\n    <tr>\n      <th>47</th>\n      <td>Superstar</td>\n      <td>3.864637</td>\n      <td>391</td>\n      <td>POP</td>\n      <td>Hey hey, yeah\\nUh huh, superstar, ah ah\\nNo ma...</td>\n      <td>2009-07-27</td>\n      <td>0</td>\n      <td>0</td>\n      <td>584.447793</td>\n      <td>206.903635</td>\n      <td>0.008460</td>\n      <td>0.314721</td>\n      <td>320.859180</td>\n      <td>{'C2': 0.0, 'D2': 0.0, 'E2': 0.0, 'F2': 0.0, '...</td>\n      <td>68</td>\n      <td>Jamelia</td>\n      <td>SOLO</td>\n      <td>FEMALE</td>\n    </tr>\n    <tr>\n      <th>3</th>\n      <td>Let's Get Loud</td>\n      <td>3.810624</td>\n      <td>387</td>\n      <td>POP</td>\n      <td>let's get loud let's get loud\\nturn the music ...</td>\n      <td>1999-06-29</td>\n      <td>0</td>\n      <td>16</td>\n      <td>597.670991</td>\n      <td>205.814429</td>\n      <td>0.039370</td>\n      <td>0.226378</td>\n      <td>346.274942</td>\n      <td>{'C2': 0.0, 'D2': 0.0, 'E2': 0.0, 'F2': 0.0, '...</td>\n      <td>64</td>\n      <td>Jennifer Lopez</td>\n      <td>SOLO</td>\n      <td>FEMALE</td>\n    </tr>\n    <tr>\n      <th>33</th>\n      <td>다시 만난 세계</td>\n      <td>3.802391</td>\n      <td>190</td>\n      <td>DANCE</td>\n      <td>전해 주고 싶어 슬픈 시간이\\n다 흩어진 후에야 들리지만\\n눈을 감고 느껴 봐 움직...</td>\n      <td>2007-11-01</td>\n      <td>0</td>\n      <td>9</td>\n      <td>527.411163</td>\n      <td>233.820538</td>\n      <td>0.002656</td>\n      <td>0.088977</td>\n      <td>384.026013</td>\n      <td>{'C2': 0.0, 'D2': 0.0, 'E2': 0.0, 'F2': 0.0, '...</td>\n      <td>41</td>\n      <td>소녀시대 (GIRLS' GENERATION)</td>\n      <td>GROUP</td>\n      <td>FEMALE</td>\n    </tr>\n    <tr>\n      <th>48</th>\n      <td>What's Up?</td>\n      <td>3.782179</td>\n      <td>392</td>\n      <td>ROCK</td>\n      <td>25 years and my life is still\\nTrying to get u...</td>\n      <td>2007-05-17</td>\n      <td>0</td>\n      <td>0</td>\n      <td>718.458771</td>\n      <td>178.835255</td>\n      <td>0.699010</td>\n      <td>0.000000</td>\n      <td>420.344116</td>\n      <td>{'C2': 0.0, 'D2': 0.0, 'E2': 0.0, 'F2': 0.0, '...</td>\n      <td>73</td>\n      <td>4 Non Blondes</td>\n      <td>SOLO</td>\n      <td>MALE</td>\n    </tr>\n    <tr>\n      <th>38</th>\n      <td>저곳으로(인어공주OST)</td>\n      <td>3.711595</td>\n      <td>197</td>\n      <td>OST</td>\n      <td>이것 좀 봐 신기하지\\n내가 모은 것들 대단하지\\n내가 세상 모든 걸 다 가진 것 ...</td>\n      <td>2023-05-17</td>\n      <td>0</td>\n      <td>4</td>\n      <td>589.494552</td>\n      <td>240.798246</td>\n      <td>0.089855</td>\n      <td>0.133333</td>\n      <td>401.498566</td>\n      <td>{'C2': 0.0, 'D2': 0.0, 'E2': 0.0, 'F2': 0.0, '...</td>\n      <td>48</td>\n      <td>다니엘(DANIELLE)</td>\n      <td>SOLO</td>\n      <td>FEMALE</td>\n    </tr>\n    <tr>\n      <th>0</th>\n      <td>Beauty and the Beast (from \"Beauty and the Bea...</td>\n      <td>3.662632</td>\n      <td>395</td>\n      <td>OST</td>\n      <td>None</td>\n      <td>1992-03-30</td>\n      <td>0</td>\n      <td>2</td>\n      <td>882.665004</td>\n      <td>170.163455</td>\n      <td>0.669540</td>\n      <td>0.000000</td>\n      <td>404.741144</td>\n      <td>{'C2': 0.0, 'D2': 0.0, 'E2': 0.0, 'F2': 0.0, '...</td>\n      <td>72</td>\n      <td>Peabo Bryson, Celine Dion</td>\n      <td>GROUP</td>\n      <td>MIX</td>\n    </tr>\n    <tr>\n      <th>44</th>\n      <td>Everytime</td>\n      <td>3.659687</td>\n      <td>388</td>\n      <td>POP</td>\n      <td>Notice me, take my hand\\n\\nWhy are we stranger...</td>\n      <td>2003-11-13</td>\n      <td>0</td>\n      <td>0</td>\n      <td>621.329797</td>\n      <td>229.133862</td>\n      <td>0.039267</td>\n      <td>0.248691</td>\n      <td>345.569000</td>\n      <td>{'C2': 0.0, 'D2': 0.0, 'E2': 0.0, 'F2': 0.0, '...</td>\n      <td>65</td>\n      <td>Britney Spears</td>\n      <td>SOLO</td>\n      <td>FEMALE</td>\n    </tr>\n    <tr>\n      <th>4</th>\n      <td>My All</td>\n      <td>3.628310</td>\n      <td>393</td>\n      <td>RNB</td>\n      <td>I am thinking of you\\n당신을 생각해요\\nin my sleeples...</td>\n      <td>1997-09-16</td>\n      <td>0</td>\n      <td>1</td>\n      <td>694.707279</td>\n      <td>144.864262</td>\n      <td>0.173242</td>\n      <td>0.418525</td>\n      <td>371.087818</td>\n      <td>{'C2': 0.0, 'D2': 0.0, 'E2': 0.0, 'F2': 0.0, '...</td>\n      <td>69</td>\n      <td>Mariah Carey</td>\n      <td>SOLO</td>\n      <td>FEMALE</td>\n    </tr>\n    <tr>\n      <th>12</th>\n      <td>인형의 꿈</td>\n      <td>3.398981</td>\n      <td>177</td>\n      <td>OST</td>\n      <td>그대 먼 곳만 보네요\\n내가 바로 여기 있는데\\n조금만 고개를 돌려도\\n날 볼 수 ...</td>\n      <td>2003-09-09</td>\n      <td>1</td>\n      <td>5</td>\n      <td>588.248207</td>\n      <td>232.075376</td>\n      <td>0.021583</td>\n      <td>0.120504</td>\n      <td>386.938462</td>\n      <td>{'C2': 0.0, 'D2': 0.0, 'E2': 0.0, 'F2': 0.0, '...</td>\n      <td>19</td>\n      <td>러브홀릭</td>\n      <td>SOLO</td>\n      <td>FEMALE</td>\n    </tr>\n    <tr>\n      <th>46</th>\n      <td>Because Of You</td>\n      <td>3.337798</td>\n      <td>390</td>\n      <td>POP</td>\n      <td>I will not make\\nthe same mistakes that you di...</td>\n      <td>2005-07-16</td>\n      <td>0</td>\n      <td>0</td>\n      <td>661.821069</td>\n      <td>203.634407</td>\n      <td>0.102679</td>\n      <td>0.273810</td>\n      <td>389.824621</td>\n      <td>{'C2': 0.0, 'D2': 0.0, 'E2': 0.0, 'F2': 0.0, '...</td>\n      <td>67</td>\n      <td>Kelly Clarkson</td>\n      <td>SOLO</td>\n      <td>FEMALE</td>\n    </tr>\n    <tr>\n      <th>49</th>\n      <td>Listen</td>\n      <td>3.332383</td>\n      <td>394</td>\n      <td>RNB</td>\n      <td>Listen,\\nto the song here in my heart\\n내맘속 노래를...</td>\n      <td>2007-02-21</td>\n      <td>0</td>\n      <td>0</td>\n      <td>727.918474</td>\n      <td>170.494849</td>\n      <td>0.201141</td>\n      <td>0.176890</td>\n      <td>427.610830</td>\n      <td>{'C2': 0.0, 'D2': 0.0, 'E2': 0.0, 'F2': 0.0, '...</td>\n      <td>71</td>\n      <td>Beyonce</td>\n      <td>SOLO</td>\n      <td>FEMALE</td>\n    </tr>\n    <tr>\n      <th>14</th>\n      <td>첫사랑</td>\n      <td>2.215013</td>\n      <td>205</td>\n      <td>INDIE</td>\n      <td>알아 내 맘에 조용히\\n문을 두드리면\\n눈에 뿌옇게 고여버린\\n널 흘려보내야 해\\n...</td>\n      <td>2018-10-11</td>\n      <td>1</td>\n      <td>9</td>\n      <td>525.258280</td>\n      <td>202.686124</td>\n      <td>0.002053</td>\n      <td>0.488706</td>\n      <td>308.470262</td>\n      <td>{'C2': 0.0, 'D2': 0.0, 'E2': 0.0, 'F2': 0.0, '...</td>\n      <td>56</td>\n      <td>백아</td>\n      <td>SOLO</td>\n      <td>FEMALE</td>\n    </tr>\n    <tr>\n      <th>11</th>\n      <td>오늘도 빛나는 너에게</td>\n      <td>2.186405</td>\n      <td>206</td>\n      <td>INDIE</td>\n      <td>별빛이 내린 밤\\n그 풍경 속 너와 나\\n날 새롭게 하는\\n따뜻하게 만드는\\n니 눈...</td>\n      <td>2019-06-09</td>\n      <td>1</td>\n      <td>34</td>\n      <td>655.590421</td>\n      <td>147.626466</td>\n      <td>0.623476</td>\n      <td>0.000000</td>\n      <td>360.265918</td>\n      <td>{'C2': 0.0, 'D2': 0.0, 'E2': 0.0, 'F2': 0.0, '...</td>\n      <td>12</td>\n      <td>마크툽 (MAKTUB)</td>\n      <td>SOLO</td>\n      <td>MALE</td>\n    </tr>\n  </tbody>\n</table>\n</div>"
     },
     "execution_count": 39,
     "metadata": {},
     "output_type": "execute_result"
    }
   ],
   "source": [
    "recommendations_data.sort_values(by='pred', ascending=False)"
   ],
   "metadata": {
    "collapsed": false,
    "ExecuteTime": {
     "end_time": "2024-10-25T01:33:41.370259Z",
     "start_time": "2024-10-25T01:33:41.325918Z"
    }
   },
   "id": "d78ead9e67f5c6b",
   "execution_count": 39
  },
  {
   "cell_type": "markdown",
   "source": [
    "# 최종 버전: 한 유저에 대해 추천을 하는 함수"
   ],
   "metadata": {
    "collapsed": false
   },
   "id": "57d02bfc02264a31"
  },
  {
   "cell_type": "code",
   "outputs": [],
   "source": [
    "from datetime import datetime\n",
    "\n",
    "def get_recommendations(user_id, df_svd_preds, music_data):\n",
    "    # 전체 회원을 상대로 로그 기반으로 예측한 평점에서 user_id번 사용자 데이터 추출\n",
    "    user_predictions = df_svd_preds.iloc[user_index_dict[user_id]]\n",
    "\n",
    "    # 사용자가 북마크한 음악 조회\n",
    "    bookmark_data = fetch_bookmark(user_id)\n",
    "    bookmark_data.columns = ['music_id', 'title']\n",
    "    \n",
    "    # 사용자가 북마크한 곡은 추천에서 제외\n",
    "    recommendations = user_predictions.drop(bookmark_data.title.tolist())\n",
    "    \n",
    "    # DataFrame 변환\n",
    "    recommendations_data = pd.DataFrame(recommendations)\n",
    "    recommendations_data.columns = ['pred']\n",
    "    # 추천 결과에 기존 음악 정보 추가\n",
    "    recommendations_data = recommendations_data.merge(music_data, on='title')\n",
    "    \n",
    "    # 사용자 정보 조회\n",
    "    user_data = fetch_user(user_id)\n",
    "    \n",
    "    # 사용자의 선호 장르와 나이대에 따른 가산점 계산\n",
    "    recommendations_data = recommendations_data.apply(update_rating_by_user_data, axis=1, user_data=user_data)\n",
    "    \n",
    "    # 음역대에 따른 가산점 계산\n",
    "    recommendations_data = recommendations_data.apply(update_rating_by_pitch_coverage, axis=1, user_data=user_data)\n",
    "    \n",
    "    # 예측 평점이 높은 순으로 정렬\n",
    "    recommendations_data.sort_values(by='pred', ascending=False, inplace=True)\n",
    "    recommendations_data.reset_index(drop=True, inplace=True)\n",
    "    \n",
    "    # 상위 100개만 선택\n",
    "    recommendations_data = recommendations_data[:100]\n",
    "    recommendations_data = recommendations_data[['music_id', 'pred']]\n",
    "    \n",
    "    # 추천 시점 저장\n",
    "    now = datetime.now()\n",
    "    version = now.strftime(\"%Y-%m-%d %H:%M:%S\")\n",
    "    \n",
    "    save_recom_musics(user_id, recommendations_data, version)\n",
    "    "
   ],
   "metadata": {
    "collapsed": false,
    "ExecuteTime": {
     "end_time": "2024-10-25T01:33:41.400272Z",
     "start_time": "2024-10-25T01:33:41.372269Z"
    }
   },
   "id": "be02a8a3d70f52ba",
   "execution_count": 40
  },
  {
   "cell_type": "code",
   "outputs": [
    {
     "data": {
      "text/plain": "dict_keys([1, 2, 5, 6, 8, 19, 21])"
     },
     "execution_count": 41,
     "metadata": {},
     "output_type": "execute_result"
    }
   ],
   "source": [
    "user_index_dict.keys()"
   ],
   "metadata": {
    "collapsed": false,
    "ExecuteTime": {
     "end_time": "2024-10-25T01:33:45.683787Z",
     "start_time": "2024-10-25T01:33:45.666368Z"
    }
   },
   "id": "2be0ef4fb4e4a655",
   "execution_count": 41
  },
  {
   "cell_type": "code",
   "outputs": [
    {
     "data": {
      "text/plain": "[1, 2, 5, 6, 8, 19, 21]"
     },
     "execution_count": 43,
     "metadata": {},
     "output_type": "execute_result"
    }
   ],
   "source": [
    "[(user_id, ) for user_id in user_index_dict.keys()]"
   ],
   "metadata": {
    "collapsed": false,
    "ExecuteTime": {
     "end_time": "2024-10-25T01:34:08.716642Z",
     "start_time": "2024-10-25T01:34:08.706435Z"
    }
   },
   "id": "7d76ae1eb537e4da",
   "execution_count": 43
  },
  {
   "cell_type": "code",
   "outputs": [],
   "source": [],
   "metadata": {
    "collapsed": false
   },
   "id": "76c9d9512b70c8dd"
  }
 ],
 "metadata": {
  "kernelspec": {
   "display_name": "Python 3",
   "language": "python",
   "name": "python3"
  },
  "language_info": {
   "codemirror_mode": {
    "name": "ipython",
    "version": 2
   },
   "file_extension": ".py",
   "mimetype": "text/x-python",
   "name": "python",
   "nbconvert_exporter": "python",
   "pygments_lexer": "ipython2",
   "version": "2.7.6"
  }
 },
 "nbformat": 4,
 "nbformat_minor": 5
}
